{
 "cells": [
  {
   "attachments": {},
   "cell_type": "markdown",
   "metadata": {},
   "source": [
    "# Apache Sqoop\n",
    "\n",
    "> Open source <br>\n",
    "> Desarrollado por cloudera <br>\n",
    "> V 1.4.7 2018 <br> \n",
    "# ¿Cómo funciona ? "
   ]
  },
  {
   "cell_type": "markdown",
   "metadata": {},
   "source": [
    "<ol><li style=\"text-align: justify\"><span style=\"font-family: verdana, geneva, sans-serif;font-size: 14px\"><strong><em><font style=\"vertical-align: inherit;\"><font style=\"vertical-align: inherit;\">Carga completa</font></font></em></strong><font style=\"vertical-align: inherit;\"><font style=\"vertical-align: inherit;\"> : Apache Sqoop puede cargar toda la tabla con un solo comando. </font><font style=\"vertical-align: inherit;\">También puede cargar todas las tablas de una base de datos con un solo comando.</font></font></span></li><li style=\"text-align: justify\"><span style=\"font-family: verdana, geneva, sans-serif;font-size: 14px\"><strong><em><font style=\"vertical-align: inherit;\"></font></em></strong> <strong><em><font style=\"vertical-align: inherit;\"><font style=\"vertical-align: inherit;\">Carga </font></font></em></strong><font style=\"vertical-align: inherit;\"><strong><em><font style=\"vertical-align: inherit;\">incremental</font></em></strong><font style=\"vertical-align: inherit;\"> : Apache Sqoop también proporciona la facilidad de carga incremental donde puede cargar partes de la tabla cada vez que se actualiza.</font></font></span></li><li style=\"text-align: justify\"><span style=\"font-family: verdana, geneva, sans-serif;font-size: 14px\"><strong><em><font style=\"vertical-align: inherit;\"></font></em></strong> <strong><em><font style=\"vertical-align: inherit;\"><font style=\"vertical-align: inherit;\">Importación / exportación </font></font></em></strong><font style=\"vertical-align: inherit;\"><strong><em><font style=\"vertical-align: inherit;\">paralela</font></em></strong><font style=\"vertical-align: inherit;\"> : Sqoop usa el marco YARN para importar y exportar los datos, lo que proporciona tolerancia a fallas además del paralelismo.</font></font></span></li><li style=\"text-align: justify\"><span style=\"font-family: verdana, geneva, sans-serif;font-size: 14px\"><strong><em><font style=\"vertical-align: inherit;\"><font style=\"vertical-align: inherit;\">Importar </font></font></em></strong> <strong><em><font style=\"vertical-align: inherit;\"><font style=\"vertical-align: inherit;\">resultados </font></font></em></strong> <strong><em><font style=\"vertical-align: inherit;\"><font style=\"vertical-align: inherit;\">de la </font></font></em></strong> <font style=\"vertical-align: inherit;\"><strong><em><font style=\"vertical-align: inherit;\">consulta </font></em></strong></font><strong><em><font style=\"vertical-align: inherit;\"><font style=\"vertical-align: inherit;\">SQL</font></font></em></strong> <font style=\"vertical-align: inherit;\"><font style=\"vertical-align: inherit;\"> : también puede importar el resultado devuelto de una consulta SQL en HDFS.</font></font><strong><em><font style=\"vertical-align: inherit;\"></font></em></strong><font style=\"vertical-align: inherit;\"></font></span></li><li style=\"text-align: justify\"><span style=\"font-family: verdana, geneva, sans-serif;font-size: 14px\"><strong><em><font style=\"vertical-align: inherit;\"><font style=\"vertical-align: inherit;\">Compresión</font></font></em></strong><font style=\"vertical-align: inherit;\"><font style=\"vertical-align: inherit;\"> : puede comprimir sus datos utilizando el algoritmo de desinflado (gzip) con –comprimir argumento, o especificando –compression-codec. </font><font style=\"vertical-align: inherit;\">También puede cargar la tabla comprimida en</font></font><strong><em><font style=\"vertical-align: inherit;\"><font style=\"vertical-align: inherit;\"> Apache Hive</font></font></em></strong><font style=\"vertical-align: inherit;\"><font style=\"vertical-align: inherit;\"> .</font></font></span></li><li style=\"text-align: justify\"><span style=\"font-family: verdana, geneva, sans-serif;font-size: 14px\"><strong><em><font style=\"vertical-align: inherit;\"><font style=\"vertical-align: inherit;\">Conectores </font></font></em></strong> <strong><em><font style=\"vertical-align: inherit;\"><font style=\"vertical-align: inherit;\">para </font></font></em></strong> <strong><em><font style=\"vertical-align: inherit;\"><font style=\"vertical-align: inherit;\">todas las </font></font></em></strong> <strong><em><font style=\"vertical-align: inherit;\"><font style=\"vertical-align: inherit;\">principales </font></font></em></strong> <font style=\"vertical-align: inherit;\"><strong><em><font style=\"vertical-align: inherit;\">bases de datos </font></em></strong></font><strong><em><font style=\"vertical-align: inherit;\"><font style=\"vertical-align: inherit;\">RDBMS</font></font></em></strong> <font style=\"vertical-align: inherit;\"><font style=\"vertical-align: inherit;\"> : Apache Sqoop proporciona conectores para múltiples bases de datos RDBMS, que cubren casi toda la circunferencia.</font></font><strong><em><font style=\"vertical-align: inherit;\"></font></em></strong><font style=\"vertical-align: inherit;\"></font></span></li><li style=\"text-align: justify\"><span style=\"font-family: verdana, geneva, sans-serif;font-size: 14px\"><strong><em><font style=\"vertical-align: inherit;\"></font></em></strong> <font style=\"vertical-align: inherit;\"><strong><em><font style=\"vertical-align: inherit;\">Integración de la </font></em></strong></font><strong><em><font style=\"vertical-align: inherit;\"><font style=\"vertical-align: inherit;\">seguridad de </font></font></em></strong> <font style=\"vertical-align: inherit;\"><strong><em><font style=\"vertical-align: inherit;\">Kerberos</font></em></strong><font style=\"vertical-align: inherit;\"> : Kerberos es un protocolo de autenticación de red de computadora que funciona sobre la base de \"tickets\" para permitir que los nodos que se comunican a través de una red no segura puedan demostrar su identidad entre sí de manera segura. </font><font style=\"vertical-align: inherit;\">Sqoop es compatible con la autenticación Kerberos.</font></font><strong><em><font style=\"vertical-align: inherit;\"></font></em></strong><font style=\"vertical-align: inherit;\"></font></span></li><li style=\"text-align: justify\"><span style=\"font-family: verdana, geneva, sans-serif;font-size: 14px\"><strong><em><font style=\"vertical-align: inherit;\"><font style=\"vertical-align: inherit;\">Cargue </font></font></em></strong> <strong><em><font style=\"vertical-align: inherit;\"><font style=\"vertical-align: inherit;\">datos </font></font></em></strong> <strong><em><font style=\"vertical-align: inherit;\"><font style=\"vertical-align: inherit;\">directamente </font></font></em></strong> <strong><em><font style=\"vertical-align: inherit;\"><font style=\"vertical-align: inherit;\">en </font></font></em></strong> <strong><em><font style=\"vertical-align: inherit;\"><font style=\"vertical-align: inherit;\">HIVE / HBase</font></font></em></strong><font style=\"vertical-align: inherit;\"><font style=\"vertical-align: inherit;\"> : puede cargar datos directamente en</font></font><strong><em><font style=\"vertical-align: inherit;\"><font style=\"vertical-align: inherit;\"> Apache Hive</font></font></em></strong><font style=\"vertical-align: inherit;\"><font style=\"vertical-align: inherit;\"> para su análisis y también volcar sus datos en HBase, que es una base de datos NoSQL.</font></font></span></li><li style=\"text-align: justify\"><span style=\"font-family: verdana, geneva, sans-serif;font-size: 14px\"><strong><em><font style=\"vertical-align: inherit;\"><font style=\"vertical-align: inherit;\">Soporte </font></font></em></strong> <strong><em><font style=\"vertical-align: inherit;\"><font style=\"vertical-align: inherit;\">para </font></font></em></strong> <strong><em><font style=\"vertical-align: inherit;\"><font style=\"vertical-align: inherit;\">Accumulo</font></font></em></strong><font style=\"vertical-align: inherit;\"><font style=\"vertical-align: inherit;\"> : También puede ordenar a Sqoop que importe la tabla en Accumulo en lugar de un directorio en HDFS.</font></font></span></li></ol>"
   ]
  },
  {
   "cell_type": "code",
   "execution_count": 1,
   "metadata": {},
   "outputs": [
    {
     "name": "stderr",
     "output_type": "stream",
     "text": [
      "\"[image.png]\" no se reconoce como un comando interno o externo,\n",
      "programa o archivo por lotes ejecutable.\n"
     ]
    }
   ],
   "source": [
    "![image.png](attachment:image.png)"
   ]
  },
  {
   "cell_type": "markdown",
   "metadata": {},
   "source": [
    "## Sqoop CLI\n",
    "\n",
    "- Envía un trabajo jar para ejectarlo en Hadoop \n",
    "\n",
    "Comando\n",
    "\n",
    "```\n",
    "sqoop import \\\n",
    "        --connect jdbc:mysql://localhost/my-db\\\n",
    "        --username send-data \\\n",
    "        --password send-more-data \\\n",
    "        --table employees \\\n",
    "        --warehouse-dir /sqoop \\\n",
    "        --driver com.mysql.jdbc\n",
    "\n",
    "```"
   ]
  },
  {
   "cell_type": "markdown",
   "metadata": {},
   "source": [
    "## Iportando datos relacionales al directorio HDFS\n",
    "```\n",
    "    --warehouse-dir /sqoop \\\n",
    "```\n",
    " Por defecto Sqoop crea 4 job en los cuales divide la tarea de importar los datos.\n",
    "\n",
    "\n",
    "```\n",
    "$ hadoop fs -cat /sqoop/employees/partes-01\n",
    "```\n",
    "\n"
   ]
  },
  {
   "cell_type": "markdown",
   "metadata": {},
   "source": [
    "## Especificar el nombre de la tabla una vez en Sqoop\n",
    "\n",
    "\n",
    "```\n",
    "    --target-dir /sqoop/<new_name> \\\n",
    "```"
   ]
  },
  {
   "cell_type": "markdown",
   "metadata": {},
   "source": [
    "## Importar columnas especificas\n",
    "Especificar las columnas para extraerlas de una tabla.\n",
    "\n",
    "```\n",
    "    --columns  \n",
    "    \n",
    "    Ej:\n",
    "    \n",
    "    \n",
    "    --table epmployee \\\n",
    "    --columns \"col_1 , col_2 , col_3\"\n",
    "```"
   ]
  },
  {
   "cell_type": "markdown",
   "metadata": {},
   "source": [
    "## Importar tablas sin clave primaria\n",
    "\n",
    "La columnas de la tabla fuente se usa para dividir los datos entre los mappers.\n",
    "\n",
    "```\n",
    "    --split-by\n",
    "    \n",
    "    --split-by col_pk\n",
    "```\n",
    "\n",
    "##### Nota \n",
    "- Para acelerar el uso de split-by , se deberia agregar una columna indice a la tabla de origen\n",
    "- Se recomienda usar una coluna con valores not null y datos ditribuidos  \n",
    "\n",
    "```\n",
    "\n",
    "```"
   ]
  },
  {
   "cell_type": "markdown",
   "metadata": {},
   "source": [
    "## Controlando el paralelismo\n",
    "\n",
    "Numero de mapers que ejecutaran dichos jobs , más es mejor\n",
    "\n",
    "```\n",
    "    -m  , --num-mappers\n",
    "```"
   ]
  },
  {
   "cell_type": "markdown",
   "metadata": {},
   "source": [
    "## Reescribir datos ya cargados en Sqoop\n",
    "\n",
    "Por defecto Sqoop no escribe, si el directorio ya existe , por eso hay que especificar cuando se requiera reescribir.\n",
    "```\n",
    "    --delete-target-dir\n",
    "```\n"
   ]
  },
  {
   "cell_type": "markdown",
   "metadata": {},
   "source": [
    "## Vincular tablas en hadoop\n",
    "\n",
    "Concatenar tablas en un directorio HDFS.\n",
    "\n",
    "```\n",
    "    --append\n",
    "```"
   ]
  },
  {
   "cell_type": "markdown",
   "metadata": {},
   "source": [
    "## Modo Developer <3\n",
    "Debug mode\n",
    "\n",
    "```\n",
    "     --verbose\n",
    "```"
   ]
  },
  {
   "cell_type": "markdown",
   "metadata": {},
   "source": [
    "## Almacenamiento de datos \n",
    "\n",
    "### Formato AVRO\n",
    "```\n",
    "    --as-avrodatafile\n",
    "```"
   ]
  }
 ],
 "metadata": {
  "kernelspec": {
   "display_name": "Python 3",
   "language": "python",
   "name": "python3"
  },
  "language_info": {
   "codemirror_mode": {
    "name": "ipython",
    "version": 3
   },
   "file_extension": ".py",
   "mimetype": "text/x-python",
   "name": "python",
   "nbconvert_exporter": "python",
   "pygments_lexer": "ipython3",
   "version": "3.6.6"
  }
 },
 "nbformat": 4,
 "nbformat_minor": 2
}
