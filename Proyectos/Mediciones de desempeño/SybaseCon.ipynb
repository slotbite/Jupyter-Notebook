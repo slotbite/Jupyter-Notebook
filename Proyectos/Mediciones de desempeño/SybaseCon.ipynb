{
 "cells": [
  {
   "cell_type": "code",
   "execution_count": 15,
   "metadata": {},
   "outputs": [],
   "source": [
    "import os\n",
    "import sys\n",
    "\n",
    "# info del actual path de la carpeta\n",
    "base_dir = os.getcwd() # En reemplazo de __file__ por os.getcwd solo para jupyter \n",
    "#base_dir = os.path.dirname(os.path.realpath(__file__))\n",
    "\n",
    "horas = 1\n",
    "minutos = 0\n",
    "segundos = 60*horas + minutos*60"
   ]
  },
  {
   "cell_type": "code",
   "execution_count": null,
   "metadata": {},
   "outputs": [],
   "source": [
    "# Parametros de coneccion\n",
    "USER = \"xxx\"\n",
    "PASS = \"xxx\"\n",
    "HOST = \"0.0.0.0\"\n",
    "PORT = \"xxx\"\n",
    "SERVICE_NAME = \"xxx\"\n",
    "DB   = 'xxx'\n",
    "\n",
    "STRING_CON = USER+'/'+PASS+'@'+HOST+':'+PORT+'/'+SERVICE_NAME\n",
    "#conn = cx_Oracle.connect(STRING_CON)"
   ]
  },
  {
   "cell_type": "markdown",
   "metadata": {},
   "source": [
    "### Carga consulta "
   ]
  },
  {
   "cell_type": "code",
   "execution_count": 14,
   "metadata": {},
   "outputs": [
    {
     "name": "stdout",
     "output_type": "stream",
     "text": [
      "SELECT TOP 10 * FROM TABLE\n"
     ]
    }
   ],
   "source": [
    "f = open(  base_dir + '\\consulta.sql'  )\n",
    "consulta = f.read()\n",
    "f.close()\n",
    "print(consulta)"
   ]
  },
  {
   "cell_type": "code",
   "execution_count": null,
   "metadata": {},
   "outputs": [],
   "source": [
    "import Sybase\n",
    "\n",
    "db = Sybase.connect(HOST,USER,PASS,DB)\n",
    "c = db.cursor()\n",
    "c.execute(\"sql statement\")\n",
    "list1 = c.fetchall()\n",
    "\n",
    "print list1"
   ]
  },
  {
   "cell_type": "code",
   "execution_count": null,
   "metadata": {},
   "outputs": [],
   "source": [
    "import Sybase\n",
    "#db = Sybase.connect('server','name','pass','database')\n",
    "db = Sybase.connect(HOST,USER,PASS,DB)\n",
    "c = db.cursor()\n",
    "c.execute(\"sql statement\")\n"
   ]
  },
  {
   "cell_type": "code",
   "execution_count": null,
   "metadata": {},
   "outputs": [],
   "source": [
    "import sqlanydb\n",
    "\n",
    "# Create a connection object, then use it to create a cursor\n",
    "con = sqlanydb.connect( userid=USER , password=PASS )\n",
    "cursor = con.cursor()\n",
    " \n",
    "# http://infocenter.sybase.com/help/index.jsp?topic=/com.sybase.infocenter.dc01776.1602/doc/html/san1357754969055.html\n",
    "# Execute a SQL string \n",
    "cursor.execute(consulta)\n",
    "\n",
    "# Get a cursor description which contains column names\n",
    "info = cursor.description\n",
    "print(info)\n",
    "print(\"Numero de columnas :  %s \" % str(len(info)))\n",
    "\n",
    "# Fetch all results from the cursor into a sequence, \n",
    "# display the values as column name=value pairs,\n",
    "# and then close the connection\n",
    "rowset = cursor.fetchall()\n",
    "for row in rowset:\n",
    "    for col in range(len(info)):\n",
    "        print \"%s=%s\" % (info[col][0], row[col] )\n",
    "    print\n",
    "cursor.close()\n",
    "con.close()"
   ]
  },
  {
   "cell_type": "code",
   "execution_count": null,
   "metadata": {},
   "outputs": [],
   "source": []
  },
  {
   "cell_type": "code",
   "execution_count": null,
   "metadata": {},
   "outputs": [],
   "source": []
  },
  {
   "cell_type": "code",
   "execution_count": null,
   "metadata": {},
   "outputs": [],
   "source": []
  }
 ],
 "metadata": {
  "kernelspec": {
   "display_name": "Python 3",
   "language": "python",
   "name": "python3"
  },
  "language_info": {
   "codemirror_mode": {
    "name": "ipython",
    "version": 3
   },
   "file_extension": ".py",
   "mimetype": "text/x-python",
   "name": "python",
   "nbconvert_exporter": "python",
   "pygments_lexer": "ipython3",
   "version": "3.6.6"
  }
 },
 "nbformat": 4,
 "nbformat_minor": 2
}
