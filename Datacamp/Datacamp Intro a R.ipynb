{
 "cells": [
  {
   "cell_type": "markdown",
   "metadata": {},
   "source": [
    "# Creando el dataframe"
   ]
  },
  {
   "cell_type": "code",
   "execution_count": 5,
   "metadata": {},
   "outputs": [],
   "source": [
    "# Definition of vectors\n",
    "name <- c(\"Mercury\", \"Venus\", \"Earth\", \"Mars\", \"Jupiter\", \"Saturn\", \"Uranus\", \"Neptune\")\n",
    "type <- c(\"Terrestrial planet\", \"Terrestrial planet\", \"Terrestrial planet\", \n",
    "          \"Terrestrial planet\", \"Gas giant\", \"Gas giant\", \"Gas giant\", \"Gas giant\")\n",
    "diameter <- c(0.382, 0.949, 1, 0.532, 11.209, 9.449, 4.007, 3.883)\n",
    "rotation <- c(58.64, -243.02, 1, 1.03, 0.41, 0.43, -0.72, 0.67)\n",
    "rings <- c(FALSE, FALSE, FALSE, FALSE, TRUE, TRUE, TRUE, TRUE)\n",
    "\n",
    "# Create a data frame from the vectors\n",
    "planets_df <-data.frame( name  ,  type,diameter,rotation,rings )"
   ]
  },
  {
   "cell_type": "code",
   "execution_count": 6,
   "metadata": {},
   "outputs": [
    {
     "data": {
      "text/html": [
       "<table>\n",
       "<thead><tr><th scope=col>name</th><th scope=col>type</th><th scope=col>diameter</th><th scope=col>rotation</th><th scope=col>rings</th></tr></thead>\n",
       "<tbody>\n",
       "\t<tr><td>Mercury           </td><td>Terrestrial planet</td><td> 0.382            </td><td>  58.64           </td><td>FALSE             </td></tr>\n",
       "\t<tr><td>Venus             </td><td>Terrestrial planet</td><td> 0.949            </td><td>-243.02           </td><td>FALSE             </td></tr>\n",
       "\t<tr><td>Earth             </td><td>Terrestrial planet</td><td> 1.000            </td><td>   1.00           </td><td>FALSE             </td></tr>\n",
       "\t<tr><td>Mars              </td><td>Terrestrial planet</td><td> 0.532            </td><td>   1.03           </td><td>FALSE             </td></tr>\n",
       "\t<tr><td>Jupiter           </td><td>Gas giant         </td><td>11.209            </td><td>   0.41           </td><td> TRUE             </td></tr>\n",
       "\t<tr><td>Saturn            </td><td>Gas giant         </td><td> 9.449            </td><td>   0.43           </td><td> TRUE             </td></tr>\n",
       "</tbody>\n",
       "</table>\n"
      ],
      "text/latex": [
       "\\begin{tabular}{r|lllll}\n",
       " name & type & diameter & rotation & rings\\\\\n",
       "\\hline\n",
       "\t Mercury            & Terrestrial planet &  0.382             &   58.64            & FALSE             \\\\\n",
       "\t Venus              & Terrestrial planet &  0.949             & -243.02            & FALSE             \\\\\n",
       "\t Earth              & Terrestrial planet &  1.000             &    1.00            & FALSE             \\\\\n",
       "\t Mars               & Terrestrial planet &  0.532             &    1.03            & FALSE             \\\\\n",
       "\t Jupiter            & Gas giant          & 11.209             &    0.41            &  TRUE             \\\\\n",
       "\t Saturn             & Gas giant          &  9.449             &    0.43            &  TRUE             \\\\\n",
       "\\end{tabular}\n"
      ],
      "text/markdown": [
       "\n",
       "name | type | diameter | rotation | rings | \n",
       "|---|---|---|---|---|---|\n",
       "| Mercury            | Terrestrial planet |  0.382             |   58.64            | FALSE              | \n",
       "| Venus              | Terrestrial planet |  0.949             | -243.02            | FALSE              | \n",
       "| Earth              | Terrestrial planet |  1.000             |    1.00            | FALSE              | \n",
       "| Mars               | Terrestrial planet |  0.532             |    1.03            | FALSE              | \n",
       "| Jupiter            | Gas giant          | 11.209             |    0.41            |  TRUE              | \n",
       "| Saturn             | Gas giant          |  9.449             |    0.43            |  TRUE              | \n",
       "\n",
       "\n"
      ],
      "text/plain": [
       "  name    type               diameter rotation rings\n",
       "1 Mercury Terrestrial planet  0.382     58.64  FALSE\n",
       "2 Venus   Terrestrial planet  0.949   -243.02  FALSE\n",
       "3 Earth   Terrestrial planet  1.000      1.00  FALSE\n",
       "4 Mars    Terrestrial planet  0.532      1.03  FALSE\n",
       "5 Jupiter Gas giant          11.209      0.41   TRUE\n",
       "6 Saturn  Gas giant           9.449      0.43   TRUE"
      ]
     },
     "metadata": {},
     "output_type": "display_data"
    },
    {
     "ename": "ERROR",
     "evalue": "Error in srt(planets_df): no se pudo encontrar la función \"srt\"\n",
     "execution_count": 6,
     "output_type": "error",
     "traceback": [
      "Error in srt(planets_df): no se pudo encontrar la función \"srt\"\nTraceback:\n"
     ]
    }
   ],
   "source": [
    "head(planets_df)\n",
    "srt(planets_df)"
   ]
  },
  {
   "cell_type": "markdown",
   "metadata": {},
   "source": [
    "## Selection of data frame elements"
   ]
  },
  {
   "cell_type": "code",
   "execution_count": 7,
   "metadata": {},
   "outputs": [
    {
     "data": {
      "text/html": [
       "<ol class=list-inline>\n",
       "\t<li>Mercury</li>\n",
       "\t<li>Venus</li>\n",
       "\t<li>Earth</li>\n",
       "\t<li>Mars</li>\n",
       "\t<li>Jupiter</li>\n",
       "\t<li>Saturn</li>\n",
       "\t<li>Uranus</li>\n",
       "\t<li>Neptune</li>\n",
       "</ol>\n",
       "\n",
       "<details>\n",
       "\t<summary style=display:list-item;cursor:pointer>\n",
       "\t\t<strong>Levels</strong>:\n",
       "\t</summary>\n",
       "\t<ol class=list-inline>\n",
       "\t\t<li>'Earth'</li>\n",
       "\t\t<li>'Jupiter'</li>\n",
       "\t\t<li>'Mars'</li>\n",
       "\t\t<li>'Mercury'</li>\n",
       "\t\t<li>'Neptune'</li>\n",
       "\t\t<li>'Saturn'</li>\n",
       "\t\t<li>'Uranus'</li>\n",
       "\t\t<li>'Venus'</li>\n",
       "\t</ol>\n",
       "</details>"
      ],
      "text/latex": [
       "\\begin{enumerate*}\n",
       "\\item Mercury\n",
       "\\item Venus\n",
       "\\item Earth\n",
       "\\item Mars\n",
       "\\item Jupiter\n",
       "\\item Saturn\n",
       "\\item Uranus\n",
       "\\item Neptune\n",
       "\\end{enumerate*}\n",
       "\n",
       "\\emph{Levels}: \\begin{enumerate*}\n",
       "\\item 'Earth'\n",
       "\\item 'Jupiter'\n",
       "\\item 'Mars'\n",
       "\\item 'Mercury'\n",
       "\\item 'Neptune'\n",
       "\\item 'Saturn'\n",
       "\\item 'Uranus'\n",
       "\\item 'Venus'\n",
       "\\end{enumerate*}\n"
      ],
      "text/markdown": [
       "1. Mercury\n",
       "2. Venus\n",
       "3. Earth\n",
       "4. Mars\n",
       "5. Jupiter\n",
       "6. Saturn\n",
       "7. Uranus\n",
       "8. Neptune\n",
       "\n",
       "\n",
       "\n",
       "**Levels**: 1. 'Earth'\n",
       "2. 'Jupiter'\n",
       "3. 'Mars'\n",
       "4. 'Mercury'\n",
       "5. 'Neptune'\n",
       "6. 'Saturn'\n",
       "7. 'Uranus'\n",
       "8. 'Venus'\n",
       "\n",
       "\n"
      ],
      "text/plain": [
       "[1] Mercury Venus   Earth   Mars    Jupiter Saturn  Uranus  Neptune\n",
       "Levels: Earth Jupiter Mars Mercury Neptune Saturn Uranus Venus"
      ]
     },
     "metadata": {},
     "output_type": "display_data"
    },
    {
     "data": {
      "text/html": [
       "0.382"
      ],
      "text/latex": [
       "0.382"
      ],
      "text/markdown": [
       "0.382"
      ],
      "text/plain": [
       "[1] 0.382"
      ]
     },
     "metadata": {},
     "output_type": "display_data"
    },
    {
     "data": {
      "text/html": [
       "<table>\n",
       "<thead><tr><th></th><th scope=col>name</th><th scope=col>type</th><th scope=col>diameter</th><th scope=col>rotation</th><th scope=col>rings</th></tr></thead>\n",
       "<tbody>\n",
       "\t<tr><th scope=row>4</th><td>Mars              </td><td>Terrestrial planet</td><td>0.532             </td><td>1.03              </td><td>FALSE             </td></tr>\n",
       "</tbody>\n",
       "</table>\n"
      ],
      "text/latex": [
       "\\begin{tabular}{r|lllll}\n",
       "  & name & type & diameter & rotation & rings\\\\\n",
       "\\hline\n",
       "\t4 & Mars               & Terrestrial planet & 0.532              & 1.03               & FALSE             \\\\\n",
       "\\end{tabular}\n"
      ],
      "text/markdown": [
       "\n",
       "| <!--/--> | name | type | diameter | rotation | rings | \n",
       "|---|\n",
       "| 4 | Mars               | Terrestrial planet | 0.532              | 1.03               | FALSE              | \n",
       "\n",
       "\n"
      ],
      "text/plain": [
       "  name type               diameter rotation rings\n",
       "4 Mars Terrestrial planet 0.532    1.03     FALSE"
      ]
     },
     "metadata": {},
     "output_type": "display_data"
    }
   ],
   "source": [
    "# The planets_df data frame from the previous exercise is pre-loaded\n",
    "planets_df$name\n",
    "# Print out diameter of Mercury (row 1, column 3)\n",
    "planets_df[1,3]\n",
    "\n",
    "# Print out data for Mars (entire fourth row)\n",
    "planets_df[4,]"
   ]
  },
  {
   "cell_type": "code",
   "execution_count": 14,
   "metadata": {},
   "outputs": [
    {
     "data": {
      "text/html": [
       "<table>\n",
       "<thead><tr><th></th><th scope=col>name</th><th scope=col>type</th><th scope=col>diameter</th><th scope=col>rotation</th><th scope=col>rings</th></tr></thead>\n",
       "<tbody>\n",
       "\t<tr><th scope=row>5</th><td>Jupiter  </td><td>Gas giant</td><td>11.209   </td><td> 0.41    </td><td>TRUE     </td></tr>\n",
       "\t<tr><th scope=row>6</th><td>Saturn   </td><td>Gas giant</td><td> 9.449   </td><td> 0.43    </td><td>TRUE     </td></tr>\n",
       "\t<tr><th scope=row>7</th><td>Uranus   </td><td>Gas giant</td><td> 4.007   </td><td>-0.72    </td><td>TRUE     </td></tr>\n",
       "\t<tr><th scope=row>8</th><td>Neptune  </td><td>Gas giant</td><td> 3.883   </td><td> 0.67    </td><td>TRUE     </td></tr>\n",
       "</tbody>\n",
       "</table>\n"
      ],
      "text/latex": [
       "\\begin{tabular}{r|lllll}\n",
       "  & name & type & diameter & rotation & rings\\\\\n",
       "\\hline\n",
       "\t5 & Jupiter   & Gas giant & 11.209    &  0.41     & TRUE     \\\\\n",
       "\t6 & Saturn    & Gas giant &  9.449    &  0.43     & TRUE     \\\\\n",
       "\t7 & Uranus    & Gas giant &  4.007    & -0.72     & TRUE     \\\\\n",
       "\t8 & Neptune   & Gas giant &  3.883    &  0.67     & TRUE     \\\\\n",
       "\\end{tabular}\n"
      ],
      "text/markdown": [
       "\n",
       "| <!--/--> | name | type | diameter | rotation | rings | \n",
       "|---|---|---|---|\n",
       "| 5 | Jupiter   | Gas giant | 11.209    |  0.41     | TRUE      | \n",
       "| 6 | Saturn    | Gas giant |  9.449    |  0.43     | TRUE      | \n",
       "| 7 | Uranus    | Gas giant |  4.007    | -0.72     | TRUE      | \n",
       "| 8 | Neptune   | Gas giant |  3.883    |  0.67     | TRUE      | \n",
       "\n",
       "\n"
      ],
      "text/plain": [
       "  name    type      diameter rotation rings\n",
       "5 Jupiter Gas giant 11.209    0.41    TRUE \n",
       "6 Saturn  Gas giant  9.449    0.43    TRUE \n",
       "7 Uranus  Gas giant  4.007   -0.72    TRUE \n",
       "8 Neptune Gas giant  3.883    0.67    TRUE "
      ]
     },
     "metadata": {},
     "output_type": "display_data"
    }
   ],
   "source": [
    "# Select the rings variable from planets_df\n",
    "rings_vector <- planets_df$rings\n",
    "\n",
    "# Adapt the code to select all columns for planets with rings\n",
    "planets_df[rings_vector, TRUE]"
   ]
  },
  {
   "cell_type": "markdown",
   "metadata": {},
   "source": [
    "## Subset"
   ]
  },
  {
   "cell_type": "code",
   "execution_count": 10,
   "metadata": {},
   "outputs": [
    {
     "data": {
      "text/html": [
       "<table>\n",
       "<thead><tr><th></th><th scope=col>name</th><th scope=col>type</th><th scope=col>diameter</th><th scope=col>rotation</th><th scope=col>rings</th></tr></thead>\n",
       "<tbody>\n",
       "\t<tr><th scope=row>1</th><td>Mercury           </td><td>Terrestrial planet</td><td>0.382             </td><td>  58.64           </td><td>FALSE             </td></tr>\n",
       "\t<tr><th scope=row>2</th><td>Venus             </td><td>Terrestrial planet</td><td>0.949             </td><td>-243.02           </td><td>FALSE             </td></tr>\n",
       "\t<tr><th scope=row>4</th><td>Mars              </td><td>Terrestrial planet</td><td>0.532             </td><td>   1.03           </td><td>FALSE             </td></tr>\n",
       "</tbody>\n",
       "</table>\n"
      ],
      "text/latex": [
       "\\begin{tabular}{r|lllll}\n",
       "  & name & type & diameter & rotation & rings\\\\\n",
       "\\hline\n",
       "\t1 & Mercury            & Terrestrial planet & 0.382              &   58.64            & FALSE             \\\\\n",
       "\t2 & Venus              & Terrestrial planet & 0.949              & -243.02            & FALSE             \\\\\n",
       "\t4 & Mars               & Terrestrial planet & 0.532              &    1.03            & FALSE             \\\\\n",
       "\\end{tabular}\n"
      ],
      "text/markdown": [
       "\n",
       "| <!--/--> | name | type | diameter | rotation | rings | \n",
       "|---|---|---|\n",
       "| 1 | Mercury            | Terrestrial planet | 0.382              |   58.64            | FALSE              | \n",
       "| 2 | Venus              | Terrestrial planet | 0.949              | -243.02            | FALSE              | \n",
       "| 4 | Mars               | Terrestrial planet | 0.532              |    1.03            | FALSE              | \n",
       "\n",
       "\n"
      ],
      "text/plain": [
       "  name    type               diameter rotation rings\n",
       "1 Mercury Terrestrial planet 0.382      58.64  FALSE\n",
       "2 Venus   Terrestrial planet 0.949    -243.02  FALSE\n",
       "4 Mars    Terrestrial planet 0.532       1.03  FALSE"
      ]
     },
     "metadata": {},
     "output_type": "display_data"
    }
   ],
   "source": [
    "# Select planets with diameter < 1\n",
    "subset( planets_df , diameter < 1 )"
   ]
  },
  {
   "cell_type": "markdown",
   "metadata": {},
   "source": [
    "## Ordenando datos\n",
    "In data analysis you can sort your data according to a certain variable in the data set. In R, this is done with the help of the function order()."
   ]
  },
  {
   "cell_type": "code",
   "execution_count": 11,
   "metadata": {},
   "outputs": [
    {
     "data": {
      "text/html": [
       "<ol class=list-inline>\n",
       "\t<li>3</li>\n",
       "\t<li>6</li>\n",
       "\t<li>5</li>\n",
       "\t<li>2</li>\n",
       "\t<li>4</li>\n",
       "\t<li>1</li>\n",
       "</ol>\n"
      ],
      "text/latex": [
       "\\begin{enumerate*}\n",
       "\\item 3\n",
       "\\item 6\n",
       "\\item 5\n",
       "\\item 2\n",
       "\\item 4\n",
       "\\item 1\n",
       "\\end{enumerate*}\n"
      ],
      "text/markdown": [
       "1. 3\n",
       "2. 6\n",
       "3. 5\n",
       "4. 2\n",
       "5. 4\n",
       "6. 1\n",
       "\n",
       "\n"
      ],
      "text/plain": [
       "[1] 3 6 5 2 4 1"
      ]
     },
     "metadata": {},
     "output_type": "display_data"
    }
   ],
   "source": [
    "# Play around with the order function in the console\n",
    "a = c(563434,3463,2,4247,8,2) \n",
    "order(a) "
   ]
  },
  {
   "cell_type": "markdown",
   "metadata": {},
   "source": [
    "## Ordenando el dataframe\n",
    "La funcion order entrega un vector con las  posiciones de los elementos ordenados  , de esta manera podemos listar los elementos de un dataframe con este vector de indices. "
   ]
  },
  {
   "cell_type": "code",
   "execution_count": 13,
   "metadata": {},
   "outputs": [
    {
     "data": {
      "text/html": [
       "<table>\n",
       "<thead><tr><th></th><th scope=col>name</th><th scope=col>type</th><th scope=col>diameter</th><th scope=col>rotation</th><th scope=col>rings</th></tr></thead>\n",
       "<tbody>\n",
       "\t<tr><th scope=row>1</th><td>Mercury           </td><td>Terrestrial planet</td><td> 0.382            </td><td>  58.64           </td><td>FALSE             </td></tr>\n",
       "\t<tr><th scope=row>4</th><td>Mars              </td><td>Terrestrial planet</td><td> 0.532            </td><td>   1.03           </td><td>FALSE             </td></tr>\n",
       "\t<tr><th scope=row>2</th><td>Venus             </td><td>Terrestrial planet</td><td> 0.949            </td><td>-243.02           </td><td>FALSE             </td></tr>\n",
       "\t<tr><th scope=row>3</th><td>Earth             </td><td>Terrestrial planet</td><td> 1.000            </td><td>   1.00           </td><td>FALSE             </td></tr>\n",
       "\t<tr><th scope=row>8</th><td>Neptune           </td><td>Gas giant         </td><td> 3.883            </td><td>   0.67           </td><td> TRUE             </td></tr>\n",
       "\t<tr><th scope=row>7</th><td>Uranus            </td><td>Gas giant         </td><td> 4.007            </td><td>  -0.72           </td><td> TRUE             </td></tr>\n",
       "\t<tr><th scope=row>6</th><td>Saturn            </td><td>Gas giant         </td><td> 9.449            </td><td>   0.43           </td><td> TRUE             </td></tr>\n",
       "\t<tr><th scope=row>5</th><td>Jupiter           </td><td>Gas giant         </td><td>11.209            </td><td>   0.41           </td><td> TRUE             </td></tr>\n",
       "</tbody>\n",
       "</table>\n"
      ],
      "text/latex": [
       "\\begin{tabular}{r|lllll}\n",
       "  & name & type & diameter & rotation & rings\\\\\n",
       "\\hline\n",
       "\t1 & Mercury            & Terrestrial planet &  0.382             &   58.64            & FALSE             \\\\\n",
       "\t4 & Mars               & Terrestrial planet &  0.532             &    1.03            & FALSE             \\\\\n",
       "\t2 & Venus              & Terrestrial planet &  0.949             & -243.02            & FALSE             \\\\\n",
       "\t3 & Earth              & Terrestrial planet &  1.000             &    1.00            & FALSE             \\\\\n",
       "\t8 & Neptune            & Gas giant          &  3.883             &    0.67            &  TRUE             \\\\\n",
       "\t7 & Uranus             & Gas giant          &  4.007             &   -0.72            &  TRUE             \\\\\n",
       "\t6 & Saturn             & Gas giant          &  9.449             &    0.43            &  TRUE             \\\\\n",
       "\t5 & Jupiter            & Gas giant          & 11.209             &    0.41            &  TRUE             \\\\\n",
       "\\end{tabular}\n"
      ],
      "text/markdown": [
       "\n",
       "| <!--/--> | name | type | diameter | rotation | rings | \n",
       "|---|---|---|---|---|---|---|---|\n",
       "| 1 | Mercury            | Terrestrial planet |  0.382             |   58.64            | FALSE              | \n",
       "| 4 | Mars               | Terrestrial planet |  0.532             |    1.03            | FALSE              | \n",
       "| 2 | Venus              | Terrestrial planet |  0.949             | -243.02            | FALSE              | \n",
       "| 3 | Earth              | Terrestrial planet |  1.000             |    1.00            | FALSE              | \n",
       "| 8 | Neptune            | Gas giant          |  3.883             |    0.67            |  TRUE              | \n",
       "| 7 | Uranus             | Gas giant          |  4.007             |   -0.72            |  TRUE              | \n",
       "| 6 | Saturn             | Gas giant          |  9.449             |    0.43            |  TRUE              | \n",
       "| 5 | Jupiter            | Gas giant          | 11.209             |    0.41            |  TRUE              | \n",
       "\n",
       "\n"
      ],
      "text/plain": [
       "  name    type               diameter rotation rings\n",
       "1 Mercury Terrestrial planet  0.382     58.64  FALSE\n",
       "4 Mars    Terrestrial planet  0.532      1.03  FALSE\n",
       "2 Venus   Terrestrial planet  0.949   -243.02  FALSE\n",
       "3 Earth   Terrestrial planet  1.000      1.00  FALSE\n",
       "8 Neptune Gas giant           3.883      0.67   TRUE\n",
       "7 Uranus  Gas giant           4.007     -0.72   TRUE\n",
       "6 Saturn  Gas giant           9.449      0.43   TRUE\n",
       "5 Jupiter Gas giant          11.209      0.41   TRUE"
      ]
     },
     "metadata": {},
     "output_type": "display_data"
    }
   ],
   "source": [
    "# Use order() to create positions\n",
    "positions <-  order( planets_df$diameter )\n",
    "\n",
    "# Use positions to sort planets_df\n",
    "planets_df[ positions , ]"
   ]
  },
  {
   "cell_type": "markdown",
   "metadata": {},
   "source": [
    "# Lists, why would you need them?\n",
    "Congratulations! At this point in the course you are already familiar with:\n",
    "\n",
    "Vectors (one dimensional array): can hold numeric, character or logical values. The elements in a vector all have the same data type.\n",
    "Matrices (two dimensional array): can hold numeric, character or logical values. The elements in a matrix all have the same data type.\n",
    "Data frames (two-dimensional objects): can hold numeric, character or logical values. Within a column all elements have the same data type, but different columns can be of different data type."
   ]
  },
  {
   "cell_type": "markdown",
   "metadata": {},
   "source": [
    "## Creating a list"
   ]
  },
  {
   "cell_type": "code",
   "execution_count": 16,
   "metadata": {},
   "outputs": [
    {
     "data": {
      "text/html": [
       "<ol>\n",
       "\t<li><ol class=list-inline>\n",
       "\t<li>1</li>\n",
       "\t<li>2</li>\n",
       "\t<li>3</li>\n",
       "\t<li>4</li>\n",
       "\t<li>5</li>\n",
       "\t<li>6</li>\n",
       "\t<li>7</li>\n",
       "\t<li>8</li>\n",
       "\t<li>9</li>\n",
       "\t<li>10</li>\n",
       "</ol>\n",
       "</li>\n",
       "\t<li><table>\n",
       "<tbody>\n",
       "\t<tr><td>1</td><td>4</td><td>7</td></tr>\n",
       "\t<tr><td>2</td><td>5</td><td>8</td></tr>\n",
       "\t<tr><td>3</td><td>6</td><td>9</td></tr>\n",
       "</tbody>\n",
       "</table>\n",
       "</li>\n",
       "\t<li><table>\n",
       "<thead><tr><th></th><th scope=col>mpg</th><th scope=col>cyl</th><th scope=col>disp</th><th scope=col>hp</th><th scope=col>drat</th><th scope=col>wt</th><th scope=col>qsec</th><th scope=col>vs</th><th scope=col>am</th><th scope=col>gear</th><th scope=col>carb</th></tr></thead>\n",
       "<tbody>\n",
       "\t<tr><th scope=row>Mazda RX4</th><td>21.0 </td><td>6    </td><td>160.0</td><td>110  </td><td>3.90 </td><td>2.620</td><td>16.46</td><td>0    </td><td>1    </td><td>4    </td><td>4    </td></tr>\n",
       "\t<tr><th scope=row>Mazda RX4 Wag</th><td>21.0 </td><td>6    </td><td>160.0</td><td>110  </td><td>3.90 </td><td>2.875</td><td>17.02</td><td>0    </td><td>1    </td><td>4    </td><td>4    </td></tr>\n",
       "\t<tr><th scope=row>Datsun 710</th><td>22.8 </td><td>4    </td><td>108.0</td><td> 93  </td><td>3.85 </td><td>2.320</td><td>18.61</td><td>1    </td><td>1    </td><td>4    </td><td>1    </td></tr>\n",
       "\t<tr><th scope=row>Hornet 4 Drive</th><td>21.4 </td><td>6    </td><td>258.0</td><td>110  </td><td>3.08 </td><td>3.215</td><td>19.44</td><td>1    </td><td>0    </td><td>3    </td><td>1    </td></tr>\n",
       "\t<tr><th scope=row>Hornet Sportabout</th><td>18.7 </td><td>8    </td><td>360.0</td><td>175  </td><td>3.15 </td><td>3.440</td><td>17.02</td><td>0    </td><td>0    </td><td>3    </td><td>2    </td></tr>\n",
       "\t<tr><th scope=row>Valiant</th><td>18.1 </td><td>6    </td><td>225.0</td><td>105  </td><td>2.76 </td><td>3.460</td><td>20.22</td><td>1    </td><td>0    </td><td>3    </td><td>1    </td></tr>\n",
       "\t<tr><th scope=row>Duster 360</th><td>14.3 </td><td>8    </td><td>360.0</td><td>245  </td><td>3.21 </td><td>3.570</td><td>15.84</td><td>0    </td><td>0    </td><td>3    </td><td>4    </td></tr>\n",
       "\t<tr><th scope=row>Merc 240D</th><td>24.4 </td><td>4    </td><td>146.7</td><td> 62  </td><td>3.69 </td><td>3.190</td><td>20.00</td><td>1    </td><td>0    </td><td>4    </td><td>2    </td></tr>\n",
       "\t<tr><th scope=row>Merc 230</th><td>22.8 </td><td>4    </td><td>140.8</td><td> 95  </td><td>3.92 </td><td>3.150</td><td>22.90</td><td>1    </td><td>0    </td><td>4    </td><td>2    </td></tr>\n",
       "\t<tr><th scope=row>Merc 280</th><td>19.2 </td><td>6    </td><td>167.6</td><td>123  </td><td>3.92 </td><td>3.440</td><td>18.30</td><td>1    </td><td>0    </td><td>4    </td><td>4    </td></tr>\n",
       "</tbody>\n",
       "</table>\n",
       "</li>\n",
       "</ol>\n"
      ],
      "text/latex": [
       "\\begin{enumerate}\n",
       "\\item \\begin{enumerate*}\n",
       "\\item 1\n",
       "\\item 2\n",
       "\\item 3\n",
       "\\item 4\n",
       "\\item 5\n",
       "\\item 6\n",
       "\\item 7\n",
       "\\item 8\n",
       "\\item 9\n",
       "\\item 10\n",
       "\\end{enumerate*}\n",
       "\n",
       "\\item \\begin{tabular}{lll}\n",
       "\t 1 & 4 & 7\\\\\n",
       "\t 2 & 5 & 8\\\\\n",
       "\t 3 & 6 & 9\\\\\n",
       "\\end{tabular}\n",
       "\n",
       "\\item \\begin{tabular}{r|lllllllllll}\n",
       "  & mpg & cyl & disp & hp & drat & wt & qsec & vs & am & gear & carb\\\\\n",
       "\\hline\n",
       "\tMazda RX4 & 21.0  & 6     & 160.0 & 110   & 3.90  & 2.620 & 16.46 & 0     & 1     & 4     & 4    \\\\\n",
       "\tMazda RX4 Wag & 21.0  & 6     & 160.0 & 110   & 3.90  & 2.875 & 17.02 & 0     & 1     & 4     & 4    \\\\\n",
       "\tDatsun 710 & 22.8  & 4     & 108.0 &  93   & 3.85  & 2.320 & 18.61 & 1     & 1     & 4     & 1    \\\\\n",
       "\tHornet 4 Drive & 21.4  & 6     & 258.0 & 110   & 3.08  & 3.215 & 19.44 & 1     & 0     & 3     & 1    \\\\\n",
       "\tHornet Sportabout & 18.7  & 8     & 360.0 & 175   & 3.15  & 3.440 & 17.02 & 0     & 0     & 3     & 2    \\\\\n",
       "\tValiant & 18.1  & 6     & 225.0 & 105   & 2.76  & 3.460 & 20.22 & 1     & 0     & 3     & 1    \\\\\n",
       "\tDuster 360 & 14.3  & 8     & 360.0 & 245   & 3.21  & 3.570 & 15.84 & 0     & 0     & 3     & 4    \\\\\n",
       "\tMerc 240D & 24.4  & 4     & 146.7 &  62   & 3.69  & 3.190 & 20.00 & 1     & 0     & 4     & 2    \\\\\n",
       "\tMerc 230 & 22.8  & 4     & 140.8 &  95   & 3.92  & 3.150 & 22.90 & 1     & 0     & 4     & 2    \\\\\n",
       "\tMerc 280 & 19.2  & 6     & 167.6 & 123   & 3.92  & 3.440 & 18.30 & 1     & 0     & 4     & 4    \\\\\n",
       "\\end{tabular}\n",
       "\n",
       "\\end{enumerate}\n"
      ],
      "text/markdown": [
       "1. 1. 1\n",
       "2. 2\n",
       "3. 3\n",
       "4. 4\n",
       "5. 5\n",
       "6. 6\n",
       "7. 7\n",
       "8. 8\n",
       "9. 9\n",
       "10. 10\n",
       "\n",
       "\n",
       "\n",
       "2. \n",
       "| 1 | 4 | 7 | \n",
       "| 2 | 5 | 8 | \n",
       "| 3 | 6 | 9 | \n",
       "\n",
       "\n",
       "\n",
       "3. \n",
       "| <!--/--> | mpg | cyl | disp | hp | drat | wt | qsec | vs | am | gear | carb | \n",
       "|---|---|---|---|---|---|---|---|---|---|\n",
       "| Mazda RX4 | 21.0  | 6     | 160.0 | 110   | 3.90  | 2.620 | 16.46 | 0     | 1     | 4     | 4     | \n",
       "| Mazda RX4 Wag | 21.0  | 6     | 160.0 | 110   | 3.90  | 2.875 | 17.02 | 0     | 1     | 4     | 4     | \n",
       "| Datsun 710 | 22.8  | 4     | 108.0 |  93   | 3.85  | 2.320 | 18.61 | 1     | 1     | 4     | 1     | \n",
       "| Hornet 4 Drive | 21.4  | 6     | 258.0 | 110   | 3.08  | 3.215 | 19.44 | 1     | 0     | 3     | 1     | \n",
       "| Hornet Sportabout | 18.7  | 8     | 360.0 | 175   | 3.15  | 3.440 | 17.02 | 0     | 0     | 3     | 2     | \n",
       "| Valiant | 18.1  | 6     | 225.0 | 105   | 2.76  | 3.460 | 20.22 | 1     | 0     | 3     | 1     | \n",
       "| Duster 360 | 14.3  | 8     | 360.0 | 245   | 3.21  | 3.570 | 15.84 | 0     | 0     | 3     | 4     | \n",
       "| Merc 240D | 24.4  | 4     | 146.7 |  62   | 3.69  | 3.190 | 20.00 | 1     | 0     | 4     | 2     | \n",
       "| Merc 230 | 22.8  | 4     | 140.8 |  95   | 3.92  | 3.150 | 22.90 | 1     | 0     | 4     | 2     | \n",
       "| Merc 280 | 19.2  | 6     | 167.6 | 123   | 3.92  | 3.440 | 18.30 | 1     | 0     | 4     | 4     | \n",
       "\n",
       "\n",
       "\n",
       "\n",
       "\n"
      ],
      "text/plain": [
       "[[1]]\n",
       " [1]  1  2  3  4  5  6  7  8  9 10\n",
       "\n",
       "[[2]]\n",
       "     [,1] [,2] [,3]\n",
       "[1,]    1    4    7\n",
       "[2,]    2    5    8\n",
       "[3,]    3    6    9\n",
       "\n",
       "[[3]]\n",
       "                   mpg cyl  disp  hp drat    wt  qsec vs am gear carb\n",
       "Mazda RX4         21.0   6 160.0 110 3.90 2.620 16.46  0  1    4    4\n",
       "Mazda RX4 Wag     21.0   6 160.0 110 3.90 2.875 17.02  0  1    4    4\n",
       "Datsun 710        22.8   4 108.0  93 3.85 2.320 18.61  1  1    4    1\n",
       "Hornet 4 Drive    21.4   6 258.0 110 3.08 3.215 19.44  1  0    3    1\n",
       "Hornet Sportabout 18.7   8 360.0 175 3.15 3.440 17.02  0  0    3    2\n",
       "Valiant           18.1   6 225.0 105 2.76 3.460 20.22  1  0    3    1\n",
       "Duster 360        14.3   8 360.0 245 3.21 3.570 15.84  0  0    3    4\n",
       "Merc 240D         24.4   4 146.7  62 3.69 3.190 20.00  1  0    4    2\n",
       "Merc 230          22.8   4 140.8  95 3.92 3.150 22.90  1  0    4    2\n",
       "Merc 280          19.2   6 167.6 123 3.92 3.440 18.30  1  0    4    4\n"
      ]
     },
     "metadata": {},
     "output_type": "display_data"
    }
   ],
   "source": [
    "# Vector with numerics from 1 up to 10\n",
    "my_vector <- 1:10 \n",
    "\n",
    "# Matrix with numerics from 1 up to 9\n",
    "my_matrix <- matrix(1:9, ncol = 3)\n",
    "\n",
    "# First 10 elements of the built-in data frame mtcars\n",
    "my_df <- mtcars[1:10,]\n",
    "\n",
    "# Construct list with these different elements:\n",
    "my_list <-list(my_vector , my_matrix , my_df)\n",
    "#my_list"
   ]
  },
  {
   "cell_type": "markdown",
   "metadata": {},
   "source": [
    "## Lista con etiquetas"
   ]
  },
  {
   "cell_type": "code",
   "execution_count": 25,
   "metadata": {},
   "outputs": [],
   "source": [
    "# Vector with numerics from 1 up to 10\n",
    "my_vector <- 1:10 \n",
    "\n",
    "# Matrix with numerics from 1 up to 9\n",
    "my_matrix <- matrix(1:9, ncol = 3)\n",
    "\n",
    "# First 10 elements of the built-in data frame mtcars\n",
    "my_df <- mtcars[1:10,]\n",
    "\n",
    "# Adapt list() call to give the components names\n",
    "my_list <- list(my_vector, my_matrix, my_df)\n",
    "names(my_list) = c(\"uno\", \"dos\"  , \"tres\" )\n",
    "\n",
    "# Print out my_list\n",
    "#my_list"
   ]
  },
  {
   "cell_type": "markdown",
   "metadata": {},
   "source": [
    "## Seleccionando elementos de una lista \n",
    "Para seleccionar elementos de una lista se puede utilizar [[]] o simplente $\n",
    "\n",
    "```  \n",
    "    my_list[[\"dos\"]]  \n",
    "    my_list$dos\n",
    "```\n",
    "Cuando es necesario acceder a un index especifico agrega un [] al final de la sentencia \n",
    "\n",
    "```\n",
    "    my_list[[\"dos\"]][2]\n",
    "    my_list$dos[2]\n",
    "```\n",
    "\n"
   ]
  },
  {
   "cell_type": "code",
   "execution_count": 24,
   "metadata": {},
   "outputs": [
    {
     "data": {
      "text/html": [
       "<ol class=list-inline>\n",
       "\t<li>1</li>\n",
       "\t<li>4</li>\n",
       "\t<li>7</li>\n",
       "</ol>\n"
      ],
      "text/latex": [
       "\\begin{enumerate*}\n",
       "\\item 1\n",
       "\\item 4\n",
       "\\item 7\n",
       "\\end{enumerate*}\n"
      ],
      "text/markdown": [
       "1. 1\n",
       "2. 4\n",
       "3. 7\n",
       "\n",
       "\n"
      ],
      "text/plain": [
       "[1] 1 4 7"
      ]
     },
     "metadata": {},
     "output_type": "display_data"
    }
   ],
   "source": [
    "my_list$dos[1,]"
   ]
  },
  {
   "cell_type": "markdown",
   "metadata": {},
   "source": [
    "## Agregando elementos a la lista \n",
    "Simplemente sera necesario crear una nueva lista con los elementos a agegar por medio de un vector c() "
   ]
  },
  {
   "cell_type": "code",
   "execution_count": 29,
   "metadata": {},
   "outputs": [
    {
     "name": "stdout",
     "output_type": "stream",
     "text": [
      "List of 4\n",
      " $ uno      : int [1:10] 1 2 3 4 5 6 7 8 9 10\n",
      " $ dos      : int [1:3, 1:3] 1 2 3 4 5 6 7 8 9\n",
      " $ tres     :'data.frame':\t10 obs. of  11 variables:\n",
      "  ..$ mpg : num [1:10] 21 21 22.8 21.4 18.7 18.1 14.3 24.4 22.8 19.2\n",
      "  ..$ cyl : num [1:10] 6 6 4 6 8 6 8 4 4 6\n",
      "  ..$ disp: num [1:10] 160 160 108 258 360 ...\n",
      "  ..$ hp  : num [1:10] 110 110 93 110 175 105 245 62 95 123\n",
      "  ..$ drat: num [1:10] 3.9 3.9 3.85 3.08 3.15 2.76 3.21 3.69 3.92 3.92\n",
      "  ..$ wt  : num [1:10] 2.62 2.88 2.32 3.21 3.44 ...\n",
      "  ..$ qsec: num [1:10] 16.5 17 18.6 19.4 17 ...\n",
      "  ..$ vs  : num [1:10] 0 0 1 1 0 1 0 1 1 1\n",
      "  ..$ am  : num [1:10] 1 1 1 0 0 0 0 0 0 0\n",
      "  ..$ gear: num [1:10] 4 4 4 3 3 3 3 4 4 4\n",
      "  ..$ carb: num [1:10] 4 4 1 1 2 1 4 2 2 4\n",
      " $ new_label: num 1.23e+11\n"
     ]
    }
   ],
   "source": [
    "# We forgot something; add the year to shining_list\n",
    "mueva_lista <- c(my_list , new_label = 123423123123)\n",
    "\n",
    "# Have a look at shining_list_full\n",
    "str(mueva_lista)"
   ]
  },
  {
   "cell_type": "markdown",
   "metadata": {},
   "source": [
    "# Matrices "
   ]
  },
  {
   "cell_type": "markdown",
   "metadata": {},
   "source": [
    "You can construct a matrix in R with the matrix() function. Consider the following example:\n",
    "\n",
    "> matrix(1:9, byrow = TRUE, nrow = 3)\n",
    "\n",
    "In the matrix() function:\n",
    "\n",
    "- The first argument is the collection of elements that R will arrange into the rows and columns of the matrix. Here, we use 1:9 which is a shortcut for c(1, 2, 3, 4, 5, 6, 7, 8, 9).\n",
    "- The argument byrow indicates that the matrix is filled by the rows. If we want the matrix to be filled by the columns, we just place byrow = FALSE.\n",
    "- The third argument nrow indicates that the matrix should have three rows."
   ]
  },
  {
   "cell_type": "code",
   "execution_count": 1,
   "metadata": {},
   "outputs": [
    {
     "data": {
      "text/html": [
       "<table>\n",
       "<tbody>\n",
       "\t<tr><td>1</td><td>2</td><td>3</td></tr>\n",
       "\t<tr><td>4</td><td>5</td><td>6</td></tr>\n",
       "\t<tr><td>7</td><td>8</td><td>9</td></tr>\n",
       "</tbody>\n",
       "</table>\n"
      ],
      "text/latex": [
       "\\begin{tabular}{lll}\n",
       "\t 1 & 2 & 3\\\\\n",
       "\t 4 & 5 & 6\\\\\n",
       "\t 7 & 8 & 9\\\\\n",
       "\\end{tabular}\n"
      ],
      "text/markdown": [
       "\n",
       "| 1 | 2 | 3 | \n",
       "| 4 | 5 | 6 | \n",
       "| 7 | 8 | 9 | \n",
       "\n",
       "\n"
      ],
      "text/plain": [
       "     [,1] [,2] [,3]\n",
       "[1,] 1    2    3   \n",
       "[2,] 4    5    6   \n",
       "[3,] 7    8    9   "
      ]
     },
     "metadata": {},
     "output_type": "display_data"
    }
   ],
   "source": [
    "matrix( 1:9 , byrow=T , nrow=3 )"
   ]
  },
  {
   "cell_type": "code",
   "execution_count": 6,
   "metadata": {},
   "outputs": [
    {
     "data": {
      "text/html": [
       "<table>\n",
       "<tbody>\n",
       "\t<tr><td>460.998</td><td>314.4  </td></tr>\n",
       "\t<tr><td>290.475</td><td>247.9  </td></tr>\n",
       "\t<tr><td>309.306</td><td>165.8  </td></tr>\n",
       "</tbody>\n",
       "</table>\n"
      ],
      "text/latex": [
       "\\begin{tabular}{ll}\n",
       "\t 460.998 & 314.4  \\\\\n",
       "\t 290.475 & 247.9  \\\\\n",
       "\t 309.306 & 165.8  \\\\\n",
       "\\end{tabular}\n"
      ],
      "text/markdown": [
       "\n",
       "| 460.998 | 314.4   | \n",
       "| 290.475 | 247.9   | \n",
       "| 309.306 | 165.8   | \n",
       "\n",
       "\n"
      ],
      "text/plain": [
       "     [,1]    [,2] \n",
       "[1,] 460.998 314.4\n",
       "[2,] 290.475 247.9\n",
       "[3,] 309.306 165.8"
      ]
     },
     "metadata": {},
     "output_type": "display_data"
    }
   ],
   "source": [
    "# Box office Star Wars (in millions!)\n",
    "new_hope <- c(460.998, 314.4)\n",
    "empire_strikes <- c(290.475, 247.900)\n",
    "return_jedi <- c(309.306, 165.8)\n",
    "\n",
    "# Create box_office\n",
    "box_office <- c( new_hope,empire_strikes,return_jedi )\n",
    "\n",
    "# Construct star_wars_matrix\n",
    "star_wars_matrix <- matrix(box_office, byrow=T , nrow=3 )\n",
    "star_wars_matrix"
   ]
  },
  {
   "cell_type": "markdown",
   "metadata": {},
   "source": [
    "## Renombrando la matriz\n",
    "\n",
    "Similar to vectors, you can add names for the rows and the columns of a matrix\n",
    "\n",
    "> rownames(my_matrix) <- row_names_vector <br>\n",
    "> colnames(my_matrix) <- col_names_vector"
   ]
  },
  {
   "cell_type": "code",
   "execution_count": 8,
   "metadata": {},
   "outputs": [],
   "source": [
    "col_names = c(\"US\", \"non-US\")\n",
    "fil_names = c(\"new_hope\", \"empire_strikes\", \"return_jedi\")"
   ]
  },
  {
   "cell_type": "code",
   "execution_count": 9,
   "metadata": {},
   "outputs": [],
   "source": [
    "colnames(star_wars_matrix) = col_names \n",
    "rownames(star_wars_matrix) = fil_names "
   ]
  },
  {
   "cell_type": "code",
   "execution_count": 15,
   "metadata": {},
   "outputs": [
    {
     "data": {
      "text/html": [
       "<table>\n",
       "<thead><tr><th></th><th scope=col>US</th><th scope=col>non-US</th></tr></thead>\n",
       "<tbody>\n",
       "\t<tr><th scope=row>new_hope</th><td>460.998</td><td>314.4  </td></tr>\n",
       "\t<tr><th scope=row>empire_strikes</th><td>290.475</td><td>247.9  </td></tr>\n",
       "\t<tr><th scope=row>return_jedi</th><td>309.306</td><td>165.8  </td></tr>\n",
       "</tbody>\n",
       "</table>\n"
      ],
      "text/latex": [
       "\\begin{tabular}{r|ll}\n",
       "  & US & non-US\\\\\n",
       "\\hline\n",
       "\tnew\\_hope & 460.998 & 314.4  \\\\\n",
       "\tempire\\_strikes & 290.475 & 247.9  \\\\\n",
       "\treturn\\_jedi & 309.306 & 165.8  \\\\\n",
       "\\end{tabular}\n"
      ],
      "text/markdown": [
       "\n",
       "| <!--/--> | US | non-US | \n",
       "|---|---|---|\n",
       "| new_hope | 460.998 | 314.4   | \n",
       "| empire_strikes | 290.475 | 247.9   | \n",
       "| return_jedi | 309.306 | 165.8   | \n",
       "\n",
       "\n"
      ],
      "text/plain": [
       "               US      non-US\n",
       "new_hope       460.998 314.4 \n",
       "empire_strikes 290.475 247.9 \n",
       "return_jedi    309.306 165.8 "
      ]
     },
     "metadata": {},
     "output_type": "display_data"
    }
   ],
   "source": [
    "star_wars_matrix"
   ]
  },
  {
   "cell_type": "markdown",
   "metadata": {},
   "source": [
    "## Sumas totales\n",
    "Esta función calcula los totales de cada fila , retornando un vector.\n",
    "> rowSums(my_matrix)"
   ]
  },
  {
   "cell_type": "code",
   "execution_count": 13,
   "metadata": {},
   "outputs": [
    {
     "data": {
      "text/html": [
       "<dl class=dl-horizontal>\n",
       "\t<dt>new_hope</dt>\n",
       "\t\t<dd>775.398</dd>\n",
       "\t<dt>empire_strikes</dt>\n",
       "\t\t<dd>538.375</dd>\n",
       "\t<dt>return_jedi</dt>\n",
       "\t\t<dd>475.106</dd>\n",
       "</dl>\n"
      ],
      "text/latex": [
       "\\begin{description*}\n",
       "\\item[new\\textbackslash{}\\_hope] 775.398\n",
       "\\item[empire\\textbackslash{}\\_strikes] 538.375\n",
       "\\item[return\\textbackslash{}\\_jedi] 475.106\n",
       "\\end{description*}\n"
      ],
      "text/markdown": [
       "new_hope\n",
       ":   775.398empire_strikes\n",
       ":   538.375return_jedi\n",
       ":   475.106\n",
       "\n"
      ],
      "text/plain": [
       "      new_hope empire_strikes    return_jedi \n",
       "       775.398        538.375        475.106 "
      ]
     },
     "metadata": {},
     "output_type": "display_data"
    }
   ],
   "source": [
    "rowSums(star_wars_matrix)"
   ]
  },
  {
   "cell_type": "markdown",
   "metadata": {},
   "source": [
    "## Agregando una colunma\n",
    "Cbind se utiliza para agregar una columna o varias  a una matriz ej.\n",
    "\n",
    "> big_matrix <- cbind(matrix1, matrix2, vector1 ...)\n",
    "\n"
   ]
  },
  {
   "cell_type": "code",
   "execution_count": 16,
   "metadata": {},
   "outputs": [
    {
     "data": {
      "text/html": [
       "<table>\n",
       "<thead><tr><th></th><th scope=col>US</th><th scope=col>non-US</th><th scope=col>worldwide_vector</th></tr></thead>\n",
       "<tbody>\n",
       "\t<tr><th scope=row>new_hope</th><td>460.998</td><td>314.4  </td><td>775.398</td></tr>\n",
       "\t<tr><th scope=row>empire_strikes</th><td>290.475</td><td>247.9  </td><td>538.375</td></tr>\n",
       "\t<tr><th scope=row>return_jedi</th><td>309.306</td><td>165.8  </td><td>475.106</td></tr>\n",
       "</tbody>\n",
       "</table>\n"
      ],
      "text/latex": [
       "\\begin{tabular}{r|lll}\n",
       "  & US & non-US & worldwide\\_vector\\\\\n",
       "\\hline\n",
       "\tnew\\_hope & 460.998 & 314.4   & 775.398\\\\\n",
       "\tempire\\_strikes & 290.475 & 247.9   & 538.375\\\\\n",
       "\treturn\\_jedi & 309.306 & 165.8   & 475.106\\\\\n",
       "\\end{tabular}\n"
      ],
      "text/markdown": [
       "\n",
       "| <!--/--> | US | non-US | worldwide_vector | \n",
       "|---|---|---|\n",
       "| new_hope | 460.998 | 314.4   | 775.398 | \n",
       "| empire_strikes | 290.475 | 247.9   | 538.375 | \n",
       "| return_jedi | 309.306 | 165.8   | 475.106 | \n",
       "\n",
       "\n"
      ],
      "text/plain": [
       "               US      non-US worldwide_vector\n",
       "new_hope       460.998 314.4  775.398         \n",
       "empire_strikes 290.475 247.9  538.375         \n",
       "return_jedi    309.306 165.8  475.106         "
      ]
     },
     "metadata": {},
     "output_type": "display_data"
    }
   ],
   "source": [
    " # vector con la sumas de los totales \n",
    "worldwide_vector <- rowSums(star_wars_matrix)\n",
    "\n",
    "# Agregnado la nueva variable a la matriz \n",
    "all_wars_matrix <- cbind(star_wars_matrix , worldwide_vector)\n",
    "\n",
    "all_wars_matrix"
   ]
  },
  {
   "cell_type": "markdown",
   "metadata": {},
   "source": [
    "## Agregando una fila\n",
    "De la misma forma se puede agregar una fila o varias con la funcion rbin ej :\n",
    "> big_matrix <- rbind(matrix1, matrix2, vector1 ...)\n",
    "\n"
   ]
  },
  {
   "cell_type": "markdown",
   "metadata": {},
   "source": [
    "## Seleccion de elementos dentro de una matriz.\n",
    "\n",
    "You should therefore use a comma to separate the rows you want to select from the columns. For example:\n",
    "\n",
    "- my_matrix[1,2] selects the element at the first row and second column.\n",
    "- my_matrix[1:3,2:4] results in a matrix with the data on the rows 1, 2, 3 and columns 2, 3, 4.\n",
    "\n",
    "If you want to select all elements of a row or a column, no number is needed before or after the comma, respectively:\n",
    "\n",
    "- my_matrix[,1] selects all elements of the first column.\n",
    "- my_matrix[1,] selects all elements of the first row."
   ]
  },
  {
   "cell_type": "code",
   "execution_count": 19,
   "metadata": {},
   "outputs": [
    {
     "data": {
      "text/html": [
       "242.7"
      ],
      "text/latex": [
       "242.7"
      ],
      "text/markdown": [
       "242.7"
      ],
      "text/plain": [
       "[1] 242.7"
      ]
     },
     "metadata": {},
     "output_type": "display_data"
    },
    {
     "data": {
      "text/html": [
       "281.15"
      ],
      "text/latex": [
       "281.15"
      ],
      "text/markdown": [
       "281.15"
      ],
      "text/plain": [
       "[1] 281.15"
      ]
     },
     "metadata": {},
     "output_type": "display_data"
    }
   ],
   "source": [
    "# Select the non-US revenue for all movies\n",
    "non_us_all <- all_wars_matrix[,2]\n",
    "  \n",
    "# Average non-US revenue\n",
    "mean(non_us_all)\n",
    "  \n",
    "# Select the non-US revenue for first two movies\n",
    "non_us_some <- all_wars_matrix[1:2,2]\n",
    "  \n",
    "# Average non-US revenue for first two movies\n",
    "mean(non_us_some)"
   ]
  },
  {
   "cell_type": "code",
   "execution_count": 21,
   "metadata": {},
   "outputs": [
    {
     "data": {
      "text/html": [
       "<table>\n",
       "<thead><tr><th></th><th scope=col>US</th><th scope=col>non-US</th><th scope=col>worldwide_vector</th></tr></thead>\n",
       "<tbody>\n",
       "\t<tr><th scope=row>new_hope</th><td>92.1996 </td><td>62.88   </td><td>155.0796</td></tr>\n",
       "\t<tr><th scope=row>empire_strikes</th><td>58.0950 </td><td>49.58   </td><td>107.6750</td></tr>\n",
       "\t<tr><th scope=row>return_jedi</th><td>61.8612 </td><td>33.16   </td><td> 95.0212</td></tr>\n",
       "</tbody>\n",
       "</table>\n"
      ],
      "text/latex": [
       "\\begin{tabular}{r|lll}\n",
       "  & US & non-US & worldwide\\_vector\\\\\n",
       "\\hline\n",
       "\tnew\\_hope & 92.1996  & 62.88    & 155.0796\\\\\n",
       "\tempire\\_strikes & 58.0950  & 49.58    & 107.6750\\\\\n",
       "\treturn\\_jedi & 61.8612  & 33.16    &  95.0212\\\\\n",
       "\\end{tabular}\n"
      ],
      "text/markdown": [
       "\n",
       "| <!--/--> | US | non-US | worldwide_vector | \n",
       "|---|---|---|\n",
       "| new_hope | 92.1996  | 62.88    | 155.0796 | \n",
       "| empire_strikes | 58.0950  | 49.58    | 107.6750 | \n",
       "| return_jedi | 61.8612  | 33.16    |  95.0212 | \n",
       "\n",
       "\n"
      ],
      "text/plain": [
       "               US      non-US worldwide_vector\n",
       "new_hope       92.1996 62.88  155.0796        \n",
       "empire_strikes 58.0950 49.58  107.6750        \n",
       "return_jedi    61.8612 33.16   95.0212        "
      ]
     },
     "metadata": {},
     "output_type": "display_data"
    }
   ],
   "source": [
    "# Estimate the visitors\n",
    "visitors <-  all_wars_matrix / 5\n",
    "visitors"
   ]
  },
  {
   "cell_type": "markdown",
   "metadata": {},
   "source": [
    "# Factor , ¿Qué es? y ¿Cómo utilizarlo?.\n",
    "Factor hacer referencia a una variable de tipo categorica , es decir que puede tomar valores finitos la diferencia cin una variable continua es que puede contener infinitos valores.\n",
    "\n"
   ]
  },
  {
   "cell_type": "code",
   "execution_count": 22,
   "metadata": {},
   "outputs": [
    {
     "data": {
      "text/html": [
       "<ol class=list-inline>\n",
       "\t<li>Male</li>\n",
       "\t<li>Female</li>\n",
       "\t<li>Female</li>\n",
       "\t<li>Male</li>\n",
       "\t<li>Male</li>\n",
       "</ol>\n",
       "\n",
       "<details>\n",
       "\t<summary style=display:list-item;cursor:pointer>\n",
       "\t\t<strong>Levels</strong>:\n",
       "\t</summary>\n",
       "\t<ol class=list-inline>\n",
       "\t\t<li>'Female'</li>\n",
       "\t\t<li>'Male'</li>\n",
       "\t</ol>\n",
       "</details>"
      ],
      "text/latex": [
       "\\begin{enumerate*}\n",
       "\\item Male\n",
       "\\item Female\n",
       "\\item Female\n",
       "\\item Male\n",
       "\\item Male\n",
       "\\end{enumerate*}\n",
       "\n",
       "\\emph{Levels}: \\begin{enumerate*}\n",
       "\\item 'Female'\n",
       "\\item 'Male'\n",
       "\\end{enumerate*}\n"
      ],
      "text/markdown": [
       "1. Male\n",
       "2. Female\n",
       "3. Female\n",
       "4. Male\n",
       "5. Male\n",
       "\n",
       "\n",
       "\n",
       "**Levels**: 1. 'Female'\n",
       "2. 'Male'\n",
       "\n",
       "\n"
      ],
      "text/plain": [
       "[1] Male   Female Female Male   Male  \n",
       "Levels: Female Male"
      ]
     },
     "metadata": {},
     "output_type": "display_data"
    }
   ],
   "source": [
    "# Sex vector\n",
    "sex_vector <- c(\"Male\", \"Female\", \"Female\", \"Male\", \"Male\")\n",
    "\n",
    "# Convert sex_vector to a factor\n",
    "factor_sex_vector <- factor(sex_vector)\n",
    "\n",
    "# Print out factor_sex_vector\n",
    "factor_sex_vector"
   ]
  },
  {
   "cell_type": "markdown",
   "metadata": {},
   "source": [
    "## Tipos de variables categóricas\n",
    "- Nominal\n",
    "\n",
    "No implica un orden. Ej:Perro , Gato , Ave.\n",
    "- Ordinal\n",
    "\n",
    "Si implica un orden natural. Ej: Alto , Medio , Bajo.\n",
    "\n",
    "Factor agrupa las categorias con el nombre de levels , el nombre de cada una puede ser asignado si se requiere por raznes de legivilidad con la funcion levels().\n",
    "Imagina que el siguente vector contiene sufijos para las categorias hombre y mujer :"
   ]
  },
  {
   "cell_type": "code",
   "execution_count": 28,
   "metadata": {},
   "outputs": [],
   "source": [
    "survey_vector <- c(\"M\", \"F\", \"F\", \"M\", \"M\")\n",
    "factor_survey_vector = factor(survey_vector)"
   ]
  },
  {
   "cell_type": "markdown",
   "metadata": {},
   "source": [
    "#### Cuidado ! \n",
    "Tenga en cuenta que al asignar las categorias con levels, pues se asignarán en orden alfebetico.\n",
    "\n",
    "Para este caso se ocuparia:"
   ]
  },
  {
   "cell_type": "code",
   "execution_count": 30,
   "metadata": {},
   "outputs": [
    {
     "data": {
      "text/html": [
       "<ol class=list-inline>\n",
       "\t<li>Male</li>\n",
       "\t<li>Female</li>\n",
       "\t<li>Female</li>\n",
       "\t<li>Male</li>\n",
       "\t<li>Male</li>\n",
       "</ol>\n",
       "\n",
       "<details>\n",
       "\t<summary style=display:list-item;cursor:pointer>\n",
       "\t\t<strong>Levels</strong>:\n",
       "\t</summary>\n",
       "\t<ol class=list-inline>\n",
       "\t\t<li>'Female'</li>\n",
       "\t\t<li>'Male'</li>\n",
       "\t</ol>\n",
       "</details>"
      ],
      "text/latex": [
       "\\begin{enumerate*}\n",
       "\\item Male\n",
       "\\item Female\n",
       "\\item Female\n",
       "\\item Male\n",
       "\\item Male\n",
       "\\end{enumerate*}\n",
       "\n",
       "\\emph{Levels}: \\begin{enumerate*}\n",
       "\\item 'Female'\n",
       "\\item 'Male'\n",
       "\\end{enumerate*}\n"
      ],
      "text/markdown": [
       "1. Male\n",
       "2. Female\n",
       "3. Female\n",
       "4. Male\n",
       "5. Male\n",
       "\n",
       "\n",
       "\n",
       "**Levels**: 1. 'Female'\n",
       "2. 'Male'\n",
       "\n",
       "\n"
      ],
      "text/plain": [
       "[1] Male   Female Female Male   Male  \n",
       "Levels: Female Male"
      ]
     },
     "metadata": {},
     "output_type": "display_data"
    },
    {
     "data": {
      "text/plain": [
       "   Length     Class      Mode \n",
       "        5 character character "
      ]
     },
     "metadata": {},
     "output_type": "display_data"
    },
    {
     "data": {
      "text/html": [
       "<dl class=dl-horizontal>\n",
       "\t<dt>Female</dt>\n",
       "\t\t<dd>2</dd>\n",
       "\t<dt>Male</dt>\n",
       "\t\t<dd>3</dd>\n",
       "</dl>\n"
      ],
      "text/latex": [
       "\\begin{description*}\n",
       "\\item[Female] 2\n",
       "\\item[Male] 3\n",
       "\\end{description*}\n"
      ],
      "text/markdown": [
       "Female\n",
       ":   2Male\n",
       ":   3\n",
       "\n"
      ],
      "text/plain": [
       "Female   Male \n",
       "     2      3 "
      ]
     },
     "metadata": {},
     "output_type": "display_data"
    }
   ],
   "source": [
    "# Build factor_survey_vector with clean levels\n",
    "survey_vector <- c(\"M\", \"F\", \"F\", \"M\", \"M\")\n",
    "factor_survey_vector <- factor(survey_vector)\n",
    "levels(factor_survey_vector) <- c(\"Female\", \"Male\")\n",
    "factor_survey_vector\n",
    "\n",
    "# Generate summary for survey_vector\n",
    "summary(survey_vector)\n",
    "\n",
    "# Generate summary for factor_survey_vector\n",
    "summary(factor_survey_vector)"
   ]
  },
  {
   "cell_type": "markdown",
   "metadata": {},
   "source": [
    "## Comparando categorías ordenadas\n",
    "Al crear una categoría como factores posible especificar su orden con \"ordered = TRUE\".\n"
   ]
  },
  {
   "cell_type": "code",
   "execution_count": 33,
   "metadata": {},
   "outputs": [
    {
     "data": {
      "text/html": [
       "FALSE"
      ],
      "text/latex": [
       "FALSE"
      ],
      "text/markdown": [
       "FALSE"
      ],
      "text/plain": [
       "[1] FALSE"
      ]
     },
     "metadata": {},
     "output_type": "display_data"
    }
   ],
   "source": [
    "# Create factor_speed_vector\n",
    "speed_vector <- c(\"medium\", \"slow\", \"slow\", \"medium\", \"fast\")\n",
    "factor_speed_vector <- factor(speed_vector, ordered = TRUE, levels = c(\"slow\", \"medium\", \"fast\"))\n",
    "\n",
    "# Factor value for second data analyst\n",
    "da2 <- factor_speed_vector[2]\n",
    "\n",
    "# Factor value for fifth data analyst\n",
    "da5 <- factor_speed_vector[5]\n",
    "\n",
    "# Is data analyst 2 faster than data analyst 5?\n",
    "da2 > da5\n",
    "#"
   ]
  }
 ],
 "metadata": {
  "kernelspec": {
   "display_name": "R",
   "language": "R",
   "name": "ir"
  },
  "language_info": {
   "codemirror_mode": "r",
   "file_extension": ".r",
   "mimetype": "text/x-r-source",
   "name": "R",
   "pygments_lexer": "r",
   "version": "3.5.1"
  }
 },
 "nbformat": 4,
 "nbformat_minor": 2
}
