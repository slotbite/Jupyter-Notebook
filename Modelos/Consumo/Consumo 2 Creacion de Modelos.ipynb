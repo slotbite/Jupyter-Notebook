{
 "cells": [
  {
   "cell_type": "code",
   "execution_count": 1,
   "metadata": {},
   "outputs": [
    {
     "name": "stderr",
     "output_type": "stream",
     "text": [
      "C:\\Users\\cvargasa\\AppData\\Local\\conda\\conda\\envs\\cnn\\lib\\site-packages\\sklearn\\cross_validation.py:41: DeprecationWarning: This module was deprecated in version 0.18 in favor of the model_selection module into which all the refactored classes and functions are moved. Also note that the interface of the new CV iterators are different from that of this module. This module will be removed in 0.20.\n",
      "  \"This module will be removed in 0.20.\", DeprecationWarning)\n",
      "C:\\Users\\cvargasa\\AppData\\Local\\conda\\conda\\envs\\cnn\\lib\\site-packages\\sklearn\\grid_search.py:42: DeprecationWarning: This module was deprecated in version 0.18 in favor of the model_selection module into which all the refactored classes and functions are moved. This module will be removed in 0.20.\n",
      "  DeprecationWarning)\n"
     ]
    }
   ],
   "source": [
    "#from sklearn import svm, grid_search, datasets\n",
    "#from spark_sklearn import GridSearchCV \n",
    "#from sklearn.ensemble import RandomForestRegressor\n",
    "#from sklearn.metrics import make_scorer\n",
    "#from sklearn.model_selection import GridSearchCV\n",
    "\n",
    "import pandas as pd\n",
    "import numpy as np\n",
    "np.set_printoptions(suppress=True)##fix notacion cientifica \n",
    "import seaborn as sns\n",
    "from sklearn import ensemble\n",
    "from sklearn import linear_model\n",
    "from sklearn.grid_search import GridSearchCV\n",
    "from sklearn import preprocessing\n",
    "from sklearn.cross_validation import train_test_split\n",
    "from sklearn.model_selection import train_test_split ##new \n",
    "import sklearn.metrics as metrics\n",
    "import matplotlib.pyplot as plt\n",
    "from collections import Counter\n",
    "%matplotlib inline "
   ]
  },
  {
   "cell_type": "code",
   "execution_count": 2,
   "metadata": {},
   "outputs": [],
   "source": [
    "file = \"hot_data.csv\" \n",
    "df = pd.read_csv(file , sep=';' ,  encoding='utf-8' , decimal='.') #decimal para leer las comas"
   ]
  },
  {
   "cell_type": "code",
   "execution_count": 3,
   "metadata": {},
   "outputs": [],
   "source": [
    "## es mas eficiente trabajar con un solo tipo de datos \n",
    "df = df.astype('float32')"
   ]
  },
  {
   "cell_type": "code",
   "execution_count": 4,
   "metadata": {},
   "outputs": [
    {
     "name": "stdout",
     "output_type": "stream",
     "text": [
      "<class 'pandas.core.frame.DataFrame'>\n",
      "RangeIndex: 293667 entries, 0 to 293666\n",
      "Data columns (total 52 columns):\n",
      "117 - VALPARAÍSO                      293667 non-null float32\n",
      "1 - BT-2 PACTADO                      293667 non-null float32\n",
      "124 - AT - PLD PRECIO FIJO            293667 non-null float32\n",
      "22 - BT-2                             293667 non-null float32\n",
      "55 - BT-1A                            293667 non-null float32\n",
      "57 - BT-3                             293667 non-null float32\n",
      "58 - BT-4.1                           293667 non-null float32\n",
      "60 - BT-4.3                           293667 non-null float32\n",
      "61 - AT-2                             293667 non-null float32\n",
      "62 - AT-3                             293667 non-null float32\n",
      "65 - AT-4.3                           293667 non-null float32\n",
      "72 - BOMBEROS BT-1A                   293667 non-null float32\n",
      "79 - EMPLEADOS ACTIVOS Y JUBILADOS    293667 non-null float32\n",
      "83 - EMPLEADOS PASIVOS                293667 non-null float32\n",
      "1 - RESIDENCIAL                       293667 non-null float32\n",
      "2 - COMERCIAL                         293667 non-null float32\n",
      "3 - INDUSTRIAL                        293667 non-null float32\n",
      "4 - AGRÍCOLA                          293667 non-null float32\n",
      "5 - FISCAL                            293667 non-null float32\n",
      "6 - MUNICIPAL                         293667 non-null float32\n",
      "8 - UTILIDAD PÚBLICA                  293667 non-null float32\n",
      "1 - ALUMBRADO PÚBLICO                 293667 non-null float32\n",
      "1 - BOMBEROS                          293667 non-null float32\n",
      "1 - CAMPAMENTO                        293667 non-null float32\n",
      "10 - SERVICIOS MUNICIPALES            293667 non-null float32\n",
      "2 - Fábrica                           293667 non-null float32\n",
      "3 - CASA - HABITACIÓN                 293667 non-null float32\n",
      "3 - Servicios fiscales                293667 non-null float32\n",
      "4 - Corp. municipal de educación      293667 non-null float32\n",
      "4 - PRODUCCIÓN AGRÍCOLA               293667 non-null float32\n",
      "5 - OFICINAS                          293667 non-null float32\n",
      "6 - OFICINAS                          293667 non-null float32\n",
      "7 - CATASTRO                          293667 non-null float32\n",
      "2016                                  293667 non-null float32\n",
      "2017                                  293667 non-null float32\n",
      "2018                                  293667 non-null float32\n",
      "1                                     293667 non-null float32\n",
      "2                                     293667 non-null float32\n",
      "3                                     293667 non-null float32\n",
      "4                                     293667 non-null float32\n",
      "5                                     293667 non-null float32\n",
      "6                                     293667 non-null float32\n",
      "7                                     293667 non-null float32\n",
      "8                                     293667 non-null float32\n",
      "9                                     293667 non-null float32\n",
      "10                                    293667 non-null float32\n",
      "11                                    293667 non-null float32\n",
      "12                                    293667 non-null float32\n",
      "max                                   293667 non-null float32\n",
      "avg                                   293667 non-null float32\n",
      "min                                   293667 non-null float32\n",
      "CONSUMO                               293667 non-null float32\n",
      "dtypes: float32(52)\n",
      "memory usage: 58.3 MB\n"
     ]
    }
   ],
   "source": [
    "df.info()"
   ]
  },
  {
   "cell_type": "code",
   "execution_count": 5,
   "metadata": {},
   "outputs": [
    {
     "name": "stderr",
     "output_type": "stream",
     "text": [
      "C:\\Users\\cvargasa\\AppData\\Local\\conda\\conda\\envs\\cnn\\lib\\site-packages\\ipykernel_launcher.py:1: FutureWarning: Method .as_matrix will be removed in a future version. Use .values instead.\n",
      "  \"\"\"Entry point for launching an IPython kernel.\n"
     ]
    }
   ],
   "source": [
    "data = df.as_matrix()\n",
    "data = np.matrix(data)"
   ]
  },
  {
   "cell_type": "code",
   "execution_count": 8,
   "metadata": {},
   "outputs": [
    {
     "data": {
      "text/plain": [
       "matrix([[    1. ,     1. ,     0. , ...,    16.5,    11.8,  3215. ],\n",
       "        [    1. ,     1. ,     0. , ...,    15.8,    10.6,  3197. ],\n",
       "        [    1. ,     1. ,     0. , ...,    13.4,     9.3,  3658. ],\n",
       "        ...,\n",
       "        [    1. ,     0. ,     0. , ...,    15.7,    11.2, 11536.9],\n",
       "        [    1. ,     0. ,     0. , ...,    16.4,    12.8, 11414.8],\n",
       "        [    1. ,     0. ,     0. , ...,    16.4,    12.2, 10716.8]],\n",
       "       dtype=float32)"
      ]
     },
     "execution_count": 8,
     "metadata": {},
     "output_type": "execute_result"
    }
   ],
   "source": [
    "\n",
    "\n",
    "\n",
    "data "
   ]
  },
  {
   "cell_type": "code",
   "execution_count": 12,
   "metadata": {},
   "outputs": [],
   "source": [
    "from sklearn.linear_model import LogisticRegression\n",
    "from sklearn import metrics\n",
    "\n",
    "np.random.seed(123)\n",
    "m_train    = np.random.rand(len(data)) < 0.5\n",
    "data_train = data[m_train,]\n",
    "data_test  = data[~m_train,]\n",
    "\n",
    "\n",
    "# CLASE\n",
    "#---------------------------------------------------------------------------------------------\n",
    "clase_train = data_train[:,-1]\n",
    "clase_train = clase_train.A1 #convierte de matriz a vector \n",
    "clase_test  = data_test[:,-1]\n",
    "clase_test  = clase_test.A1 #convierte de matriz a vector \n",
    "\n",
    "\n",
    "\n",
    " "
   ]
  },
  {
   "cell_type": "code",
   "execution_count": 13,
   "metadata": {},
   "outputs": [
    {
     "data": {
      "text/plain": [
       "array([ 3197. ,  3658. ,  4644. , ..., 10444.8, 11536.9, 10716.8],\n",
       "      dtype=float32)"
      ]
     },
     "execution_count": 13,
     "metadata": {},
     "output_type": "execute_result"
    }
   ],
   "source": [
    "clase_train"
   ]
  },
  {
   "cell_type": "code",
   "execution_count": 15,
   "metadata": {},
   "outputs": [
    {
     "data": {
      "text/plain": [
       "matrix([[ 1. ,  1. ,  0. , ..., 22.8, 15.8, 10.6],\n",
       "        [ 1. ,  1. ,  0. , ..., 19.6, 13.4,  9.3],\n",
       "        [ 1. ,  1. ,  0. , ..., 14.9, 10.2,  7.6],\n",
       "        ...,\n",
       "        [ 1. ,  0. ,  0. , ..., 19. , 12.6,  9.1],\n",
       "        [ 1. ,  0. ,  0. , ..., 23.5, 15.7, 11.2],\n",
       "        [ 1. ,  0. ,  0. , ..., 22.3, 16.4, 12.2]], dtype=float32)"
      ]
     },
     "execution_count": 15,
     "metadata": {},
     "output_type": "execute_result"
    }
   ],
   "source": [
    "data_train[:,:-1]"
   ]
  },
  {
   "cell_type": "code",
   "execution_count": null,
   "metadata": {},
   "outputs": [],
   "source": [
    "\n",
    "# MODELO\n",
    "#---------------------------------------------------------------------------------------------\n",
    "modelo_lr = LogisticRegression()\n",
    "\n",
    "from sklearn import utils\n",
    "lab_enc = preprocessing.LabelEncoder()\n",
    "training_scores_encoded = lab_enc.fit_transform(clase_train)\n",
    "\n",
    "modelo_lr.fit(X=data_train[:,:-1],y=training_scores_encoded)\n",
    "\n",
    "\n",
    "# PREDICCION\n",
    "#---------------------------------------------------------------------------------------------\n",
    "predicion = modelo_lr.predict(data_test[:,:-1])\n"
   ]
  },
  {
   "cell_type": "markdown",
   "metadata": {},
   "source": [
    "## Error medio de los modelos \n",
    "\n",
    "Con el error absoluto medio no indica que tan lejos de la prediciones estamos en este caso se analizan 6 modelos para comparar sus errores."
   ]
  },
  {
   "cell_type": "code",
   "execution_count": 7,
   "metadata": {},
   "outputs": [
    {
     "name": "stderr",
     "output_type": "stream",
     "text": [
      "C:\\Users\\cvargasa\\AppData\\Local\\conda\\conda\\envs\\cnn\\lib\\site-packages\\sklearn\\utils\\validation.py:547: DataConversionWarning: A column-vector y was passed when a 1d array was expected. Please change the shape of y to (n_samples, ), for example using ravel().\n",
      "  y = column_or_1d(y, warn=True)\n"
     ]
    },
    {
     "data": {
      "text/plain": [
       "Text(0,0.5,'Error Absoluto Medio')"
      ]
     },
     "execution_count": 7,
     "metadata": {},
     "output_type": "execute_result"
    },
    {
     "data": {
      "image/png": "[encoded data removed]",
      "text/plain": [
       "<Figure size 504x360 with 1 Axes>"
      ]
     },
     "metadata": {
      "needs_background": "light"
     },
     "output_type": "display_data"
    }
   ],
   "source": [
    "rs = 1\n",
    "# lista de modelos \n",
    "ests = [linear_model.LinearRegression(),\n",
    "        linear_model.Ridge(),\n",
    "        linear_model.Lasso(),\n",
    "        linear_model.ElasticNet(),\n",
    "        linear_model.BayesianRidge(),\n",
    "        linear_model.OrthogonalMatchingPursuit()\n",
    "       ]\n",
    "#Etiquetas de los modelos \n",
    "ests_labels = np.array(['Linear', 'Ridge', 'Lasso', 'ElasticNet', 'BayesRidge', 'OMP'])\n",
    "errvals = np.array([])\n",
    "\n",
    "## same thing\n",
    "#X = df.drop(['CONSUMO'], axis=1).as_matrix()\n",
    "#y = df[['CONSUMO']].as_matrix()\n",
    "\n",
    "X = df.drop(['CONSUMO'], axis=1).values.reshape(-1,1)\n",
    "y = df[['CONSUMO']].values.reshape(-1,1)\n",
    "\n",
    "X_train, X_test, y_train, y_test = train_test_split( X , df[['CONSUMO']] , test_size=0.05, random_state=20)\n",
    "\n",
    "X_train, X_test, y_train, y_test = train_test_split( df.drop(['CONSUMO'], axis=1) , df[['CONSUMO']] , test_size=0.05, random_state=20)\n",
    "\n",
    "for e in ests:\n",
    "    e.fit(X_train, y_train)\n",
    "    this_err = metrics.median_absolute_error(y_test, e.predict(X_test))\n",
    "    #print \"got error %0.2f\" % this_err\n",
    "    errvals = np.append(errvals, this_err)\n",
    "\n",
    "pos = np.arange(errvals.shape[0])\n",
    "srt = np.argsort(errvals)\n",
    "plt.figure(figsize=(7,5))\n",
    "plt.bar(pos, errvals[srt], align='center')\n",
    "plt.xticks(pos, ests_labels[srt])\n",
    "plt.xlabel('Estimador')\n",
    "plt.ylabel('Error Absoluto Medio') "
   ]
  },
  {
   "cell_type": "markdown",
   "metadata": {},
   "source": [
    "## Regresión Lineal \n"
   ]
  },
  {
   "cell_type": "code",
   "execution_count": 5,
   "metadata": {},
   "outputs": [],
   "source": [
    "from sklearn.linear_model import LinearRegression\n",
    "from sklearn import metrics\n",
    "lm = LinearRegression()"
   ]
  },
  {
   "cell_type": "code",
   "execution_count": 6,
   "metadata": {},
   "outputs": [
    {
     "data": {
      "text/plain": [
       "(278983, 51)"
      ]
     },
     "execution_count": 6,
     "metadata": {},
     "output_type": "execute_result"
    }
   ],
   "source": [
    " X_train.shape"
   ]
  },
  {
   "cell_type": "code",
   "execution_count": 7,
   "metadata": {},
   "outputs": [
    {
     "data": {
      "text/plain": [
       "(278983, 1)"
      ]
     },
     "execution_count": 7,
     "metadata": {},
     "output_type": "execute_result"
    }
   ],
   "source": [
    "y_train.shape"
   ]
  },
  {
   "cell_type": "code",
   "execution_count": 8,
   "metadata": {},
   "outputs": [
    {
     "data": {
      "text/plain": [
       "LinearRegression(copy_X=True, fit_intercept=True, n_jobs=1, normalize=False)"
      ]
     },
     "execution_count": 8,
     "metadata": {},
     "output_type": "execute_result"
    }
   ],
   "source": [
    "lm.fit(X_train , y_train )"
   ]
  },
  {
   "cell_type": "code",
   "execution_count": 9,
   "metadata": {},
   "outputs": [],
   "source": [
    "valores_estimados = lm.predict(X_test)"
   ]
  },
  {
   "cell_type": "code",
   "execution_count": 10,
   "metadata": {},
   "outputs": [],
   "source": [
    "## upsi\n",
    "##y_test = y_test[['CONSUMO']]"
   ]
  },
  {
   "cell_type": "code",
   "execution_count": 11,
   "metadata": {},
   "outputs": [
    {
     "data": {
      "image/png": "[encoded data removed]",
      "text/plain": [
       "<Figure size 432x288 with 1 Axes>"
      ]
     },
     "metadata": {
      "needs_background": "light"
     },
     "output_type": "display_data"
    }
   ],
   "source": [
    "#Visualizamos nuevamente los datos \n",
    "plt.scatter(y_test , valores_estimados  , c='b' , edgecolors=(0,0,0) , alpha = 0.5)\n",
    "plt.title('Valores estimados V/S data real')\n",
    "plt.xlabel('test values ')\n",
    "plt.ylabel('valores estimados')\n",
    "plt.xlim(0,500)\n",
    "plt.ylim(0,500)\n",
    "plt.show()"
   ]
  },
  {
   "cell_type": "code",
   "execution_count": 12,
   "metadata": {},
   "outputs": [
    {
     "data": {
      "text/plain": [
       "(14684, 1)"
      ]
     },
     "execution_count": 12,
     "metadata": {},
     "output_type": "execute_result"
    }
   ],
   "source": [
    "valores_estimados.shape"
   ]
  },
  {
   "cell_type": "code",
   "execution_count": 13,
   "metadata": {},
   "outputs": [
    {
     "data": {
      "text/html": [
       "<div>\n",
       "<style scoped>\n",
       "    .dataframe tbody tr th:only-of-type {\n",
       "        vertical-align: middle;\n",
       "    }\n",
       "\n",
       "    .dataframe tbody tr th {\n",
       "        vertical-align: top;\n",
       "    }\n",
       "\n",
       "    .dataframe thead th {\n",
       "        text-align: right;\n",
       "    }\n",
       "</style>\n",
       "<table border=\"1\" class=\"dataframe\">\n",
       "  <thead>\n",
       "    <tr style=\"text-align: right;\">\n",
       "      <th></th>\n",
       "      <th>CONSUMO</th>\n",
       "      <th>y_pred</th>\n",
       "    </tr>\n",
       "  </thead>\n",
       "  <tbody>\n",
       "    <tr>\n",
       "      <th>269147</th>\n",
       "      <td>120.5</td>\n",
       "      <td>169.460938</td>\n",
       "    </tr>\n",
       "    <tr>\n",
       "      <th>153796</th>\n",
       "      <td>174.9</td>\n",
       "      <td>176.570312</td>\n",
       "    </tr>\n",
       "    <tr>\n",
       "      <th>290099</th>\n",
       "      <td>152.5</td>\n",
       "      <td>152.742188</td>\n",
       "    </tr>\n",
       "    <tr>\n",
       "      <th>64446</th>\n",
       "      <td>46.2</td>\n",
       "      <td>159.078125</td>\n",
       "    </tr>\n",
       "    <tr>\n",
       "      <th>107489</th>\n",
       "      <td>433.4</td>\n",
       "      <td>170.117188</td>\n",
       "    </tr>\n",
       "  </tbody>\n",
       "</table>\n",
       "</div>"
      ],
      "text/plain": [
       "        CONSUMO      y_pred\n",
       "269147    120.5  169.460938\n",
       "153796    174.9  176.570312\n",
       "290099    152.5  152.742188\n",
       "64446      46.2  159.078125\n",
       "107489    433.4  170.117188"
      ]
     },
     "execution_count": 13,
     "metadata": {},
     "output_type": "execute_result"
    }
   ],
   "source": [
    "plot_values = pd.DataFrame()\n",
    "\n",
    "plot_values=y_test\n",
    "plot_values['y_pred'] =valores_estimados\n",
    "\n",
    "plot_values.head()\n"
   ]
  },
  {
   "cell_type": "code",
   "execution_count": 14,
   "metadata": {},
   "outputs": [
    {
     "data": {
      "text/plain": [
       "<seaborn.axisgrid.JointGrid at 0x2d6877d6390>"
      ]
     },
     "execution_count": 14,
     "metadata": {},
     "output_type": "execute_result"
    },
    {
     "data": {
      "image/png": "[encoded data removed]",
      "text/plain": [
       "<Figure size 432x432 with 3 Axes>"
      ]
     },
     "metadata": {
      "needs_background": "light"
     },
     "output_type": "display_data"
    }
   ],
   "source": [
    "#Visualizamos nuevamente los datos \n",
    "sns.jointplot(data = plot_values, x = 'CONSUMO',y ='y_pred' ,ylim=(0,3000),xlim=(0,3000) )   "
   ]
  },
  {
   "cell_type": "code",
   "execution_count": 18,
   "metadata": {},
   "outputs": [
    {
     "data": {
      "text/plain": [
       "<seaborn.axisgrid.FacetGrid at 0x2d6878fc2e8>"
      ]
     },
     "execution_count": 18,
     "metadata": {},
     "output_type": "execute_result"
    },
    {
     "data": {
      "image/png": "[encoded data removed]",
      "text/plain": [
       "<Figure size 360x360 with 1 Axes>"
      ]
     },
     "metadata": {
      "needs_background": "light"
     },
     "output_type": "display_data"
    }
   ],
   "source": [
    "# Regresión lineal simple \n",
    "g = sns.lmplot(data = plot_values, x = 'y_pred', y ='CONSUMO' ,  line_kws={'color': 'red'} , scatter_kws={\"s\": 10 , 'alpha':0.05})\n",
    "g.set(ylim=(0, 400))\n",
    "g.set(xlim=(90,200))"
   ]
  },
  {
   "cell_type": "code",
   "execution_count": null,
   "metadata": {},
   "outputs": [],
   "source": [
    " "
   ]
  },
  {
   "cell_type": "markdown",
   "metadata": {},
   "source": [
    "## Random Forest"
   ]
  },
  {
   "cell_type": "code",
   "execution_count": 105,
   "metadata": {},
   "outputs": [],
   "source": [
    "from sklearn.ensemble import RandomForestClassifier "
   ]
  },
  {
   "cell_type": "code",
   "execution_count": 108,
   "metadata": {},
   "outputs": [
    {
     "name": "stderr",
     "output_type": "stream",
     "text": [
      "C:\\Users\\cvargasa\\AppData\\Local\\conda\\conda\\envs\\cnn\\lib\\site-packages\\ipykernel_launcher.py:6: DataConversionWarning: A column-vector y was passed when a 1d array was expected. Please change the shape of y to (n_samples,), for example using ravel().\n",
      "  \n"
     ]
    },
    {
     "ename": "ValueError",
     "evalue": "Unknown label type: 'continuous'",
     "output_type": "error",
     "traceback": [
      "\u001b[1;31m---------------------------------------------------------------------------\u001b[0m",
      "\u001b[1;31mValueError\u001b[0m                                Traceback (most recent call last)",
      "\u001b[1;32m<ipython-input-108-38354d13a81e>\u001b[0m in \u001b[0;36m<module>\u001b[1;34m\u001b[0m\n\u001b[0;32m      4\u001b[0m \u001b[1;33m\u001b[0m\u001b[0m\n\u001b[0;32m      5\u001b[0m \u001b[1;33m\u001b[0m\u001b[0m\n\u001b[1;32m----> 6\u001b[1;33m \u001b[0mforest\u001b[0m\u001b[1;33m.\u001b[0m\u001b[0mfit\u001b[0m\u001b[1;33m(\u001b[0m\u001b[0mX_train\u001b[0m\u001b[1;33m,\u001b[0m \u001b[0my_train\u001b[0m\u001b[1;33m)\u001b[0m\u001b[1;33m\u001b[0m\u001b[0m\n\u001b[0m\u001b[0;32m      7\u001b[0m \u001b[1;33m\u001b[0m\u001b[0m\n\u001b[0;32m      8\u001b[0m \u001b[0mprint\u001b[0m\u001b[1;33m(\u001b[0m\u001b[1;34m'Accuracy on the training subset: {:.3f}'\u001b[0m\u001b[1;33m.\u001b[0m\u001b[0mformat\u001b[0m\u001b[1;33m(\u001b[0m\u001b[0mforest\u001b[0m\u001b[1;33m.\u001b[0m\u001b[0mscore\u001b[0m\u001b[1;33m(\u001b[0m\u001b[0mX_train\u001b[0m\u001b[1;33m,\u001b[0m \u001b[0my_train\u001b[0m\u001b[1;33m)\u001b[0m\u001b[1;33m)\u001b[0m\u001b[1;33m)\u001b[0m\u001b[1;33m\u001b[0m\u001b[0m\n",
      "\u001b[1;32m~\\AppData\\Local\\conda\\conda\\envs\\cnn\\lib\\site-packages\\sklearn\\ensemble\\forest.py\u001b[0m in \u001b[0;36mfit\u001b[1;34m(self, X, y, sample_weight)\u001b[0m\n\u001b[0;32m    270\u001b[0m         \u001b[0mself\u001b[0m\u001b[1;33m.\u001b[0m\u001b[0mn_outputs_\u001b[0m \u001b[1;33m=\u001b[0m \u001b[0my\u001b[0m\u001b[1;33m.\u001b[0m\u001b[0mshape\u001b[0m\u001b[1;33m[\u001b[0m\u001b[1;36m1\u001b[0m\u001b[1;33m]\u001b[0m\u001b[1;33m\u001b[0m\u001b[0m\n\u001b[0;32m    271\u001b[0m \u001b[1;33m\u001b[0m\u001b[0m\n\u001b[1;32m--> 272\u001b[1;33m         \u001b[0my\u001b[0m\u001b[1;33m,\u001b[0m \u001b[0mexpanded_class_weight\u001b[0m \u001b[1;33m=\u001b[0m \u001b[0mself\u001b[0m\u001b[1;33m.\u001b[0m\u001b[0m_validate_y_class_weight\u001b[0m\u001b[1;33m(\u001b[0m\u001b[0my\u001b[0m\u001b[1;33m)\u001b[0m\u001b[1;33m\u001b[0m\u001b[0m\n\u001b[0m\u001b[0;32m    273\u001b[0m \u001b[1;33m\u001b[0m\u001b[0m\n\u001b[0;32m    274\u001b[0m         \u001b[1;32mif\u001b[0m \u001b[0mgetattr\u001b[0m\u001b[1;33m(\u001b[0m\u001b[0my\u001b[0m\u001b[1;33m,\u001b[0m \u001b[1;34m\"dtype\"\u001b[0m\u001b[1;33m,\u001b[0m \u001b[1;32mNone\u001b[0m\u001b[1;33m)\u001b[0m \u001b[1;33m!=\u001b[0m \u001b[0mDOUBLE\u001b[0m \u001b[1;32mor\u001b[0m \u001b[1;32mnot\u001b[0m \u001b[0my\u001b[0m\u001b[1;33m.\u001b[0m\u001b[0mflags\u001b[0m\u001b[1;33m.\u001b[0m\u001b[0mcontiguous\u001b[0m\u001b[1;33m:\u001b[0m\u001b[1;33m\u001b[0m\u001b[0m\n",
      "\u001b[1;32m~\\AppData\\Local\\conda\\conda\\envs\\cnn\\lib\\site-packages\\sklearn\\ensemble\\forest.py\u001b[0m in \u001b[0;36m_validate_y_class_weight\u001b[1;34m(self, y)\u001b[0m\n\u001b[0;32m    467\u001b[0m \u001b[1;33m\u001b[0m\u001b[0m\n\u001b[0;32m    468\u001b[0m     \u001b[1;32mdef\u001b[0m \u001b[0m_validate_y_class_weight\u001b[0m\u001b[1;33m(\u001b[0m\u001b[0mself\u001b[0m\u001b[1;33m,\u001b[0m \u001b[0my\u001b[0m\u001b[1;33m)\u001b[0m\u001b[1;33m:\u001b[0m\u001b[1;33m\u001b[0m\u001b[0m\n\u001b[1;32m--> 469\u001b[1;33m         \u001b[0mcheck_classification_targets\u001b[0m\u001b[1;33m(\u001b[0m\u001b[0my\u001b[0m\u001b[1;33m)\u001b[0m\u001b[1;33m\u001b[0m\u001b[0m\n\u001b[0m\u001b[0;32m    470\u001b[0m \u001b[1;33m\u001b[0m\u001b[0m\n\u001b[0;32m    471\u001b[0m         \u001b[0my\u001b[0m \u001b[1;33m=\u001b[0m \u001b[0mnp\u001b[0m\u001b[1;33m.\u001b[0m\u001b[0mcopy\u001b[0m\u001b[1;33m(\u001b[0m\u001b[0my\u001b[0m\u001b[1;33m)\u001b[0m\u001b[1;33m\u001b[0m\u001b[0m\n",
      "\u001b[1;32m~\\AppData\\Local\\conda\\conda\\envs\\cnn\\lib\\site-packages\\sklearn\\utils\\multiclass.py\u001b[0m in \u001b[0;36mcheck_classification_targets\u001b[1;34m(y)\u001b[0m\n\u001b[0;32m    170\u001b[0m     if y_type not in ['binary', 'multiclass', 'multiclass-multioutput',\n\u001b[0;32m    171\u001b[0m                       'multilabel-indicator', 'multilabel-sequences']:\n\u001b[1;32m--> 172\u001b[1;33m         \u001b[1;32mraise\u001b[0m \u001b[0mValueError\u001b[0m\u001b[1;33m(\u001b[0m\u001b[1;34m\"Unknown label type: %r\"\u001b[0m \u001b[1;33m%\u001b[0m \u001b[0my_type\u001b[0m\u001b[1;33m)\u001b[0m\u001b[1;33m\u001b[0m\u001b[0m\n\u001b[0m\u001b[0;32m    173\u001b[0m \u001b[1;33m\u001b[0m\u001b[0m\n\u001b[0;32m    174\u001b[0m \u001b[1;33m\u001b[0m\u001b[0m\n",
      "\u001b[1;31mValueError\u001b[0m: Unknown label type: 'continuous'"
     ]
    }
   ],
   "source": [
    "forest = RandomForestClassifier(n_estimators=100, random_state=42 , max_depth = 3)\n",
    "# Instantiate model with 1000 decision trees\n",
    "#rf = RandomForestRegressor(n_estimators = 1000, random_state = 42)\n",
    "\n",
    "\n",
    "forest.fit(X_train, y_train)\n",
    "\n",
    "print('Accuracy on the training subset: {:.3f}'.format(forest.score(X_train, y_train)))\n",
    "print('Accuracy on the test subset: {:.3f}'.format(forest.score(X_test, y_test)))"
   ]
  },
  {
   "cell_type": "markdown",
   "metadata": {},
   "source": [
    "## KNN "
   ]
  },
  {
   "cell_type": "code",
   "execution_count": 27,
   "metadata": {},
   "outputs": [],
   "source": [
    "from sklearn.neighbors import KNeighborsClassifier"
   ]
  },
  {
   "cell_type": "code",
   "execution_count": 28,
   "metadata": {},
   "outputs": [
    {
     "data": {
      "text/plain": [
       "(278983, 51)"
      ]
     },
     "execution_count": 28,
     "metadata": {},
     "output_type": "execute_result"
    }
   ],
   "source": [
    "#50*\n",
    "\n",
    "X_train.shape"
   ]
  },
  {
   "cell_type": "code",
   "execution_count": 29,
   "metadata": {},
   "outputs": [
    {
     "data": {
      "text/plain": [
       "(278983, 51)"
      ]
     },
     "execution_count": 29,
     "metadata": {},
     "output_type": "execute_result"
    }
   ],
   "source": [
    "X_train.shape"
   ]
  },
  {
   "cell_type": "code",
   "execution_count": 30,
   "metadata": {},
   "outputs": [
    {
     "data": {
      "text/plain": [
       "(14684, 51)"
      ]
     },
     "execution_count": 30,
     "metadata": {},
     "output_type": "execute_result"
    }
   ],
   "source": [
    "X_test.shape"
   ]
  },
  {
   "cell_type": "code",
   "execution_count": null,
   "metadata": {},
   "outputs": [],
   "source": []
  },
  {
   "cell_type": "code",
   "execution_count": 34,
   "metadata": {},
   "outputs": [
    {
     "name": "stdout",
     "output_type": "stream",
     "text": [
      "[1170  533 2163 ... 3116 2553 1271]\n",
      "continuous\n",
      "multiclass\n",
      "multiclass\n"
     ]
    },
    {
     "name": "stderr",
     "output_type": "stream",
     "text": [
      "C:\\Users\\cvargasa\\AppData\\Local\\conda\\conda\\envs\\cnn\\lib\\site-packages\\sklearn\\preprocessing\\label.py:111: DataConversionWarning: A column-vector y was passed when a 1d array was expected. Please change the shape of y to (n_samples, ), for example using ravel().\n",
      "  y = column_or_1d(y, warn=True)\n"
     ]
    }
   ],
   "source": [
    "##Eliminiando el error de continous de la variable  y \n",
    "from sklearn import utils\n",
    "lab_enc = preprocessing.LabelEncoder()\n",
    "training_scores_encoded = lab_enc.fit_transform(y_train)\n",
    "print(training_scores_encoded)\n",
    "print(utils.multiclass.type_of_target(y_train))\n",
    "print(utils.multiclass.type_of_target(y_train.astype('int')))\n",
    "print(utils.multiclass.type_of_target(training_scores_encoded))"
   ]
  },
  {
   "cell_type": "code",
   "execution_count": 41,
   "metadata": {},
   "outputs": [
    {
     "data": {
      "text/plain": [
       "(293667, 52)"
      ]
     },
     "execution_count": 41,
     "metadata": {},
     "output_type": "execute_result"
    }
   ],
   "source": []
  },
  {
   "cell_type": "markdown",
   "metadata": {},
   "source": [
    "## Red"
   ]
  },
  {
   "cell_type": "code",
   "execution_count": 2,
   "metadata": {},
   "outputs": [
    {
     "name": "stderr",
     "output_type": "stream",
     "text": [
      "Using TensorFlow backend.\n"
     ]
    }
   ],
   "source": [
    "import pandas as pd\n",
    "import numpy as np\n",
    "import keras\n",
    "from keras.models import Sequential\n",
    "from keras.layers import Dense , Dropout , Activation , Flatten\n",
    "## or witn tensorflow\n",
    "from tensorflow.python.keras import optimizers\n",
    "# permite crear redes neuronales secuenciales \n",
    "#from tensorflow.python.keras.layers import Dropout, Flatten, Dense, Activation\n",
    "#from keras.layers import Flatten,  MaxPooling2D, Conv2D \n",
    "\n",
    "from keras.callbacks import TensorBoard\n",
    "#https://mc.ai/introduccion-a-las-redes-neuronales-con-python-utilizando-keras/"
   ]
  },
  {
   "cell_type": "code",
   "execution_count": 3,
   "metadata": {},
   "outputs": [],
   "source": [
    "file = \"hot_data.csv\" \n",
    "df = pd.read_csv(file , sep=';' ,  encoding='utf-8' , decimal='.') #decimal para leer las comas"
   ]
  },
  {
   "cell_type": "code",
   "execution_count": 4,
   "metadata": {},
   "outputs": [],
   "source": [
    "#df.info()\n",
    "array = df.values\n",
    "array.shape \n",
    "X = array[:,0:51] \n",
    "Y = array[:,51]"
   ]
  },
  {
   "cell_type": "code",
   "execution_count": 11,
   "metadata": {},
   "outputs": [],
   "source": [
    "model = Sequential()\n",
    "model.add(Dense(51, input_dim=51,   activation='relu'))\n",
    "model.add(Dense(64,   activation='relu'))\n",
    "#model.add(Dense(4,   activation='relu')) #74%\n",
    "model.add(Dense(1,  activation='relu'))"
   ]
  },
  {
   "cell_type": "code",
   "execution_count": 12,
   "metadata": {},
   "outputs": [],
   "source": [
    "# learning rate ,menor es mejor\n",
    "lr = 0.0004"
   ]
  },
  {
   "cell_type": "code",
   "execution_count": 17,
   "metadata": {},
   "outputs": [],
   "source": [
    "#model.compile(loss='binary_crossentropy', optimizer=optimizers.Adam(lr=lr), metrics=['accuracy']) ##70~74\n",
    "model.compile(loss='mean_squared_error', optimizer=\"adam\", metrics=['accuracy']) # 80"
   ]
  },
  {
   "cell_type": "code",
   "execution_count": 18,
   "metadata": {},
   "outputs": [],
   "source": [
    "#tensor_board = TensorBoard('C:/Users/cvargasa/Documents/IMG/BIG DATA/CURSOS/Jupyter-Notebook/Modelos/Consumo/logs/consumo')\n",
    "tensor_board = TensorBoard('./logs/consumo')"
   ]
  },
  {
   "cell_type": "code",
   "execution_count": 19,
   "metadata": {},
   "outputs": [
    {
     "data": {
      "text/plain": [
       "'./logs/consumo'"
      ]
     },
     "execution_count": 19,
     "metadata": {},
     "output_type": "execute_result"
    }
   ],
   "source": [
    "tensor_board.log_dir"
   ]
  },
  {
   "cell_type": "code",
   "execution_count": 20,
   "metadata": {},
   "outputs": [
    {
     "name": "stdout",
     "output_type": "stream",
     "text": [
      "Epoch 1/500\n",
      "293667/293667 [==============================] - 11s 37us/step - loss: 14247148.1927 - acc: 3.2009e-04\n",
      "Epoch 2/500\n",
      "293667/293667 [==============================] - 11s 36us/step - loss: 12514469.8184 - acc: 4.4949e-04\n",
      "Epoch 3/500\n",
      "293667/293667 [==============================] - 11s 36us/step - loss: 11334301.1373 - acc: 3.8479e-04\n",
      "Epoch 4/500\n",
      "293667/293667 [==============================] - 11s 37us/step - loss: 10214339.9795 - acc: 3.8138e-04\n",
      "Epoch 5/500\n",
      "293667/293667 [==============================] - 11s 37us/step - loss: 9218677.6322 - acc: 4.0863e-04\n",
      "Epoch 6/500\n",
      "293667/293667 [==============================] - 11s 36us/step - loss: 8225875.2312 - acc: 1.7367e-04\n",
      "Epoch 7/500\n",
      "293667/293667 [==============================] - 11s 37us/step - loss: 6918602.2027 - acc: 2.7242e-05\n",
      "Epoch 8/500\n",
      "293667/293667 [==============================] - 11s 37us/step - loss: 5877767.2142 - acc: 0.0000e+00\n",
      "Epoch 9/500\n",
      "293667/293667 [==============================] - 11s 38us/step - loss: 4812590.4189 - acc: 0.0000e+00\n",
      "Epoch 10/500\n",
      "293667/293667 [==============================] - 11s 38us/step - loss: 4062851.4516 - acc: 0.0000e+00\n",
      "Epoch 11/500\n",
      "293667/293667 [==============================] - 11s 37us/step - loss: 3578080.8156 - acc: 0.0000e+00\n",
      "Epoch 12/500\n",
      "293667/293667 [==============================] - 11s 36us/step - loss: 3240564.4000 - acc: 0.0000e+00\n",
      "Epoch 13/500\n",
      "293667/293667 [==============================] - 11s 37us/step - loss: 3120919.9074 - acc: 0.0000e+00\n",
      "Epoch 14/500\n",
      "293667/293667 [==============================] - 11s 37us/step - loss: 2997119.8929 - acc: 3.4052e-06\n",
      "Epoch 15/500\n",
      "293667/293667 [==============================] - 11s 37us/step - loss: 2923897.7229 - acc: 0.0000e+00\n",
      "Epoch 16/500\n",
      "293667/293667 [==============================] - 11s 37us/step - loss: 2850690.5392 - acc: 0.0000e+00\n",
      "Epoch 17/500\n",
      "293667/293667 [==============================] - 11s 37us/step - loss: 2887596.7501 - acc: 0.0000e+00\n",
      "Epoch 18/500\n",
      "293667/293667 [==============================] - 11s 37us/step - loss: 2839377.9938 - acc: 0.0000e+00\n",
      "Epoch 19/500\n",
      "293667/293667 [==============================] - 11s 37us/step - loss: 2822349.6651 - acc: 0.0000e+00\n",
      "Epoch 20/500\n",
      "293667/293667 [==============================] - 11s 37us/step - loss: 2830196.4673 - acc: 0.0000e+00\n",
      "Epoch 21/500\n",
      "293667/293667 [==============================] - 11s 37us/step - loss: 2782165.0946 - acc: 0.0000e+00\n",
      "Epoch 22/500\n",
      "293667/293667 [==============================] - 11s 37us/step - loss: 2745308.9246 - acc: 0.0000e+00\n",
      "Epoch 23/500\n",
      "293667/293667 [==============================] - 11s 37us/step - loss: 2780933.0216 - acc: 3.4052e-06\n",
      "Epoch 24/500\n",
      "293667/293667 [==============================] - 11s 38us/step - loss: 2785721.3709 - acc: 0.0000e+00\n",
      "Epoch 25/500\n",
      "293667/293667 [==============================] - 11s 37us/step - loss: 2764491.5207 - acc: 0.0000e+00\n",
      "Epoch 26/500\n",
      "293667/293667 [==============================] - 11s 37us/step - loss: 2771164.6610 - acc: 3.4052e-06\n",
      "Epoch 27/500\n",
      "293667/293667 [==============================] - 11s 38us/step - loss: 2813082.3149 - acc: 3.4052e-06\n",
      "Epoch 28/500\n",
      "293667/293667 [==============================] - 11s 38us/step - loss: 2765359.1101 - acc: 1.7026e-05\n",
      "Epoch 29/500\n",
      "293667/293667 [==============================] - 11s 38us/step - loss: 2826820.8300 - acc: 0.0000e+00\n",
      "Epoch 30/500\n",
      "293667/293667 [==============================] - 11s 38us/step - loss: 2772822.8962 - acc: 3.4052e-06\n",
      "Epoch 31/500\n",
      "293667/293667 [==============================] - 11s 37us/step - loss: 2788647.7639 - acc: 6.8104e-06\n",
      "Epoch 32/500\n",
      "293667/293667 [==============================] - 11s 37us/step - loss: 2761005.8988 - acc: 0.0000e+00\n",
      "Epoch 33/500\n",
      "293667/293667 [==============================] - 11s 37us/step - loss: 2755289.4545 - acc: 0.0000e+00\n",
      "Epoch 34/500\n",
      "293667/293667 [==============================] - 11s 37us/step - loss: 2781759.7882 - acc: 1.7026e-05\n",
      "Epoch 35/500\n",
      "293667/293667 [==============================] - 11s 38us/step - loss: 2701417.9786 - acc: 0.0000e+00\n",
      "Epoch 36/500\n",
      "293667/293667 [==============================] - 11s 37us/step - loss: 2764073.3157 - acc: 0.0000e+00\n",
      "Epoch 37/500\n",
      "293667/293667 [==============================] - 11s 38us/step - loss: 2750352.3463 - acc: 3.4052e-06\n",
      "Epoch 38/500\n",
      "293667/293667 [==============================] - 11s 38us/step - loss: 2774190.2933 - acc: 1.0216e-05\n",
      "Epoch 39/500\n",
      "293667/293667 [==============================] - 11s 37us/step - loss: 2711822.0314 - acc: 1.0216e-05\n",
      "Epoch 40/500\n",
      "293667/293667 [==============================] - 11s 38us/step - loss: 2733776.4971 - acc: 1.0216e-05\n",
      "Epoch 41/500\n",
      "293667/293667 [==============================] - 11s 38us/step - loss: 2651378.8655 - acc: 6.8104e-06\n",
      "Epoch 42/500\n",
      "293667/293667 [==============================] - 11s 38us/step - loss: 2782400.6292 - acc: 0.0000e+00\n",
      "Epoch 43/500\n",
      "293667/293667 [==============================] - 11s 38us/step - loss: 2665994.5908 - acc: 1.0216e-05\n",
      "Epoch 44/500\n",
      "293667/293667 [==============================] - 11s 38us/step - loss: 2706301.2563 - acc: 6.8104e-06\n",
      "Epoch 45/500\n",
      "293667/293667 [==============================] - 11s 38us/step - loss: 2735870.3698 - acc: 6.8104e-06\n",
      "Epoch 46/500\n",
      "293667/293667 [==============================] - 12s 41us/step - loss: 2757280.7922 - acc: 0.0000e+00\n",
      "Epoch 47/500\n",
      "293667/293667 [==============================] - 12s 40us/step - loss: 2701838.4676 - acc: 1.0216e-05\n",
      "Epoch 48/500\n",
      "293667/293667 [==============================] - 12s 39us/step - loss: 2735156.2562 - acc: 3.4052e-06\n",
      "Epoch 49/500\n",
      "293667/293667 [==============================] - 12s 39us/step - loss: 2772792.8352 - acc: 0.0000e+00\n",
      "Epoch 50/500\n",
      "293667/293667 [==============================] - 11s 38us/step - loss: 2764095.3228 - acc: 1.7026e-05\n",
      "Epoch 51/500\n",
      "293667/293667 [==============================] - 12s 41us/step - loss: 2728750.8639 - acc: 3.4052e-06\n",
      "Epoch 52/500\n",
      "293667/293667 [==============================] - 12s 41us/step - loss: 2735898.1106 - acc: 6.8104e-06\n",
      "Epoch 53/500\n",
      "293667/293667 [==============================] - 13s 45us/step - loss: 2743177.6460 - acc: 1.0216e-05\n",
      "Epoch 54/500\n",
      "293667/293667 [==============================] - 12s 39us/step - loss: 2743960.9598 - acc: 1.0216e-05\n",
      "Epoch 55/500\n",
      "293667/293667 [==============================] - 14s 49us/step - loss: 2771844.0544 - acc: 6.8104e-06\n",
      "Epoch 56/500\n",
      "293667/293667 [==============================] - 13s 45us/step - loss: 2754077.6208 - acc: 2.3837e-05\n",
      "Epoch 57/500\n",
      "293667/293667 [==============================] - 14s 46us/step - loss: 2712797.5889 - acc: 2.0431e-05\n",
      "Epoch 58/500\n",
      "293667/293667 [==============================] - 11s 37us/step - loss: 2676781.6719 - acc: 4.4268e-05\n",
      "Epoch 59/500\n",
      "293667/293667 [==============================] - 10s 34us/step - loss: 2771004.7325 - acc: 1.0216e-05\n",
      "Epoch 60/500\n",
      "293667/293667 [==============================] - 10s 35us/step - loss: 2754808.2980 - acc: 2.0431e-05\n",
      "Epoch 61/500\n",
      "293667/293667 [==============================] - 10s 34us/step - loss: 2712677.5060 - acc: 1.7026e-05\n",
      "Epoch 62/500\n",
      "293667/293667 [==============================] - 10s 34us/step - loss: 2702755.6698 - acc: 1.3621e-05\n",
      "Epoch 63/500\n",
      "293667/293667 [==============================] - 10s 34us/step - loss: 2718460.5288 - acc: 6.8104e-06\n",
      "Epoch 64/500\n",
      "293667/293667 [==============================] - 10s 35us/step - loss: 2753613.2986 - acc: 1.0216e-05\n",
      "Epoch 65/500\n",
      "293667/293667 [==============================] - 10s 35us/step - loss: 2729435.6619 - acc: 3.0647e-05\n",
      "Epoch 66/500\n",
      "293667/293667 [==============================] - 10s 35us/step - loss: 2719034.1491 - acc: 6.8104e-06\n",
      "Epoch 67/500\n",
      "293667/293667 [==============================] - 10s 35us/step - loss: 2755928.9798 - acc: 3.4052e-06\n",
      "Epoch 68/500\n",
      "293667/293667 [==============================] - 10s 35us/step - loss: 2736394.0582 - acc: 1.3621e-05\n",
      "Epoch 69/500\n",
      "293667/293667 [==============================] - 10s 35us/step - loss: 2720754.5732 - acc: 1.3621e-05\n",
      "Epoch 70/500\n",
      "293667/293667 [==============================] - 11s 37us/step - loss: 2692401.1462 - acc: 0.0000e+00\n",
      "Epoch 71/500\n",
      "293667/293667 [==============================] - 11s 36us/step - loss: 2719255.6237 - acc: 1.0216e-05\n",
      "Epoch 72/500\n",
      "293667/293667 [==============================] - 10s 36us/step - loss: 2737239.5670 - acc: 1.7026e-05 0s - loss: 2757614.9193 - acc: 1.74\n",
      "Epoch 73/500\n",
      "293667/293667 [==============================] - 10s 35us/step - loss: 2716878.6815 - acc: 2.0431e-05\n",
      "Epoch 74/500\n",
      "293667/293667 [==============================] - 10s 35us/step - loss: 2699898.6930 - acc: 1.3621e-05\n",
      "Epoch 75/500\n",
      "293667/293667 [==============================] - 10s 36us/step - loss: 2747929.1990 - acc: 2.3837e-05\n",
      "Epoch 76/500\n",
      "293667/293667 [==============================] - 10s 34us/step - loss: 2763047.9912 - acc: 0.0000e+00\n",
      "Epoch 77/500\n",
      "293667/293667 [==============================] - 10s 34us/step - loss: 2726933.1943 - acc: 3.7457e-05\n",
      "Epoch 78/500\n",
      "293667/293667 [==============================] - 10s 34us/step - loss: 2699389.4118 - acc: 3.0647e-05\n",
      "Epoch 79/500\n",
      "293667/293667 [==============================] - 10s 34us/step - loss: 2705008.7682 - acc: 4.0863e-05\n",
      "Epoch 80/500\n",
      "293667/293667 [==============================] - 10s 34us/step - loss: 2651700.6693 - acc: 7.4915e-05\n",
      "Epoch 81/500\n",
      "293667/293667 [==============================] - 10s 34us/step - loss: 2698573.9419 - acc: 6.4699e-05\n",
      "Epoch 82/500\n",
      "293667/293667 [==============================] - 10s 35us/step - loss: 2623510.0620 - acc: 3.0647e-05\n",
      "Epoch 83/500\n",
      "293667/293667 [==============================] - 10s 34us/step - loss: 2727800.5753 - acc: 3.4052e-05\n",
      "Epoch 84/500\n",
      "293667/293667 [==============================] - 10s 35us/step - loss: 2718508.6314 - acc: 5.4483e-05\n",
      "Epoch 85/500\n",
      "293667/293667 [==============================] - 10s 34us/step - loss: 2675441.4311 - acc: 3.7457e-05\n",
      "Epoch 86/500\n",
      "293667/293667 [==============================] - 10s 34us/step - loss: 2674532.4843 - acc: 5.4483e-05\n",
      "Epoch 87/500\n",
      "293667/293667 [==============================] - 10s 35us/step - loss: 2711084.5588 - acc: 7.1510e-05\n",
      "Epoch 88/500\n",
      "293667/293667 [==============================] - 12s 40us/step - loss: 2711951.8842 - acc: 7.8320e-05\n",
      "Epoch 89/500\n",
      "293667/293667 [==============================] - 11s 38us/step - loss: 2656457.2205 - acc: 8.1725e-05\n",
      "Epoch 90/500\n",
      "293667/293667 [==============================] - 12s 39us/step - loss: 2738426.6095 - acc: 1.6686e-04\n",
      "Epoch 91/500\n",
      "293667/293667 [==============================] - 10s 35us/step - loss: 2698276.5370 - acc: 2.6901e-04\n",
      "Epoch 92/500\n",
      "293667/293667 [==============================] - 10s 36us/step - loss: 2723716.9473 - acc: 3.0647e-04\n",
      "Epoch 93/500\n",
      "293667/293667 [==============================] - 10s 35us/step - loss: 2646888.8981 - acc: 3.4733e-04\n",
      "Epoch 94/500\n",
      "293667/293667 [==============================] - 10s 34us/step - loss: 2701759.6893 - acc: 3.5755e-04\n",
      "Epoch 95/500\n",
      "293667/293667 [==============================] - 10s 34us/step - loss: 2678510.2375 - acc: 3.2690e-04\n",
      "Epoch 96/500\n",
      "293667/293667 [==============================] - 10s 34us/step - loss: 2649477.0141 - acc: 3.4052e-04\n",
      "Epoch 97/500\n",
      "293667/293667 [==============================] - 10s 34us/step - loss: 2711779.3535 - acc: 3.9160e-04\n",
      "Epoch 98/500\n",
      "293667/293667 [==============================] - 10s 34us/step - loss: 2652019.5309 - acc: 4.1884e-04\n",
      "Epoch 99/500\n",
      "293667/293667 [==============================] - 10s 35us/step - loss: 2642439.2956 - acc: 3.8819e-04\n",
      "Epoch 100/500\n",
      "293667/293667 [==============================] - 10s 34us/step - loss: 2694716.7689 - acc: 3.7457e-04\n",
      "Epoch 101/500\n",
      "293667/293667 [==============================] - 10s 35us/step - loss: 2703938.5305 - acc: 3.6436e-04\n",
      "Epoch 102/500\n",
      "293667/293667 [==============================] - 10s 34us/step - loss: 2672894.0640 - acc: 3.9841e-04\n",
      "Epoch 103/500\n",
      "293667/293667 [==============================] - 10s 35us/step - loss: 2635925.9228 - acc: 3.6095e-04\n",
      "Epoch 104/500\n",
      "293667/293667 [==============================] - 10s 34us/step - loss: 2699484.9180 - acc: 3.7457e-04\n",
      "Epoch 105/500\n",
      "293667/293667 [==============================] - 10s 35us/step - loss: 2650446.8512 - acc: 4.5970e-04\n",
      "Epoch 106/500\n",
      "293667/293667 [==============================] - 10s 35us/step - loss: 2589853.2927 - acc: 3.7457e-04\n",
      "Epoch 107/500\n",
      "293667/293667 [==============================] - 10s 34us/step - loss: 2672419.5777 - acc: 3.9160e-04 3s - loss: 2757777.4147 - acc: 4. - ETA: 0s - loss: 2641378.2796 - acc: 4\n",
      "Epoch 108/500\n",
      "293667/293667 [==============================] - 10s 34us/step - loss: 2687111.6332 - acc: 3.8479e-04\n",
      "Epoch 109/500\n",
      "293667/293667 [==============================] - 10s 35us/step - loss: 2703135.6376 - acc: 3.9160e-04\n",
      "Epoch 110/500\n",
      "293667/293667 [==============================] - 12s 40us/step - loss: 2696543.8863 - acc: 3.8819e-04\n",
      "Epoch 111/500\n",
      "293667/293667 [==============================] - 10s 35us/step - loss: 2682518.4558 - acc: 4.0522e-04\n",
      "Epoch 112/500\n",
      "293667/293667 [==============================] - 10s 34us/step - loss: 2675013.7148 - acc: 4.1544e-04\n",
      "Epoch 113/500\n",
      "293667/293667 [==============================] - 10s 35us/step - loss: 2654158.1035 - acc: 4.6992e-04\n",
      "Epoch 114/500\n",
      "293667/293667 [==============================] - 10s 35us/step - loss: 2662017.6757 - acc: 4.1544e-04\n",
      "Epoch 115/500\n",
      "293667/293667 [==============================] - 10s 35us/step - loss: 2696193.6433 - acc: 3.6095e-04 3s - loss: 2458692.95 - ET\n",
      "Epoch 116/500\n",
      "293667/293667 [==============================] - 10s 34us/step - loss: 2668989.6369 - acc: 4.2565e-04\n",
      "Epoch 117/500\n",
      "293667/293667 [==============================] - 10s 34us/step - loss: 2643675.7789 - acc: 4.1884e-04\n",
      "Epoch 118/500\n",
      "293667/293667 [==============================] - 10s 34us/step - loss: 2677080.5287 - acc: 4.4268e-04\n",
      "Epoch 119/500\n",
      "293667/293667 [==============================] - 10s 34us/step - loss: 2670413.2474 - acc: 4.4608e-04\n",
      "Epoch 120/500\n",
      "293667/293667 [==============================] - 10s 35us/step - loss: 2696617.3709 - acc: 4.0182e-04\n",
      "Epoch 121/500\n",
      "293667/293667 [==============================] - 11s 36us/step - loss: 2675649.2689 - acc: 4.2906e-04\n",
      "Epoch 122/500\n",
      "293667/293667 [==============================] - 10s 34us/step - loss: 2636178.3093 - acc: 4.3927e-04\n",
      "Epoch 123/500\n",
      "293667/293667 [==============================] - 10s 35us/step - loss: 2656244.7441 - acc: 4.0182e-04\n",
      "Epoch 124/500\n",
      "293667/293667 [==============================] - 10s 34us/step - loss: 2609552.2585 - acc: 4.5289e-04\n",
      "Epoch 125/500\n",
      "293667/293667 [==============================] - 10s 34us/step - loss: 2701538.2563 - acc: 4.2906e-04\n",
      "Epoch 126/500\n",
      "293667/293667 [==============================] - 10s 35us/step - loss: 2655664.0207 - acc: 4.2906e-04\n",
      "Epoch 127/500\n",
      "293667/293667 [==============================] - 10s 34us/step - loss: 2673612.9704 - acc: 3.7457e-04\n",
      "Epoch 128/500\n",
      "293667/293667 [==============================] - 10s 34us/step - loss: 2660570.6828 - acc: 4.2565e-04\n",
      "Epoch 129/500\n",
      "293667/293667 [==============================] - 10s 35us/step - loss: 2663868.7816 - acc: 3.0987e-04\n",
      "Epoch 130/500\n",
      "293667/293667 [==============================] - 10s 35us/step - loss: 2701729.1264 - acc: 4.1544e-04\n",
      "Epoch 131/500\n",
      "293667/293667 [==============================] - 10s 34us/step - loss: 2685764.0923 - acc: 3.8479e-04\n",
      "Epoch 132/500\n",
      "293667/293667 [==============================] - 10s 34us/step - loss: 2638962.1948 - acc: 4.2906e-04\n",
      "Epoch 133/500\n",
      "293667/293667 [==============================] - 10s 34us/step - loss: 2681010.3007 - acc: 4.2225e-04\n",
      "Epoch 134/500\n",
      "293667/293667 [==============================] - 10s 34us/step - loss: 2660321.9936 - acc: 4.5970e-04\n",
      "Epoch 135/500\n",
      "293667/293667 [==============================] - 10s 35us/step - loss: 2647115.0207 - acc: 3.3712e-04\n",
      "Epoch 136/500\n",
      "293667/293667 [==============================] - 10s 35us/step - loss: 2637963.9125 - acc: 4.3927e-04\n",
      "Epoch 137/500\n",
      "293667/293667 [==============================] - 10s 34us/step - loss: 2628236.7232 - acc: 4.1544e-04\n",
      "Epoch 138/500\n",
      "293667/293667 [==============================] - 10s 35us/step - loss: 2665520.2654 - acc: 4.0863e-04\n",
      "Epoch 139/500\n",
      "293667/293667 [==============================] - 10s 34us/step - loss: 2572163.9049 - acc: 4.4949e-04\n",
      "Epoch 140/500\n",
      "293667/293667 [==============================] - 11s 36us/step - loss: 2644863.1340 - acc: 4.2906e-04\n",
      "Epoch 141/500\n"
     ]
    },
    {
     "name": "stdout",
     "output_type": "stream",
     "text": [
      "293667/293667 [==============================] - 10s 35us/step - loss: 2664064.4543 - acc: 4.3927e-04\n",
      "Epoch 142/500\n",
      "293667/293667 [==============================] - 10s 35us/step - loss: 2633587.0997 - acc: 3.9160e-04 0s - loss: 2717892.3359 - ac\n",
      "Epoch 143/500\n",
      "293667/293667 [==============================] - 10s 35us/step - loss: 2596683.5286 - acc: 4.6651e-04\n",
      "Epoch 144/500\n",
      "293667/293667 [==============================] - 10s 36us/step - loss: 2641282.5830 - acc: 4.0863e-04\n",
      "Epoch 145/500\n",
      "293667/293667 [==============================] - 10s 35us/step - loss: 2662925.3035 - acc: 3.5414e-04\n",
      "Epoch 146/500\n",
      "293667/293667 [==============================] - 10s 35us/step - loss: 2632760.3258 - acc: 4.0863e-04\n",
      "Epoch 147/500\n",
      "293667/293667 [==============================] - 11s 36us/step - loss: 2660510.6961 - acc: 4.3246e-04\n",
      "Epoch 148/500\n",
      "293667/293667 [==============================] - 11s 36us/step - loss: 2633827.8389 - acc: 4.5289e-04 5s\n",
      "Epoch 149/500\n",
      "293667/293667 [==============================] - 10s 35us/step - loss: 2633506.6005 - acc: 4.5289e-04 2s\n",
      "Epoch 150/500\n",
      "293667/293667 [==============================] - 10s 35us/step - loss: 2657647.2287 - acc: 3.9501e-04\n",
      "Epoch 151/500\n",
      "293667/293667 [==============================] - 11s 36us/step - loss: 2649560.0464 - acc: 3.6095e-04\n",
      "Epoch 152/500\n",
      "293667/293667 [==============================] - 10s 35us/step - loss: 2645642.1533 - acc: 4.3927e-04\n",
      "Epoch 153/500\n",
      "293667/293667 [==============================] - 10s 35us/step - loss: 2643133.2963 - acc: 4.0522e-04\n",
      "Epoch 154/500\n",
      "293667/293667 [==============================] - 10s 34us/step - loss: 2643210.4745 - acc: 3.9501e-04\n",
      "Epoch 155/500\n",
      "293667/293667 [==============================] - 10s 34us/step - loss: 2650657.9981 - acc: 4.2906e-04\n",
      "Epoch 156/500\n",
      "293667/293667 [==============================] - 11s 38us/step - loss: 2633328.8374 - acc: 4.1884e-04\n",
      "Epoch 157/500\n",
      "293667/293667 [==============================] - 11s 36us/step - loss: 2666445.7431 - acc: 3.7457e-04\n",
      "Epoch 158/500\n",
      "293667/293667 [==============================] - 10s 36us/step - loss: 2627005.8698 - acc: 4.9716e-04\n",
      "Epoch 159/500\n",
      "293667/293667 [==============================] - 11s 36us/step - loss: 2553583.3429 - acc: 4.3927e-04\n",
      "Epoch 160/500\n",
      "293667/293667 [==============================] - 11s 36us/step - loss: 2603794.3704 - acc: 3.8479e-04\n",
      "Epoch 161/500\n",
      "293667/293667 [==============================] - 11s 36us/step - loss: 2657303.8078 - acc: 3.8819e-04\n",
      "Epoch 162/500\n",
      "293667/293667 [==============================] - 11s 37us/step - loss: 2608148.8888 - acc: 4.4949e-04\n",
      "Epoch 163/500\n",
      "293667/293667 [==============================] - 11s 36us/step - loss: 2645089.9081 - acc: 3.5074e-04\n",
      "Epoch 164/500\n",
      "293667/293667 [==============================] - 11s 36us/step - loss: 2620953.4139 - acc: 3.9841e-04\n",
      "Epoch 165/500\n",
      "293667/293667 [==============================] - 11s 36us/step - loss: 2657159.5914 - acc: 3.7117e-04\n",
      "Epoch 166/500\n",
      "293667/293667 [==============================] - 10s 36us/step - loss: 2641972.8159 - acc: 3.1669e-04\n",
      "Epoch 167/500\n",
      "293667/293667 [==============================] - 11s 36us/step - loss: 2636595.9579 - acc: 3.8819e-04\n",
      "Epoch 168/500\n",
      "293667/293667 [==============================] - 11s 36us/step - loss: 2669261.7973 - acc: 4.3927e-04\n",
      "Epoch 169/500\n",
      "293667/293667 [==============================] - 11s 36us/step - loss: 2641292.8887 - acc: 4.1203e-04\n",
      "Epoch 170/500\n",
      "293667/293667 [==============================] - 11s 36us/step - loss: 2654729.3884 - acc: 4.3927e-04\n",
      "Epoch 171/500\n",
      "293667/293667 [==============================] - 11s 36us/step - loss: 2617460.0933 - acc: 3.9160e-04\n",
      "Epoch 172/500\n",
      "293667/293667 [==============================] - 10s 36us/step - loss: 2649140.6471 - acc: 4.1884e-04\n",
      "Epoch 173/500\n",
      "293667/293667 [==============================] - 11s 36us/step - loss: 2631347.8645 - acc: 4.3587e-04\n",
      "Epoch 174/500\n",
      "293667/293667 [==============================] - 11s 36us/step - loss: 2620166.1053 - acc: 4.2565e-04\n",
      "Epoch 175/500\n",
      "293667/293667 [==============================] - 11s 36us/step - loss: 2653526.3541 - acc: 3.9160e-04\n",
      "Epoch 176/500\n",
      "293667/293667 [==============================] - 11s 36us/step - loss: 2579585.7142 - acc: 4.6992e-04\n",
      "Epoch 177/500\n",
      "293667/293667 [==============================] - 10s 36us/step - loss: 2610735.1055 - acc: 4.2906e-04\n",
      "Epoch 178/500\n",
      "293667/293667 [==============================] - 12s 41us/step - loss: 2628183.3747 - acc: 4.1544e-04\n",
      "Epoch 179/500\n",
      "293667/293667 [==============================] - 10s 35us/step - loss: 2580696.5031 - acc: 4.1203e-04\n",
      "Epoch 180/500\n",
      "293667/293667 [==============================] - 11s 38us/step - loss: 2639899.3618 - acc: 4.3587e-04\n",
      "Epoch 181/500\n",
      "293667/293667 [==============================] - 10s 35us/step - loss: 2605836.5155 - acc: 4.2906e-04\n",
      "Epoch 182/500\n",
      "293667/293667 [==============================] - 10s 35us/step - loss: 2636326.8524 - acc: 3.7457e-04\n",
      "Epoch 183/500\n",
      "293667/293667 [==============================] - 10s 34us/step - loss: 2626782.4689 - acc: 4.0182e-04\n",
      "Epoch 184/500\n",
      "293667/293667 [==============================] - 10s 35us/step - loss: 2628014.7916 - acc: 3.5414e-04 1s - loss: 2354\n",
      "Epoch 185/500\n",
      "293667/293667 [==============================] - 10s 35us/step - loss: 2614727.9321 - acc: 4.4949e-04\n",
      "Epoch 186/500\n",
      "293667/293667 [==============================] - 10s 35us/step - loss: 2626908.9709 - acc: 4.1884e-04\n",
      "Epoch 187/500\n",
      "293667/293667 [==============================] - 10s 34us/step - loss: 2634588.1264 - acc: 4.2906e-04\n",
      "Epoch 188/500\n",
      "293667/293667 [==============================] - 10s 35us/step - loss: 2652386.7930 - acc: 3.1669e-04\n",
      "Epoch 189/500\n",
      "293667/293667 [==============================] - 10s 34us/step - loss: 2611052.1356 - acc: 4.1884e-04\n",
      "Epoch 190/500\n",
      "293667/293667 [==============================] - 10s 35us/step - loss: 2650698.1250 - acc: 4.3587e-04\n",
      "Epoch 191/500\n",
      "293667/293667 [==============================] - 10s 36us/step - loss: 2628553.4383 - acc: 4.1203e-04\n",
      "Epoch 192/500\n",
      "293667/293667 [==============================] - 10s 35us/step - loss: 2644014.3361 - acc: 3.3031e-04\n",
      "Epoch 193/500\n",
      "293667/293667 [==============================] - 10s 35us/step - loss: 2618841.3132 - acc: 4.3246e-04\n",
      "Epoch 194/500\n",
      "293667/293667 [==============================] - 10s 35us/step - loss: 2635803.2786 - acc: 4.0182e-04\n",
      "Epoch 195/500\n",
      "293667/293667 [==============================] - 10s 35us/step - loss: 2632598.7001 - acc: 4.7673e-04\n",
      "Epoch 196/500\n",
      "293667/293667 [==============================] - 10s 35us/step - loss: 2647727.5560 - acc: 3.9160e-04\n",
      "Epoch 197/500\n",
      "293667/293667 [==============================] - 10s 35us/step - loss: 2633723.1648 - acc: 3.8138e-04\n",
      "Epoch 198/500\n",
      "293667/293667 [==============================] - 10s 34us/step - loss: 2651483.9858 - acc: 4.1203e-04 1s - loss: 2510\n",
      "Epoch 199/500\n",
      "293667/293667 [==============================] - 10s 35us/step - loss: 2616424.6215 - acc: 4.3246e-04\n",
      "Epoch 200/500\n",
      "293667/293667 [==============================] - 10s 35us/step - loss: 2630015.2171 - acc: 4.5970e-04\n",
      "Epoch 201/500\n",
      "293667/293667 [==============================] - 11s 36us/step - loss: 2649787.3534 - acc: 4.6311e-04\n",
      "Epoch 202/500\n",
      "293667/293667 [==============================] - 11s 38us/step - loss: 2634274.5092 - acc: 4.5630e-04\n",
      "Epoch 203/500\n",
      "293667/293667 [==============================] - 10s 35us/step - loss: 2593601.8399 - acc: 3.6436e-04\n",
      "Epoch 204/500\n",
      "293667/293667 [==============================] - 10s 34us/step - loss: 2642700.8304 - acc: 4.0863e-04\n",
      "Epoch 205/500\n",
      "293667/293667 [==============================] - 10s 34us/step - loss: 2632842.7219 - acc: 4.1544e-04\n",
      "Epoch 206/500\n",
      "293667/293667 [==============================] - 10s 34us/step - loss: 2618959.8909 - acc: 4.4268e-04\n",
      "Epoch 207/500\n",
      "293667/293667 [==============================] - 10s 34us/step - loss: 2608849.0478 - acc: 4.1884e-04\n",
      "Epoch 208/500\n",
      "293667/293667 [==============================] - 10s 35us/step - loss: 2545564.8111 - acc: 3.8819e-04\n",
      "Epoch 209/500\n",
      "293667/293667 [==============================] - 10s 35us/step - loss: 2635170.4940 - acc: 4.2906e-04\n",
      "Epoch 210/500\n",
      "293667/293667 [==============================] - 10s 35us/step - loss: 2632332.7684 - acc: 3.9501e-04\n",
      "Epoch 211/500\n",
      "293667/293667 [==============================] - 10s 35us/step - loss: 2627199.1456 - acc: 4.0182e-04\n",
      "Epoch 212/500\n",
      "293667/293667 [==============================] - 10s 35us/step - loss: 2651127.4677 - acc: 4.5630e-04\n",
      "Epoch 213/500\n",
      "293667/293667 [==============================] - 10s 35us/step - loss: 2622621.2263 - acc: 4.2906e-04\n",
      "Epoch 214/500\n",
      "293667/293667 [==============================] - 10s 35us/step - loss: 2622973.3362 - acc: 4.2225e-04\n",
      "Epoch 215/500\n",
      "293667/293667 [==============================] - 10s 35us/step - loss: 2638479.3119 - acc: 4.2906e-04\n",
      "Epoch 216/500\n",
      "293667/293667 [==============================] - 10s 35us/step - loss: 2599381.6504 - acc: 3.4393e-04\n",
      "Epoch 217/500\n",
      "293667/293667 [==============================] - 10s 35us/step - loss: 2602497.0347 - acc: 3.8819e-04\n",
      "Epoch 218/500\n",
      "293667/293667 [==============================] - 10s 35us/step - loss: 2615666.9002 - acc: 4.0182e-04\n",
      "Epoch 219/500\n",
      "293667/293667 [==============================] - 11s 38us/step - loss: 2642722.3154 - acc: 4.5289e-04\n",
      "Epoch 220/500\n",
      "293667/293667 [==============================] - 10s 35us/step - loss: 2611848.1044 - acc: 4.6651e-04\n",
      "Epoch 221/500\n",
      "293667/293667 [==============================] - 10s 35us/step - loss: 2636292.1413 - acc: 4.3927e-04\n",
      "Epoch 222/500\n",
      "293667/293667 [==============================] - 10s 35us/step - loss: 2645885.2091 - acc: 3.9501e-04\n",
      "Epoch 223/500\n",
      "293667/293667 [==============================] - 10s 34us/step - loss: 2595855.6090 - acc: 3.8138e-04\n",
      "Epoch 224/500\n",
      "293667/293667 [==============================] - 10s 34us/step - loss: 2600947.0990 - acc: 4.2225e-04\n",
      "Epoch 225/500\n",
      "293667/293667 [==============================] - 10s 34us/step - loss: 2634279.2451 - acc: 4.2565e-04\n",
      "Epoch 226/500\n",
      "293667/293667 [==============================] - 10s 34us/step - loss: 2644822.6689 - acc: 4.2225e-04\n",
      "Epoch 227/500\n",
      "293667/293667 [==============================] - 10s 33us/step - loss: 2626108.8287 - acc: 4.5970e-04\n",
      "Epoch 228/500\n",
      "293667/293667 [==============================] - 10s 33us/step - loss: 2617142.6879 - acc: 3.6095e-04\n",
      "Epoch 229/500\n",
      "293667/293667 [==============================] - 10s 34us/step - loss: 2599875.0282 - acc: 4.4949e-04\n",
      "Epoch 230/500\n",
      "293667/293667 [==============================] - 10s 33us/step - loss: 2607406.6137 - acc: 4.0182e-04\n",
      "Epoch 231/500\n",
      "293667/293667 [==============================] - 10s 34us/step - loss: 2647226.7914 - acc: 4.5289e-04\n",
      "Epoch 232/500\n",
      "293667/293667 [==============================] - 10s 34us/step - loss: 2616541.3201 - acc: 3.9501e-04\n",
      "Epoch 233/500\n",
      "293667/293667 [==============================] - 10s 33us/step - loss: 2633244.8811 - acc: 4.0863e-04\n",
      "Epoch 234/500\n",
      "293667/293667 [==============================] - 10s 33us/step - loss: 2624776.0815 - acc: 4.4608e-04\n",
      "Epoch 235/500\n",
      "293667/293667 [==============================] - 10s 34us/step - loss: 2647526.8529 - acc: 4.4949e-04\n",
      "Epoch 236/500\n",
      "293667/293667 [==============================] - 10s 35us/step - loss: 2615506.1992 - acc: 4.3587e-04\n",
      "Epoch 237/500\n",
      "293667/293667 [==============================] - 10s 35us/step - loss: 2594799.3427 - acc: 4.1203e-04\n",
      "Epoch 238/500\n",
      "293667/293667 [==============================] - 10s 35us/step - loss: 2586578.9761 - acc: 3.7798e-04\n",
      "Epoch 239/500\n",
      "293667/293667 [==============================] - 10s 35us/step - loss: 2620362.5641 - acc: 3.6436e-04\n",
      "Epoch 240/500\n",
      "293667/293667 [==============================] - 10s 34us/step - loss: 2594989.1678 - acc: 4.0522e-04 2s -\n",
      "Epoch 241/500\n",
      "293667/293667 [==============================] - 10s 35us/step - loss: 2616078.9729 - acc: 4.2565e-04\n",
      "Epoch 242/500\n",
      "293667/293667 [==============================] - 10s 35us/step - loss: 2614247.2983 - acc: 3.8819e-04\n",
      "Epoch 243/500\n",
      "293667/293667 [==============================] - 10s 35us/step - loss: 2644638.1680 - acc: 3.8138e-04\n",
      "Epoch 244/500\n",
      "293667/293667 [==============================] - 10s 35us/step - loss: 2625136.9915 - acc: 4.3927e-04\n",
      "Epoch 245/500\n",
      "293667/293667 [==============================] - 10s 34us/step - loss: 2602501.5228 - acc: 3.6095e-04\n",
      "Epoch 246/500\n",
      "293667/293667 [==============================] - 10s 35us/step - loss: 2613740.8304 - acc: 4.3246e-04\n",
      "Epoch 247/500\n",
      "293667/293667 [==============================] - 10s 35us/step - loss: 2635545.1720 - acc: 3.6436e-04\n",
      "Epoch 248/500\n",
      "293667/293667 [==============================] - 10s 35us/step - loss: 2622832.6883 - acc: 4.4608e-04\n",
      "Epoch 249/500\n",
      "293667/293667 [==============================] - 11s 38us/step - loss: 2606556.1695 - acc: 3.7457e-04\n",
      "Epoch 250/500\n",
      "293667/293667 [==============================] - 11s 36us/step - loss: 2652358.8647 - acc: 4.1544e-04\n",
      "Epoch 251/500\n",
      "293667/293667 [==============================] - 10s 35us/step - loss: 2630384.4463 - acc: 4.2225e-04\n",
      "Epoch 252/500\n",
      "293667/293667 [==============================] - 10s 34us/step - loss: 2632940.0192 - acc: 4.4608e-04\n",
      "Epoch 253/500\n",
      "293667/293667 [==============================] - 10s 34us/step - loss: 2617280.7618 - acc: 3.9841e-04\n",
      "Epoch 254/500\n",
      "293667/293667 [==============================] - 10s 35us/step - loss: 2633455.9298 - acc: 3.5074e-04\n",
      "Epoch 255/500\n",
      "293667/293667 [==============================] - 10s 34us/step - loss: 2495221.7221 - acc: 3.9501e-04\n",
      "Epoch 256/500\n",
      "293667/293667 [==============================] - 10s 34us/step - loss: 2644930.3382 - acc: 4.6992e-04\n",
      "Epoch 257/500\n",
      "293667/293667 [==============================] - 10s 35us/step - loss: 2623960.3880 - acc: 4.4608e-04\n",
      "Epoch 258/500\n",
      "293667/293667 [==============================] - 10s 34us/step - loss: 2639526.4423 - acc: 4.0522e-04\n",
      "Epoch 259/500\n",
      "293667/293667 [==============================] - 10s 34us/step - loss: 2626369.3293 - acc: 3.7117e-04\n",
      "Epoch 260/500\n",
      "293667/293667 [==============================] - 10s 34us/step - loss: 2639304.5877 - acc: 4.4949e-04\n",
      "Epoch 261/500\n",
      "293667/293667 [==============================] - 10s 35us/step - loss: 2614398.3540 - acc: 3.9841e-04\n",
      "Epoch 262/500\n",
      "293667/293667 [==============================] - 10s 36us/step - loss: 2624136.9371 - acc: 3.6436e-04\n",
      "Epoch 263/500\n",
      "293667/293667 [==============================] - 11s 36us/step - loss: 2628110.3537 - acc: 4.7333e-04\n",
      "Epoch 264/500\n",
      "293667/293667 [==============================] - 10s 34us/step - loss: 2630604.2480 - acc: 4.3587e-04\n",
      "Epoch 265/500\n",
      "293667/293667 [==============================] - 10s 35us/step - loss: 2647193.6211 - acc: 4.1884e-04\n",
      "Epoch 266/500\n",
      "293667/293667 [==============================] - 10s 34us/step - loss: 2603805.2038 - acc: 3.9501e-04\n",
      "Epoch 267/500\n",
      "293667/293667 [==============================] - 10s 35us/step - loss: 2593919.3074 - acc: 3.7798e-04\n",
      "Epoch 268/500\n",
      "293667/293667 [==============================] - 10s 34us/step - loss: 2624714.8104 - acc: 4.5289e-04\n",
      "Epoch 269/500\n",
      "293667/293667 [==============================] - 10s 34us/step - loss: 2623141.1577 - acc: 4.1203e-04\n",
      "Epoch 270/500\n",
      "293667/293667 [==============================] - 10s 34us/step - loss: 2577237.0827 - acc: 4.3246e-04 2s - l\n",
      "Epoch 271/500\n",
      "293667/293667 [==============================] - 10s 34us/step - loss: 2608234.0957 - acc: 3.9501e-04\n",
      "Epoch 272/500\n",
      "293667/293667 [==============================] - 10s 34us/step - loss: 2606057.1784 - acc: 4.4608e-04\n",
      "Epoch 273/500\n",
      "293667/293667 [==============================] - 10s 34us/step - loss: 2601055.3170 - acc: 4.1544e-04\n",
      "Epoch 274/500\n",
      "293667/293667 [==============================] - 11s 36us/step - loss: 2639516.6675 - acc: 4.1544e-04\n",
      "Epoch 275/500\n",
      "293667/293667 [==============================] - 12s 40us/step - loss: 2628661.8545 - acc: 4.2225e-04\n",
      "Epoch 276/500\n",
      "293667/293667 [==============================] - 12s 40us/step - loss: 2611674.7626 - acc: 4.8014e-04\n",
      "Epoch 277/500\n",
      "293667/293667 [==============================] - 14s 49us/step - loss: 2620035.5379 - acc: 3.6436e-04\n",
      "Epoch 278/500\n",
      "293667/293667 [==============================] - 11s 39us/step - loss: 2627482.0437 - acc: 3.6776e-04\n",
      "Epoch 279/500\n",
      "293667/293667 [==============================] - 12s 43us/step - loss: 2650223.4596 - acc: 3.7798e-04\n",
      "Epoch 280/500\n",
      "293667/293667 [==============================] - 12s 40us/step - loss: 2596915.0580 - acc: 4.3927e-04\n",
      "Epoch 281/500\n"
     ]
    },
    {
     "name": "stdout",
     "output_type": "stream",
     "text": [
      "293667/293667 [==============================] - 11s 37us/step - loss: 2610589.9293 - acc: 4.0863e-04\n",
      "Epoch 282/500\n",
      "293667/293667 [==============================] - 11s 37us/step - loss: 2608912.2083 - acc: 3.8479e-04\n",
      "Epoch 283/500\n",
      "293667/293667 [==============================] - 11s 37us/step - loss: 2637233.6633 - acc: 4.0182e-04\n",
      "Epoch 284/500\n",
      "293667/293667 [==============================] - 11s 37us/step - loss: 2639213.7907 - acc: 4.1203e-04\n",
      "Epoch 285/500\n",
      "293667/293667 [==============================] - 11s 37us/step - loss: 2629260.8874 - acc: 3.7457e-04\n",
      "Epoch 286/500\n",
      "293667/293667 [==============================] - 11s 36us/step - loss: 2614872.8958 - acc: 4.3246e-04\n",
      "Epoch 287/500\n",
      "293667/293667 [==============================] - 11s 36us/step - loss: 2584520.5691 - acc: 4.4608e-04\n",
      "Epoch 288/500\n",
      "293667/293667 [==============================] - 11s 36us/step - loss: 2627070.3147 - acc: 4.1884e-04\n",
      "Epoch 289/500\n",
      "293667/293667 [==============================] - 11s 37us/step - loss: 2628729.7612 - acc: 3.7798e-04\n",
      "Epoch 290/500\n",
      "293667/293667 [==============================] - 11s 37us/step - loss: 2647947.9818 - acc: 3.9160e-04\n",
      "Epoch 291/500\n",
      "293667/293667 [==============================] - 11s 39us/step - loss: 2613433.4313 - acc: 4.0522e-04\n",
      "Epoch 292/500\n",
      "293667/293667 [==============================] - 11s 37us/step - loss: 2599283.7737 - acc: 4.7333e-04\n",
      "Epoch 293/500\n",
      "293667/293667 [==============================] - 11s 37us/step - loss: 2632162.2355 - acc: 3.5414e-04\n",
      "Epoch 294/500\n",
      "293667/293667 [==============================] - 11s 37us/step - loss: 2634915.1752 - acc: 3.9841e-04\n",
      "Epoch 295/500\n",
      "293667/293667 [==============================] - 11s 37us/step - loss: 2574282.9199 - acc: 4.5289e-04\n",
      "Epoch 296/500\n",
      "293667/293667 [==============================] - 11s 38us/step - loss: 2604485.3371 - acc: 3.6436e-04\n",
      "Epoch 297/500\n",
      "293667/293667 [==============================] - 12s 40us/step - loss: 2636296.4027 - acc: 4.7333e-04\n",
      "Epoch 298/500\n",
      "293667/293667 [==============================] - 11s 38us/step - loss: 2581333.1766 - acc: 3.9841e-04\n",
      "Epoch 299/500\n",
      "293667/293667 [==============================] - 11s 37us/step - loss: 2615361.4062 - acc: 3.8819e-04\n",
      "Epoch 300/500\n",
      "293667/293667 [==============================] - 11s 37us/step - loss: 2649771.0470 - acc: 4.1203e-04\n",
      "Epoch 301/500\n",
      "293667/293667 [==============================] - 11s 37us/step - loss: 2626003.3488 - acc: 3.1669e-04\n",
      "Epoch 302/500\n",
      "293667/293667 [==============================] - 11s 38us/step - loss: 2629279.0986 - acc: 3.4393e-04\n",
      "Epoch 303/500\n",
      "293667/293667 [==============================] - 11s 37us/step - loss: 2617252.4919 - acc: 4.6311e-04\n",
      "Epoch 304/500\n",
      "293667/293667 [==============================] - 11s 37us/step - loss: 2605014.0518 - acc: 4.5630e-04\n",
      "Epoch 305/500\n",
      "293667/293667 [==============================] - 11s 38us/step - loss: 2628412.5096 - acc: 4.7333e-04\n",
      "Epoch 306/500\n",
      "293667/293667 [==============================] - 11s 37us/step - loss: 2620132.2879 - acc: 4.1203e-04\n",
      "Epoch 307/500\n",
      "293667/293667 [==============================] - 12s 40us/step - loss: 2642186.4632 - acc: 4.3927e-04\n",
      "Epoch 308/500\n",
      "293667/293667 [==============================] - 12s 41us/step - loss: 2568582.5158 - acc: 3.9160e-04\n",
      "Epoch 309/500\n",
      "293667/293667 [==============================] - 11s 38us/step - loss: 2639263.2169 - acc: 3.8819e-04\n",
      "Epoch 310/500\n",
      "293667/293667 [==============================] - 10s 35us/step - loss: 2624695.0410 - acc: 3.6436e-04\n",
      "Epoch 311/500\n",
      "293667/293667 [==============================] - 10s 35us/step - loss: 2561250.7514 - acc: 4.2225e-04\n",
      "Epoch 312/500\n",
      "293667/293667 [==============================] - 11s 36us/step - loss: 2633221.4029 - acc: 3.9501e-04\n",
      "Epoch 313/500\n",
      "293667/293667 [==============================] - 11s 36us/step - loss: 2612483.3528 - acc: 4.0522e-04\n",
      "Epoch 314/500\n",
      "293667/293667 [==============================] - 11s 36us/step - loss: 2623024.2924 - acc: 4.1203e-04\n",
      "Epoch 315/500\n",
      "293667/293667 [==============================] - 11s 37us/step - loss: 2576990.0000 - acc: 4.0182e-04\n",
      "Epoch 316/500\n",
      "293667/293667 [==============================] - 11s 38us/step - loss: 2623562.4312 - acc: 4.1884e-04\n",
      "Epoch 317/500\n",
      "293667/293667 [==============================] - 11s 37us/step - loss: 2628993.6969 - acc: 4.8014e-04\n",
      "Epoch 318/500\n",
      "293667/293667 [==============================] - 11s 38us/step - loss: 2620936.2871 - acc: 4.2565e-04\n",
      "Epoch 319/500\n",
      "293667/293667 [==============================] - 11s 36us/step - loss: 2641702.8332 - acc: 4.3587e-04\n",
      "Epoch 320/500\n",
      "293667/293667 [==============================] - 11s 39us/step - loss: 2609737.9451 - acc: 4.3927e-04\n",
      "Epoch 321/500\n",
      "293667/293667 [==============================] - 11s 38us/step - loss: 2606557.3632 - acc: 4.8354e-04\n",
      "Epoch 322/500\n",
      "293667/293667 [==============================] - 12s 40us/step - loss: 2637584.2928 - acc: 3.9160e-04\n",
      "Epoch 323/500\n",
      "293667/293667 [==============================] - 12s 39us/step - loss: 2616689.9755 - acc: 4.4949e-04\n",
      "Epoch 324/500\n",
      "293667/293667 [==============================] - 12s 41us/step - loss: 2612098.0859 - acc: 4.1884e-04\n",
      "Epoch 325/500\n",
      "293667/293667 [==============================] - 10s 35us/step - loss: 2623402.8143 - acc: 3.7117e-04\n",
      "Epoch 326/500\n",
      "293667/293667 [==============================] - 11s 37us/step - loss: 2632067.7603 - acc: 3.9501e-04\n",
      "Epoch 327/500\n",
      "293667/293667 [==============================] - 12s 41us/step - loss: 2652494.0694 - acc: 4.1544e-04\n",
      "Epoch 328/500\n",
      "293667/293667 [==============================] - 10s 36us/step - loss: 2620534.5621 - acc: 3.7457e-04\n",
      "Epoch 329/500\n",
      "293667/293667 [==============================] - 10s 34us/step - loss: 2623733.5885 - acc: 3.6436e-04\n",
      "Epoch 330/500\n",
      "293667/293667 [==============================] - 10s 35us/step - loss: 2586304.6996 - acc: 4.9376e-04\n",
      "Epoch 331/500\n",
      "293667/293667 [==============================] - 11s 38us/step - loss: 2620112.2426 - acc: 3.9841e-04\n",
      "Epoch 332/500\n",
      "293667/293667 [==============================] - 10s 36us/step - loss: 2622863.4896 - acc: 3.9501e-04\n",
      "Epoch 333/500\n",
      "293667/293667 [==============================] - 11s 36us/step - loss: 2596111.7169 - acc: 3.6436e-04\n",
      "Epoch 334/500\n",
      "293667/293667 [==============================] - 10s 35us/step - loss: 2623965.2983 - acc: 4.0863e-04\n",
      "Epoch 335/500\n",
      "293667/293667 [==============================] - 11s 38us/step - loss: 2628219.3167 - acc: 4.4608e-04\n",
      "Epoch 336/500\n",
      "293667/293667 [==============================] - 11s 39us/step - loss: 2624620.7934 - acc: 4.4268e-04\n",
      "Epoch 337/500\n",
      "293667/293667 [==============================] - 12s 41us/step - loss: 2598470.5164 - acc: 4.6992e-04\n",
      "Epoch 338/500\n",
      "293667/293667 [==============================] - 11s 37us/step - loss: 2607337.0898 - acc: 3.7798e-04\n",
      "Epoch 339/500\n",
      "293667/293667 [==============================] - 10s 35us/step - loss: 2633956.7486 - acc: 4.2565e-04\n",
      "Epoch 340/500\n",
      "293667/293667 [==============================] - 10s 35us/step - loss: 2632055.2031 - acc: 4.1544e-04\n",
      "Epoch 341/500\n",
      "293667/293667 [==============================] - 10s 34us/step - loss: 2587751.9149 - acc: 3.9841e-04\n",
      "Epoch 342/500\n",
      "293667/293667 [==============================] - 10s 34us/step - loss: 2620503.2248 - acc: 3.9841e-04\n",
      "Epoch 343/500\n",
      "293667/293667 [==============================] - 10s 36us/step - loss: 2612639.3844 - acc: 3.3712e-04\n",
      "Epoch 344/500\n",
      "293667/293667 [==============================] - 10s 34us/step - loss: 2651508.1086 - acc: 3.9501e-04\n",
      "Epoch 345/500\n",
      "293667/293667 [==============================] - 10s 35us/step - loss: 2608825.0576 - acc: 3.6095e-04\n",
      "Epoch 346/500\n",
      "293667/293667 [==============================] - 10s 35us/step - loss: 2598630.4118 - acc: 3.7117e-04\n",
      "Epoch 347/500\n",
      "293667/293667 [==============================] - 10s 34us/step - loss: 2609744.2009 - acc: 4.1544e-04\n",
      "Epoch 348/500\n",
      "293667/293667 [==============================] - 10s 34us/step - loss: 2634707.8366 - acc: 3.9501e-04\n",
      "Epoch 349/500\n",
      "293667/293667 [==============================] - 10s 34us/step - loss: 2621704.9891 - acc: 3.9160e-04\n",
      "Epoch 350/500\n",
      "293667/293667 [==============================] - 10s 34us/step - loss: 2603307.6101 - acc: 4.3246e-04\n",
      "Epoch 351/500\n",
      "293667/293667 [==============================] - 10s 34us/step - loss: 2619078.0231 - acc: 3.9501e-04\n",
      "Epoch 352/500\n",
      "293667/293667 [==============================] - 10s 34us/step - loss: 2619038.2238 - acc: 4.1884e-04\n",
      "Epoch 353/500\n",
      "293667/293667 [==============================] - 10s 35us/step - loss: 2608442.9923 - acc: 3.9841e-04\n",
      "Epoch 354/500\n",
      "293667/293667 [==============================] - 11s 39us/step - loss: 2613806.2475 - acc: 4.5630e-04\n",
      "Epoch 355/500\n",
      "293667/293667 [==============================] - 12s 39us/step - loss: 2612989.2684 - acc: 4.0863e-04\n",
      "Epoch 356/500\n",
      "293667/293667 [==============================] - 11s 38us/step - loss: 2608870.6878 - acc: 3.9501e-04\n",
      "Epoch 357/500\n",
      "293667/293667 [==============================] - 11s 36us/step - loss: 2566061.0281 - acc: 4.4268e-04\n",
      "Epoch 358/500\n",
      "293667/293667 [==============================] - 10s 34us/step - loss: 2636690.6522 - acc: 4.1203e-04\n",
      "Epoch 359/500\n",
      "293667/293667 [==============================] - 10s 34us/step - loss: 2616835.3305 - acc: 3.6436e-04 1s - loss: \n",
      "Epoch 360/500\n",
      "293667/293667 [==============================] - 10s 34us/step - loss: 2629948.8901 - acc: 4.0863e-04\n",
      "Epoch 361/500\n",
      "293667/293667 [==============================] - 10s 34us/step - loss: 2561050.4380 - acc: 4.0863e-04\n",
      "Epoch 362/500\n",
      "293667/293667 [==============================] - 10s 34us/step - loss: 2610448.8265 - acc: 4.1884e-04\n",
      "Epoch 363/500\n",
      "293667/293667 [==============================] - 10s 35us/step - loss: 2603594.0188 - acc: 3.8479e-04\n",
      "Epoch 364/500\n",
      "293667/293667 [==============================] - 13s 43us/step - loss: 2614350.2470 - acc: 3.8138e-04\n",
      "Epoch 365/500\n",
      "293667/293667 [==============================] - 11s 39us/step - loss: 2606815.9420 - acc: 3.6436e-04\n",
      "Epoch 366/500\n",
      "293667/293667 [==============================] - 12s 40us/step - loss: 2623790.6468 - acc: 4.0863e-04\n",
      "Epoch 367/500\n",
      "293667/293667 [==============================] - 10s 35us/step - loss: 2607219.9898 - acc: 4.1884e-04\n",
      "Epoch 368/500\n",
      "293667/293667 [==============================] - 10s 35us/step - loss: 2570091.2071 - acc: 3.5755e-04\n",
      "Epoch 369/500\n",
      "293667/293667 [==============================] - 13s 43us/step - loss: 2609247.5289 - acc: 4.1203e-04\n",
      "Epoch 370/500\n",
      "293667/293667 [==============================] - 14s 46us/step - loss: 2595356.7365 - acc: 3.8819e-04\n",
      "Epoch 371/500\n",
      "293667/293667 [==============================] - 12s 42us/step - loss: 2628734.6742 - acc: 3.8138e-04\n",
      "Epoch 372/500\n",
      "293667/293667 [==============================] - 12s 40us/step - loss: 2627003.4374 - acc: 3.9160e-04\n",
      "Epoch 373/500\n",
      "293667/293667 [==============================] - 12s 39us/step - loss: 2618533.8030 - acc: 4.0522e-04\n",
      "Epoch 374/500\n",
      "293667/293667 [==============================] - 12s 39us/step - loss: 2612183.3961 - acc: 4.0182e-04\n",
      "Epoch 375/500\n",
      "293667/293667 [==============================] - 11s 39us/step - loss: 2609553.5088 - acc: 4.1203e-04\n",
      "Epoch 376/500\n",
      "293667/293667 [==============================] - 11s 39us/step - loss: 2629742.4136 - acc: 3.7798e-04\n",
      "Epoch 377/500\n",
      "293667/293667 [==============================] - 12s 39us/step - loss: 2618481.5117 - acc: 4.4268e-04\n",
      "Epoch 378/500\n",
      "293667/293667 [==============================] - 12s 39us/step - loss: 2611078.7804 - acc: 4.6992e-04\n",
      "Epoch 379/500\n",
      "293667/293667 [==============================] - 12s 39us/step - loss: 2628636.0341 - acc: 4.2225e-04\n",
      "Epoch 380/500\n",
      "293667/293667 [==============================] - 11s 39us/step - loss: 2573814.5615 - acc: 3.9841e-04\n",
      "Epoch 381/500\n",
      "293667/293667 [==============================] - 11s 39us/step - loss: 2614456.4589 - acc: 4.2906e-04\n",
      "Epoch 382/500\n",
      "293667/293667 [==============================] - 11s 39us/step - loss: 2607149.2427 - acc: 4.7673e-04\n",
      "Epoch 383/500\n",
      "293667/293667 [==============================] - 12s 40us/step - loss: 2625360.2792 - acc: 3.7457e-04\n",
      "Epoch 384/500\n",
      "293667/293667 [==============================] - 12s 41us/step - loss: 2614707.0818 - acc: 4.6311e-04\n",
      "Epoch 385/500\n",
      "293667/293667 [==============================] - 12s 40us/step - loss: 2592835.0897 - acc: 4.4949e-04\n",
      "Epoch 386/500\n",
      "293667/293667 [==============================] - 11s 39us/step - loss: 2618312.9443 - acc: 4.1203e-04\n",
      "Epoch 387/500\n",
      "293667/293667 [==============================] - 12s 39us/step - loss: 2592010.1881 - acc: 4.0522e-04\n",
      "Epoch 388/500\n",
      "293667/293667 [==============================] - 12s 40us/step - loss: 2635346.9490 - acc: 4.4608e-04\n",
      "Epoch 389/500\n",
      "293667/293667 [==============================] - 12s 40us/step - loss: 2584077.3982 - acc: 4.3246e-04\n",
      "Epoch 390/500\n",
      "293667/293667 [==============================] - 12s 40us/step - loss: 2617973.2817 - acc: 3.6436e-04\n",
      "Epoch 391/500\n",
      "293667/293667 [==============================] - 12s 41us/step - loss: 2616176.9233 - acc: 3.9501e-04\n",
      "Epoch 392/500\n",
      "293667/293667 [==============================] - 12s 40us/step - loss: 2608076.1006 - acc: 4.7673e-04\n",
      "Epoch 393/500\n",
      "293667/293667 [==============================] - 12s 40us/step - loss: 2603246.8298 - acc: 4.6311e-04\n",
      "Epoch 394/500\n",
      "293667/293667 [==============================] - 12s 40us/step - loss: 2594990.9098 - acc: 4.8014e-04\n",
      "Epoch 395/500\n",
      "293667/293667 [==============================] - 12s 41us/step - loss: 2632836.8228 - acc: 3.8138e-04\n",
      "Epoch 396/500\n",
      "293667/293667 [==============================] - 12s 40us/step - loss: 2605311.9193 - acc: 4.1544e-04\n",
      "Epoch 397/500\n",
      "293667/293667 [==============================] - 12s 41us/step - loss: 2611158.7574 - acc: 3.8138e-04\n",
      "Epoch 398/500\n",
      "293667/293667 [==============================] - 12s 40us/step - loss: 2623717.0308 - acc: 4.5630e-04\n",
      "Epoch 399/500\n",
      "293667/293667 [==============================] - 12s 41us/step - loss: 2621433.3489 - acc: 3.8138e-04\n",
      "Epoch 400/500\n",
      "293667/293667 [==============================] - 12s 42us/step - loss: 2626679.8883 - acc: 4.1203e-04\n",
      "Epoch 401/500\n",
      "293667/293667 [==============================] - 13s 45us/step - loss: 2606541.9051 - acc: 4.0863e-04\n",
      "Epoch 402/500\n",
      "293667/293667 [==============================] - 13s 43us/step - loss: 2622688.9257 - acc: 3.9501e-04\n",
      "Epoch 403/500\n",
      "293667/293667 [==============================] - 12s 41us/step - loss: 2621065.4213 - acc: 4.4268e-04\n",
      "Epoch 404/500\n",
      "293667/293667 [==============================] - 12s 39us/step - loss: 2572610.4814 - acc: 4.4608e-04\n",
      "Epoch 405/500\n",
      "293667/293667 [==============================] - 12s 39us/step - loss: 2630410.2716 - acc: 3.6776e-04\n",
      "Epoch 406/500\n",
      "293667/293667 [==============================] - 12s 41us/step - loss: 2612044.1914 - acc: 4.0863e-04\n",
      "Epoch 407/500\n",
      "293667/293667 [==============================] - 12s 41us/step - loss: 2617187.2182 - acc: 4.1544e-04\n",
      "Epoch 408/500\n",
      "293667/293667 [==============================] - 12s 42us/step - loss: 2610737.3422 - acc: 4.3587e-04\n",
      "Epoch 409/500\n",
      "293667/293667 [==============================] - 12s 42us/step - loss: 2620010.8810 - acc: 3.8138e-04\n",
      "Epoch 410/500\n",
      "293667/293667 [==============================] - 12s 41us/step - loss: 2616657.6134 - acc: 4.1203e-04\n",
      "Epoch 411/500\n",
      "293667/293667 [==============================] - 13s 46us/step - loss: 2622943.3457 - acc: 4.0182e-04\n",
      "Epoch 412/500\n",
      "293667/293667 [==============================] - 11s 39us/step - loss: 2535135.6195 - acc: 4.1884e-04\n",
      "Epoch 413/500\n",
      "293667/293667 [==============================] - 11s 39us/step - loss: 2640746.2390 - acc: 3.5074e-04\n",
      "Epoch 414/500\n",
      "293667/293667 [==============================] - 11s 39us/step - loss: 2588660.1008 - acc: 4.1884e-04\n",
      "Epoch 415/500\n",
      "293667/293667 [==============================] - 11s 37us/step - loss: 2604146.6320 - acc: 3.6436e-04\n",
      "Epoch 416/500\n",
      "293667/293667 [==============================] - 11s 37us/step - loss: 2626194.0485 - acc: 4.6311e-04\n",
      "Epoch 417/500\n",
      "293667/293667 [==============================] - 12s 40us/step - loss: 2604230.1065 - acc: 4.0182e-04\n",
      "Epoch 418/500\n",
      "293667/293667 [==============================] - 11s 36us/step - loss: 2587957.0724 - acc: 4.8695e-04\n",
      "Epoch 419/500\n",
      "293667/293667 [==============================] - 11s 37us/step - loss: 2570250.0088 - acc: 3.9841e-04\n",
      "Epoch 420/500\n",
      "293667/293667 [==============================] - 10s 36us/step - loss: 2619330.6028 - acc: 4.3246e-04\n",
      "Epoch 421/500\n"
     ]
    },
    {
     "name": "stdout",
     "output_type": "stream",
     "text": [
      "293667/293667 [==============================] - 10s 35us/step - loss: 2614211.4067 - acc: 4.4608e-04\n",
      "Epoch 422/500\n",
      "293667/293667 [==============================] - 10s 35us/step - loss: 2616498.8492 - acc: 4.1884e-04\n",
      "Epoch 423/500\n",
      "293667/293667 [==============================] - 10s 34us/step - loss: 2611826.5012 - acc: 3.5414e-04\n",
      "Epoch 424/500\n",
      "293667/293667 [==============================] - 10s 35us/step - loss: 2612771.4394 - acc: 3.5074e-04\n",
      "Epoch 425/500\n",
      "293667/293667 [==============================] - 10s 34us/step - loss: 2622257.4735 - acc: 4.3587e-04\n",
      "Epoch 426/500\n",
      "293667/293667 [==============================] - 10s 35us/step - loss: 2602122.0326 - acc: 4.1884e-04\n",
      "Epoch 427/500\n",
      "293667/293667 [==============================] - 10s 35us/step - loss: 2590940.2362 - acc: 3.6095e-04\n",
      "Epoch 428/500\n",
      "293667/293667 [==============================] - 10s 35us/step - loss: 2605655.4270 - acc: 3.5755e-04\n",
      "Epoch 429/500\n",
      "293667/293667 [==============================] - 11s 36us/step - loss: 2622985.0456 - acc: 3.6095e-04\n",
      "Epoch 430/500\n",
      "293667/293667 [==============================] - 10s 35us/step - loss: 2607333.6644 - acc: 3.9501e-04\n",
      "Epoch 431/500\n",
      "293667/293667 [==============================] - 10s 34us/step - loss: 2617718.9777 - acc: 3.9160e-04\n",
      "Epoch 432/500\n",
      "293667/293667 [==============================] - 10s 34us/step - loss: 2599862.7667 - acc: 4.4949e-04\n",
      "Epoch 433/500\n",
      "293667/293667 [==============================] - 11s 36us/step - loss: 2622872.9819 - acc: 4.0182e-04\n",
      "Epoch 434/500\n",
      "293667/293667 [==============================] - 10s 35us/step - loss: 2620341.3148 - acc: 4.0522e-04\n",
      "Epoch 435/500\n",
      "293667/293667 [==============================] - 10s 35us/step - loss: 2601851.2784 - acc: 4.3587e-04\n",
      "Epoch 436/500\n",
      "293667/293667 [==============================] - 11s 36us/step - loss: 2623650.5886 - acc: 4.3246e-04\n",
      "Epoch 437/500\n",
      "293667/293667 [==============================] - 10s 35us/step - loss: 2610283.2669 - acc: 3.8138e-04\n",
      "Epoch 438/500\n",
      "293667/293667 [==============================] - 11s 38us/step - loss: 2619551.1074 - acc: 3.4052e-04\n",
      "Epoch 439/500\n",
      "293667/293667 [==============================] - 11s 37us/step - loss: 2601605.1974 - acc: 4.1544e-04\n",
      "Epoch 440/500\n",
      "293667/293667 [==============================] - 11s 39us/step - loss: 2623400.5194 - acc: 4.5289e-04\n",
      "Epoch 441/500\n",
      "293667/293667 [==============================] - 11s 38us/step - loss: 2621025.3910 - acc: 4.0182e-04\n",
      "Epoch 442/500\n",
      "293667/293667 [==============================] - 11s 37us/step - loss: 2607356.5909 - acc: 4.1203e-04\n",
      "Epoch 443/500\n",
      "293667/293667 [==============================] - 11s 36us/step - loss: 2625237.9507 - acc: 4.0182e-04\n",
      "Epoch 444/500\n",
      "293667/293667 [==============================] - 11s 36us/step - loss: 2607990.2045 - acc: 4.0522e-04\n",
      "Epoch 445/500\n",
      "293667/293667 [==============================] - 11s 36us/step - loss: 2622714.5209 - acc: 3.8138e-04\n",
      "Epoch 446/500\n",
      "293667/293667 [==============================] - 11s 38us/step - loss: 2603590.0685 - acc: 3.9841e-04\n",
      "Epoch 447/500\n",
      "293667/293667 [==============================] - 11s 39us/step - loss: 2581296.0931 - acc: 3.8138e-04\n",
      "Epoch 448/500\n",
      "293667/293667 [==============================] - 11s 37us/step - loss: 2609278.9806 - acc: 3.4393e-04\n",
      "Epoch 449/500\n",
      "293667/293667 [==============================] - 11s 38us/step - loss: 2581758.9079 - acc: 4.9035e-04\n",
      "Epoch 450/500\n",
      "293667/293667 [==============================] - 11s 37us/step - loss: 2614581.6838 - acc: 4.0863e-04\n",
      "Epoch 451/500\n",
      "293667/293667 [==============================] - 10s 35us/step - loss: 2605926.7833 - acc: 4.0522e-04\n",
      "Epoch 452/500\n",
      "293667/293667 [==============================] - 10s 35us/step - loss: 2611295.0483 - acc: 3.3712e-04 1s - loss: 27\n",
      "Epoch 453/500\n",
      "293667/293667 [==============================] - 11s 36us/step - loss: 2574156.3406 - acc: 4.6992e-04\n",
      "Epoch 454/500\n",
      "293667/293667 [==============================] - 10s 34us/step - loss: 2630074.1235 - acc: 3.9841e-04\n",
      "Epoch 455/500\n",
      "293667/293667 [==============================] - 10s 35us/step - loss: 2617722.5609 - acc: 3.6776e-04\n",
      "Epoch 456/500\n",
      "293667/293667 [==============================] - 10s 35us/step - loss: 2627024.2210 - acc: 4.2906e-04\n",
      "Epoch 457/500\n",
      "293667/293667 [==============================] - 10s 34us/step - loss: 2590194.8368 - acc: 3.3712e-04\n",
      "Epoch 458/500\n",
      "293667/293667 [==============================] - 10s 35us/step - loss: 2605055.3596 - acc: 4.3246e-04\n",
      "Epoch 459/500\n",
      "293667/293667 [==============================] - 10s 35us/step - loss: 2599964.4124 - acc: 3.9160e-04\n",
      "Epoch 460/500\n",
      "293667/293667 [==============================] - 10s 34us/step - loss: 2634018.1886 - acc: 3.8479e-04\n",
      "Epoch 461/500\n",
      "293667/293667 [==============================] - 11s 36us/step - loss: 2627078.6829 - acc: 3.8479e-04\n",
      "Epoch 462/500\n",
      "293667/293667 [==============================] - 12s 40us/step - loss: 2606046.8251 - acc: 4.0863e-04 0s - loss: 2608908.8309 - acc: \n",
      "Epoch 463/500\n",
      "293667/293667 [==============================] - 12s 39us/step - loss: 2603757.0913 - acc: 4.5970e-04\n",
      "Epoch 464/500\n",
      "293667/293667 [==============================] - 12s 40us/step - loss: 2620369.7994 - acc: 4.1203e-04\n",
      "Epoch 465/500\n",
      "293667/293667 [==============================] - 12s 41us/step - loss: 2586035.5774 - acc: 3.7117e-04\n",
      "Epoch 466/500\n",
      "293667/293667 [==============================] - 12s 40us/step - loss: 2619955.6818 - acc: 3.9501e-04\n",
      "Epoch 467/500\n",
      "293667/293667 [==============================] - 12s 41us/step - loss: 2609939.6783 - acc: 4.1203e-04\n",
      "Epoch 468/500\n",
      "293667/293667 [==============================] - 13s 44us/step - loss: 2601870.6404 - acc: 3.6095e-04\n",
      "Epoch 469/500\n",
      "293667/293667 [==============================] - 14s 47us/step - loss: 2614889.7546 - acc: 4.4949e-04\n",
      "Epoch 470/500\n",
      "293667/293667 [==============================] - 10s 35us/step - loss: 2612553.5127 - acc: 4.5970e-04\n",
      "Epoch 471/500\n",
      "293667/293667 [==============================] - 12s 41us/step - loss: 2600876.9124 - acc: 4.0863e-04\n",
      "Epoch 472/500\n",
      "293667/293667 [==============================] - 11s 37us/step - loss: 2590146.2336 - acc: 4.3246e-04\n",
      "Epoch 473/500\n",
      "293667/293667 [==============================] - 10s 35us/step - loss: 2554112.5286 - acc: 4.7673e-04\n",
      "Epoch 474/500\n",
      "293667/293667 [==============================] - 11s 37us/step - loss: 2605012.7863 - acc: 3.8479e-04\n",
      "Epoch 475/500\n",
      "293667/293667 [==============================] - 10s 35us/step - loss: 2629353.6776 - acc: 4.1884e-04\n",
      "Epoch 476/500\n",
      "293667/293667 [==============================] - 10s 35us/step - loss: 2605831.9864 - acc: 3.9841e-04\n",
      "Epoch 477/500\n",
      "293667/293667 [==============================] - 10s 35us/step - loss: 2619188.3093 - acc: 4.3246e-04\n",
      "Epoch 478/500\n",
      "293667/293667 [==============================] - 10s 34us/step - loss: 2604001.6931 - acc: 3.8819e-04\n",
      "Epoch 479/500\n",
      "293667/293667 [==============================] - 10s 35us/step - loss: 2616081.4195 - acc: 4.0522e-04\n",
      "Epoch 480/500\n",
      "293667/293667 [==============================] - 11s 36us/step - loss: 2615529.0476 - acc: 4.1544e-04\n",
      "Epoch 481/500\n",
      "293667/293667 [==============================] - 12s 40us/step - loss: 2581234.7824 - acc: 4.0182e-04\n",
      "Epoch 482/500\n",
      "293667/293667 [==============================] - 13s 43us/step - loss: 2589996.7469 - acc: 3.8819e-04\n",
      "Epoch 483/500\n",
      "293667/293667 [==============================] - 12s 40us/step - loss: 2604459.4110 - acc: 3.5074e-04\n",
      "Epoch 484/500\n",
      "293667/293667 [==============================] - 10s 36us/step - loss: 2623270.4061 - acc: 4.0522e-04\n",
      "Epoch 485/500\n",
      "293667/293667 [==============================] - 12s 42us/step - loss: 2621130.1981 - acc: 4.3927e-04\n",
      "Epoch 486/500\n",
      "293667/293667 [==============================] - 13s 45us/step - loss: 2619796.1495 - acc: 4.6311e-04\n",
      "Epoch 487/500\n",
      "293667/293667 [==============================] - 12s 40us/step - loss: 2616119.1189 - acc: 3.9160e-04\n",
      "Epoch 488/500\n",
      "293667/293667 [==============================] - 13s 43us/step - loss: 2617616.5883 - acc: 3.7117e-04\n",
      "Epoch 489/500\n",
      "293667/293667 [==============================] - 12s 40us/step - loss: 2596431.7734 - acc: 4.2906e-04\n",
      "Epoch 490/500\n",
      "293667/293667 [==============================] - 12s 41us/step - loss: 2601953.6305 - acc: 4.5970e-04\n",
      "Epoch 491/500\n",
      "293667/293667 [==============================] - 13s 43us/step - loss: 2619304.6007 - acc: 4.0182e-04\n",
      "Epoch 492/500\n",
      "293667/293667 [==============================] - 12s 42us/step - loss: 2590655.2375 - acc: 3.7457e-04\n",
      "Epoch 493/500\n",
      "293667/293667 [==============================] - 12s 41us/step - loss: 2619000.8731 - acc: 3.6436e-04\n",
      "Epoch 494/500\n",
      "293667/293667 [==============================] - 13s 43us/step - loss: 2588723.5693 - acc: 4.3587e-04\n",
      "Epoch 495/500\n",
      "293667/293667 [==============================] - 12s 42us/step - loss: 2577210.4028 - acc: 4.2906e-04 1s - loss: 2633\n",
      "Epoch 496/500\n",
      "293667/293667 [==============================] - 12s 42us/step - loss: 2615076.2763 - acc: 3.8138e-04\n",
      "Epoch 497/500\n",
      "293667/293667 [==============================] - 12s 42us/step - loss: 2559910.4356 - acc: 4.3246e-04\n",
      "Epoch 498/500\n",
      "293667/293667 [==============================] - 13s 44us/step - loss: 2601473.5265 - acc: 4.1884e-04\n",
      "Epoch 499/500\n",
      "293667/293667 [==============================] - 13s 43us/step - loss: 2581267.4173 - acc: 4.0863e-04\n",
      "Epoch 500/500\n",
      "293667/293667 [==============================] - 13s 44us/step - loss: 2590489.1242 - acc: 4.8014e-04\n"
     ]
    },
    {
     "data": {
      "text/plain": [
       "<keras.callbacks.History at 0x21ecebf7c50>"
      ]
     },
     "execution_count": 20,
     "metadata": {},
     "output_type": "execute_result"
    }
   ],
   "source": [
    "model.fit(X, Y, epochs=500, batch_size=30)"
   ]
  },
  {
   "cell_type": "code",
   "execution_count": 21,
   "metadata": {},
   "outputs": [
    {
     "name": "stdout",
     "output_type": "stream",
     "text": [
      "293667/293667 [==============================] - 6s 20us/step\n",
      "acc: 0.05%\n"
     ]
    }
   ],
   "source": [
    "scores = model.evaluate(X, Y)\n",
    "print(\"%s: %.2f%%\" % (model.metrics_names[1], scores[1]*100))"
   ]
  },
  {
   "cell_type": "code",
   "execution_count": null,
   "metadata": {},
   "outputs": [],
   "source": []
  },
  {
   "cell_type": "code",
   "execution_count": 35,
   "metadata": {},
   "outputs": [
    {
     "ename": "ValueError",
     "evalue": "Classification metrics can't handle a mix of continuous-multioutput and multiclass targets",
     "output_type": "error",
     "traceback": [
      "\u001b[1;31m---------------------------------------------------------------------------\u001b[0m",
      "\u001b[1;31mValueError\u001b[0m                                Traceback (most recent call last)",
      "\u001b[1;32m<ipython-input-35-f3d55fd2e3a7>\u001b[0m in \u001b[0;36m<module>\u001b[1;34m\u001b[0m\n\u001b[0;32m      5\u001b[0m     \u001b[0mknn\u001b[0m \u001b[1;33m=\u001b[0m \u001b[0mKNeighborsClassifier\u001b[0m\u001b[1;33m(\u001b[0m\u001b[0mn_neighbors\u001b[0m\u001b[1;33m=\u001b[0m\u001b[0mk\u001b[0m\u001b[1;33m)\u001b[0m\u001b[1;33m\u001b[0m\u001b[0m\n\u001b[0;32m      6\u001b[0m     \u001b[0mknn\u001b[0m\u001b[1;33m.\u001b[0m\u001b[0mfit\u001b[0m\u001b[1;33m(\u001b[0m\u001b[0mX_train\u001b[0m \u001b[1;33m,\u001b[0m \u001b[0mtraining_scores_encoded\u001b[0m\u001b[1;33m)\u001b[0m\u001b[1;33m\u001b[0m\u001b[0m\n\u001b[1;32m----> 7\u001b[1;33m     \u001b[0mscores\u001b[0m\u001b[1;33m.\u001b[0m\u001b[0mappend\u001b[0m\u001b[1;33m(\u001b[0m\u001b[0mknn\u001b[0m\u001b[1;33m.\u001b[0m\u001b[0mscore\u001b[0m\u001b[1;33m(\u001b[0m\u001b[0mX_test\u001b[0m \u001b[1;33m,\u001b[0m\u001b[0my_test\u001b[0m\u001b[1;33m)\u001b[0m \u001b[1;33m*\u001b[0m \u001b[1;36m100\u001b[0m\u001b[1;33m)\u001b[0m\u001b[1;33m\u001b[0m\u001b[0m\n\u001b[0m\u001b[0;32m      8\u001b[0m \u001b[1;33m\u001b[0m\u001b[0m\n\u001b[0;32m      9\u001b[0m \u001b[1;33m\u001b[0m\u001b[0m\n",
      "\u001b[1;32m~\\AppData\\Local\\conda\\conda\\envs\\cnn\\lib\\site-packages\\sklearn\\base.py\u001b[0m in \u001b[0;36mscore\u001b[1;34m(self, X, y, sample_weight)\u001b[0m\n\u001b[0;32m    348\u001b[0m         \"\"\"\n\u001b[0;32m    349\u001b[0m         \u001b[1;32mfrom\u001b[0m \u001b[1;33m.\u001b[0m\u001b[0mmetrics\u001b[0m \u001b[1;32mimport\u001b[0m \u001b[0maccuracy_score\u001b[0m\u001b[1;33m\u001b[0m\u001b[0m\n\u001b[1;32m--> 350\u001b[1;33m         \u001b[1;32mreturn\u001b[0m \u001b[0maccuracy_score\u001b[0m\u001b[1;33m(\u001b[0m\u001b[0my\u001b[0m\u001b[1;33m,\u001b[0m \u001b[0mself\u001b[0m\u001b[1;33m.\u001b[0m\u001b[0mpredict\u001b[0m\u001b[1;33m(\u001b[0m\u001b[0mX\u001b[0m\u001b[1;33m)\u001b[0m\u001b[1;33m,\u001b[0m \u001b[0msample_weight\u001b[0m\u001b[1;33m=\u001b[0m\u001b[0msample_weight\u001b[0m\u001b[1;33m)\u001b[0m\u001b[1;33m\u001b[0m\u001b[0m\n\u001b[0m\u001b[0;32m    351\u001b[0m \u001b[1;33m\u001b[0m\u001b[0m\n\u001b[0;32m    352\u001b[0m \u001b[1;33m\u001b[0m\u001b[0m\n",
      "\u001b[1;32m~\\AppData\\Local\\conda\\conda\\envs\\cnn\\lib\\site-packages\\sklearn\\metrics\\classification.py\u001b[0m in \u001b[0;36maccuracy_score\u001b[1;34m(y_true, y_pred, normalize, sample_weight)\u001b[0m\n\u001b[0;32m    174\u001b[0m \u001b[1;33m\u001b[0m\u001b[0m\n\u001b[0;32m    175\u001b[0m     \u001b[1;31m# Compute accuracy for each possible representation\u001b[0m\u001b[1;33m\u001b[0m\u001b[1;33m\u001b[0m\u001b[0m\n\u001b[1;32m--> 176\u001b[1;33m     \u001b[0my_type\u001b[0m\u001b[1;33m,\u001b[0m \u001b[0my_true\u001b[0m\u001b[1;33m,\u001b[0m \u001b[0my_pred\u001b[0m \u001b[1;33m=\u001b[0m \u001b[0m_check_targets\u001b[0m\u001b[1;33m(\u001b[0m\u001b[0my_true\u001b[0m\u001b[1;33m,\u001b[0m \u001b[0my_pred\u001b[0m\u001b[1;33m)\u001b[0m\u001b[1;33m\u001b[0m\u001b[0m\n\u001b[0m\u001b[0;32m    177\u001b[0m     \u001b[1;32mif\u001b[0m \u001b[0my_type\u001b[0m\u001b[1;33m.\u001b[0m\u001b[0mstartswith\u001b[0m\u001b[1;33m(\u001b[0m\u001b[1;34m'multilabel'\u001b[0m\u001b[1;33m)\u001b[0m\u001b[1;33m:\u001b[0m\u001b[1;33m\u001b[0m\u001b[0m\n\u001b[0;32m    178\u001b[0m         \u001b[0mdiffering_labels\u001b[0m \u001b[1;33m=\u001b[0m \u001b[0mcount_nonzero\u001b[0m\u001b[1;33m(\u001b[0m\u001b[0my_true\u001b[0m \u001b[1;33m-\u001b[0m \u001b[0my_pred\u001b[0m\u001b[1;33m,\u001b[0m \u001b[0maxis\u001b[0m\u001b[1;33m=\u001b[0m\u001b[1;36m1\u001b[0m\u001b[1;33m)\u001b[0m\u001b[1;33m\u001b[0m\u001b[0m\n",
      "\u001b[1;32m~\\AppData\\Local\\conda\\conda\\envs\\cnn\\lib\\site-packages\\sklearn\\metrics\\classification.py\u001b[0m in \u001b[0;36m_check_targets\u001b[1;34m(y_true, y_pred)\u001b[0m\n\u001b[0;32m     79\u001b[0m     \u001b[1;32mif\u001b[0m \u001b[0mlen\u001b[0m\u001b[1;33m(\u001b[0m\u001b[0my_type\u001b[0m\u001b[1;33m)\u001b[0m \u001b[1;33m>\u001b[0m \u001b[1;36m1\u001b[0m\u001b[1;33m:\u001b[0m\u001b[1;33m\u001b[0m\u001b[0m\n\u001b[0;32m     80\u001b[0m         raise ValueError(\"Classification metrics can't handle a mix of {0} \"\n\u001b[1;32m---> 81\u001b[1;33m                          \"and {1} targets\".format(type_true, type_pred))\n\u001b[0m\u001b[0;32m     82\u001b[0m \u001b[1;33m\u001b[0m\u001b[0m\n\u001b[0;32m     83\u001b[0m     \u001b[1;31m# We can't have more than one value on y_type => The set is no more needed\u001b[0m\u001b[1;33m\u001b[0m\u001b[1;33m\u001b[0m\u001b[0m\n",
      "\u001b[1;31mValueError\u001b[0m: Classification metrics can't handle a mix of continuous-multioutput and multiclass targets"
     ]
    }
   ],
   "source": [
    "# Crearemos una lista con valores para K y un vector para almacenar su score \n",
    "k_rango = list(range(1, 20))\n",
    "scores = []\n",
    "for k in k_rango:\n",
    "    knn = KNeighborsClassifier(n_neighbors=k)\n",
    "    knn.fit(X_train , training_scores_encoded) \n",
    "    scores.append(knn.score(X_test ,y_test) * 100)\n",
    "    \n",
    "    \n",
    "# import Matplotlib (scientific plotting library)\n",
    "import matplotlib.pyplot as plt\n",
    "\n",
    "# allow plots to appear within the notebook\n",
    "%matplotlib inline\n",
    "\n",
    "# plot the relationship between K and testing accuracy\n",
    "plt.plot(k_rango, scores)\n",
    "plt.xlabel('Value of K for KNN')\n",
    "plt.ylabel('Prueba de precision')"
   ]
  },
  {
   "cell_type": "code",
   "execution_count": null,
   "metadata": {},
   "outputs": [],
   "source": []
  },
  {
   "cell_type": "code",
   "execution_count": null,
   "metadata": {},
   "outputs": [],
   "source": [
    " "
   ]
  }
 ],
 "metadata": {
  "kernelspec": {
   "display_name": "Tensorflow-CPU",
   "language": "python",
   "name": "cnn"
  },
  "language_info": {
   "codemirror_mode": {
    "name": "ipython",
    "version": 3
   },
   "file_extension": ".py",
   "mimetype": "text/x-python",
   "name": "python",
   "nbconvert_exporter": "python",
   "pygments_lexer": "ipython3",
   "version": "3.6.6"
  }
 },
 "nbformat": 4,
 "nbformat_minor": 2
}
