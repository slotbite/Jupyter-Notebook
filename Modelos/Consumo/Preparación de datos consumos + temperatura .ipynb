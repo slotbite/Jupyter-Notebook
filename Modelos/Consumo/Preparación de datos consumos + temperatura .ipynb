{
 "cells": [
  {
   "cell_type": "code",
   "execution_count": 14,
   "metadata": {},
   "outputs": [],
   "source": [
    "import pandas as pd\n",
    "import numpy as np \n",
    "%matplotlib inline"
   ]
  },
  {
   "cell_type": "code",
   "execution_count": 3,
   "metadata": {},
   "outputs": [],
   "source": [
    "file_consumos = \"consumosValpoMin.csv\"\n",
    "file_temp = \"tempvalp.csv\""
   ]
  },
  {
   "cell_type": "code",
   "execution_count": 4,
   "metadata": {},
   "outputs": [],
   "source": [
    "df = pd.read_csv(file_consumos , sep=';' ,  encoding='utf-8' , decimal=',') #decimal para leer las comas\n",
    "df_temp = pd.read_csv(file_temp , sep=';' ,  encoding='utf-8' , decimal=',') #decimal para leer las comas"
   ]
  },
  {
   "cell_type": "code",
   "execution_count": 5,
   "metadata": {},
   "outputs": [],
   "source": [
    "#df = 308124 filas\n",
    "## 293667 \n",
    "df = df[df.CONSUMO > 0] "
   ]
  },
  {
   "cell_type": "code",
   "execution_count": 6,
   "metadata": {},
   "outputs": [
    {
     "name": "stdout",
     "output_type": "stream",
     "text": [
      "<class 'pandas.core.frame.DataFrame'>\n",
      "Int64Index: 293667 entries, 0 to 293666\n",
      "Data columns (total 11 columns):\n",
      "COMUNA            293667 non-null object\n",
      "PLAN_COMERCIAL    293667 non-null object\n",
      "CATEGORIA         293667 non-null object\n",
      "SUBCATEGORIA      293667 non-null object\n",
      "PRODUCT_ID        293667 non-null int64\n",
      "AÑO               293667 non-null int64\n",
      "MES               293667 non-null int64\n",
      "CONSUMO           293667 non-null float64\n",
      "max               293667 non-null float64\n",
      "avg               293667 non-null float64\n",
      "min               293667 non-null float64\n",
      "dtypes: float64(4), int64(3), object(4)\n",
      "memory usage: 26.9+ MB\n"
     ]
    }
   ],
   "source": [
    "#df.columns\n",
    "df = pd.merge(df, df_temp,  how='left', left_on=['AÑO','MES'], right_on = ['year','mes'])[['COMUNA', 'PLAN_COMERCIAL', 'CATEGORIA', 'SUBCATEGORIA', 'PRODUCT_ID', 'AÑO', 'MES', 'CONSUMO' , 'max', 'avg', 'min']]"
   ]
  },
  {
   "cell_type": "code",
   "execution_count": 11,
   "metadata": {},
   "outputs": [],
   "source": [
    "df[['PRODUCT_ID','AÑO', 'MES', 'CONSUMO', 'max', 'avg', 'min']] = df[['PRODUCT_ID','AÑO', 'MES', 'CONSUMO', 'max', 'avg', 'min']].astype('float32')"
   ]
  },
  {
   "cell_type": "code",
   "execution_count": 12,
   "metadata": {},
   "outputs": [
    {
     "name": "stdout",
     "output_type": "stream",
     "text": [
      "<class 'pandas.core.frame.DataFrame'>\n",
      "Int64Index: 293667 entries, 0 to 293666\n",
      "Data columns (total 11 columns):\n",
      "COMUNA            293667 non-null object\n",
      "PLAN_COMERCIAL    293667 non-null object\n",
      "CATEGORIA         293667 non-null object\n",
      "SUBCATEGORIA      293667 non-null object\n",
      "PRODUCT_ID        293667 non-null float32\n",
      "AÑO               293667 non-null float32\n",
      "MES               293667 non-null float32\n",
      "CONSUMO           293667 non-null float32\n",
      "max               293667 non-null float32\n",
      "avg               293667 non-null float32\n",
      "min               293667 non-null float32\n",
      "dtypes: float32(7), object(4)\n",
      "memory usage: 19.0+ MB\n"
     ]
    }
   ],
   "source": [
    "df.info()"
   ]
  },
  {
   "cell_type": "code",
   "execution_count": 10,
   "metadata": {},
   "outputs": [
    {
     "data": {
      "text/plain": [
       "Index(['COMUNA', 'PLAN_COMERCIAL', 'CATEGORIA', 'SUBCATEGORIA', 'PRODUCT_ID',\n",
       "       'AÑO', 'MES', 'CONSUMO', 'max', 'avg', 'min'],\n",
       "      dtype='object')"
      ]
     },
     "execution_count": 10,
     "metadata": {},
     "output_type": "execute_result"
    }
   ],
   "source": [
    "df.columns"
   ]
  },
  {
   "cell_type": "code",
   "execution_count": 19,
   "metadata": {},
   "outputs": [],
   "source": [
    "df.to_csv('data_merged.csv', encoding='utf-8', index=False , sep=';' , decimal=',' )"
   ]
  },
  {
   "cell_type": "code",
   "execution_count": null,
   "metadata": {},
   "outputs": [],
   "source": []
  },
  {
   "cell_type": "code",
   "execution_count": null,
   "metadata": {},
   "outputs": [],
   "source": []
  },
  {
   "cell_type": "code",
   "execution_count": null,
   "metadata": {},
   "outputs": [],
   "source": []
  },
  {
   "cell_type": "code",
   "execution_count": null,
   "metadata": {},
   "outputs": [],
   "source": []
  },
  {
   "cell_type": "code",
   "execution_count": null,
   "metadata": {},
   "outputs": [],
   "source": []
  },
  {
   "cell_type": "code",
   "execution_count": null,
   "metadata": {},
   "outputs": [],
   "source": []
  }
 ],
 "metadata": {
  "kernelspec": {
   "display_name": "Tensorflow-CPU",
   "language": "python",
   "name": "cnn"
  },
  "language_info": {
   "codemirror_mode": {
    "name": "ipython",
    "version": 3
   },
   "file_extension": ".py",
   "mimetype": "text/x-python",
   "name": "python",
   "nbconvert_exporter": "python",
   "pygments_lexer": "ipython3",
   "version": "3.6.6"
  }
 },
 "nbformat": 4,
 "nbformat_minor": 2
}
