{
 "cells": [
  {
   "cell_type": "code",
   "execution_count": 236,
   "metadata": {},
   "outputs": [],
   "source": [
    "'''\n",
    "Retorna una lista con las distancias ordenadas del grafico\n",
    "https://joernhees.de/blog/2015/08/26/scipy-hierarchical-clustering-and-dendrogram-tutorial/\n",
    "'''\n",
    "def get_distances(ddata):\n",
    "    arr_distances =[]\n",
    "    for i, d, c in zip(ddata['icoord'], ddata['dcoord'], ddata['color_list']):\n",
    "\n",
    "        arr_distances.append( int(round(d[1] , 1) )) \n",
    "        \n",
    "        \n",
    "    #arr_distances   =arr_distances.sort() \n",
    "    return arr_distances "
   ]
  },
  {
   "cell_type": "code",
   "execution_count": 216,
   "metadata": {},
   "outputs": [],
   "source": [
    "# creado para hierarchy_test\n",
    "def plot_test( df ): \n",
    "     \n",
    "    # 'num_vecinos', 'num_clusters', 'silueta', 'distancia', 'num_clusters'\n",
    "    x = df.index\n",
    "    \n",
    "    trace1 = go.Scatter(\n",
    "        x=x,\n",
    "        y=df.silueta,\n",
    "        name='Silueta',\n",
    "        mode='lines+markers'\n",
    "    )\n",
    "    trace2 = go.Scatter(\n",
    "        x=x,\n",
    "        y=df.distancia,\n",
    "        name='distancia',\n",
    "        yaxis='y2',\n",
    "        mode='lines+markers'\n",
    "    )\n",
    "    trace3 = go.Scatter(\n",
    "        x=x,\n",
    "        y=df.num_clusters,\n",
    "        name='num_clusters',\n",
    "        yaxis='y3',\n",
    "        mode='lines+markers'\n",
    "    ) \n",
    "    \n",
    "    data = [trace1, trace2, trace3  ]\n",
    "    \n",
    "    layout = go.Layout(\n",
    "        title='Testing',\n",
    "        width=900, \n",
    "        yaxis=dict(\n",
    "            title='Silueta',\n",
    "            titlefont=dict(\n",
    "                color='#1f77b4'\n",
    "            ),\n",
    "            tickfont=dict(\n",
    "                color='#1f77b4'\n",
    "            )\n",
    "        ),\n",
    "        yaxis2=dict(\n",
    "            title='distancia',\n",
    "            titlefont=dict(\n",
    "                color='#ff7f0e'\n",
    "            ),\n",
    "            tickfont=dict(\n",
    "                color='#ff7f0e'\n",
    "            ),\n",
    "            anchor='free',\n",
    "            overlaying='y',\n",
    "            side='left',\n",
    "            position=0.15\n",
    "        ),\n",
    "        yaxis3=dict(\n",
    "            title='num_clusters',\n",
    "            titlefont=dict(\n",
    "                color='#d62728'\n",
    "            ),\n",
    "            tickfont=dict(\n",
    "                color='#d62728'\n",
    "            ),\n",
    "            anchor='x',\n",
    "            overlaying='y',\n",
    "            side='right'\n",
    "        ) \n",
    "    )\n",
    "    fig = go.Figure(data=data, layout=layout)\n",
    "    #plot_url = py.plot(fig, filename='multiple-axes-multiple')\n",
    "    return fig  "
   ]
  },
  {
   "cell_type": "code",
   "execution_count": 114,
   "metadata": {},
   "outputs": [],
   "source": [
    "def single_silhouette_dendrogram(dist_matrix, Z, threshold, mode='clusters',\n",
    "                                 method='single', sample_names=None):\n",
    "    \"\"\"Compute the average silhouette at a given threshold.\n",
    "\n",
    "    Parameters\n",
    "    ----------\n",
    "    dist_matrix : array-like\n",
    "        Precomputed distance matrix between points.\n",
    "    Z : array-like\n",
    "        Linkage matrix, results of scipy.cluster.hierarchy.linkage.\n",
    "    threshold : float\n",
    "        Specifies where to cut the dendrogram.\n",
    "    mode : ('clusters', 'thresholds'), optional\n",
    "        Choose what to visualise on the x-axis.\n",
    "\n",
    "    Returns\n",
    "    -------\n",
    "    x : float\n",
    "        Based on mode, it can contains the number of clusters or threshold.\n",
    "    silhouette_avg : float\n",
    "        The average silhouette.\n",
    "    \"\"\"\n",
    "    cluster_labels = fcluster(Z, threshold, 'distance')\n",
    "    nclusts = np.unique(cluster_labels).shape[0]\n",
    "  \n",
    "    try:\n",
    "        silhouette_list = silhouette_samples(dist_matrix, cluster_labels,\n",
    "                                             metric=\"precomputed\")\n",
    "        silhouette_avg = np.mean(silhouette_list)\n",
    "        x = max(cluster_labels) if mode == 'clusters' else threshold\n",
    "    except ValueError as e:\n",
    "        if max(cluster_labels) == 1:\n",
    "            x = 1 if mode == 'clusters' else threshold\n",
    "            silhouette_avg = 0\n",
    "        else:\n",
    "            raise(e)\n",
    "\n",
    "    return x, silhouette_avg"
   ]
  },
  {
   "cell_type": "code",
   "execution_count": 277,
   "metadata": {},
   "outputs": [],
   "source": [
    "def hierarchy_test(ddata):\n",
    "    col_silueta = []\n",
    "    col_clusters = []\n",
    "    col_distancia = []\n",
    "\n",
    "    for i in list(get_distances(ddata)):\n",
    "        ##test\n",
    "        num_clusters , coef_s  =  single_silhouette_dendrogram( squareform(data_dist) , mergings   , i   )\n",
    "        col_silueta.append(coef_s)\n",
    "        col_clusters.append(num_clusters)\n",
    "        \n",
    "        col_distancia.append(i)\n",
    "  \n",
    "\n",
    "    bench = pd.DataFrame({\n",
    "        \"distancia\":col_distancia,\n",
    "        \"num_clusters\": col_clusters, \n",
    "        \"silueta\":col_silueta \n",
    "    } )  \n",
    "\n",
    "    bench = bench.sort_values('silueta' , ascending=False ) \n",
    "    bench = bench.reset_index(drop=True)\n",
    "    bench.to_csv('bench.csv', sep=';' , index=False , decimal = ',')\n",
    "    return bench "
   ]
  },
  {
   "cell_type": "code",
   "execution_count": 249,
   "metadata": {},
   "outputs": [],
   "source": [
    "def ploty_scatter(x , y ):\n",
    "    # Create a trace\n",
    "    trace = go.Scatter(\n",
    "        x = x,   \n",
    "        y = y,   \n",
    "        mode = 'markers', \n",
    "        marker=dict(color= labels , colorscale=colorscale ) \n",
    "    ) \n",
    "    layout = go.Layout( \n",
    "        plot_bgcolor = '#FFFFFF',\n",
    "        paper_bgcolor = '#FFFFFF' \n",
    "    )\n",
    "    data = [trace] \n",
    "    fig = go.Figure(data = data, layout = layout)\n",
    "    # Plot and embed in ipython notebook!\n",
    "    #py.iplot(fig ,   filename='simple_scatter') \n",
    "    return fig"
   ]
  },
  {
   "cell_type": "code",
   "execution_count": 105,
   "metadata": {},
   "outputs": [],
   "source": [
    "def fancy_dendrogram(*args, **kwargs):\n",
    "    max_d = kwargs.pop('max_d', None)\n",
    "    if max_d and 'color_threshold' not in kwargs:\n",
    "        kwargs['color_threshold'] = max_d\n",
    "    annotate_above = kwargs.pop('annotate_above', 0)\n",
    "\n",
    "    ddata = dendrogram(*args, **kwargs)\n",
    "\n",
    "    if not kwargs.get('no_plot', False):\n",
    "        plt.title('Hierarchical Clustering Dendrogram (truncated)')\n",
    "        plt.xlabel('sample index or (cluster size)')\n",
    "        plt.ylabel('distance')\n",
    "        for i, d, c in zip(ddata['icoord'], ddata['dcoord'], ddata['color_list']):\n",
    "            x = 0.5 * sum(i[1:3])\n",
    "            y = d[1]\n",
    "            if y > annotate_above:\n",
    "                plt.plot(x, y, 'o', c=c)\n",
    "                plt.annotate(\"%d\" % y, (x, y), xytext=(0, -5),\n",
    "                             textcoords='offset points',\n",
    "                             va='top', ha='center')\n",
    "        if max_d:\n",
    "            plt.axhline(y=max_d, c='k')\n",
    "    return ddata"
   ]
  },
  {
   "cell_type": "code",
   "execution_count": 73,
   "metadata": {},
   "outputs": [],
   "source": [
    "colorscale =[ \n",
    "            [0.0                 ,  '#cecece',], \n",
    "            [0.047619047619047616,  '#ffff00',],\n",
    "            [0.09523809523809523 ,  '#fff21d',],\n",
    "            [0.14285714285714285 ,  '#ffe52a',],\n",
    "            [0.19047619047619047 ,  '#ffd733',],\n",
    "            [0.23809523809523808 ,  '#ffca3a',],\n",
    "            [0.2857142857142857  ,  '#ffbd40',],\n",
    "            [0.3333333333333333  ,  '#ffad45',],\n",
    "            [0.38095238095238093 ,  '#ffa049',],\n",
    "            [0.42857142857142855 ,  '#ff904d',],\n",
    "            [0.47619047619047616 ,  '#ff7f50',],\n",
    "            [0.5238095238095237  ,  '#ff7f50',],\n",
    "            [0.5714285714285714  ,  '#f47263',],\n",
    "            [0.6190476190476191  ,  '#e96673',],\n",
    "            [0.6666666666666667  ,  '#dd5a83',],\n",
    "            [0.7142857142857144  ,  '#cf4d92',],\n",
    "            [0.7619047619047621  ,  '#c040a1',],\n",
    "            [0.8095238095238098  ,  '#b033af',],\n",
    "            [0.8571428571428574  ,  '#9e25be',],\n",
    "            [0.9047619047619051  ,  '#8615cd',],\n",
    "            [0.9523809523809528  ,  '#6900db',], \n",
    "            [1                   ,  '#3d3d3d']]"
   ]
  },
  {
   "cell_type": "code",
   "execution_count": 198,
   "metadata": {},
   "outputs": [],
   "source": [
    "import numpy as np\n",
    "import pandas as pd \n",
    "import matplotlib.pyplot as plt\n",
    "import seaborn as sns \n",
    "import plotly.plotly as py\n",
    "import plotly.graph_objs as go \n",
    "from sklearn.cluster import KMeans\n",
    "from sklearn.metrics import pairwise_distances_argmin_min \n",
    "from sklearn.preprocessing import StandardScaler \n",
    "from sklearn import metrics \n",
    "from sklearn.metrics import davies_bouldin_score \n",
    "import hdbscan \n",
    "\n",
    "from scipy.cluster.hierarchy import linkage , dendrogram ,  fcluster  \n",
    "from sklearn.metrics import silhouette_samples  # , silhouette_score\n",
    "\n",
    "#plotly.tools.set_credentials_file(username='slotbite', api_key='GYgRt3eXz6IdiIy3k7sO')\n",
    "py.plotly.tools.set_credentials_file(username='cachulooo', api_key='srvpWbqoQ27WdGO3pArx')\n",
    "\n",
    " \n",
    "%matplotlib inline\n",
    "plt.rcParams['figure.figsize'] = (18, 12)\n",
    "np.set_printoptions(precision=2, suppress=True)  # suppress scientific float notation"
   ]
  },
  {
   "cell_type": "code",
   "execution_count": 97,
   "metadata": {},
   "outputs": [],
   "source": [
    "# Cargando datos\n",
    "df = pd.read_csv(\"segmentacion_clientes.csv\" , delimiter=\";\" , decimal=\",\" , encoding='utf-8')"
   ]
  },
  {
   "cell_type": "code",
   "execution_count": 98,
   "metadata": {},
   "outputs": [
    {
     "data": {
      "text/html": [
       "<div>\n",
       "<style scoped>\n",
       "    .dataframe tbody tr th:only-of-type {\n",
       "        vertical-align: middle;\n",
       "    }\n",
       "\n",
       "    .dataframe tbody tr th {\n",
       "        vertical-align: top;\n",
       "    }\n",
       "\n",
       "    .dataframe thead th {\n",
       "        text-align: right;\n",
       "    }\n",
       "</style>\n",
       "<table border=\"1\" class=\"dataframe\">\n",
       "  <thead>\n",
       "    <tr style=\"text-align: right;\">\n",
       "      <th></th>\n",
       "      <th>PRODUCT_ID</th>\n",
       "      <th>SUBSCRIPTION_ID</th>\n",
       "      <th>SUBSCRIBER_ID</th>\n",
       "      <th>COMUNA</th>\n",
       "      <th>TI</th>\n",
       "      <th>TI2</th>\n",
       "      <th>TIPO_REPARTO</th>\n",
       "      <th>QUEJAS</th>\n",
       "      <th>DAÑOS</th>\n",
       "      <th>CORTES</th>\n",
       "      <th>RECLAMOS</th>\n",
       "      <th>FACTURACION_PROMEDIO</th>\n",
       "      <th>SALDO_PROMEDIO</th>\n",
       "      <th>ROTACION_CARTERA</th>\n",
       "      <th>COMUNA_ENC</th>\n",
       "    </tr>\n",
       "  </thead>\n",
       "  <tbody>\n",
       "    <tr>\n",
       "      <th>0</th>\n",
       "      <td>122551</td>\n",
       "      <td>122551</td>\n",
       "      <td>13185036</td>\n",
       "      <td>128 - San Esteban                             ...</td>\n",
       "      <td>0</td>\n",
       "      <td>0</td>\n",
       "      <td>0</td>\n",
       "      <td>0</td>\n",
       "      <td>0</td>\n",
       "      <td>0</td>\n",
       "      <td>0</td>\n",
       "      <td>18964.8333</td>\n",
       "      <td>33256.6667</td>\n",
       "      <td>1.753504</td>\n",
       "      <td>8</td>\n",
       "    </tr>\n",
       "    <tr>\n",
       "      <th>1</th>\n",
       "      <td>122581</td>\n",
       "      <td>122581</td>\n",
       "      <td>122581</td>\n",
       "      <td>128 - San Esteban                             ...</td>\n",
       "      <td>0</td>\n",
       "      <td>0</td>\n",
       "      <td>0</td>\n",
       "      <td>0</td>\n",
       "      <td>0</td>\n",
       "      <td>0</td>\n",
       "      <td>0</td>\n",
       "      <td>28445.7500</td>\n",
       "      <td>36605.0833</td>\n",
       "      <td>1.286793</td>\n",
       "      <td>8</td>\n",
       "    </tr>\n",
       "    <tr>\n",
       "      <th>2</th>\n",
       "      <td>109938</td>\n",
       "      <td>109938</td>\n",
       "      <td>3665521</td>\n",
       "      <td>145 - San Felipe                              ...</td>\n",
       "      <td>0</td>\n",
       "      <td>1</td>\n",
       "      <td>0</td>\n",
       "      <td>0</td>\n",
       "      <td>0</td>\n",
       "      <td>1</td>\n",
       "      <td>0</td>\n",
       "      <td>135045.4170</td>\n",
       "      <td>327823.5000</td>\n",
       "      <td>2.427488</td>\n",
       "      <td>18</td>\n",
       "    </tr>\n",
       "  </tbody>\n",
       "</table>\n",
       "</div>"
      ],
      "text/plain": [
       "   PRODUCT_ID  SUBSCRIPTION_ID  SUBSCRIBER_ID  \\\n",
       "0      122551           122551       13185036   \n",
       "1      122581           122581         122581   \n",
       "2      109938           109938        3665521   \n",
       "\n",
       "                                              COMUNA  TI  TI2  TIPO_REPARTO  \\\n",
       "0  128 - San Esteban                             ...   0    0             0   \n",
       "1  128 - San Esteban                             ...   0    0             0   \n",
       "2  145 - San Felipe                              ...   0    1             0   \n",
       "\n",
       "   QUEJAS  DAÑOS  CORTES  RECLAMOS  FACTURACION_PROMEDIO  SALDO_PROMEDIO  \\\n",
       "0       0      0       0         0            18964.8333      33256.6667   \n",
       "1       0      0       0         0            28445.7500      36605.0833   \n",
       "2       0      0       1         0           135045.4170     327823.5000   \n",
       "\n",
       "   ROTACION_CARTERA  COMUNA_ENC  \n",
       "0          1.753504           8  \n",
       "1          1.286793           8  \n",
       "2          2.427488          18  "
      ]
     },
     "execution_count": 98,
     "metadata": {},
     "output_type": "execute_result"
    }
   ],
   "source": [
    "# Eliminacion de outliers (-)\n",
    "df = df[df.PRODUCT_ID > 0] \n",
    "df = df[(df.FACTURACION_PROMEDIO > 0 ) & (df.FACTURACION_PROMEDIO <= 397000 )] \n",
    "df = df[(df.SALDO_PROMEDIO > 0 ) & (df.SALDO_PROMEDIO <= 401500 )]  \n",
    "\n",
    "\n",
    "## Convertimos las variables categoricas\n",
    "#http://pbpython.com/categorical-encoding.html\n",
    "pd.options.mode.chained_assignment = None\n",
    "df[\"COMUNA\"] = df[\"COMUNA\"].astype('category')\n",
    "df[\"TIPO_REPARTO\"] = df[\"TIPO_REPARTO\"].astype('category')\n",
    "df[\"TI\"] = df[\"TI\"].astype('category')\n",
    "df[\"TI2\"] = df[\"TI2\"].astype('category')\n",
    "\n",
    "# luego la encodificamos \n",
    "df[\"TI\"] = df[\"TI\"].cat.codes\n",
    "df[\"TI2\"] = df[\"TI2\"].cat.codes\n",
    "df[\"COMUNA_ENC\"] = df[\"COMUNA\"].cat.codes \n",
    "df[\"TIPO_REPARTO\"] = df[\"TIPO_REPARTO\"].cat.codes \n",
    "df[:3]"
   ]
  },
  {
   "cell_type": "code",
   "execution_count": 99,
   "metadata": {},
   "outputs": [
    {
     "data": {
      "text/plain": [
       "Index(['PRODUCT_ID', 'SUBSCRIPTION_ID', 'SUBSCRIBER_ID', 'COMUNA', 'TI', 'TI2',\n",
       "       'TIPO_REPARTO', 'QUEJAS', 'DAÑOS', 'CORTES', 'RECLAMOS',\n",
       "       'FACTURACION_PROMEDIO', 'SALDO_PROMEDIO', 'ROTACION_CARTERA',\n",
       "       'COMUNA_ENC'],\n",
       "      dtype='object')"
      ]
     },
     "execution_count": 99,
     "metadata": {},
     "output_type": "execute_result"
    }
   ],
   "source": [
    "df.columns"
   ]
  },
  {
   "cell_type": "code",
   "execution_count": 100,
   "metadata": {},
   "outputs": [],
   "source": [
    "columnas=['SALDO_PROMEDIO', 'ROTACION_CARTERA','FACTURACION_PROMEDIO','TI', 'TI2',\n",
    "          'TIPO_REPARTO', 'QUEJAS', 'DAÑOS', 'CORTES', 'RECLAMOS','COMUNA_ENC']"
   ]
  },
  {
   "cell_type": "code",
   "execution_count": 279,
   "metadata": {},
   "outputs": [],
   "source": [
    "frac= 0.1\n",
    "random = 42  \n",
    "sample = df[columnas].sample(frac=frac )"
   ]
  },
  {
   "cell_type": "code",
   "execution_count": 280,
   "metadata": {},
   "outputs": [
    {
     "data": {
      "text/plain": [
       "(58426, 11)"
      ]
     },
     "execution_count": 280,
     "metadata": {},
     "output_type": "execute_result"
    }
   ],
   "source": [
    "sample.shape "
   ]
  },
  {
   "cell_type": "code",
   "execution_count": 281,
   "metadata": {},
   "outputs": [
    {
     "data": {
      "text/plain": [
       "Index(['SALDO_PROMEDIO', 'ROTACION_CARTERA', 'FACTURACION_PROMEDIO', 'TI',\n",
       "       'TI2', 'TIPO_REPARTO', 'QUEJAS', 'DAÑOS', 'CORTES', 'RECLAMOS',\n",
       "       'COMUNA_ENC'],\n",
       "      dtype='object')"
      ]
     },
     "execution_count": 281,
     "metadata": {},
     "output_type": "execute_result"
    }
   ],
   "source": [
    "sample.columns"
   ]
  },
  {
   "cell_type": "code",
   "execution_count": 282,
   "metadata": {},
   "outputs": [
    {
     "name": "stderr",
     "output_type": "stream",
     "text": [
      "C:\\Users\\cvargasa\\AppData\\Local\\conda\\conda\\envs\\cnn\\lib\\site-packages\\plotly\\plotly\\plotly.py:230: UserWarning:\n",
      "\n",
      "Woah there! Look at all those points! Due to browser limitations, the Plotly SVG drawing functions have a hard time graphing more than 500k data points for line charts, or 40k points for other types of charts. Here are some suggestions:\n",
      "(1) Use the `plotly.graph_objs.Scattergl` trace object to generate a WebGl graph.\n",
      "(2) Trying using the image API to return an image instead of a graph URL\n",
      "(3) Use matplotlib\n",
      "(4) See if you can create your visualization with fewer data points\n",
      "\n",
      "If the visualization you're using aggregates points (e.g., box plot, histogram, etc.) you can disregard this warning.\n",
      "\n",
      "C:\\Users\\cvargasa\\AppData\\Local\\conda\\conda\\envs\\cnn\\lib\\site-packages\\plotly\\plotly\\plotly.py:230: UserWarning:\n",
      "\n",
      "Woah there! Look at all those points! Due to browser limitations, the Plotly SVG drawing functions have a hard time graphing more than 500k data points for line charts, or 40k points for other types of charts. Here are some suggestions:\n",
      "(1) Use the `plotly.graph_objs.Scattergl` trace object to generate a WebGl graph.\n",
      "(2) Trying using the image API to return an image instead of a graph URL\n",
      "(3) Use matplotlib\n",
      "(4) See if you can create your visualization with fewer data points\n",
      "\n",
      "If the visualization you're using aggregates points (e.g., box plot, histogram, etc.) you can disregard this warning.\n",
      "\n"
     ]
    },
    {
     "name": "stdout",
     "output_type": "stream",
     "text": [
      "The draw time for this plot will be slow for clients without much RAM.\n"
     ]
    },
    {
     "name": "stderr",
     "output_type": "stream",
     "text": [
      "C:\\Users\\cvargasa\\AppData\\Local\\conda\\conda\\envs\\cnn\\lib\\site-packages\\plotly\\api\\v1\\clientresp.py:40: UserWarning:\n",
      "\n",
      "Estimated Draw Time Slow\n",
      "\n"
     ]
    },
    {
     "data": {
      "text/html": [
       "<iframe id=\"igraph\" scrolling=\"no\" style=\"border:none;\" seamless=\"seamless\" src=\"https://plot.ly/~cachulooo/4.embed\" height=\"525px\" width=\"100%\"></iframe>"
      ],
      "text/plain": [
       "<plotly.tools.PlotlyDisplay object>"
      ]
     },
     "execution_count": 282,
     "metadata": {},
     "output_type": "execute_result"
    }
   ],
   "source": [
    "fig = ploty_scatter( sample.SALDO_PROMEDIO , sample.ROTACION_CARTERA )\n",
    "py.iplot(fig ,   filename='scatter_hdbscan')"
   ]
  },
  {
   "cell_type": "markdown",
   "metadata": {},
   "source": [
    "# Clustering jerárquico"
   ]
  },
  {
   "cell_type": "code",
   "execution_count": null,
   "metadata": {},
   "outputs": [],
   "source": [
    "data_dist = pdist(sample ) # computing the distance\n",
    "mergings = linkage(data_dist , method='ward') # computing the linkage\n",
    "\n",
    "# original \n",
    "#mergings = linkage(sample , method='ward') "
   ]
  },
  {
   "cell_type": "code",
   "execution_count": 103,
   "metadata": {},
   "outputs": [
    {
     "data": {
      "text/plain": [
       "0.8890756127141494"
      ]
     },
     "execution_count": 103,
     "metadata": {},
     "output_type": "execute_result"
    }
   ],
   "source": [
    "from scipy.cluster.hierarchy import cophenet\n",
    "from scipy.spatial.distance import pdist ,  squareform\n",
    " ## test culero 1\n",
    "c, coph_dists = cophenet(mergings, pdist(sample))\n",
    "c"
   ]
  },
  {
   "cell_type": "code",
   "execution_count": 80,
   "metadata": {},
   "outputs": [
    {
     "data": {
      "image/png": "[encoded data removed]",
      "text/plain": [
       "<Figure size 1296x864 with 1 Axes>"
      ]
     },
     "metadata": {
      "needs_background": "light"
     },
     "output_type": "display_data"
    },
    {
     "name": "stdout",
     "output_type": "stream",
     "text": [
      "clusters: 2\n"
     ]
    }
   ],
   "source": [
    "## test culero 2\n",
    "last = mergings[-10:, 2] \n",
    "last_rev = last[::-1]\n",
    "idxs = np.arange(1, len(last) + 1)\n",
    "plt.plot(idxs, last_rev)\n",
    "\n",
    "acceleration = np.diff(last, 2)  # 2nd derivative of the distances\n",
    "acceleration_rev = acceleration[::-1]\n",
    "plt.plot(idxs[:-2] + 1, acceleration_rev)\n",
    "plt.show()\n",
    "k = acceleration_rev.argmax() + 2  # if idx 0 is the max of this we want 2 clusters\n",
    "print(\"clusters:\" , k)"
   ]
  },
  {
   "cell_type": "code",
   "execution_count": 269,
   "metadata": {},
   "outputs": [
    {
     "data": {
      "image/png": "[encoded data removed]",
      "text/plain": [
       "<Figure size 1296x864 with 1 Axes>"
      ]
     },
     "metadata": {
      "needs_background": "light"
     },
     "output_type": "display_data"
    }
   ],
   "source": [
    "ddata = fancy_dendrogram(\n",
    "    mergings,\n",
    "    truncate_mode='lastp',\n",
    "    p=12, \n",
    "    leaf_font_size=12.,\n",
    "    show_contracted=True,\n",
    "    annotate_above=10,  # useful in small plots so annotations don't overlap\n",
    ")\n",
    "plt.show()"
   ]
  },
  {
   "cell_type": "markdown",
   "metadata": {},
   "source": [
    "## Test "
   ]
  },
  {
   "cell_type": "code",
   "execution_count": 278,
   "metadata": {},
   "outputs": [
    {
     "data": {
      "text/plain": [
       "'https://plot.ly/~cachulooo/36'"
      ]
     },
     "execution_count": 278,
     "metadata": {},
     "output_type": "execute_result"
    }
   ],
   "source": [
    "py.plot(plot_test(hierarchy_test(ddata) ) , filename='multiple-axes-multiple')"
   ]
  },
  {
   "cell_type": "code",
   "execution_count": 272,
   "metadata": {},
   "outputs": [
    {
     "data": {
      "text/html": [
       "<div>\n",
       "<style scoped>\n",
       "    .dataframe tbody tr th:only-of-type {\n",
       "        vertical-align: middle;\n",
       "    }\n",
       "\n",
       "    .dataframe tbody tr th {\n",
       "        vertical-align: top;\n",
       "    }\n",
       "\n",
       "    .dataframe thead th {\n",
       "        text-align: right;\n",
       "    }\n",
       "</style>\n",
       "<table border=\"1\" class=\"dataframe\">\n",
       "  <thead>\n",
       "    <tr style=\"text-align: right;\">\n",
       "      <th></th>\n",
       "      <th>distancia</th>\n",
       "      <th>num_clusters</th>\n",
       "      <th>silueta</th>\n",
       "    </tr>\n",
       "  </thead>\n",
       "  <tbody>\n",
       "    <tr>\n",
       "      <th>0</th>\n",
       "      <td>4470185</td>\n",
       "      <td>2</td>\n",
       "      <td>0.810029</td>\n",
       "    </tr>\n",
       "    <tr>\n",
       "      <th>1</th>\n",
       "      <td>1076934</td>\n",
       "      <td>5</td>\n",
       "      <td>0.543581</td>\n",
       "    </tr>\n",
       "    <tr>\n",
       "      <th>2</th>\n",
       "      <td>1878731</td>\n",
       "      <td>4</td>\n",
       "      <td>0.541817</td>\n",
       "    </tr>\n",
       "    <tr>\n",
       "      <th>3</th>\n",
       "      <td>2160541</td>\n",
       "      <td>3</td>\n",
       "      <td>0.536880</td>\n",
       "    </tr>\n",
       "    <tr>\n",
       "      <th>4</th>\n",
       "      <td>749873</td>\n",
       "      <td>7</td>\n",
       "      <td>0.514987</td>\n",
       "    </tr>\n",
       "    <tr>\n",
       "      <th>5</th>\n",
       "      <td>1061814</td>\n",
       "      <td>6</td>\n",
       "      <td>0.510439</td>\n",
       "    </tr>\n",
       "    <tr>\n",
       "      <th>6</th>\n",
       "      <td>648444</td>\n",
       "      <td>9</td>\n",
       "      <td>0.415396</td>\n",
       "    </tr>\n",
       "    <tr>\n",
       "      <th>7</th>\n",
       "      <td>511064</td>\n",
       "      <td>9</td>\n",
       "      <td>0.415396</td>\n",
       "    </tr>\n",
       "    <tr>\n",
       "      <th>8</th>\n",
       "      <td>725598</td>\n",
       "      <td>8</td>\n",
       "      <td>0.414575</td>\n",
       "    </tr>\n",
       "    <tr>\n",
       "      <th>9</th>\n",
       "      <td>449753</td>\n",
       "      <td>12</td>\n",
       "      <td>0.395706</td>\n",
       "    </tr>\n",
       "    <tr>\n",
       "      <th>10</th>\n",
       "      <td>471030</td>\n",
       "      <td>11</td>\n",
       "      <td>0.387317</td>\n",
       "    </tr>\n",
       "  </tbody>\n",
       "</table>\n",
       "</div>"
      ],
      "text/plain": [
       "    distancia  num_clusters   silueta\n",
       "0     4470185             2  0.810029\n",
       "1     1076934             5  0.543581\n",
       "2     1878731             4  0.541817\n",
       "3     2160541             3  0.536880\n",
       "4      749873             7  0.514987\n",
       "5     1061814             6  0.510439\n",
       "6      648444             9  0.415396\n",
       "7      511064             9  0.415396\n",
       "8      725598             8  0.414575\n",
       "9      449753            12  0.395706\n",
       "10     471030            11  0.387317"
      ]
     },
     "execution_count": 272,
     "metadata": {},
     "output_type": "execute_result"
    }
   ],
   "source": [
    "hierarchy_test(ddata) #.plot(x='num_clusters' , y='silueta')\n",
    "#get_distances(ddata) "
   ]
  },
  {
   "cell_type": "code",
   "execution_count": 229,
   "metadata": {},
   "outputs": [],
   "source": [
    "# Solo de referencia \n",
    "# coef_s , num_clusters  =  single_silhouette_dendrogram( squareform(data_dist) , mergings   , 351161  ) \n",
    "# num_clusters"
   ]
  },
  {
   "cell_type": "markdown",
   "metadata": {},
   "source": [
    "# Get labels"
   ]
  },
  {
   "cell_type": "code",
   "execution_count": 273,
   "metadata": {},
   "outputs": [
    {
     "data": {
      "text/plain": [
       "array([5, 4, 4, ..., 5, 5, 4], dtype=int32)"
      ]
     },
     "execution_count": 273,
     "metadata": {},
     "output_type": "execute_result"
    }
   ],
   "source": [
    "from scipy.cluster.hierarchy import fcluster\n",
    "max_d = 1076934\n",
    "clusters = fcluster(mergings, max_d, criterion='distance')\n",
    "clusters"
   ]
  },
  {
   "cell_type": "code",
   "execution_count": 274,
   "metadata": {},
   "outputs": [],
   "source": [
    "labels= clusters"
   ]
  },
  {
   "cell_type": "code",
   "execution_count": 275,
   "metadata": {},
   "outputs": [
    {
     "data": {
      "text/html": [
       "<iframe id=\"igraph\" scrolling=\"no\" style=\"border:none;\" seamless=\"seamless\" src=\"https://plot.ly/~cachulooo/4.embed\" height=\"525px\" width=\"100%\"></iframe>"
      ],
      "text/plain": [
       "<plotly.tools.PlotlyDisplay object>"
      ]
     },
     "execution_count": 275,
     "metadata": {},
     "output_type": "execute_result"
    }
   ],
   "source": [
    "fig = ploty_scatter( sample.SALDO_PROMEDIO , sample.ROTACION_CARTERA )\n",
    "py.iplot(fig ,   filename='scatter_hdbscan') "
   ]
  },
  {
   "cell_type": "code",
   "execution_count": null,
   "metadata": {},
   "outputs": [],
   "source": []
  },
  {
   "cell_type": "code",
   "execution_count": 147,
   "metadata": {},
   "outputs": [],
   "source": [
    "from scipy.spatial.distance import pdist ,  squareform\n",
    "\n",
    "data_dist = pdist(sample ) # computing the distance\n",
    "mergings = linkage(data_dist , method='ward') # computing the linkage\n",
    "#mergings = linkage(sample , method='ward')"
   ]
  },
  {
   "cell_type": "code",
   "execution_count": 155,
   "metadata": {},
   "outputs": [
    {
     "data": {
      "image/png": "[encoded data removed]",
      "text/plain": [
       "<Figure size 1296x864 with 1 Axes>"
      ]
     },
     "metadata": {
      "needs_background": "light"
     },
     "output_type": "display_data"
    }
   ],
   "source": [
    "plt.title('Hierarchical Clustering Dendrogram (truncated)')\n",
    "plt.xlabel('sample index or (cluster size)')\n",
    "plt.ylabel('distance')\n",
    "ddata = dendrogram(\n",
    "    mergings,\n",
    "    truncate_mode='lastp',  # show only the last p merged clusters\n",
    "    p=12,  # show only the last p merged cluster\n",
    "    leaf_font_size=12.,\n",
    "    show_contracted=True,  # to get a distribution impression in truncated branches\n",
    ")\n",
    "plt.show()"
   ]
  }
 ],
 "metadata": {
  "kernelspec": {
   "display_name": "Python 3",
   "language": "python",
   "name": "python3"
  },
  "language_info": {
   "codemirror_mode": {
    "name": "ipython",
    "version": 3
   },
   "file_extension": ".py",
   "mimetype": "text/x-python",
   "name": "python",
   "nbconvert_exporter": "python",
   "pygments_lexer": "ipython3",
   "version": "3.6.6"
  }
 },
 "nbformat": 4,
 "nbformat_minor": 2
}
