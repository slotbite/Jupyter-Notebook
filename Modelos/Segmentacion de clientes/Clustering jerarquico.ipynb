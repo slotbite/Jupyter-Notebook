{
 "cells": [
  {
   "cell_type": "code",
   "execution_count": 1,
   "metadata": {},
   "outputs": [],
   "source": [
    "'''\n",
    "Retorna una lista con las distancias ordenadas del grafico\n",
    "https://joernhees.de/blog/2015/08/26/scipy-hierarchical-clustering-and-dendrogram-tutorial/\n",
    "'''\n",
    "def get_distances(ddata):\n",
    "    arr_distances =[]\n",
    "    for i, d, c in zip(ddata['icoord'], ddata['dcoord'], ddata['color_list']):\n",
    "\n",
    "        arr_distances.append( int(round(d[1] , 1) )) \n",
    "        \n",
    "        \n",
    "    #arr_distances   =arr_distances.sort() \n",
    "    return arr_distances "
   ]
  },
  {
   "cell_type": "code",
   "execution_count": 2,
   "metadata": {},
   "outputs": [],
   "source": [
    "# creado para hierarchy_test\n",
    "def plot_test( df ): \n",
    "     \n",
    "    # 'num_vecinos', 'num_clusters', 'silueta', 'distancia', 'num_clusters'\n",
    "    x = df.index\n",
    "    \n",
    "    trace1 = go.Scatter(\n",
    "        x=x,\n",
    "        y=df.silueta,\n",
    "        name='Silueta',\n",
    "        mode='lines+markers'\n",
    "    )\n",
    "    trace2 = go.Scatter(\n",
    "        x=x,\n",
    "        y=df.distancia,\n",
    "        name='distancia',\n",
    "        yaxis='y2',\n",
    "        mode='lines+markers'\n",
    "    )\n",
    "    trace3 = go.Scatter(\n",
    "        x=x,\n",
    "        y=df.num_clusters,\n",
    "        name='num_clusters',\n",
    "        yaxis='y3',\n",
    "        mode='lines+markers'\n",
    "    ) \n",
    "    \n",
    "    data = [trace1, trace2, trace3  ]\n",
    "    \n",
    "    layout = go.Layout(\n",
    "        title='Testing',\n",
    "        width=900, \n",
    "        yaxis=dict(\n",
    "            title='Silueta',\n",
    "            titlefont=dict(\n",
    "                color='#1f77b4'\n",
    "            ),\n",
    "            tickfont=dict(\n",
    "                color='#1f77b4'\n",
    "            )\n",
    "        ),\n",
    "        yaxis2=dict(\n",
    "            title='distancia',\n",
    "            titlefont=dict(\n",
    "                color='#ff7f0e'\n",
    "            ),\n",
    "            tickfont=dict(\n",
    "                color='#ff7f0e'\n",
    "            ),\n",
    "            anchor='free',\n",
    "            overlaying='y',\n",
    "            side='left',\n",
    "            position=0.15\n",
    "        ),\n",
    "        yaxis3=dict(\n",
    "            title='num_clusters',\n",
    "            titlefont=dict(\n",
    "                color='#d62728'\n",
    "            ),\n",
    "            tickfont=dict(\n",
    "                color='#d62728'\n",
    "            ),\n",
    "            anchor='x',\n",
    "            overlaying='y',\n",
    "            side='right'\n",
    "        ) \n",
    "    )\n",
    "    fig = go.Figure(data=data, layout=layout)\n",
    "    #plot_url = py.plot(fig, filename='multiple-axes-multiple')\n",
    "    return fig  "
   ]
  },
  {
   "cell_type": "code",
   "execution_count": 3,
   "metadata": {},
   "outputs": [],
   "source": [
    "def single_silhouette_dendrogram(dist_matrix, Z, threshold, mode='clusters',\n",
    "                                 method='single', sample_names=None):\n",
    "    \"\"\"Compute the average silhouette at a given threshold.\n",
    "\n",
    "    Parameters\n",
    "    ----------\n",
    "    dist_matrix : array-like\n",
    "        Precomputed distance matrix between points.\n",
    "    Z : array-like\n",
    "        Linkage matrix, results of scipy.cluster.hierarchy.linkage.\n",
    "    threshold : float\n",
    "        Specifies where to cut the dendrogram.\n",
    "    mode : ('clusters', 'thresholds'), optional\n",
    "        Choose what to visualise on the x-axis.\n",
    "\n",
    "    Returns\n",
    "    -------\n",
    "    x : float\n",
    "        Based on mode, it can contains the number of clusters or threshold.\n",
    "    silhouette_avg : float\n",
    "        The average silhouette.\n",
    "    \"\"\"\n",
    "    cluster_labels = fcluster(Z, threshold, 'distance')\n",
    "    nclusts = np.unique(cluster_labels).shape[0]\n",
    "  \n",
    "    try:\n",
    "        silhouette_list = silhouette_samples(dist_matrix, cluster_labels,\n",
    "                                             metric=\"precomputed\")\n",
    "        silhouette_avg = np.mean(silhouette_list)\n",
    "        x = max(cluster_labels) if mode == 'clusters' else threshold\n",
    "    except ValueError as e:\n",
    "        if max(cluster_labels) == 1:\n",
    "            x = 1 if mode == 'clusters' else threshold\n",
    "            silhouette_avg = 0\n",
    "        else:\n",
    "            raise(e)\n",
    "\n",
    "    return x, silhouette_avg"
   ]
  },
  {
   "cell_type": "code",
   "execution_count": 4,
   "metadata": {},
   "outputs": [],
   "source": [
    "def hierarchy_test(ddata):\n",
    "    col_silueta = []\n",
    "    col_clusters = []\n",
    "    col_distancia = []\n",
    "\n",
    "    for i in list(get_distances(ddata)):\n",
    "        ##test\n",
    "        num_clusters , coef_s  =  single_silhouette_dendrogram( squareform(data_dist) , mergings   , i   )\n",
    "        col_silueta.append(coef_s)\n",
    "        col_clusters.append(num_clusters)\n",
    "        \n",
    "        col_distancia.append(i)\n",
    "  \n",
    "\n",
    "    bench = pd.DataFrame({\n",
    "        \"distancia\":col_distancia,\n",
    "        \"num_clusters\": col_clusters, \n",
    "        \"silueta\":col_silueta \n",
    "    } )  \n",
    "\n",
    "    bench = bench.sort_values('silueta' , ascending=False ) \n",
    "    bench = bench.reset_index(drop=True)\n",
    "    bench.to_csv('bench.csv', sep=';' , index=False , decimal = ',')\n",
    "    return bench "
   ]
  },
  {
   "cell_type": "code",
   "execution_count": 5,
   "metadata": {},
   "outputs": [],
   "source": [
    "def ploty_scatter(x , y ):\n",
    "    # Create a trace\n",
    "    trace = go.Scatter(\n",
    "        x = x,   \n",
    "        y = y,   \n",
    "        mode = 'markers', \n",
    "        marker=dict(color= labels , colorscale=colorscale ) \n",
    "    ) \n",
    "    layout = go.Layout( \n",
    "        plot_bgcolor = '#FFFFFF',\n",
    "        paper_bgcolor = '#FFFFFF' \n",
    "    )\n",
    "    data = [trace] \n",
    "    fig = go.Figure(data = data, layout = layout)\n",
    "    # Plot and embed in ipython notebook!\n",
    "    #py.iplot(fig ,   filename='simple_scatter') \n",
    "    return fig"
   ]
  },
  {
   "cell_type": "code",
   "execution_count": 6,
   "metadata": {},
   "outputs": [],
   "source": [
    "def fancy_dendrogram(*args, **kwargs):\n",
    "    max_d = kwargs.pop('max_d', None)\n",
    "    if max_d and 'color_threshold' not in kwargs:\n",
    "        kwargs['color_threshold'] = max_d\n",
    "    annotate_above = kwargs.pop('annotate_above', 0)\n",
    "\n",
    "    ddata = dendrogram(*args, **kwargs)\n",
    "\n",
    "    if not kwargs.get('no_plot', False):\n",
    "        plt.title('Hierarchical Clustering Dendrogram (truncated)')\n",
    "        plt.xlabel('sample index or (cluster size)')\n",
    "        plt.ylabel('distance')\n",
    "        for i, d, c in zip(ddata['icoord'], ddata['dcoord'], ddata['color_list']):\n",
    "            x = 0.5 * sum(i[1:3])\n",
    "            y = d[1]\n",
    "            if y > annotate_above:\n",
    "                plt.plot(x, y, 'o', c=c)\n",
    "                plt.annotate(\"%d\" % y, (x, y), xytext=(0, -5),\n",
    "                             textcoords='offset points',\n",
    "                             va='top', ha='center')\n",
    "        if max_d:\n",
    "            plt.axhline(y=max_d, c='k')\n",
    "    return ddata"
   ]
  },
  {
   "cell_type": "code",
   "execution_count": 7,
   "metadata": {},
   "outputs": [],
   "source": [
    "colorscale =[ \n",
    "            [0.0                 ,  '#cecece',], \n",
    "            [0.047619047619047616,  '#ffff00',],\n",
    "            [0.09523809523809523 ,  '#fff21d',],\n",
    "            [0.14285714285714285 ,  '#ffe52a',],\n",
    "            [0.19047619047619047 ,  '#ffd733',],\n",
    "            [0.23809523809523808 ,  '#ffca3a',],\n",
    "            [0.2857142857142857  ,  '#ffbd40',],\n",
    "            [0.3333333333333333  ,  '#ffad45',],\n",
    "            [0.38095238095238093 ,  '#ffa049',],\n",
    "            [0.42857142857142855 ,  '#ff904d',],\n",
    "            [0.47619047619047616 ,  '#ff7f50',],\n",
    "            [0.5238095238095237  ,  '#ff7f50',],\n",
    "            [0.5714285714285714  ,  '#f47263',],\n",
    "            [0.6190476190476191  ,  '#e96673',],\n",
    "            [0.6666666666666667  ,  '#dd5a83',],\n",
    "            [0.7142857142857144  ,  '#cf4d92',],\n",
    "            [0.7619047619047621  ,  '#c040a1',],\n",
    "            [0.8095238095238098  ,  '#b033af',],\n",
    "            [0.8571428571428574  ,  '#9e25be',],\n",
    "            [0.9047619047619051  ,  '#8615cd',],\n",
    "            [0.9523809523809528  ,  '#6900db',], \n",
    "            [1                   ,  '#3d3d3d']]"
   ]
  },
  {
   "cell_type": "code",
   "execution_count": 8,
   "metadata": {},
   "outputs": [],
   "source": [
    "import numpy as np\n",
    "import pandas as pd \n",
    "import matplotlib.pyplot as plt\n",
    "import seaborn as sns \n",
    "import plotly.plotly as py\n",
    "import plotly.graph_objs as go \n",
    "from sklearn.cluster import KMeans\n",
    "from sklearn.metrics import pairwise_distances_argmin_min \n",
    "from sklearn.preprocessing import StandardScaler \n",
    "from sklearn import metrics \n",
    "from sklearn.metrics import davies_bouldin_score \n",
    "import hdbscan \n",
    "\n",
    "from scipy.cluster.hierarchy import linkage , dendrogram ,  fcluster  ,  cophenet\n",
    "from sklearn.metrics import silhouette_samples  # , silhouette_score \n",
    "from scipy.spatial.distance import pdist ,  squareform\n",
    "\n",
    "\n",
    "#plotly.tools.set_credentials_file(username='slotbite', api_key='GYgRt3eXz6IdiIy3k7sO')\n",
    "py.plotly.tools.set_credentials_file(username='cachulooo', api_key='srvpWbqoQ27WdGO3pArx')\n",
    "\n",
    " \n",
    "%matplotlib inline\n",
    "plt.rcParams['figure.figsize'] = (18, 12)\n",
    "np.set_printoptions(precision=2, suppress=True)  # suppress scientific float notation"
   ]
  },
  {
   "cell_type": "code",
   "execution_count": 9,
   "metadata": {},
   "outputs": [],
   "source": [
    "# Cargando datos\n",
    "df = pd.read_csv(\"segmentacion_clientes.csv\" , delimiter=\";\" , decimal=\",\" , encoding='utf-8')"
   ]
  },
  {
   "cell_type": "code",
   "execution_count": 10,
   "metadata": {},
   "outputs": [
    {
     "data": {
      "text/html": [
       "<div>\n",
       "<style scoped>\n",
       "    .dataframe tbody tr th:only-of-type {\n",
       "        vertical-align: middle;\n",
       "    }\n",
       "\n",
       "    .dataframe tbody tr th {\n",
       "        vertical-align: top;\n",
       "    }\n",
       "\n",
       "    .dataframe thead th {\n",
       "        text-align: right;\n",
       "    }\n",
       "</style>\n",
       "<table border=\"1\" class=\"dataframe\">\n",
       "  <thead>\n",
       "    <tr style=\"text-align: right;\">\n",
       "      <th></th>\n",
       "      <th>PRODUCT_ID</th>\n",
       "      <th>SUBSCRIPTION_ID</th>\n",
       "      <th>SUBSCRIBER_ID</th>\n",
       "      <th>COMUNA</th>\n",
       "      <th>TI</th>\n",
       "      <th>TI2</th>\n",
       "      <th>TIPO_REPARTO</th>\n",
       "      <th>QUEJAS</th>\n",
       "      <th>DAÑOS</th>\n",
       "      <th>CORTES</th>\n",
       "      <th>RECLAMOS</th>\n",
       "      <th>FACTURACION_PROMEDIO</th>\n",
       "      <th>SALDO_PROMEDIO</th>\n",
       "      <th>ROTACION_CARTERA</th>\n",
       "      <th>COMUNA_ENC</th>\n",
       "    </tr>\n",
       "  </thead>\n",
       "  <tbody>\n",
       "    <tr>\n",
       "      <th>0</th>\n",
       "      <td>122551</td>\n",
       "      <td>122551</td>\n",
       "      <td>13185036</td>\n",
       "      <td>128 - San Esteban                             ...</td>\n",
       "      <td>0</td>\n",
       "      <td>0</td>\n",
       "      <td>0</td>\n",
       "      <td>0</td>\n",
       "      <td>0</td>\n",
       "      <td>0</td>\n",
       "      <td>0</td>\n",
       "      <td>18964.8333</td>\n",
       "      <td>33256.6667</td>\n",
       "      <td>1.753504</td>\n",
       "      <td>8</td>\n",
       "    </tr>\n",
       "    <tr>\n",
       "      <th>1</th>\n",
       "      <td>122581</td>\n",
       "      <td>122581</td>\n",
       "      <td>122581</td>\n",
       "      <td>128 - San Esteban                             ...</td>\n",
       "      <td>0</td>\n",
       "      <td>0</td>\n",
       "      <td>0</td>\n",
       "      <td>0</td>\n",
       "      <td>0</td>\n",
       "      <td>0</td>\n",
       "      <td>0</td>\n",
       "      <td>28445.7500</td>\n",
       "      <td>36605.0833</td>\n",
       "      <td>1.286793</td>\n",
       "      <td>8</td>\n",
       "    </tr>\n",
       "    <tr>\n",
       "      <th>2</th>\n",
       "      <td>109938</td>\n",
       "      <td>109938</td>\n",
       "      <td>3665521</td>\n",
       "      <td>145 - San Felipe                              ...</td>\n",
       "      <td>0</td>\n",
       "      <td>1</td>\n",
       "      <td>0</td>\n",
       "      <td>0</td>\n",
       "      <td>0</td>\n",
       "      <td>1</td>\n",
       "      <td>0</td>\n",
       "      <td>135045.4170</td>\n",
       "      <td>327823.5000</td>\n",
       "      <td>2.427488</td>\n",
       "      <td>18</td>\n",
       "    </tr>\n",
       "  </tbody>\n",
       "</table>\n",
       "</div>"
      ],
      "text/plain": [
       "   PRODUCT_ID  SUBSCRIPTION_ID  SUBSCRIBER_ID  \\\n",
       "0      122551           122551       13185036   \n",
       "1      122581           122581         122581   \n",
       "2      109938           109938        3665521   \n",
       "\n",
       "                                              COMUNA  TI  TI2  TIPO_REPARTO  \\\n",
       "0  128 - San Esteban                             ...   0    0             0   \n",
       "1  128 - San Esteban                             ...   0    0             0   \n",
       "2  145 - San Felipe                              ...   0    1             0   \n",
       "\n",
       "   QUEJAS  DAÑOS  CORTES  RECLAMOS  FACTURACION_PROMEDIO  SALDO_PROMEDIO  \\\n",
       "0       0      0       0         0            18964.8333      33256.6667   \n",
       "1       0      0       0         0            28445.7500      36605.0833   \n",
       "2       0      0       1         0           135045.4170     327823.5000   \n",
       "\n",
       "   ROTACION_CARTERA  COMUNA_ENC  \n",
       "0          1.753504           8  \n",
       "1          1.286793           8  \n",
       "2          2.427488          18  "
      ]
     },
     "execution_count": 10,
     "metadata": {},
     "output_type": "execute_result"
    }
   ],
   "source": [
    "# Eliminacion de outliers (-)\n",
    "df = df[df.PRODUCT_ID > 0] \n",
    "df = df[(df.FACTURACION_PROMEDIO > 0 ) & (df.FACTURACION_PROMEDIO <= 397000 )] \n",
    "df = df[(df.SALDO_PROMEDIO > 0 ) & (df.SALDO_PROMEDIO <= 401500 )]  \n",
    "\n",
    "\n",
    "## Convertimos las variables categoricas\n",
    "#http://pbpython.com/categorical-encoding.html\n",
    "pd.options.mode.chained_assignment = None\n",
    "df[\"COMUNA\"] = df[\"COMUNA\"].astype('category')\n",
    "df[\"TIPO_REPARTO\"] = df[\"TIPO_REPARTO\"].astype('category')\n",
    "df[\"TI\"] = df[\"TI\"].astype('category')\n",
    "df[\"TI2\"] = df[\"TI2\"].astype('category')\n",
    "\n",
    "# luego la encodificamos \n",
    "df[\"TI\"] = df[\"TI\"].cat.codes\n",
    "df[\"TI2\"] = df[\"TI2\"].cat.codes\n",
    "df[\"COMUNA_ENC\"] = df[\"COMUNA\"].cat.codes \n",
    "df[\"TIPO_REPARTO\"] = df[\"TIPO_REPARTO\"].cat.codes \n",
    "df[:3]"
   ]
  },
  {
   "cell_type": "code",
   "execution_count": 11,
   "metadata": {},
   "outputs": [
    {
     "data": {
      "text/plain": [
       "Index(['PRODUCT_ID', 'SUBSCRIPTION_ID', 'SUBSCRIBER_ID', 'COMUNA', 'TI', 'TI2',\n",
       "       'TIPO_REPARTO', 'QUEJAS', 'DAÑOS', 'CORTES', 'RECLAMOS',\n",
       "       'FACTURACION_PROMEDIO', 'SALDO_PROMEDIO', 'ROTACION_CARTERA',\n",
       "       'COMUNA_ENC'],\n",
       "      dtype='object')"
      ]
     },
     "execution_count": 11,
     "metadata": {},
     "output_type": "execute_result"
    }
   ],
   "source": [
    "df.columns"
   ]
  },
  {
   "cell_type": "code",
   "execution_count": 12,
   "metadata": {},
   "outputs": [],
   "source": [
    "columnas=['SALDO_PROMEDIO', 'ROTACION_CARTERA','FACTURACION_PROMEDIO','TI', 'TI2',\n",
    "          'TIPO_REPARTO', 'QUEJAS', 'DAÑOS', 'CORTES', 'RECLAMOS','COMUNA_ENC']"
   ]
  },
  {
   "cell_type": "code",
   "execution_count": 17,
   "metadata": {},
   "outputs": [
    {
     "data": {
      "text/plain": [
       "(11685, 11)"
      ]
     },
     "execution_count": 17,
     "metadata": {},
     "output_type": "execute_result"
    }
   ],
   "source": [
    "frac= 0.02 # casi lento \n",
    "random = 42  \n",
    "sample = df[columnas].sample(frac=frac )\n",
    "sample.shape "
   ]
  },
  {
   "cell_type": "code",
   "execution_count": 18,
   "metadata": {},
   "outputs": [
    {
     "name": "stdout",
     "output_type": "stream",
     "text": [
      "Index(['SALDO_PROMEDIO', 'ROTACION_CARTERA', 'FACTURACION_PROMEDIO', 'TI',\n",
      "       'TI2', 'TIPO_REPARTO', 'QUEJAS', 'DAÑOS', 'CORTES', 'RECLAMOS',\n",
      "       'COMUNA_ENC'],\n",
      "      dtype='object')\n"
     ]
    }
   ],
   "source": [
    "print(sample.columns)"
   ]
  },
  {
   "cell_type": "code",
   "execution_count": 15,
   "metadata": {},
   "outputs": [],
   "source": [
    "labels = [0]\n",
    "#fig = ploty_scatter( sample.SALDO_PROMEDIO , sample.ROTACION_CARTERA )\n",
    "#py.iplot(fig ,   filename='scatter_hdbscan')"
   ]
  },
  {
   "cell_type": "markdown",
   "metadata": {},
   "source": [
    "# Clustering jerárquico"
   ]
  },
  {
   "cell_type": "code",
   "execution_count": 19,
   "metadata": {},
   "outputs": [],
   "source": [
    "## array de distancias para calcular el coef de silueta mas tarde\n",
    "data_dist = pdist( sample )  \n",
    "\n",
    "''' \n",
    "Algoritmo de clustering\n",
    "Metodos : \n",
    "    ward: centroides \n",
    "    complete: distancias maximas \n",
    "    simple : distancias minimas \n",
    "'''\n",
    "mergings = linkage( data_dist , method='ward' ) # computing the linkage"
   ]
  },
  {
   "cell_type": "code",
   "execution_count": 103,
   "metadata": {},
   "outputs": [
    {
     "data": {
      "text/plain": [
       "0.8890756127141494"
      ]
     },
     "execution_count": 103,
     "metadata": {},
     "output_type": "execute_result"
    }
   ],
   "source": [
    "\n",
    " ## test culero 1\n",
    "c, coph_dists = cophenet(mergings, pdist(sample))\n",
    "c"
   ]
  },
  {
   "cell_type": "code",
   "execution_count": 23,
   "metadata": {},
   "outputs": [
    {
     "ename": "NameError",
     "evalue": "name 'coph_dists' is not defined",
     "output_type": "error",
     "traceback": [
      "\u001b[1;31m---------------------------------------------------------------------------\u001b[0m",
      "\u001b[1;31mNameError\u001b[0m                                 Traceback (most recent call last)",
      "\u001b[1;32m<ipython-input-23-35f44438fd25>\u001b[0m in \u001b[0;36m<module>\u001b[1;34m\u001b[0m\n\u001b[1;32m----> 1\u001b[1;33m \u001b[0mcoph_dists\u001b[0m\u001b[1;33m\u001b[0m\u001b[0m\n\u001b[0m",
      "\u001b[1;31mNameError\u001b[0m: name 'coph_dists' is not defined"
     ]
    }
   ],
   "source": [
    "coph_dists"
   ]
  },
  {
   "cell_type": "code",
   "execution_count": 80,
   "metadata": {},
   "outputs": [
    {
     "data": {
      "image/png": "[encoded data removed]",
      "text/plain": [
       "<Figure size 1296x864 with 1 Axes>"
      ]
     },
     "metadata": {
      "needs_background": "light"
     },
     "output_type": "display_data"
    },
    {
     "name": "stdout",
     "output_type": "stream",
     "text": [
      "clusters: 2\n"
     ]
    }
   ],
   "source": [
    "## test culero 2\n",
    "last = mergings[-10:, 2] \n",
    "last_rev = last[::-1]\n",
    "idxs = np.arange(1, len(last) + 1)\n",
    "plt.plot(idxs, last_rev)\n",
    "\n",
    "acceleration = np.diff(last, 2)  # 2nd derivative of the distances\n",
    "acceleration_rev = acceleration[::-1]\n",
    "plt.plot(idxs[:-2] + 1, acceleration_rev)\n",
    "plt.show()\n",
    "k = acceleration_rev.argmax() + 2  # if idx 0 is the max of this we want 2 clusters\n",
    "print(\"clusters:\" , k)"
   ]
  },
  {
   "cell_type": "markdown",
   "metadata": {},
   "source": [
    "# Dendograma"
   ]
  },
  {
   "cell_type": "code",
   "execution_count": 20,
   "metadata": {},
   "outputs": [
    {
     "data": {
      "image/png": "[encoded data removed]",
      "text/plain": [
       "<Figure size 432x288 with 1 Axes>"
      ]
     },
     "metadata": {
      "needs_background": "light"
     },
     "output_type": "display_data"
    }
   ],
   "source": [
    "ddata = fancy_dendrogram(\n",
    "    mergings,\n",
    "    annotate_above=12,  # useful in small plots so annotations don't overlap\n",
    "    truncate_mode='lastp',\n",
    "    p=12,  \n",
    "    show_contracted=True,\n",
    "    leaf_font_size=12.,\n",
    ")\n",
    "plt.show()"
   ]
  },
  {
   "cell_type": "markdown",
   "metadata": {},
   "source": [
    "# Test "
   ]
  },
  {
   "cell_type": "code",
   "execution_count": 21,
   "metadata": {},
   "outputs": [
    {
     "data": {
      "text/html": [
       "<div>\n",
       "<style scoped>\n",
       "    .dataframe tbody tr th:only-of-type {\n",
       "        vertical-align: middle;\n",
       "    }\n",
       "\n",
       "    .dataframe tbody tr th {\n",
       "        vertical-align: top;\n",
       "    }\n",
       "\n",
       "    .dataframe thead th {\n",
       "        text-align: right;\n",
       "    }\n",
       "</style>\n",
       "<table border=\"1\" class=\"dataframe\">\n",
       "  <thead>\n",
       "    <tr style=\"text-align: right;\">\n",
       "      <th></th>\n",
       "      <th>distancia</th>\n",
       "      <th>num_clusters</th>\n",
       "      <th>silueta</th>\n",
       "    </tr>\n",
       "  </thead>\n",
       "  <tbody>\n",
       "    <tr>\n",
       "      <th>0</th>\n",
       "      <td>5957896</td>\n",
       "      <td>2</td>\n",
       "      <td>0.836121</td>\n",
       "    </tr>\n",
       "    <tr>\n",
       "      <th>1</th>\n",
       "      <td>3357421</td>\n",
       "      <td>3</td>\n",
       "      <td>0.578877</td>\n",
       "    </tr>\n",
       "    <tr>\n",
       "      <th>2</th>\n",
       "      <td>2037833</td>\n",
       "      <td>4</td>\n",
       "      <td>0.578539</td>\n",
       "    </tr>\n",
       "    <tr>\n",
       "      <th>3</th>\n",
       "      <td>1401279</td>\n",
       "      <td>6</td>\n",
       "      <td>0.536569</td>\n",
       "    </tr>\n",
       "    <tr>\n",
       "      <th>4</th>\n",
       "      <td>1537800</td>\n",
       "      <td>5</td>\n",
       "      <td>0.535018</td>\n",
       "    </tr>\n",
       "    <tr>\n",
       "      <th>5</th>\n",
       "      <td>957671</td>\n",
       "      <td>7</td>\n",
       "      <td>0.422569</td>\n",
       "    </tr>\n",
       "    <tr>\n",
       "      <th>6</th>\n",
       "      <td>1367211</td>\n",
       "      <td>7</td>\n",
       "      <td>0.422569</td>\n",
       "    </tr>\n",
       "    <tr>\n",
       "      <th>7</th>\n",
       "      <td>745951</td>\n",
       "      <td>10</td>\n",
       "      <td>0.418007</td>\n",
       "    </tr>\n",
       "    <tr>\n",
       "      <th>8</th>\n",
       "      <td>797627</td>\n",
       "      <td>9</td>\n",
       "      <td>0.410674</td>\n",
       "    </tr>\n",
       "    <tr>\n",
       "      <th>9</th>\n",
       "      <td>618039</td>\n",
       "      <td>12</td>\n",
       "      <td>0.379377</td>\n",
       "    </tr>\n",
       "    <tr>\n",
       "      <th>10</th>\n",
       "      <td>663529</td>\n",
       "      <td>11</td>\n",
       "      <td>0.356427</td>\n",
       "    </tr>\n",
       "  </tbody>\n",
       "</table>\n",
       "</div>"
      ],
      "text/plain": [
       "    distancia  num_clusters   silueta\n",
       "0     5957896             2  0.836121\n",
       "1     3357421             3  0.578877\n",
       "2     2037833             4  0.578539\n",
       "3     1401279             6  0.536569\n",
       "4     1537800             5  0.535018\n",
       "5      957671             7  0.422569\n",
       "6     1367211             7  0.422569\n",
       "7      745951            10  0.418007\n",
       "8      797627             9  0.410674\n",
       "9      618039            12  0.379377\n",
       "10     663529            11  0.356427"
      ]
     },
     "execution_count": 21,
     "metadata": {},
     "output_type": "execute_result"
    }
   ],
   "source": [
    "h_test = hierarchy_test(ddata) #.plot(x='num_clusters' , y='silueta')\n",
    "h_test"
   ]
  },
  {
   "cell_type": "code",
   "execution_count": 22,
   "metadata": {},
   "outputs": [
    {
     "data": {
      "text/plain": [
       "'https://plot.ly/~cachulooo/36'"
      ]
     },
     "execution_count": 22,
     "metadata": {},
     "output_type": "execute_result"
    }
   ],
   "source": [
    "py.plot(plot_test(h_test ) , filename='multiple-axes-multiple')"
   ]
  },
  {
   "cell_type": "code",
   "execution_count": 23,
   "metadata": {},
   "outputs": [],
   "source": [
    "# Solo de referencia \n",
    "# coef_s , num_clusters  =  single_silhouette_dendrogram( squareform(data_dist) , mergings   , 351161  ) \n",
    "# num_clusters"
   ]
  },
  {
   "cell_type": "markdown",
   "metadata": {},
   "source": [
    "# Get labels"
   ]
  },
  {
   "cell_type": "code",
   "execution_count": 29,
   "metadata": {},
   "outputs": [
    {
     "data": {
      "text/plain": [
       "array([ 5,  7,  6, ...,  7, 11,  5], dtype=int32)"
      ]
     },
     "execution_count": 29,
     "metadata": {},
     "output_type": "execute_result"
    }
   ],
   "source": [
    "from scipy.cluster.hierarchy import fcluster\n",
    "max_d = 663529\n",
    "clusters = fcluster(mergings, max_d, criterion='distance')\n",
    "clusters"
   ]
  },
  {
   "cell_type": "code",
   "execution_count": 30,
   "metadata": {},
   "outputs": [],
   "source": [
    "labels= clusters"
   ]
  },
  {
   "cell_type": "code",
   "execution_count": 31,
   "metadata": {},
   "outputs": [
    {
     "data": {
      "text/html": [
       "<iframe id=\"igraph\" scrolling=\"no\" style=\"border:none;\" seamless=\"seamless\" src=\"https://plot.ly/~cachulooo/4.embed\" height=\"525px\" width=\"100%\"></iframe>"
      ],
      "text/plain": [
       "<plotly.tools.PlotlyDisplay object>"
      ]
     },
     "execution_count": 31,
     "metadata": {},
     "output_type": "execute_result"
    }
   ],
   "source": [
    "fig = ploty_scatter( sample.SALDO_PROMEDIO , sample.ROTACION_CARTERA )\n",
    "py.iplot(fig ,   filename='scatter_hdbscan') "
   ]
  },
  {
   "cell_type": "code",
   "execution_count": 32,
   "metadata": {},
   "outputs": [
    {
     "data": {
      "text/html": [
       "<iframe id=\"igraph\" scrolling=\"no\" style=\"border:none;\" seamless=\"seamless\" src=\"https://plot.ly/~cachulooo/4.embed\" height=\"525px\" width=\"100%\"></iframe>"
      ],
      "text/plain": [
       "<plotly.tools.PlotlyDisplay object>"
      ]
     },
     "execution_count": 32,
     "metadata": {},
     "output_type": "execute_result"
    }
   ],
   "source": [
    "fig = ploty_scatter(  sample.FACTURACION_PROMEDIO , sample.SALDO_PROMEDIO )\n",
    "py.iplot(fig ,   filename='scatter_hdbscan') "
   ]
  },
  {
   "cell_type": "code",
   "execution_count": null,
   "metadata": {},
   "outputs": [],
   "source": []
  },
  {
   "cell_type": "code",
   "execution_count": 147,
   "metadata": {},
   "outputs": [],
   "source": [
    "from scipy.spatial.distance import pdist ,  squareform\n",
    "\n",
    "data_dist = pdist(sample ) # computing the distance\n",
    "mergings = linkage(data_dist , method='ward') # computing the linkage\n",
    "#mergings = linkage(sample , method='ward')"
   ]
  },
  {
   "cell_type": "code",
   "execution_count": 155,
   "metadata": {},
   "outputs": [
    {
     "data": {
      "image/png": "[encoded data removed]",
      "text/plain": [
       "<Figure size 1296x864 with 1 Axes>"
      ]
     },
     "metadata": {
      "needs_background": "light"
     },
     "output_type": "display_data"
    }
   ],
   "source": [
    "plt.title('Hierarchical Clustering Dendrogram (truncated)')\n",
    "plt.xlabel('sample index or (cluster size)')\n",
    "plt.ylabel('distance')\n",
    "ddata = dendrogram(\n",
    "    mergings,\n",
    "    truncate_mode='lastp',  # show only the last p merged clusters\n",
    "    p=12,  # show only the last p merged cluster\n",
    "    leaf_font_size=12.,\n",
    "    show_contracted=True,  # to get a distribution impression in truncated branches\n",
    ")\n",
    "plt.show()"
   ]
  },
  {
   "cell_type": "code",
   "execution_count": 39,
   "metadata": {},
   "outputs": [],
   "source": [
    "#Toy data set\n",
    "from sklearn import datasets\n",
    "blob1, y1 = datasets.make_blobs(n_samples=25,\n",
    "                               centers=[(10,5)],\n",
    "                               cluster_std=1.5,\n",
    "                               random_state=2)\n",
    "\n",
    "blob2, y2 = datasets.make_blobs(n_samples=500,\n",
    "                               centers=[(6,2)],\n",
    "                               cluster_std=1.3,\n",
    "                               random_state=2)\n",
    "\n",
    "blob3, y3 = datasets.make_blobs(n_samples=500,\n",
    "                               centers=[(2,5)],\n",
    "                               cluster_std=1,\n",
    "                               random_state=2)\n",
    "\n",
    "unbal = np.vstack([blob1, blob2, blob3])\n",
    "\n",
    "\n",
    "#Default plot params\n",
    "plt.style.use('seaborn')\n",
    "cmap = 'tab10'\n",
    "\n",
    "import hdbscan\n",
    "import matplotlib.pyplot as plt\n",
    "clust_count = np.linspace(1, 20, num=20, dtype='int')\n",
    "\n",
    "clust_number = 2\n",
    "plot_number = 1\n",
    "plt.figure (figsize=(17,12))\n",
    "while clust_number < 22:\n",
    "    hdb = hdbscan.HDBSCAN(min_cluster_size=clust_number)\n",
    "    hdb_pred = hdb.fit(unbal)\n",
    "    plt.subplot(5, 4, plot_number, title = 'Min. Cluster Size = {}'.format(clust_number))\n",
    "    plt.scatter(unbal[:,0], unbal[:,1], c=hdb_pred.labels_, cmap=cmap , alpha=0.4 , s=30)\n",
    "    plot_number += 1\n",
    "    clust_number += 1\n",
    "\n",
    "plt.tight_layout()"
   ]
  },
  {
   "cell_type": "code",
   "execution_count": null,
   "metadata": {},
   "outputs": [],
   "source": []
  }
 ],
 "metadata": {
  "kernelspec": {
   "display_name": "Python 3",
   "language": "python",
   "name": "python3"
  },
  "language_info": {
   "codemirror_mode": {
    "name": "ipython",
    "version": 3
   },
   "file_extension": ".py",
   "mimetype": "text/x-python",
   "name": "python",
   "nbconvert_exporter": "python",
   "pygments_lexer": "ipython3",
   "version": "3.6.6"
  }
 },
 "nbformat": 4,
 "nbformat_minor": 2
}
