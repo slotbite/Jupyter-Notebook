{
 "cells": [
  {
   "cell_type": "code",
   "execution_count": 1,
   "metadata": {},
   "outputs": [],
   "source": [
    "import numpy as np\n",
    "import pandas as pd \n",
    "import matplotlib.pyplot as plt\n",
    "import seaborn as sns \n",
    "import plotly.plotly as py\n",
    "import plotly.graph_objs as go \n",
    "from sklearn.cluster import KMeans\n",
    "from sklearn.metrics import pairwise_distances_argmin_min\n",
    "from sklearn.preprocessing import StandardScaler\n",
    "from sklearn import metrics\n",
    "\n",
    "#plotly.tools.set_credentials_file(username='slotbite', api_key='GYgRt3eXz6IdiIy3k7sO')\n",
    "py.plotly.tools.set_credentials_file(username='cachulooo', api_key='srvpWbqoQ27WdGO3pArx')\n",
    "\n",
    " \n",
    "%matplotlib inline\n",
    "plt.rcParams['figure.figsize'] = (16, 20)"
   ]
  },
  {
   "cell_type": "code",
   "execution_count": 33,
   "metadata": {},
   "outputs": [],
   "source": [
    "# Cargando datos\n",
    "data = pd.read_csv(\"segmentacion_clientes.csv\" , delimiter=\";\" , decimal=\",\" , encoding='utf-8')\n",
    "df=data"
   ]
  },
  {
   "cell_type": "code",
   "execution_count": 71,
   "metadata": {},
   "outputs": [
    {
     "data": {
      "text/plain": [
       "[<matplotlib.lines.Line2D at 0x21b2e0f1828>]"
      ]
     },
     "execution_count": 71,
     "metadata": {},
     "output_type": "execute_result"
    },
    {
     "data": {
      "image/png": "[encoded data removed]",
      "text/plain": [
       "<Figure size 432x288 with 1 Axes>"
      ]
     },
     "metadata": {
      "needs_background": "light"
     },
     "output_type": "display_data"
    }
   ],
   "source": [
    "sample=df\n",
    "#sample = df[(sample.QUEJAS==2) ] \n",
    "plt.xticks(rotation=90)\n",
    "plt.plot(sample.groupby('QUEJAS').size().sort_values(ascending=False))\n",
    " "
   ]
  },
  {
   "cell_type": "markdown",
   "metadata": {},
   "source": [
    "## Categorización y encodificación de variables "
   ]
  },
  {
   "cell_type": "code",
   "execution_count": 3,
   "metadata": {},
   "outputs": [
    {
     "data": {
      "text/html": [
       "<div>\n",
       "<style scoped>\n",
       "    .dataframe tbody tr th:only-of-type {\n",
       "        vertical-align: middle;\n",
       "    }\n",
       "\n",
       "    .dataframe tbody tr th {\n",
       "        vertical-align: top;\n",
       "    }\n",
       "\n",
       "    .dataframe thead th {\n",
       "        text-align: right;\n",
       "    }\n",
       "</style>\n",
       "<table border=\"1\" class=\"dataframe\">\n",
       "  <thead>\n",
       "    <tr style=\"text-align: right;\">\n",
       "      <th></th>\n",
       "      <th>PRODUCT_ID</th>\n",
       "      <th>SUBSCRIPTION_ID</th>\n",
       "      <th>SUBSCRIBER_ID</th>\n",
       "      <th>COMUNA</th>\n",
       "      <th>TI</th>\n",
       "      <th>TI2</th>\n",
       "      <th>TIPO_REPARTO</th>\n",
       "      <th>QUEJAS</th>\n",
       "      <th>DAÑOS</th>\n",
       "      <th>CORTES</th>\n",
       "      <th>RECLAMOS</th>\n",
       "      <th>FACTURACION_PROMEDIO</th>\n",
       "      <th>SALDO_PROMEDIO</th>\n",
       "      <th>ROTACION_CARTERA</th>\n",
       "      <th>COMUNA_ENC</th>\n",
       "    </tr>\n",
       "  </thead>\n",
       "  <tbody>\n",
       "    <tr>\n",
       "      <th>0</th>\n",
       "      <td>122551</td>\n",
       "      <td>122551</td>\n",
       "      <td>13185036</td>\n",
       "      <td>128 - San Esteban                             ...</td>\n",
       "      <td>0</td>\n",
       "      <td>0</td>\n",
       "      <td>0</td>\n",
       "      <td>0</td>\n",
       "      <td>0</td>\n",
       "      <td>0</td>\n",
       "      <td>0</td>\n",
       "      <td>18964.8333</td>\n",
       "      <td>33256.6667</td>\n",
       "      <td>1.753504</td>\n",
       "      <td>9</td>\n",
       "    </tr>\n",
       "    <tr>\n",
       "      <th>1</th>\n",
       "      <td>122581</td>\n",
       "      <td>122581</td>\n",
       "      <td>122581</td>\n",
       "      <td>128 - San Esteban                             ...</td>\n",
       "      <td>0</td>\n",
       "      <td>0</td>\n",
       "      <td>0</td>\n",
       "      <td>0</td>\n",
       "      <td>0</td>\n",
       "      <td>0</td>\n",
       "      <td>0</td>\n",
       "      <td>28445.7500</td>\n",
       "      <td>36605.0833</td>\n",
       "      <td>1.286793</td>\n",
       "      <td>9</td>\n",
       "    </tr>\n",
       "    <tr>\n",
       "      <th>2</th>\n",
       "      <td>109938</td>\n",
       "      <td>109938</td>\n",
       "      <td>3665521</td>\n",
       "      <td>145 - San Felipe                              ...</td>\n",
       "      <td>0</td>\n",
       "      <td>1</td>\n",
       "      <td>0</td>\n",
       "      <td>0</td>\n",
       "      <td>0</td>\n",
       "      <td>1</td>\n",
       "      <td>0</td>\n",
       "      <td>135045.4170</td>\n",
       "      <td>327823.5000</td>\n",
       "      <td>2.427488</td>\n",
       "      <td>22</td>\n",
       "    </tr>\n",
       "  </tbody>\n",
       "</table>\n",
       "</div>"
      ],
      "text/plain": [
       "   PRODUCT_ID  SUBSCRIPTION_ID  SUBSCRIBER_ID  \\\n",
       "0      122551           122551       13185036   \n",
       "1      122581           122581         122581   \n",
       "2      109938           109938        3665521   \n",
       "\n",
       "                                              COMUNA  TI  TI2  TIPO_REPARTO  \\\n",
       "0  128 - San Esteban                             ...   0    0             0   \n",
       "1  128 - San Esteban                             ...   0    0             0   \n",
       "2  145 - San Felipe                              ...   0    1             0   \n",
       "\n",
       "   QUEJAS  DAÑOS  CORTES  RECLAMOS  FACTURACION_PROMEDIO  SALDO_PROMEDIO  \\\n",
       "0       0      0       0         0            18964.8333      33256.6667   \n",
       "1       0      0       0         0            28445.7500      36605.0833   \n",
       "2       0      0       1         0           135045.4170     327823.5000   \n",
       "\n",
       "   ROTACION_CARTERA  COMUNA_ENC  \n",
       "0          1.753504           9  \n",
       "1          1.286793           9  \n",
       "2          2.427488          22  "
      ]
     },
     "execution_count": 3,
     "metadata": {},
     "output_type": "execute_result"
    }
   ],
   "source": [
    "## Se eliminan preduct_id mal formados (-)\n",
    "#df[df.PRODUCT_ID < 0] \n",
    "df = df[df.PRODUCT_ID > 0] \n",
    "\n",
    "\n",
    "## Convertimos las variables categoricas\n",
    "#http://pbpython.com/categorical-encoding.html\n",
    "pd.options.mode.chained_assignment = None\n",
    "df[\"COMUNA\"] = df[\"COMUNA\"].astype('category')\n",
    "df[\"TIPO_REPARTO\"] = df[\"TIPO_REPARTO\"].astype('category')\n",
    "df[\"TI\"] = df[\"TI\"].astype('category')\n",
    "df[\"TI2\"] = df[\"TI2\"].astype('category')\n",
    "\n",
    "# luego la encodificamos \n",
    "df[\"TI\"] = df[\"TI\"].cat.codes\n",
    "df[\"TI2\"] = df[\"TI2\"].cat.codes\n",
    "df[\"COMUNA_ENC\"] = df[\"COMUNA\"].cat.codes \n",
    "df[\"TIPO_REPARTO\"] = df[\"TIPO_REPARTO\"].cat.codes \n",
    "df[:3]"
   ]
  },
  {
   "cell_type": "markdown",
   "metadata": {},
   "source": [
    "## Selección de variables"
   ]
  },
  {
   "cell_type": "code",
   "execution_count": 29,
   "metadata": {},
   "outputs": [
    {
     "data": {
      "text/plain": [
       "(631293, 11)"
      ]
     },
     "execution_count": 29,
     "metadata": {},
     "output_type": "execute_result"
    }
   ],
   "source": [
    "sample=df[['QUEJAS', 'DAÑOS',\n",
    "            'CORTES', 'RECLAMOS','FACTURACION_PROMEDIO',\n",
    "            'SALDO_PROMEDIO', 'ROTACION_CARTERA' ,\n",
    "           'COMUNA_ENC' , 'TI' , 'TI2' ,'TIPO_REPARTO' ]].sample(frac=1, random_state=42)\n",
    "sample.shape"
   ]
  },
  {
   "cell_type": "markdown",
   "metadata": {},
   "source": [
    "# Solo número de quejas 2 (todo el dataset)"
   ]
  },
  {
   "cell_type": "code",
   "execution_count": 30,
   "metadata": {},
   "outputs": [
    {
     "data": {
      "text/plain": [
       "2316"
      ]
     },
     "execution_count": 30,
     "metadata": {},
     "output_type": "execute_result"
    }
   ],
   "source": [
    "sample = sample[(sample.QUEJAS==14) | (sample.QUEJAS==9)]\n",
    "sample.shape[0]"
   ]
  },
  {
   "cell_type": "code",
   "execution_count": 32,
   "metadata": {},
   "outputs": [
    {
     "data": {
      "text/html": [
       "<div>\n",
       "<style scoped>\n",
       "    .dataframe tbody tr th:only-of-type {\n",
       "        vertical-align: middle;\n",
       "    }\n",
       "\n",
       "    .dataframe tbody tr th {\n",
       "        vertical-align: top;\n",
       "    }\n",
       "\n",
       "    .dataframe thead th {\n",
       "        text-align: right;\n",
       "    }\n",
       "</style>\n",
       "<table border=\"1\" class=\"dataframe\">\n",
       "  <thead>\n",
       "    <tr style=\"text-align: right;\">\n",
       "      <th></th>\n",
       "      <th>QUEJAS</th>\n",
       "      <th>DAÑOS</th>\n",
       "      <th>CORTES</th>\n",
       "      <th>RECLAMOS</th>\n",
       "      <th>FACTURACION_PROMEDIO</th>\n",
       "      <th>SALDO_PROMEDIO</th>\n",
       "      <th>ROTACION_CARTERA</th>\n",
       "      <th>COMUNA_ENC</th>\n",
       "      <th>TI</th>\n",
       "      <th>TI2</th>\n",
       "      <th>TIPO_REPARTO</th>\n",
       "    </tr>\n",
       "  </thead>\n",
       "  <tbody>\n",
       "    <tr>\n",
       "      <th>16002</th>\n",
       "      <td>9</td>\n",
       "      <td>1</td>\n",
       "      <td>0</td>\n",
       "      <td>0</td>\n",
       "      <td>136599.54500</td>\n",
       "      <td>136599.545</td>\n",
       "      <td>0.999993</td>\n",
       "      <td>0</td>\n",
       "      <td>1</td>\n",
       "      <td>1</td>\n",
       "      <td>1</td>\n",
       "    </tr>\n",
       "    <tr>\n",
       "      <th>42463</th>\n",
       "      <td>14</td>\n",
       "      <td>0</td>\n",
       "      <td>0</td>\n",
       "      <td>0</td>\n",
       "      <td>368354.45500</td>\n",
       "      <td>805995.300</td>\n",
       "      <td>2.188091</td>\n",
       "      <td>5</td>\n",
       "      <td>0</td>\n",
       "      <td>1</td>\n",
       "      <td>1</td>\n",
       "    </tr>\n",
       "    <tr>\n",
       "      <th>42504</th>\n",
       "      <td>14</td>\n",
       "      <td>0</td>\n",
       "      <td>1</td>\n",
       "      <td>0</td>\n",
       "      <td>5804.36364</td>\n",
       "      <td>9202.200</td>\n",
       "      <td>1.585120</td>\n",
       "      <td>5</td>\n",
       "      <td>0</td>\n",
       "      <td>1</td>\n",
       "      <td>1</td>\n",
       "    </tr>\n",
       "    <tr>\n",
       "      <th>608529</th>\n",
       "      <td>14</td>\n",
       "      <td>0</td>\n",
       "      <td>0</td>\n",
       "      <td>0</td>\n",
       "      <td>89906.90910</td>\n",
       "      <td>384406.182</td>\n",
       "      <td>4.275555</td>\n",
       "      <td>5</td>\n",
       "      <td>0</td>\n",
       "      <td>1</td>\n",
       "      <td>1</td>\n",
       "    </tr>\n",
       "    <tr>\n",
       "      <th>17170</th>\n",
       "      <td>9</td>\n",
       "      <td>0</td>\n",
       "      <td>0</td>\n",
       "      <td>0</td>\n",
       "      <td>158716.09100</td>\n",
       "      <td>158716.091</td>\n",
       "      <td>0.999994</td>\n",
       "      <td>0</td>\n",
       "      <td>1</td>\n",
       "      <td>1</td>\n",
       "      <td>1</td>\n",
       "    </tr>\n",
       "  </tbody>\n",
       "</table>\n",
       "</div>"
      ],
      "text/plain": [
       "        QUEJAS  DAÑOS  CORTES  RECLAMOS  FACTURACION_PROMEDIO  SALDO_PROMEDIO  \\\n",
       "16002        9      1       0         0          136599.54500      136599.545   \n",
       "42463       14      0       0         0          368354.45500      805995.300   \n",
       "42504       14      0       1         0            5804.36364        9202.200   \n",
       "608529      14      0       0         0           89906.90910      384406.182   \n",
       "17170        9      0       0         0          158716.09100      158716.091   \n",
       "\n",
       "        ROTACION_CARTERA  COMUNA_ENC  TI  TI2  TIPO_REPARTO  \n",
       "16002           0.999993           0   1    1             1  \n",
       "42463           2.188091           5   0    1             1  \n",
       "42504           1.585120           5   0    1             1  \n",
       "608529          4.275555           5   0    1             1  \n",
       "17170           0.999994           0   1    1             1  "
      ]
     },
     "execution_count": 32,
     "metadata": {},
     "output_type": "execute_result"
    }
   ],
   "source": [
    " "
   ]
  },
  {
   "cell_type": "markdown",
   "metadata": {},
   "source": [
    "## Silhouette  test\n",
    "Determina el numero optimo de clusters\n",
    "\n"
   ]
  },
  {
   "cell_type": "code",
   "execution_count": 24,
   "metadata": {},
   "outputs": [],
   "source": [
    "import hdbscan \n",
    "\n",
    "rango_vecinos=[]\n",
    "num_clusters = []\n",
    "silueta = []\n",
    "\n",
    "X = np.array(sample )  \n",
    "# Estandarización\n",
    "#scaler = StandardScaler().fit(X)\n",
    "#X = scaler.transform(X)\n",
    "\n",
    "for n in   range(1 , 1000) :  \n",
    "    model = hdbscan.HDBSCAN(min_cluster_size=n+1 ,metric='manhattan').fit(X) \n",
    "    n_clusters_ = len(set(model.labels_ )) - (1 if -1 in model.labels_  else 0)\n",
    "    \n",
    "    if n_clusters_!= 0 :\n",
    "        rango_vecinos.append(n+1)\n",
    "        num_clusters.append( n_clusters_ )\n",
    "        silueta.append( metrics.silhouette_score( X , model.labels_ ))  \n",
    "    else:\n",
    "        break;\n",
    "    \n",
    "bench_df = pd.DataFrame( {\"num_vecinos\":rango_vecinos, \"num_clusters\": num_clusters  , \"silueta\":silueta} ) "
   ]
  },
  {
   "cell_type": "code",
   "execution_count": 31,
   "metadata": {},
   "outputs": [],
   "source": [
    "bench_df.to_csv('bench.csv', sep=';' , index=False , decimal = ',')"
   ]
  },
  {
   "cell_type": "code",
   "execution_count": 25,
   "metadata": {},
   "outputs": [
    {
     "data": {
      "text/html": [
       "<iframe id=\"igraph\" scrolling=\"no\" style=\"border:none;\" seamless=\"seamless\" src=\"https://plot.ly/~cachulooo/2.embed\" height=\"525px\" width=\"100%\"></iframe>"
      ],
      "text/plain": [
       "<plotly.tools.PlotlyDisplay object>"
      ]
     },
     "execution_count": 25,
     "metadata": {},
     "output_type": "execute_result"
    }
   ],
   "source": [
    "# Create a trace\n",
    "trace = go.Scatter(\n",
    "    x = bench_df.num_vecinos,   \n",
    "    y = bench_df.num_clusters,   \n",
    "    #mode = 'markers'  ,\n",
    "    mode='markers+text',\n",
    "    text=round(bench_df.num_clusters)\n",
    ") \n",
    "trace2 = go.Scatter(\n",
    "    x = bench_df.num_vecinos,   \n",
    "    y = bench_df.silueta,   \n",
    "    #mode = 'markers'  ,\n",
    "    mode='markers+text',\n",
    "    text= round(bench_df.silueta , 2)\n",
    ") \n",
    "layout = go.Layout(\n",
    "    title='Bench hdbscan minpts '  ,\n",
    "    plot_bgcolor = '#FFFFFF',\n",
    "    paper_bgcolor = '#FFFFFF' , \n",
    "    xaxis=dict(\n",
    "        title='minpts' \n",
    "    ),\n",
    "    yaxis=dict(\n",
    "        title='N° Clusters' \n",
    "    ) \n",
    ")\n",
    "data = [trace , trace2] \n",
    "fig = go.Figure(data = data, layout = layout)\n",
    "# Plot and embed in ipython notebook!\n",
    "py.iplot(fig ,   filename='minpts_bench')"
   ]
  },
  {
   "cell_type": "markdown",
   "metadata": {},
   "source": [
    "## Clustering por HDBSCAN"
   ]
  },
  {
   "cell_type": "code",
   "execution_count": 26,
   "metadata": {},
   "outputs": [
    {
     "data": {
      "text/plain": [
       "2"
      ]
     },
     "execution_count": 26,
     "metadata": {},
     "output_type": "execute_result"
    }
   ],
   "source": [
    "import hdbscan\n",
    " \n",
    "X = np.array(sample )\n",
    "registros = sample.shape[0]\n",
    "# Estandarización\n",
    "#scaler = StandardScaler().fit(X)\n",
    "#X = scaler.transform(X)\n",
    "\n",
    "clusterer = hdbscan.HDBSCAN(min_cluster_size=154  ).fit(X) \n",
    "#palette = sns.color_palette('deep', np.unique(clusterer.labels_).max() + 1)\n",
    "#colors = [palette[x] if x >= 0 else (0.5, 0.5, 0.5) for x in clusterer.labels_] \n",
    "\n",
    "labels_ = clusterer.labels_ \n",
    "# Number of clusters in labels, ignoring noise if present.\n",
    "n_clusters_ = len(set(labels_)) - (1 if -1 in labels_ else 0)\n",
    "n_clusters_"
   ]
  },
  {
   "cell_type": "code",
   "execution_count": 27,
   "metadata": {
    "scrolled": false
   },
   "outputs": [
    {
     "data": {
      "text/html": [
       "<iframe id=\"igraph\" scrolling=\"no\" style=\"border:none;\" seamless=\"seamless\" src=\"https://plot.ly/~cachulooo/4.embed\" height=\"525px\" width=\"100%\"></iframe>"
      ],
      "text/plain": [
       "<plotly.tools.PlotlyDisplay object>"
      ]
     },
     "execution_count": 27,
     "metadata": {},
     "output_type": "execute_result"
    }
   ],
   "source": [
    "# Create a trace\n",
    "trace = go.Scatter(\n",
    "    x = X[:, 5],   \n",
    "    y = X[:, 6],   \n",
    "    mode = 'markers', \n",
    "    marker=dict(color= labels_   ,\n",
    "                colorscale=[\n",
    "                    [0.0               , 'rgb(219, 219, 219)'],\n",
    "                    [0.0111111111111111, 'rgb(79, 77, 77)'],\n",
    "                    [0.0555555555555555, 'rgb(255, 0, 102)'],\n",
    "                    [0.1111111111111111, 'rgb(71, 51, 0)'], \n",
    "                    [0.1555555555555555, 'rgb(124, 118, 0)'],\n",
    "                    [0.2222222222222222, 'rgb(171,217,233)'],  \n",
    "                    [0.2555555555555555, 'rgb(69,117,180)'],  \n",
    "                    [0.3333333333333333, 'rgb(255, 102, 204)'], \n",
    "                    [0.3555555555555555, 'rgb(137, 19, 173)'], \n",
    "                    [0.4444444444444444, 'rgb(165,0,38)'],  \n",
    "                    [0.4555555555555555, 'rgb(102, 255, 51)'], \n",
    "                    [0.5555555555555556, 'rgb(215,48,39)'], \n",
    "                    [0.6666666666666666, 'rgb(255, 255, 0)'],  \n",
    "                    [0.7777777777777778, 'rgb(244,109,67)'], \n",
    "                    [0.8888888888888888, 'rgb(116,173,209)'], \n",
    "                    [1.0               , 'rgb(49,54,149)']]) \n",
    ") \n",
    "layout = go.Layout(\n",
    "    title='Segmentación de clientes HDBSCAN '+str(registros)+' Registros'+' '+str(n_clusters_)+' Clusters' ,\n",
    "    plot_bgcolor = '#FFFFFF',\n",
    "    paper_bgcolor = '#FFFFFF', \n",
    "    xaxis=dict(\n",
    "            title='SALDO_PROMEDIO' \n",
    "        ),\n",
    "        yaxis=dict(\n",
    "            title='ROTACION_CARTERA' \n",
    "        ) \n",
    ")\n",
    "data = [trace] \n",
    "fig = go.Figure(data = data, layout = layout)\n",
    "# Plot and embed in ipython notebook!\n",
    "py.iplot(fig ,   filename='scatter_hdbscan')"
   ]
  },
  {
   "cell_type": "code",
   "execution_count": null,
   "metadata": {},
   "outputs": [],
   "source": []
  },
  {
   "cell_type": "code",
   "execution_count": null,
   "metadata": {},
   "outputs": [],
   "source": []
  },
  {
   "cell_type": "code",
   "execution_count": null,
   "metadata": {},
   "outputs": [],
   "source": []
  },
  {
   "cell_type": "code",
   "execution_count": null,
   "metadata": {},
   "outputs": [],
   "source": []
  },
  {
   "cell_type": "code",
   "execution_count": null,
   "metadata": {},
   "outputs": [],
   "source": []
  },
  {
   "cell_type": "code",
   "execution_count": null,
   "metadata": {},
   "outputs": [],
   "source": []
  },
  {
   "cell_type": "code",
   "execution_count": 51,
   "metadata": {},
   "outputs": [
    {
     "data": {
      "text/plain": [
       "Text(0.5,1,'HDBSCAN')"
      ]
     },
     "execution_count": 51,
     "metadata": {},
     "output_type": "execute_result"
    },
    {
     "data": {
      "image/png": "[encoded data removed]",
      "text/plain": [
       "<Figure size 576x576 with 1 Axes>"
      ]
     },
     "metadata": {
      "needs_background": "light"
     },
     "output_type": "display_data"
    }
   ],
   "source": [
    "plt.rcParams['figure.figsize'] = (8, 8)\n",
    "plt.scatter( X.T[5] , X.T[6], s=60, linewidth=0, c=colors, alpha=1)\n",
    "#plt.ylim(0.9,7)\n",
    "#plt.xlim(0,1000000)\n",
    "plt.xlabel('SALDO_PROMEDIO' ) #4\n",
    "plt.ylabel('ROTACION_CARTERA') \n",
    "plt.title('HDBSCAN')"
   ]
  },
  {
   "cell_type": "code",
   "execution_count": 28,
   "metadata": {},
   "outputs": [
    {
     "data": {
      "text/html": [
       "<iframe id=\"igraph\" scrolling=\"no\" style=\"border:none;\" seamless=\"seamless\" src=\"https://plot.ly/~cachulooo/12.embed\" height=\"525px\" width=\"100%\"></iframe>"
      ],
      "text/plain": [
       "<plotly.tools.PlotlyDisplay object>"
      ]
     },
     "execution_count": 28,
     "metadata": {},
     "output_type": "execute_result"
    }
   ],
   "source": [
    "## COORDENADAS PARALELAS \n",
    "data = [\n",
    "    go.Parcoords(\n",
    "        line = dict(color = labels_  , colorscale='Viridis'  ) ,  \n",
    "        dimensions = list([\n",
    "            dict(#range = [0,8], \n",
    "                label = 'QUEJAS' ,      values = X[:, 0]),\n",
    "            dict( range = [0,30],\n",
    "                label = 'DAÑOS',        values = X[:, 1]),\n",
    "            dict( #range = [0,8],\n",
    "                label = 'CORTES',       values = X[:, 2]),\n",
    "            dict( #range = [0,8],\n",
    "                label = 'RECLAMOS',     values = X[:, 3]),\n",
    "            dict( range = [0,500000],\n",
    "                label = 'FACTURACION_PROMEDIO', values = X[:, 4]),\n",
    "            dict( range = [0,500000],\n",
    "                label = 'SALDO_PROMEDIO',   values = X[:, 5]),             \n",
    "            dict( range = [0,3],\n",
    "                label = 'ROTACION_CARTERA', values = X[:, 6]),  \n",
    "            dict( #range = [0,8],\n",
    "                label = 'COMUNA',        values = X[:, 7]), \n",
    "            dict( #range = [0,8],\n",
    "                label = 'TI',        values = X[:, 8]), \n",
    "            dict( #range = [0,8],\n",
    "                label = 'TI2',        values = X[:, 9]), \n",
    "            dict( #range = [0,8],\n",
    "                label = 'TIPO_REPARTO',        values = X[:, 10]),  \n",
    "            dict( #range = [-1, n_clusters_-1 ],#   K CLUSTERS\n",
    "                label = 'CLUSTER', values = labels_) \n",
    "        ])\n",
    "    )\n",
    "]\n",
    "\n",
    "layout = go.Layout(\n",
    "    title='Segmentación de clientes HDBSCAN '+str(registros)+' Registros'+' '+str(n_clusters_)+' Clusters' ,\n",
    "    plot_bgcolor = '#FFFFFF',\n",
    "    paper_bgcolor = '#FFFFFF'\n",
    ") \n",
    "fig = go.Figure(data = data, layout = layout)\n",
    "py.iplot(fig, filename = 'hdbscan914'+str(registros))"
   ]
  },
  {
   "cell_type": "code",
   "execution_count": 11,
   "metadata": {},
   "outputs": [
    {
     "data": {
      "text/plain": [
       "array([-1,  0,  1,  2], dtype=int64)"
      ]
     },
     "execution_count": 11,
     "metadata": {},
     "output_type": "execute_result"
    }
   ],
   "source": [
    "np.unique(labels_)"
   ]
  }
 ],
 "metadata": {
  "kernelspec": {
   "display_name": "Python 3",
   "language": "python",
   "name": "python3"
  },
  "language_info": {
   "codemirror_mode": {
    "name": "ipython",
    "version": 3
   },
   "file_extension": ".py",
   "mimetype": "text/x-python",
   "name": "python",
   "nbconvert_exporter": "python",
   "pygments_lexer": "ipython3",
   "version": "3.6.6"
  }
 },
 "nbformat": 4,
 "nbformat_minor": 2
}
