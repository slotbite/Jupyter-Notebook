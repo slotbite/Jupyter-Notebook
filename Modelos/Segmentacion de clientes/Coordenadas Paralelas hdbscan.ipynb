{
 "cells": [
  {
   "cell_type": "markdown",
   "metadata": {},
   "source": [
    "## Funciondes de ploteo y análisis\n",
    "https://projects.susielu.com/viz-palette?colors=[%22#cccccc%22,%22#38d971%22,%22#fa8775%22,%22#ffd700%22,%22#57d7de%22,%22#cd34b5%22,%22#0000ff%22,%22#e73a34%22,%22#9d02d7%22,%22#76f53c%22,%22#ea5f94%22,%22#ffb14e%22]&backgroundColor=%22#1d163d%22&fontColor=%22black%22\n"
   ]
  },
  {
   "cell_type": "code",
   "execution_count": 196,
   "metadata": {},
   "outputs": [],
   "source": [
    "import warnings\n",
    "warnings.filterwarnings(\"ignore\")"
   ]
  },
  {
   "cell_type": "code",
   "execution_count": 197,
   "metadata": {},
   "outputs": [],
   "source": [
    "## Silhouette  test\n",
    "#Determina el numero optimo de clusters\n",
    "def test_silueta(df):\n",
    "    import hdbscan \n",
    "    from sklearn.metrics import davies_bouldin_score\n",
    "\n",
    "    rango_vecinos=[]\n",
    "    num_clusters = []\n",
    "    silueta = []\n",
    "    calinski = []\n",
    "    bouldin = []\n",
    "\n",
    "    X = np.array(sample )  \n",
    "    # Estandarización\n",
    "    #scaler = StandardScaler().fit(X)\n",
    "    #X = scaler.transform(X)\n",
    "\n",
    "    for n in   range(1 , 200) :  \n",
    "        model = hdbscan.HDBSCAN(min_cluster_size=n+1   ).fit(X) \n",
    "        n_clusters_ = len(set(model.labels_ )) - (1 if -1 in model.labels_  else 0)\n",
    "\n",
    "        if n_clusters_!= 0 :\n",
    "            rango_vecinos.append(n+1)\n",
    "            num_clusters.append( n_clusters_ )\n",
    "            # buscamos valores cerca de 1\n",
    "            silueta.append( metrics.silhouette_score( X , model.labels_ ))  \n",
    "            \n",
    "            # buscamos el valor mas grande\n",
    "            calinski.append( metrics.calinski_harabaz_score(X, model.labels_))\n",
    "            \n",
    "            # buscamos el valor minimo\n",
    "            bouldin.append(davies_bouldin_score(X, model.labels_))\n",
    "             \n",
    "        else:\n",
    "            break;\n",
    "\n",
    "    bench_df = pd.DataFrame({\n",
    "        \"num_vecinos\":rango_vecinos,\n",
    "        \"num_clusters\": num_clusters ,\n",
    "        \"silueta\":silueta , \n",
    "        'calinski':calinski , \n",
    "        'bouldin':bouldin\n",
    "    } )  \n",
    "    bench_df.to_csv('bench.csv', sep=';' , index=False , decimal = ',')\n",
    "    return  bench_df"
   ]
  },
  {
   "cell_type": "code",
   "execution_count": 198,
   "metadata": {},
   "outputs": [],
   "source": [
    "# scatter luedo de HDBSCAN\n",
    "def scatter(x_pos ,y_pos): \n",
    "    ## solo va a funcionar se existe se corrio hdbscan\n",
    "    trace = go.Scatter(\n",
    "        x = X[:, x_pos],   \n",
    "        y = X[:, y_pos],   \n",
    "        mode = 'markers', \n",
    "        marker=dict(color= labels_   ,\n",
    "                     colorscale=[\n",
    "                        [0.0               ,'rgb(204,204,204)',],\n",
    "                        [0.0               ,'rgb(204,204,204)', ],\n",
    "                        [0.0111111111111111,'rgb(56,217,113)', ],\n",
    "                        [0.1111111111111111,'rgb(250,135,117)', ],\n",
    "                        [0.2222222222222222,'rgb(255,215,0)', ],\n",
    "                        [0.2555555555555555,'rgb(87,215,222)',  ],\n",
    "                        [0.3333333333333333,'rgb(205,52,181)', ],\n",
    "                        [0.4444444444444444,'rgb(0,0,255)', ],\n",
    "                        [0.5555555555555556,'rgb(231,58,52)', ],\n",
    "                        [0.6666666666666666,'rgb(157,2,215)', ],\n",
    "                        [0.7777777777777778,'rgb(118,245,60)',  ],\n",
    "                        [0.8888888888888888,'rgb(234,95,148)',  ],\n",
    "                        [1.0               ,'rgb(255,177,78)'  ]] \n",
    "                   \n",
    "                   )\n",
    "    ) \n",
    "    layout = go.Layout(\n",
    "        title='Segmentación de clientes HDBSCAN '+str(registros)+' Registros'+' '+str(n_clusters_)+' Clusters' ,\n",
    "        plot_bgcolor = '#FFFFFF',\n",
    "        paper_bgcolor = '#FFFFFF', \n",
    "        xaxis=dict(\n",
    "                title=sample.columns[x_pos] \n",
    "            ),\n",
    "            yaxis=dict(\n",
    "                title=sample.columns[y_pos]\n",
    "            ) \n",
    "    )\n",
    "    data = [trace] \n",
    "    fig = go.Figure(data = data, layout = layout)\n",
    "    # Plot and embed in ipython notebook!\n",
    "    return fig \n",
    "#py.iplot(fig ,   filename='scatter_hdbscan')\n"
   ]
  },
  {
   "cell_type": "code",
   "execution_count": 199,
   "metadata": {},
   "outputs": [],
   "source": [
    "def ploty_scatter(x , y ):\n",
    "    # Create a trace\n",
    "    trace = go.Scatter(\n",
    "        x = x,   \n",
    "        y = y,   \n",
    "        mode = 'markers', \n",
    "        marker=dict(colorscale='Jet') \n",
    "    ) \n",
    "    layout = go.Layout( \n",
    "        plot_bgcolor = '#FFFFFF',\n",
    "        paper_bgcolor = '#FFFFFF' \n",
    "    )\n",
    "    data = [trace] \n",
    "    fig = go.Figure(data = data, layout = layout)\n",
    "    # Plot and embed in ipython notebook!\n",
    "    #py.iplot(fig ,   filename='simple_scatter') \n",
    "    return fig "
   ]
  },
  {
   "cell_type": "code",
   "execution_count": 200,
   "metadata": {},
   "outputs": [],
   "source": [
    "def caja(df):\n",
    "    trace0 = go.Box(\n",
    "        y=df\n",
    "    ) \n",
    "    data = [trace0 ] \n",
    "    fig = go.Figure(data = data )  \n",
    "    return fig\n",
    "     \n",
    "#fig = caja(sample['FACTURACION_PROMEDIO'])\n",
    "#py.iplot(fig ,   filename='caja') "
   ]
  },
  {
   "cell_type": "code",
   "execution_count": 201,
   "metadata": {},
   "outputs": [],
   "source": [
    "def plot_test( df ): \n",
    "     \n",
    "    # 'num_vecinos', 'num_clusters', 'silueta', 'calinski', 'bouldin'\n",
    "    x = df.index\n",
    "    \n",
    "    trace1 = go.Scatter(\n",
    "        x=x,\n",
    "        y=df.silueta,\n",
    "        name='Silueta',\n",
    "        mode='lines+markers'\n",
    "    )\n",
    "    trace2 = go.Scatter(\n",
    "        x=x,\n",
    "        y=df.calinski,\n",
    "        name='Calinski',\n",
    "        yaxis='y2',\n",
    "        mode='lines+markers'\n",
    "    )\n",
    "    trace3 = go.Scatter(\n",
    "        x=x,\n",
    "        y=df.bouldin,\n",
    "        name='Bouldin',\n",
    "        yaxis='y3',\n",
    "        mode='lines+markers'\n",
    "    )\n",
    "    trace4 = go.Scatter(\n",
    "        x=x,\n",
    "        y=df.num_clusters,\n",
    "        name='Clusters',\n",
    "        yaxis='y4',\n",
    "        mode='lines+markers'\n",
    "    )\n",
    "    trace5 = go.Scatter(\n",
    "        x=x,\n",
    "        y=df.num_vecinos,\n",
    "        name='mpts',\n",
    "        yaxis='y5',\n",
    "        mode='lines+markers'\n",
    "    )\n",
    "    \n",
    "    data = [trace1, trace2, trace3 ,  trace4  , trace5]\n",
    "    \n",
    "    layout = go.Layout(\n",
    "        title='Testing',\n",
    "        width=900, \n",
    "        yaxis=dict(\n",
    "            title='Silueta',\n",
    "            titlefont=dict(\n",
    "                color='#1f77b4'\n",
    "            ),\n",
    "            tickfont=dict(\n",
    "                color='#1f77b4'\n",
    "            )\n",
    "        ),\n",
    "        yaxis2=dict(\n",
    "            title='Calinski',\n",
    "            titlefont=dict(\n",
    "                color='#ff7f0e'\n",
    "            ),\n",
    "            tickfont=dict(\n",
    "                color='#ff7f0e'\n",
    "            ),\n",
    "            anchor='free',\n",
    "            overlaying='y',\n",
    "            side='left',\n",
    "            position=0.15\n",
    "        ),\n",
    "        yaxis3=dict(\n",
    "            title='Bouldin',\n",
    "            titlefont=dict(\n",
    "                color='#d62728'\n",
    "            ),\n",
    "            tickfont=dict(\n",
    "                color='#d62728'\n",
    "            ),\n",
    "            anchor='x',\n",
    "            overlaying='y',\n",
    "            side='right'\n",
    "        ),\n",
    "        yaxis4=dict(\n",
    "            title='Clusters',\n",
    "            titlefont=dict(\n",
    "                color='#fc3737'\n",
    "            ),\n",
    "            tickfont=dict(\n",
    "                color='#fc3737'\n",
    "            ),\n",
    "            anchor='free',\n",
    "            overlaying='y',\n",
    "            side='right',\n",
    "            position=0.85\n",
    "        ),\n",
    "        yaxis5=dict(\n",
    "            title='Mpts',\n",
    "            titlefont=dict(\n",
    "                color='#42f4d4'\n",
    "            ),\n",
    "            tickfont=dict(\n",
    "                color='#42f4d4'\n",
    "            ),\n",
    "            anchor='free',\n",
    "            overlaying='y',\n",
    "            side='right',\n",
    "            position=0.65\n",
    "        )\n",
    "    )\n",
    "    fig = go.Figure(data=data, layout=layout)\n",
    "    #plot_url = py.plot(fig, filename='multiple-axes-multiple')\n",
    "    return fig  "
   ]
  },
  {
   "cell_type": "code",
   "execution_count": 202,
   "metadata": {},
   "outputs": [],
   "source": [
    "import numpy as np\n",
    "import pandas as pd \n",
    "import matplotlib.pyplot as plt\n",
    "import seaborn as sns \n",
    "import plotly.plotly as py\n",
    "import plotly.graph_objs as go \n",
    "from sklearn.cluster import KMeans\n",
    "from sklearn.metrics import pairwise_distances_argmin_min\n",
    "from sklearn.preprocessing import StandardScaler\n",
    "from sklearn import metrics \n",
    "\n",
    "#plotly.tools.set_credentials_file(username='slotbite', api_key='GYgRt3eXz6IdiIy3k7sO')\n",
    "py.plotly.tools.set_credentials_file(username='cachulooo', api_key='srvpWbqoQ27WdGO3pArx')\n",
    "\n",
    " \n",
    "%matplotlib inline\n",
    "plt.rcParams['figure.figsize'] = (12, 12)"
   ]
  },
  {
   "cell_type": "code",
   "execution_count": 265,
   "metadata": {},
   "outputs": [],
   "source": [
    "# Cargando datos\n",
    "data = pd.read_csv(\"segmentacion_clientes.csv\" , delimiter=\";\" , decimal=\",\" , encoding='utf-8')"
   ]
  },
  {
   "cell_type": "code",
   "execution_count": 266,
   "metadata": {},
   "outputs": [],
   "source": [
    "df=data"
   ]
  },
  {
   "cell_type": "code",
   "execution_count": 267,
   "metadata": {},
   "outputs": [],
   "source": [
    "#sample=df\n",
    "#sample = df[(sample.QUEJAS==2)] \n",
    "#plt.xticks(rotation=90)\n",
    "#sample.groupby('COMUNA').size().sort_values(ascending=False) "
   ]
  },
  {
   "cell_type": "markdown",
   "metadata": {},
   "source": [
    "## Muestreo de distrubuciones\n",
    "\n",
    "```\n",
    "sample=df\n",
    "#sample = df[(sample.QUEJAS==2) ] \n",
    "plt.xticks(rotation=90)\n",
    "plt.plot(sample.groupby('QUEJAS').size().sort_values(ascending=False))\n",
    "```"
   ]
  },
  {
   "cell_type": "markdown",
   "metadata": {},
   "source": [
    "## Categorización <br> Encodificación <br> Estandarización"
   ]
  },
  {
   "cell_type": "code",
   "execution_count": 268,
   "metadata": {},
   "outputs": [
    {
     "data": {
      "text/html": [
       "<div>\n",
       "<style scoped>\n",
       "    .dataframe tbody tr th:only-of-type {\n",
       "        vertical-align: middle;\n",
       "    }\n",
       "\n",
       "    .dataframe tbody tr th {\n",
       "        vertical-align: top;\n",
       "    }\n",
       "\n",
       "    .dataframe thead th {\n",
       "        text-align: right;\n",
       "    }\n",
       "</style>\n",
       "<table border=\"1\" class=\"dataframe\">\n",
       "  <thead>\n",
       "    <tr style=\"text-align: right;\">\n",
       "      <th></th>\n",
       "      <th>PRODUCT_ID</th>\n",
       "      <th>SUBSCRIPTION_ID</th>\n",
       "      <th>SUBSCRIBER_ID</th>\n",
       "      <th>COMUNA</th>\n",
       "      <th>TI</th>\n",
       "      <th>TI2</th>\n",
       "      <th>TIPO_REPARTO</th>\n",
       "      <th>QUEJAS</th>\n",
       "      <th>DAÑOS</th>\n",
       "      <th>CORTES</th>\n",
       "      <th>RECLAMOS</th>\n",
       "      <th>FACTURACION_PROMEDIO</th>\n",
       "      <th>SALDO_PROMEDIO</th>\n",
       "      <th>ROTACION_CARTERA</th>\n",
       "      <th>COMUNA_ENC</th>\n",
       "    </tr>\n",
       "  </thead>\n",
       "  <tbody>\n",
       "    <tr>\n",
       "      <th>0</th>\n",
       "      <td>122551</td>\n",
       "      <td>122551</td>\n",
       "      <td>13185036</td>\n",
       "      <td>128 - San Esteban                             ...</td>\n",
       "      <td>0</td>\n",
       "      <td>0</td>\n",
       "      <td>0</td>\n",
       "      <td>0</td>\n",
       "      <td>0</td>\n",
       "      <td>0</td>\n",
       "      <td>0</td>\n",
       "      <td>18964.8333</td>\n",
       "      <td>33256.6667</td>\n",
       "      <td>1.753504</td>\n",
       "      <td>8</td>\n",
       "    </tr>\n",
       "    <tr>\n",
       "      <th>1</th>\n",
       "      <td>122581</td>\n",
       "      <td>122581</td>\n",
       "      <td>122581</td>\n",
       "      <td>128 - San Esteban                             ...</td>\n",
       "      <td>0</td>\n",
       "      <td>0</td>\n",
       "      <td>0</td>\n",
       "      <td>0</td>\n",
       "      <td>0</td>\n",
       "      <td>0</td>\n",
       "      <td>0</td>\n",
       "      <td>28445.7500</td>\n",
       "      <td>36605.0833</td>\n",
       "      <td>1.286793</td>\n",
       "      <td>8</td>\n",
       "    </tr>\n",
       "    <tr>\n",
       "      <th>2</th>\n",
       "      <td>109938</td>\n",
       "      <td>109938</td>\n",
       "      <td>3665521</td>\n",
       "      <td>145 - San Felipe                              ...</td>\n",
       "      <td>0</td>\n",
       "      <td>1</td>\n",
       "      <td>0</td>\n",
       "      <td>0</td>\n",
       "      <td>0</td>\n",
       "      <td>1</td>\n",
       "      <td>0</td>\n",
       "      <td>135045.4170</td>\n",
       "      <td>327823.5000</td>\n",
       "      <td>2.427488</td>\n",
       "      <td>18</td>\n",
       "    </tr>\n",
       "  </tbody>\n",
       "</table>\n",
       "</div>"
      ],
      "text/plain": [
       "   PRODUCT_ID  SUBSCRIPTION_ID  SUBSCRIBER_ID  \\\n",
       "0      122551           122551       13185036   \n",
       "1      122581           122581         122581   \n",
       "2      109938           109938        3665521   \n",
       "\n",
       "                                              COMUNA  TI  TI2  TIPO_REPARTO  \\\n",
       "0  128 - San Esteban                             ...   0    0             0   \n",
       "1  128 - San Esteban                             ...   0    0             0   \n",
       "2  145 - San Felipe                              ...   0    1             0   \n",
       "\n",
       "   QUEJAS  DAÑOS  CORTES  RECLAMOS  FACTURACION_PROMEDIO  SALDO_PROMEDIO  \\\n",
       "0       0      0       0         0            18964.8333      33256.6667   \n",
       "1       0      0       0         0            28445.7500      36605.0833   \n",
       "2       0      0       1         0           135045.4170     327823.5000   \n",
       "\n",
       "   ROTACION_CARTERA  COMUNA_ENC  \n",
       "0          1.753504           8  \n",
       "1          1.286793           8  \n",
       "2          2.427488          18  "
      ]
     },
     "execution_count": 268,
     "metadata": {},
     "output_type": "execute_result"
    }
   ],
   "source": [
    "# Eliminacion de outliers (-)\n",
    "df = df[df.PRODUCT_ID > 0] \n",
    "df = df[(df.FACTURACION_PROMEDIO > 0 ) & (df.FACTURACION_PROMEDIO <= 397000 )] \n",
    "df = df[(df.SALDO_PROMEDIO > 0 ) & (df.SALDO_PROMEDIO <= 401500 )]  \n",
    "\n",
    "\n",
    "## Convertimos las variables categoricas\n",
    "#http://pbpython.com/categorical-encoding.html\n",
    "pd.options.mode.chained_assignment = None\n",
    "df[\"COMUNA\"] = df[\"COMUNA\"].astype('category')\n",
    "df[\"TIPO_REPARTO\"] = df[\"TIPO_REPARTO\"].astype('category')\n",
    "df[\"TI\"] = df[\"TI\"].astype('category')\n",
    "df[\"TI2\"] = df[\"TI2\"].astype('category')\n",
    "\n",
    "# luego la encodificamos \n",
    "df[\"TI\"] = df[\"TI\"].cat.codes\n",
    "df[\"TI2\"] = df[\"TI2\"].cat.codes\n",
    "df[\"COMUNA_ENC\"] = df[\"COMUNA\"].cat.codes \n",
    "df[\"TIPO_REPARTO\"] = df[\"TIPO_REPARTO\"].cat.codes \n",
    "df[:3]"
   ]
  },
  {
   "cell_type": "code",
   "execution_count": 269,
   "metadata": {},
   "outputs": [
    {
     "data": {
      "text/plain": [
       "Index(['PRODUCT_ID', 'SUBSCRIPTION_ID', 'SUBSCRIBER_ID', 'COMUNA', 'TI', 'TI2',\n",
       "       'TIPO_REPARTO', 'QUEJAS', 'DAÑOS', 'CORTES', 'RECLAMOS',\n",
       "       'FACTURACION_PROMEDIO', 'SALDO_PROMEDIO', 'ROTACION_CARTERA',\n",
       "       'COMUNA_ENC'],\n",
       "      dtype='object')"
      ]
     },
     "execution_count": 269,
     "metadata": {},
     "output_type": "execute_result"
    }
   ],
   "source": [
    "df.columns"
   ]
  },
  {
   "cell_type": "markdown",
   "metadata": {},
   "source": [
    "## Correlacion de variables "
   ]
  },
  {
   "cell_type": "code",
   "execution_count": 270,
   "metadata": {},
   "outputs": [
    {
     "data": {
      "text/plain": [
       "<matplotlib.axes._subplots.AxesSubplot at 0x1e78834f940>"
      ]
     },
     "execution_count": 270,
     "metadata": {},
     "output_type": "execute_result"
    },
    {
     "data": {
      "image/png": "[encoded data removed]",
      "text/plain": [
       "<Figure size 864x864 with 2 Axes>"
      ]
     },
     "metadata": {
      "needs_background": "light"
     },
     "output_type": "display_data"
    }
   ],
   "source": [
    "## SELECCION PARA NUMERO DE QUEJAS 9  \n",
    "features=['PRODUCT_ID' , 'QUEJAS', 'DAÑOS',\n",
    "            'CORTES', 'RECLAMOS','FACTURACION_PROMEDIO',\n",
    "            'SALDO_PROMEDIO', 'ROTACION_CARTERA' ,\n",
    "           'COMUNA_ENC' , 'TI' , 'TI2' ,'TIPO_REPARTO' ]\n",
    " \n",
    "# selecciono el intervalo a trabajar \n",
    "sample = df[(df.QUEJAS==9)] \n",
    " \n",
    "# seleccion de variables a trabajar \n",
    "sample = sample[features]\n",
    "\n",
    "\n",
    "matrix_coor = sample.corr(method='pearson' ) #‘pearson’, ‘kendall’, ‘spearman’ \n",
    "\n",
    "#print(matrix_coor)\n",
    "sns.heatmap(matrix_coor, cmap=\"PiYG\") "
   ]
  },
  {
   "cell_type": "code",
   "execution_count": 271,
   "metadata": {},
   "outputs": [
    {
     "data": {
      "text/html": [
       "<style  type=\"text/css\" >\n",
       "    #T_6680aecc_19d4_11e9_a154_9c305b4b1df0row0_col0 {\n",
       "            background-color:  #276419;\n",
       "        }    #T_6680aecc_19d4_11e9_a154_9c305b4b1df0row0_col1 {\n",
       "            background-color:  #8e0152;\n",
       "        }    #T_6680aecc_19d4_11e9_a154_9c305b4b1df0row0_col2 {\n",
       "            background-color:  #99065a;\n",
       "        }    #T_6680aecc_19d4_11e9_a154_9c305b4b1df0row0_col3 {\n",
       "            background-color:  #b3126f;\n",
       "        }    #T_6680aecc_19d4_11e9_a154_9c305b4b1df0row0_col4 {\n",
       "            background-color:  #8e0152;\n",
       "        }    #T_6680aecc_19d4_11e9_a154_9c305b4b1df0row0_col5 {\n",
       "            background-color:  #b91574;\n",
       "        }    #T_6680aecc_19d4_11e9_a154_9c305b4b1df0row0_col6 {\n",
       "            background-color:  #bb1675;\n",
       "        }    #T_6680aecc_19d4_11e9_a154_9c305b4b1df0row0_col7 {\n",
       "            background-color:  #a10a61;\n",
       "        }    #T_6680aecc_19d4_11e9_a154_9c305b4b1df0row0_col8 {\n",
       "            background-color:  #9b075c;\n",
       "        }    #T_6680aecc_19d4_11e9_a154_9c305b4b1df0row0_col9 {\n",
       "            background-color:  #8e0152;\n",
       "        }    #T_6680aecc_19d4_11e9_a154_9c305b4b1df0row0_col10 {\n",
       "            background-color:  #8e0152;\n",
       "        }    #T_6680aecc_19d4_11e9_a154_9c305b4b1df0row0_col11 {\n",
       "            background-color:  #a80d66;\n",
       "        }    #T_6680aecc_19d4_11e9_a154_9c305b4b1df0row1_col0 {\n",
       "            background-color:  #8e0152;\n",
       "        }    #T_6680aecc_19d4_11e9_a154_9c305b4b1df0row1_col1 {\n",
       "            background-color:  #8e0152;\n",
       "        }    #T_6680aecc_19d4_11e9_a154_9c305b4b1df0row1_col2 {\n",
       "            background-color:  #8e0152;\n",
       "        }    #T_6680aecc_19d4_11e9_a154_9c305b4b1df0row1_col3 {\n",
       "            background-color:  #8e0152;\n",
       "        }    #T_6680aecc_19d4_11e9_a154_9c305b4b1df0row1_col4 {\n",
       "            background-color:  #8e0152;\n",
       "        }    #T_6680aecc_19d4_11e9_a154_9c305b4b1df0row1_col5 {\n",
       "            background-color:  #8e0152;\n",
       "        }    #T_6680aecc_19d4_11e9_a154_9c305b4b1df0row1_col6 {\n",
       "            background-color:  #8e0152;\n",
       "        }    #T_6680aecc_19d4_11e9_a154_9c305b4b1df0row1_col7 {\n",
       "            background-color:  #8e0152;\n",
       "        }    #T_6680aecc_19d4_11e9_a154_9c305b4b1df0row1_col8 {\n",
       "            background-color:  #8e0152;\n",
       "        }    #T_6680aecc_19d4_11e9_a154_9c305b4b1df0row1_col9 {\n",
       "            background-color:  #8e0152;\n",
       "        }    #T_6680aecc_19d4_11e9_a154_9c305b4b1df0row1_col10 {\n",
       "            background-color:  #8e0152;\n",
       "        }    #T_6680aecc_19d4_11e9_a154_9c305b4b1df0row1_col11 {\n",
       "            background-color:  #8e0152;\n",
       "        }    #T_6680aecc_19d4_11e9_a154_9c305b4b1df0row2_col0 {\n",
       "            background-color:  #e07eb3;\n",
       "        }    #T_6680aecc_19d4_11e9_a154_9c305b4b1df0row2_col1 {\n",
       "            background-color:  #8e0152;\n",
       "        }    #T_6680aecc_19d4_11e9_a154_9c305b4b1df0row2_col2 {\n",
       "            background-color:  #276419;\n",
       "        }    #T_6680aecc_19d4_11e9_a154_9c305b4b1df0row2_col3 {\n",
       "            background-color:  #eca6cf;\n",
       "        }    #T_6680aecc_19d4_11e9_a154_9c305b4b1df0row2_col4 {\n",
       "            background-color:  #6faf37;\n",
       "        }    #T_6680aecc_19d4_11e9_a154_9c305b4b1df0row2_col5 {\n",
       "            background-color:  #eeabd2;\n",
       "        }    #T_6680aecc_19d4_11e9_a154_9c305b4b1df0row2_col6 {\n",
       "            background-color:  #efb0d6;\n",
       "        }    #T_6680aecc_19d4_11e9_a154_9c305b4b1df0row2_col7 {\n",
       "            background-color:  #eeabd2;\n",
       "        }    #T_6680aecc_19d4_11e9_a154_9c305b4b1df0row2_col8 {\n",
       "            background-color:  #468a20;\n",
       "        }    #T_6680aecc_19d4_11e9_a154_9c305b4b1df0row2_col9 {\n",
       "            background-color:  #8e0152;\n",
       "        }    #T_6680aecc_19d4_11e9_a154_9c305b4b1df0row2_col10 {\n",
       "            background-color:  #8e0152;\n",
       "        }    #T_6680aecc_19d4_11e9_a154_9c305b4b1df0row2_col11 {\n",
       "            background-color:  #8e0152;\n",
       "        }    #T_6680aecc_19d4_11e9_a154_9c305b4b1df0row3_col0 {\n",
       "            background-color:  #9f095f;\n",
       "        }    #T_6680aecc_19d4_11e9_a154_9c305b4b1df0row3_col1 {\n",
       "            background-color:  #8e0152;\n",
       "        }    #T_6680aecc_19d4_11e9_a154_9c305b4b1df0row3_col2 {\n",
       "            background-color:  #b3126f;\n",
       "        }    #T_6680aecc_19d4_11e9_a154_9c305b4b1df0row3_col3 {\n",
       "            background-color:  #276419;\n",
       "        }    #T_6680aecc_19d4_11e9_a154_9c305b4b1df0row3_col4 {\n",
       "            background-color:  #e897c4;\n",
       "        }    #T_6680aecc_19d4_11e9_a154_9c305b4b1df0row3_col5 {\n",
       "            background-color:  #8e0152;\n",
       "        }    #T_6680aecc_19d4_11e9_a154_9c305b4b1df0row3_col6 {\n",
       "            background-color:  #970559;\n",
       "        }    #T_6680aecc_19d4_11e9_a154_9c305b4b1df0row3_col7 {\n",
       "            background-color:  #d04493;\n",
       "        }    #T_6680aecc_19d4_11e9_a154_9c305b4b1df0row3_col8 {\n",
       "            background-color:  #b51370;\n",
       "        }    #T_6680aecc_19d4_11e9_a154_9c305b4b1df0row3_col9 {\n",
       "            background-color:  #8e0152;\n",
       "        }    #T_6680aecc_19d4_11e9_a154_9c305b4b1df0row3_col10 {\n",
       "            background-color:  #8e0152;\n",
       "        }    #T_6680aecc_19d4_11e9_a154_9c305b4b1df0row3_col11 {\n",
       "            background-color:  #900254;\n",
       "        }    #T_6680aecc_19d4_11e9_a154_9c305b4b1df0row4_col0 {\n",
       "            background-color:  #dc70aa;\n",
       "        }    #T_6680aecc_19d4_11e9_a154_9c305b4b1df0row4_col1 {\n",
       "            background-color:  #8e0152;\n",
       "        }    #T_6680aecc_19d4_11e9_a154_9c305b4b1df0row4_col2 {\n",
       "            background-color:  #6faf37;\n",
       "        }    #T_6680aecc_19d4_11e9_a154_9c305b4b1df0row4_col3 {\n",
       "            background-color:  #fce5f1;\n",
       "        }    #T_6680aecc_19d4_11e9_a154_9c305b4b1df0row4_col4 {\n",
       "            background-color:  #276419;\n",
       "        }    #T_6680aecc_19d4_11e9_a154_9c305b4b1df0row4_col5 {\n",
       "            background-color:  #e692c1;\n",
       "        }    #T_6680aecc_19d4_11e9_a154_9c305b4b1df0row4_col6 {\n",
       "            background-color:  #e795c3;\n",
       "        }    #T_6680aecc_19d4_11e9_a154_9c305b4b1df0row4_col7 {\n",
       "            background-color:  #f3bcdd;\n",
       "        }    #T_6680aecc_19d4_11e9_a154_9c305b4b1df0row4_col8 {\n",
       "            background-color:  #4b8f21;\n",
       "        }    #T_6680aecc_19d4_11e9_a154_9c305b4b1df0row4_col9 {\n",
       "            background-color:  #8e0152;\n",
       "        }    #T_6680aecc_19d4_11e9_a154_9c305b4b1df0row4_col10 {\n",
       "            background-color:  #8e0152;\n",
       "        }    #T_6680aecc_19d4_11e9_a154_9c305b4b1df0row4_col11 {\n",
       "            background-color:  #8e0152;\n",
       "        }    #T_6680aecc_19d4_11e9_a154_9c305b4b1df0row5_col0 {\n",
       "            background-color:  #a80d66;\n",
       "        }    #T_6680aecc_19d4_11e9_a154_9c305b4b1df0row5_col1 {\n",
       "            background-color:  #8e0152;\n",
       "        }    #T_6680aecc_19d4_11e9_a154_9c305b4b1df0row5_col2 {\n",
       "            background-color:  #b71472;\n",
       "        }    #T_6680aecc_19d4_11e9_a154_9c305b4b1df0row5_col3 {\n",
       "            background-color:  #8e0152;\n",
       "        }    #T_6680aecc_19d4_11e9_a154_9c305b4b1df0row5_col4 {\n",
       "            background-color:  #9b075c;\n",
       "        }    #T_6680aecc_19d4_11e9_a154_9c305b4b1df0row5_col5 {\n",
       "            background-color:  #276419;\n",
       "        }    #T_6680aecc_19d4_11e9_a154_9c305b4b1df0row5_col6 {\n",
       "            background-color:  #2d6b1a;\n",
       "        }    #T_6680aecc_19d4_11e9_a154_9c305b4b1df0row5_col7 {\n",
       "            background-color:  #8e0152;\n",
       "        }    #T_6680aecc_19d4_11e9_a154_9c305b4b1df0row5_col8 {\n",
       "            background-color:  #a60c65;\n",
       "        }    #T_6680aecc_19d4_11e9_a154_9c305b4b1df0row5_col9 {\n",
       "            background-color:  #8e0152;\n",
       "        }    #T_6680aecc_19d4_11e9_a154_9c305b4b1df0row5_col10 {\n",
       "            background-color:  #8e0152;\n",
       "        }    #T_6680aecc_19d4_11e9_a154_9c305b4b1df0row5_col11 {\n",
       "            background-color:  #cc368b;\n",
       "        }    #T_6680aecc_19d4_11e9_a154_9c305b4b1df0row6_col0 {\n",
       "            background-color:  #9f095f;\n",
       "        }    #T_6680aecc_19d4_11e9_a154_9c305b4b1df0row6_col1 {\n",
       "            background-color:  #8e0152;\n",
       "        }    #T_6680aecc_19d4_11e9_a154_9c305b4b1df0row6_col2 {\n",
       "            background-color:  #b3126f;\n",
       "        }    #T_6680aecc_19d4_11e9_a154_9c305b4b1df0row6_col3 {\n",
       "            background-color:  #8e0152;\n",
       "        }    #T_6680aecc_19d4_11e9_a154_9c305b4b1df0row6_col4 {\n",
       "            background-color:  #970559;\n",
       "        }    #T_6680aecc_19d4_11e9_a154_9c305b4b1df0row6_col5 {\n",
       "            background-color:  #2d6b1a;\n",
       "        }    #T_6680aecc_19d4_11e9_a154_9c305b4b1df0row6_col6 {\n",
       "            background-color:  #276419;\n",
       "        }    #T_6680aecc_19d4_11e9_a154_9c305b4b1df0row6_col7 {\n",
       "            background-color:  #a10a61;\n",
       "        }    #T_6680aecc_19d4_11e9_a154_9c305b4b1df0row6_col8 {\n",
       "            background-color:  #9b075c;\n",
       "        }    #T_6680aecc_19d4_11e9_a154_9c305b4b1df0row6_col9 {\n",
       "            background-color:  #8e0152;\n",
       "        }    #T_6680aecc_19d4_11e9_a154_9c305b4b1df0row6_col10 {\n",
       "            background-color:  #8e0152;\n",
       "        }    #T_6680aecc_19d4_11e9_a154_9c305b4b1df0row6_col11 {\n",
       "            background-color:  #c72482;\n",
       "        }    #T_6680aecc_19d4_11e9_a154_9c305b4b1df0row7_col0 {\n",
       "            background-color:  #8e0152;\n",
       "        }    #T_6680aecc_19d4_11e9_a154_9c305b4b1df0row7_col1 {\n",
       "            background-color:  #8e0152;\n",
       "        }    #T_6680aecc_19d4_11e9_a154_9c305b4b1df0row7_col2 {\n",
       "            background-color:  #b71472;\n",
       "        }    #T_6680aecc_19d4_11e9_a154_9c305b4b1df0row7_col3 {\n",
       "            background-color:  #d04493;\n",
       "        }    #T_6680aecc_19d4_11e9_a154_9c305b4b1df0row7_col4 {\n",
       "            background-color:  #c92b86;\n",
       "        }    #T_6680aecc_19d4_11e9_a154_9c305b4b1df0row7_col5 {\n",
       "            background-color:  #8e0152;\n",
       "        }    #T_6680aecc_19d4_11e9_a154_9c305b4b1df0row7_col6 {\n",
       "            background-color:  #ac0f6a;\n",
       "        }    #T_6680aecc_19d4_11e9_a154_9c305b4b1df0row7_col7 {\n",
       "            background-color:  #276419;\n",
       "        }    #T_6680aecc_19d4_11e9_a154_9c305b4b1df0row7_col8 {\n",
       "            background-color:  #b51370;\n",
       "        }    #T_6680aecc_19d4_11e9_a154_9c305b4b1df0row7_col9 {\n",
       "            background-color:  #8e0152;\n",
       "        }    #T_6680aecc_19d4_11e9_a154_9c305b4b1df0row7_col10 {\n",
       "            background-color:  #8e0152;\n",
       "        }    #T_6680aecc_19d4_11e9_a154_9c305b4b1df0row7_col11 {\n",
       "            background-color:  #b71472;\n",
       "        }    #T_6680aecc_19d4_11e9_a154_9c305b4b1df0row8_col0 {\n",
       "            background-color:  #e795c3;\n",
       "        }    #T_6680aecc_19d4_11e9_a154_9c305b4b1df0row8_col1 {\n",
       "            background-color:  #8e0152;\n",
       "        }    #T_6680aecc_19d4_11e9_a154_9c305b4b1df0row8_col2 {\n",
       "            background-color:  #45881f;\n",
       "        }    #T_6680aecc_19d4_11e9_a154_9c305b4b1df0row8_col3 {\n",
       "            background-color:  #f2b8db;\n",
       "        }    #T_6680aecc_19d4_11e9_a154_9c305b4b1df0row8_col4 {\n",
       "            background-color:  #498d20;\n",
       "        }    #T_6680aecc_19d4_11e9_a154_9c305b4b1df0row8_col5 {\n",
       "            background-color:  #eeadd4;\n",
       "        }    #T_6680aecc_19d4_11e9_a154_9c305b4b1df0row8_col6 {\n",
       "            background-color:  #eeadd4;\n",
       "        }    #T_6680aecc_19d4_11e9_a154_9c305b4b1df0row8_col7 {\n",
       "            background-color:  #f2b8db;\n",
       "        }    #T_6680aecc_19d4_11e9_a154_9c305b4b1df0row8_col8 {\n",
       "            background-color:  #276419;\n",
       "        }    #T_6680aecc_19d4_11e9_a154_9c305b4b1df0row8_col9 {\n",
       "            background-color:  #8e0152;\n",
       "        }    #T_6680aecc_19d4_11e9_a154_9c305b4b1df0row8_col10 {\n",
       "            background-color:  #8e0152;\n",
       "        }    #T_6680aecc_19d4_11e9_a154_9c305b4b1df0row8_col11 {\n",
       "            background-color:  #8e0152;\n",
       "        }    #T_6680aecc_19d4_11e9_a154_9c305b4b1df0row9_col0 {\n",
       "            background-color:  #8e0152;\n",
       "        }    #T_6680aecc_19d4_11e9_a154_9c305b4b1df0row9_col1 {\n",
       "            background-color:  #8e0152;\n",
       "        }    #T_6680aecc_19d4_11e9_a154_9c305b4b1df0row9_col2 {\n",
       "            background-color:  #8e0152;\n",
       "        }    #T_6680aecc_19d4_11e9_a154_9c305b4b1df0row9_col3 {\n",
       "            background-color:  #8e0152;\n",
       "        }    #T_6680aecc_19d4_11e9_a154_9c305b4b1df0row9_col4 {\n",
       "            background-color:  #8e0152;\n",
       "        }    #T_6680aecc_19d4_11e9_a154_9c305b4b1df0row9_col5 {\n",
       "            background-color:  #8e0152;\n",
       "        }    #T_6680aecc_19d4_11e9_a154_9c305b4b1df0row9_col6 {\n",
       "            background-color:  #8e0152;\n",
       "        }    #T_6680aecc_19d4_11e9_a154_9c305b4b1df0row9_col7 {\n",
       "            background-color:  #8e0152;\n",
       "        }    #T_6680aecc_19d4_11e9_a154_9c305b4b1df0row9_col8 {\n",
       "            background-color:  #8e0152;\n",
       "        }    #T_6680aecc_19d4_11e9_a154_9c305b4b1df0row9_col9 {\n",
       "            background-color:  #8e0152;\n",
       "        }    #T_6680aecc_19d4_11e9_a154_9c305b4b1df0row9_col10 {\n",
       "            background-color:  #8e0152;\n",
       "        }    #T_6680aecc_19d4_11e9_a154_9c305b4b1df0row9_col11 {\n",
       "            background-color:  #8e0152;\n",
       "        }    #T_6680aecc_19d4_11e9_a154_9c305b4b1df0row10_col0 {\n",
       "            background-color:  #8e0152;\n",
       "        }    #T_6680aecc_19d4_11e9_a154_9c305b4b1df0row10_col1 {\n",
       "            background-color:  #8e0152;\n",
       "        }    #T_6680aecc_19d4_11e9_a154_9c305b4b1df0row10_col2 {\n",
       "            background-color:  #8e0152;\n",
       "        }    #T_6680aecc_19d4_11e9_a154_9c305b4b1df0row10_col3 {\n",
       "            background-color:  #8e0152;\n",
       "        }    #T_6680aecc_19d4_11e9_a154_9c305b4b1df0row10_col4 {\n",
       "            background-color:  #8e0152;\n",
       "        }    #T_6680aecc_19d4_11e9_a154_9c305b4b1df0row10_col5 {\n",
       "            background-color:  #8e0152;\n",
       "        }    #T_6680aecc_19d4_11e9_a154_9c305b4b1df0row10_col6 {\n",
       "            background-color:  #8e0152;\n",
       "        }    #T_6680aecc_19d4_11e9_a154_9c305b4b1df0row10_col7 {\n",
       "            background-color:  #8e0152;\n",
       "        }    #T_6680aecc_19d4_11e9_a154_9c305b4b1df0row10_col8 {\n",
       "            background-color:  #8e0152;\n",
       "        }    #T_6680aecc_19d4_11e9_a154_9c305b4b1df0row10_col9 {\n",
       "            background-color:  #8e0152;\n",
       "        }    #T_6680aecc_19d4_11e9_a154_9c305b4b1df0row10_col10 {\n",
       "            background-color:  #8e0152;\n",
       "        }    #T_6680aecc_19d4_11e9_a154_9c305b4b1df0row10_col11 {\n",
       "            background-color:  #8e0152;\n",
       "        }    #T_6680aecc_19d4_11e9_a154_9c305b4b1df0row11_col0 {\n",
       "            background-color:  #ea9fca;\n",
       "        }    #T_6680aecc_19d4_11e9_a154_9c305b4b1df0row11_col1 {\n",
       "            background-color:  #8e0152;\n",
       "        }    #T_6680aecc_19d4_11e9_a154_9c305b4b1df0row11_col2 {\n",
       "            background-color:  #a10a61;\n",
       "        }    #T_6680aecc_19d4_11e9_a154_9c305b4b1df0row11_col3 {\n",
       "            background-color:  #e99cc8;\n",
       "        }    #T_6680aecc_19d4_11e9_a154_9c305b4b1df0row11_col4 {\n",
       "            background-color:  #a40b63;\n",
       "        }    #T_6680aecc_19d4_11e9_a154_9c305b4b1df0row11_col5 {\n",
       "            background-color:  #f7cbe4;\n",
       "        }    #T_6680aecc_19d4_11e9_a154_9c305b4b1df0row11_col6 {\n",
       "            background-color:  #f7cbe4;\n",
       "        }    #T_6680aecc_19d4_11e9_a154_9c305b4b1df0row11_col7 {\n",
       "            background-color:  #f2badc;\n",
       "        }    #T_6680aecc_19d4_11e9_a154_9c305b4b1df0row11_col8 {\n",
       "            background-color:  #8e0152;\n",
       "        }    #T_6680aecc_19d4_11e9_a154_9c305b4b1df0row11_col9 {\n",
       "            background-color:  #8e0152;\n",
       "        }    #T_6680aecc_19d4_11e9_a154_9c305b4b1df0row11_col10 {\n",
       "            background-color:  #8e0152;\n",
       "        }    #T_6680aecc_19d4_11e9_a154_9c305b4b1df0row11_col11 {\n",
       "            background-color:  #276419;\n",
       "        }</style>  \n",
       "<table id=\"T_6680aecc_19d4_11e9_a154_9c305b4b1df0\" > \n",
       "<thead>    <tr> \n",
       "        <th class=\"blank level0\" ></th> \n",
       "        <th class=\"col_heading level0 col0\" >PRODUCT_ID</th> \n",
       "        <th class=\"col_heading level0 col1\" >QUEJAS</th> \n",
       "        <th class=\"col_heading level0 col2\" >DAÑOS</th> \n",
       "        <th class=\"col_heading level0 col3\" >CORTES</th> \n",
       "        <th class=\"col_heading level0 col4\" >RECLAMOS</th> \n",
       "        <th class=\"col_heading level0 col5\" >FACTURACION_PROMEDIO</th> \n",
       "        <th class=\"col_heading level0 col6\" >SALDO_PROMEDIO</th> \n",
       "        <th class=\"col_heading level0 col7\" >ROTACION_CARTERA</th> \n",
       "        <th class=\"col_heading level0 col8\" >COMUNA_ENC</th> \n",
       "        <th class=\"col_heading level0 col9\" >TI</th> \n",
       "        <th class=\"col_heading level0 col10\" >TI2</th> \n",
       "        <th class=\"col_heading level0 col11\" >TIPO_REPARTO</th> \n",
       "    </tr></thead> \n",
       "<tbody>    <tr> \n",
       "        <th id=\"T_6680aecc_19d4_11e9_a154_9c305b4b1df0level0_row0\" class=\"row_heading level0 row0\" >PRODUCT_ID</th> \n",
       "        <td id=\"T_6680aecc_19d4_11e9_a154_9c305b4b1df0row0_col0\" class=\"data row0 col0\" >1.0</td> \n",
       "        <td id=\"T_6680aecc_19d4_11e9_a154_9c305b4b1df0row0_col1\" class=\"data row0 col1\" >nan</td> \n",
       "        <td id=\"T_6680aecc_19d4_11e9_a154_9c305b4b1df0row0_col2\" class=\"data row0 col2\" >-0.092</td> \n",
       "        <td id=\"T_6680aecc_19d4_11e9_a154_9c305b4b1df0row0_col3\" class=\"data row0 col3\" >-0.042</td> \n",
       "        <td id=\"T_6680aecc_19d4_11e9_a154_9c305b4b1df0row0_col4\" class=\"data row0 col4\" >-0.12</td> \n",
       "        <td id=\"T_6680aecc_19d4_11e9_a154_9c305b4b1df0row0_col5\" class=\"data row0 col5\" >-0.027</td> \n",
       "        <td id=\"T_6680aecc_19d4_11e9_a154_9c305b4b1df0row0_col6\" class=\"data row0 col6\" >-0.025</td> \n",
       "        <td id=\"T_6680aecc_19d4_11e9_a154_9c305b4b1df0row0_col7\" class=\"data row0 col7\" >-0.075</td> \n",
       "        <td id=\"T_6680aecc_19d4_11e9_a154_9c305b4b1df0row0_col8\" class=\"data row0 col8\" >-0.09</td> \n",
       "        <td id=\"T_6680aecc_19d4_11e9_a154_9c305b4b1df0row0_col9\" class=\"data row0 col9\" >nan</td> \n",
       "        <td id=\"T_6680aecc_19d4_11e9_a154_9c305b4b1df0row0_col10\" class=\"data row0 col10\" >nan</td> \n",
       "        <td id=\"T_6680aecc_19d4_11e9_a154_9c305b4b1df0row0_col11\" class=\"data row0 col11\" >-0.064</td> \n",
       "    </tr>    <tr> \n",
       "        <th id=\"T_6680aecc_19d4_11e9_a154_9c305b4b1df0level0_row1\" class=\"row_heading level0 row1\" >QUEJAS</th> \n",
       "        <td id=\"T_6680aecc_19d4_11e9_a154_9c305b4b1df0row1_col0\" class=\"data row1 col0\" >nan</td> \n",
       "        <td id=\"T_6680aecc_19d4_11e9_a154_9c305b4b1df0row1_col1\" class=\"data row1 col1\" >nan</td> \n",
       "        <td id=\"T_6680aecc_19d4_11e9_a154_9c305b4b1df0row1_col2\" class=\"data row1 col2\" >nan</td> \n",
       "        <td id=\"T_6680aecc_19d4_11e9_a154_9c305b4b1df0row1_col3\" class=\"data row1 col3\" >nan</td> \n",
       "        <td id=\"T_6680aecc_19d4_11e9_a154_9c305b4b1df0row1_col4\" class=\"data row1 col4\" >nan</td> \n",
       "        <td id=\"T_6680aecc_19d4_11e9_a154_9c305b4b1df0row1_col5\" class=\"data row1 col5\" >nan</td> \n",
       "        <td id=\"T_6680aecc_19d4_11e9_a154_9c305b4b1df0row1_col6\" class=\"data row1 col6\" >nan</td> \n",
       "        <td id=\"T_6680aecc_19d4_11e9_a154_9c305b4b1df0row1_col7\" class=\"data row1 col7\" >nan</td> \n",
       "        <td id=\"T_6680aecc_19d4_11e9_a154_9c305b4b1df0row1_col8\" class=\"data row1 col8\" >nan</td> \n",
       "        <td id=\"T_6680aecc_19d4_11e9_a154_9c305b4b1df0row1_col9\" class=\"data row1 col9\" >nan</td> \n",
       "        <td id=\"T_6680aecc_19d4_11e9_a154_9c305b4b1df0row1_col10\" class=\"data row1 col10\" >nan</td> \n",
       "        <td id=\"T_6680aecc_19d4_11e9_a154_9c305b4b1df0row1_col11\" class=\"data row1 col11\" >nan</td> \n",
       "    </tr>    <tr> \n",
       "        <th id=\"T_6680aecc_19d4_11e9_a154_9c305b4b1df0level0_row2\" class=\"row_heading level0 row2\" >DAÑOS</th> \n",
       "        <td id=\"T_6680aecc_19d4_11e9_a154_9c305b4b1df0row2_col0\" class=\"data row2 col0\" >-0.092</td> \n",
       "        <td id=\"T_6680aecc_19d4_11e9_a154_9c305b4b1df0row2_col1\" class=\"data row2 col1\" >nan</td> \n",
       "        <td id=\"T_6680aecc_19d4_11e9_a154_9c305b4b1df0row2_col2\" class=\"data row2 col2\" >1.0</td> \n",
       "        <td id=\"T_6680aecc_19d4_11e9_a154_9c305b4b1df0row2_col3\" class=\"data row2 col3\" >-0.0052</td> \n",
       "        <td id=\"T_6680aecc_19d4_11e9_a154_9c305b4b1df0row2_col4\" class=\"data row2 col4\" >0.76</td> \n",
       "        <td id=\"T_6680aecc_19d4_11e9_a154_9c305b4b1df0row2_col5\" class=\"data row2 col5\" >0.0025</td> \n",
       "        <td id=\"T_6680aecc_19d4_11e9_a154_9c305b4b1df0row2_col6\" class=\"data row2 col6\" >0.014</td> \n",
       "        <td id=\"T_6680aecc_19d4_11e9_a154_9c305b4b1df0row2_col7\" class=\"data row2 col7\" >0.0021</td> \n",
       "        <td id=\"T_6680aecc_19d4_11e9_a154_9c305b4b1df0row2_col8\" class=\"data row2 col8\" >0.88</td> \n",
       "        <td id=\"T_6680aecc_19d4_11e9_a154_9c305b4b1df0row2_col9\" class=\"data row2 col9\" >nan</td> \n",
       "        <td id=\"T_6680aecc_19d4_11e9_a154_9c305b4b1df0row2_col10\" class=\"data row2 col10\" >nan</td> \n",
       "        <td id=\"T_6680aecc_19d4_11e9_a154_9c305b4b1df0row2_col11\" class=\"data row2 col11\" >-0.39</td> \n",
       "    </tr>    <tr> \n",
       "        <th id=\"T_6680aecc_19d4_11e9_a154_9c305b4b1df0level0_row3\" class=\"row_heading level0 row3\" >CORTES</th> \n",
       "        <td id=\"T_6680aecc_19d4_11e9_a154_9c305b4b1df0row3_col0\" class=\"data row3 col0\" >-0.042</td> \n",
       "        <td id=\"T_6680aecc_19d4_11e9_a154_9c305b4b1df0row3_col1\" class=\"data row3 col1\" >nan</td> \n",
       "        <td id=\"T_6680aecc_19d4_11e9_a154_9c305b4b1df0row3_col2\" class=\"data row3 col2\" >-0.0052</td> \n",
       "        <td id=\"T_6680aecc_19d4_11e9_a154_9c305b4b1df0row3_col3\" class=\"data row3 col3\" >1.0</td> \n",
       "        <td id=\"T_6680aecc_19d4_11e9_a154_9c305b4b1df0row3_col4\" class=\"data row3 col4\" >0.2</td> \n",
       "        <td id=\"T_6680aecc_19d4_11e9_a154_9c305b4b1df0row3_col5\" class=\"data row3 col5\" >-0.078</td> \n",
       "        <td id=\"T_6680aecc_19d4_11e9_a154_9c305b4b1df0row3_col6\" class=\"data row3 col6\" >-0.059</td> \n",
       "        <td id=\"T_6680aecc_19d4_11e9_a154_9c305b4b1df0row3_col7\" class=\"data row3 col7\" >0.081</td> \n",
       "        <td id=\"T_6680aecc_19d4_11e9_a154_9c305b4b1df0row3_col8\" class=\"data row3 col8\" >-0.0021</td> \n",
       "        <td id=\"T_6680aecc_19d4_11e9_a154_9c305b4b1df0row3_col9\" class=\"data row3 col9\" >nan</td> \n",
       "        <td id=\"T_6680aecc_19d4_11e9_a154_9c305b4b1df0row3_col10\" class=\"data row3 col10\" >nan</td> \n",
       "        <td id=\"T_6680aecc_19d4_11e9_a154_9c305b4b1df0row3_col11\" class=\"data row3 col11\" >-0.072</td> \n",
       "    </tr>    <tr> \n",
       "        <th id=\"T_6680aecc_19d4_11e9_a154_9c305b4b1df0level0_row4\" class=\"row_heading level0 row4\" >RECLAMOS</th> \n",
       "        <td id=\"T_6680aecc_19d4_11e9_a154_9c305b4b1df0row4_col0\" class=\"data row4 col0\" >-0.12</td> \n",
       "        <td id=\"T_6680aecc_19d4_11e9_a154_9c305b4b1df0row4_col1\" class=\"data row4 col1\" >nan</td> \n",
       "        <td id=\"T_6680aecc_19d4_11e9_a154_9c305b4b1df0row4_col2\" class=\"data row4 col2\" >0.76</td> \n",
       "        <td id=\"T_6680aecc_19d4_11e9_a154_9c305b4b1df0row4_col3\" class=\"data row4 col3\" >0.2</td> \n",
       "        <td id=\"T_6680aecc_19d4_11e9_a154_9c305b4b1df0row4_col4\" class=\"data row4 col4\" >1.0</td> \n",
       "        <td id=\"T_6680aecc_19d4_11e9_a154_9c305b4b1df0row4_col5\" class=\"data row4 col5\" >-0.05</td> \n",
       "        <td id=\"T_6680aecc_19d4_11e9_a154_9c305b4b1df0row4_col6\" class=\"data row4 col6\" >-0.04</td> \n",
       "        <td id=\"T_6680aecc_19d4_11e9_a154_9c305b4b1df0row4_col7\" class=\"data row4 col7\" >0.05</td> \n",
       "        <td id=\"T_6680aecc_19d4_11e9_a154_9c305b4b1df0row4_col8\" class=\"data row4 col8\" >0.87</td> \n",
       "        <td id=\"T_6680aecc_19d4_11e9_a154_9c305b4b1df0row4_col9\" class=\"data row4 col9\" >nan</td> \n",
       "        <td id=\"T_6680aecc_19d4_11e9_a154_9c305b4b1df0row4_col10\" class=\"data row4 col10\" >nan</td> \n",
       "        <td id=\"T_6680aecc_19d4_11e9_a154_9c305b4b1df0row4_col11\" class=\"data row4 col11\" >-0.39</td> \n",
       "    </tr>    <tr> \n",
       "        <th id=\"T_6680aecc_19d4_11e9_a154_9c305b4b1df0level0_row5\" class=\"row_heading level0 row5\" >FACTURACION_PROMEDIO</th> \n",
       "        <td id=\"T_6680aecc_19d4_11e9_a154_9c305b4b1df0row5_col0\" class=\"data row5 col0\" >-0.027</td> \n",
       "        <td id=\"T_6680aecc_19d4_11e9_a154_9c305b4b1df0row5_col1\" class=\"data row5 col1\" >nan</td> \n",
       "        <td id=\"T_6680aecc_19d4_11e9_a154_9c305b4b1df0row5_col2\" class=\"data row5 col2\" >0.0025</td> \n",
       "        <td id=\"T_6680aecc_19d4_11e9_a154_9c305b4b1df0row5_col3\" class=\"data row5 col3\" >-0.078</td> \n",
       "        <td id=\"T_6680aecc_19d4_11e9_a154_9c305b4b1df0row5_col4\" class=\"data row5 col4\" >-0.05</td> \n",
       "        <td id=\"T_6680aecc_19d4_11e9_a154_9c305b4b1df0row5_col5\" class=\"data row5 col5\" >1.0</td> \n",
       "        <td id=\"T_6680aecc_19d4_11e9_a154_9c305b4b1df0row5_col6\" class=\"data row5 col6\" >0.98</td> \n",
       "        <td id=\"T_6680aecc_19d4_11e9_a154_9c305b4b1df0row5_col7\" class=\"data row5 col7\" >-0.078</td> \n",
       "        <td id=\"T_6680aecc_19d4_11e9_a154_9c305b4b1df0row5_col8\" class=\"data row5 col8\" >-0.03</td> \n",
       "        <td id=\"T_6680aecc_19d4_11e9_a154_9c305b4b1df0row5_col9\" class=\"data row5 col9\" >nan</td> \n",
       "        <td id=\"T_6680aecc_19d4_11e9_a154_9c305b4b1df0row5_col10\" class=\"data row5 col10\" >nan</td> \n",
       "        <td id=\"T_6680aecc_19d4_11e9_a154_9c305b4b1df0row5_col11\" class=\"data row5 col11\" >0.061</td> \n",
       "    </tr>    <tr> \n",
       "        <th id=\"T_6680aecc_19d4_11e9_a154_9c305b4b1df0level0_row6\" class=\"row_heading level0 row6\" >SALDO_PROMEDIO</th> \n",
       "        <td id=\"T_6680aecc_19d4_11e9_a154_9c305b4b1df0row6_col0\" class=\"data row6 col0\" >-0.025</td> \n",
       "        <td id=\"T_6680aecc_19d4_11e9_a154_9c305b4b1df0row6_col1\" class=\"data row6 col1\" >nan</td> \n",
       "        <td id=\"T_6680aecc_19d4_11e9_a154_9c305b4b1df0row6_col2\" class=\"data row6 col2\" >0.014</td> \n",
       "        <td id=\"T_6680aecc_19d4_11e9_a154_9c305b4b1df0row6_col3\" class=\"data row6 col3\" >-0.059</td> \n",
       "        <td id=\"T_6680aecc_19d4_11e9_a154_9c305b4b1df0row6_col4\" class=\"data row6 col4\" >-0.04</td> \n",
       "        <td id=\"T_6680aecc_19d4_11e9_a154_9c305b4b1df0row6_col5\" class=\"data row6 col5\" >0.98</td> \n",
       "        <td id=\"T_6680aecc_19d4_11e9_a154_9c305b4b1df0row6_col6\" class=\"data row6 col6\" >1.0</td> \n",
       "        <td id=\"T_6680aecc_19d4_11e9_a154_9c305b4b1df0row6_col7\" class=\"data row6 col7\" >-0.019</td> \n",
       "        <td id=\"T_6680aecc_19d4_11e9_a154_9c305b4b1df0row6_col8\" class=\"data row6 col8\" >-0.031</td> \n",
       "        <td id=\"T_6680aecc_19d4_11e9_a154_9c305b4b1df0row6_col9\" class=\"data row6 col9\" >nan</td> \n",
       "        <td id=\"T_6680aecc_19d4_11e9_a154_9c305b4b1df0row6_col10\" class=\"data row6 col10\" >nan</td> \n",
       "        <td id=\"T_6680aecc_19d4_11e9_a154_9c305b4b1df0row6_col11\" class=\"data row6 col11\" >0.061</td> \n",
       "    </tr>    <tr> \n",
       "        <th id=\"T_6680aecc_19d4_11e9_a154_9c305b4b1df0level0_row7\" class=\"row_heading level0 row7\" >ROTACION_CARTERA</th> \n",
       "        <td id=\"T_6680aecc_19d4_11e9_a154_9c305b4b1df0row7_col0\" class=\"data row7 col0\" >-0.075</td> \n",
       "        <td id=\"T_6680aecc_19d4_11e9_a154_9c305b4b1df0row7_col1\" class=\"data row7 col1\" >nan</td> \n",
       "        <td id=\"T_6680aecc_19d4_11e9_a154_9c305b4b1df0row7_col2\" class=\"data row7 col2\" >0.0021</td> \n",
       "        <td id=\"T_6680aecc_19d4_11e9_a154_9c305b4b1df0row7_col3\" class=\"data row7 col3\" >0.081</td> \n",
       "        <td id=\"T_6680aecc_19d4_11e9_a154_9c305b4b1df0row7_col4\" class=\"data row7 col4\" >0.05</td> \n",
       "        <td id=\"T_6680aecc_19d4_11e9_a154_9c305b4b1df0row7_col5\" class=\"data row7 col5\" >-0.078</td> \n",
       "        <td id=\"T_6680aecc_19d4_11e9_a154_9c305b4b1df0row7_col6\" class=\"data row7 col6\" >-0.019</td> \n",
       "        <td id=\"T_6680aecc_19d4_11e9_a154_9c305b4b1df0row7_col7\" class=\"data row7 col7\" >1.0</td> \n",
       "        <td id=\"T_6680aecc_19d4_11e9_a154_9c305b4b1df0row7_col8\" class=\"data row7 col8\" >-0.0019</td> \n",
       "        <td id=\"T_6680aecc_19d4_11e9_a154_9c305b4b1df0row7_col9\" class=\"data row7 col9\" >nan</td> \n",
       "        <td id=\"T_6680aecc_19d4_11e9_a154_9c305b4b1df0row7_col10\" class=\"data row7 col10\" >nan</td> \n",
       "        <td id=\"T_6680aecc_19d4_11e9_a154_9c305b4b1df0row7_col11\" class=\"data row7 col11\" >0.0037</td> \n",
       "    </tr>    <tr> \n",
       "        <th id=\"T_6680aecc_19d4_11e9_a154_9c305b4b1df0level0_row8\" class=\"row_heading level0 row8\" >COMUNA_ENC</th> \n",
       "        <td id=\"T_6680aecc_19d4_11e9_a154_9c305b4b1df0row8_col0\" class=\"data row8 col0\" >-0.09</td> \n",
       "        <td id=\"T_6680aecc_19d4_11e9_a154_9c305b4b1df0row8_col1\" class=\"data row8 col1\" >nan</td> \n",
       "        <td id=\"T_6680aecc_19d4_11e9_a154_9c305b4b1df0row8_col2\" class=\"data row8 col2\" >0.88</td> \n",
       "        <td id=\"T_6680aecc_19d4_11e9_a154_9c305b4b1df0row8_col3\" class=\"data row8 col3\" >-0.0021</td> \n",
       "        <td id=\"T_6680aecc_19d4_11e9_a154_9c305b4b1df0row8_col4\" class=\"data row8 col4\" >0.87</td> \n",
       "        <td id=\"T_6680aecc_19d4_11e9_a154_9c305b4b1df0row8_col5\" class=\"data row8 col5\" >-0.03</td> \n",
       "        <td id=\"T_6680aecc_19d4_11e9_a154_9c305b4b1df0row8_col6\" class=\"data row8 col6\" >-0.031</td> \n",
       "        <td id=\"T_6680aecc_19d4_11e9_a154_9c305b4b1df0row8_col7\" class=\"data row8 col7\" >-0.0019</td> \n",
       "        <td id=\"T_6680aecc_19d4_11e9_a154_9c305b4b1df0row8_col8\" class=\"data row8 col8\" >1.0</td> \n",
       "        <td id=\"T_6680aecc_19d4_11e9_a154_9c305b4b1df0row8_col9\" class=\"data row8 col9\" >nan</td> \n",
       "        <td id=\"T_6680aecc_19d4_11e9_a154_9c305b4b1df0row8_col10\" class=\"data row8 col10\" >nan</td> \n",
       "        <td id=\"T_6680aecc_19d4_11e9_a154_9c305b4b1df0row8_col11\" class=\"data row8 col11\" >-0.45</td> \n",
       "    </tr>    <tr> \n",
       "        <th id=\"T_6680aecc_19d4_11e9_a154_9c305b4b1df0level0_row9\" class=\"row_heading level0 row9\" >TI</th> \n",
       "        <td id=\"T_6680aecc_19d4_11e9_a154_9c305b4b1df0row9_col0\" class=\"data row9 col0\" >nan</td> \n",
       "        <td id=\"T_6680aecc_19d4_11e9_a154_9c305b4b1df0row9_col1\" class=\"data row9 col1\" >nan</td> \n",
       "        <td id=\"T_6680aecc_19d4_11e9_a154_9c305b4b1df0row9_col2\" class=\"data row9 col2\" >nan</td> \n",
       "        <td id=\"T_6680aecc_19d4_11e9_a154_9c305b4b1df0row9_col3\" class=\"data row9 col3\" >nan</td> \n",
       "        <td id=\"T_6680aecc_19d4_11e9_a154_9c305b4b1df0row9_col4\" class=\"data row9 col4\" >nan</td> \n",
       "        <td id=\"T_6680aecc_19d4_11e9_a154_9c305b4b1df0row9_col5\" class=\"data row9 col5\" >nan</td> \n",
       "        <td id=\"T_6680aecc_19d4_11e9_a154_9c305b4b1df0row9_col6\" class=\"data row9 col6\" >nan</td> \n",
       "        <td id=\"T_6680aecc_19d4_11e9_a154_9c305b4b1df0row9_col7\" class=\"data row9 col7\" >nan</td> \n",
       "        <td id=\"T_6680aecc_19d4_11e9_a154_9c305b4b1df0row9_col8\" class=\"data row9 col8\" >nan</td> \n",
       "        <td id=\"T_6680aecc_19d4_11e9_a154_9c305b4b1df0row9_col9\" class=\"data row9 col9\" >nan</td> \n",
       "        <td id=\"T_6680aecc_19d4_11e9_a154_9c305b4b1df0row9_col10\" class=\"data row9 col10\" >nan</td> \n",
       "        <td id=\"T_6680aecc_19d4_11e9_a154_9c305b4b1df0row9_col11\" class=\"data row9 col11\" >nan</td> \n",
       "    </tr>    <tr> \n",
       "        <th id=\"T_6680aecc_19d4_11e9_a154_9c305b4b1df0level0_row10\" class=\"row_heading level0 row10\" >TI2</th> \n",
       "        <td id=\"T_6680aecc_19d4_11e9_a154_9c305b4b1df0row10_col0\" class=\"data row10 col0\" >nan</td> \n",
       "        <td id=\"T_6680aecc_19d4_11e9_a154_9c305b4b1df0row10_col1\" class=\"data row10 col1\" >nan</td> \n",
       "        <td id=\"T_6680aecc_19d4_11e9_a154_9c305b4b1df0row10_col2\" class=\"data row10 col2\" >nan</td> \n",
       "        <td id=\"T_6680aecc_19d4_11e9_a154_9c305b4b1df0row10_col3\" class=\"data row10 col3\" >nan</td> \n",
       "        <td id=\"T_6680aecc_19d4_11e9_a154_9c305b4b1df0row10_col4\" class=\"data row10 col4\" >nan</td> \n",
       "        <td id=\"T_6680aecc_19d4_11e9_a154_9c305b4b1df0row10_col5\" class=\"data row10 col5\" >nan</td> \n",
       "        <td id=\"T_6680aecc_19d4_11e9_a154_9c305b4b1df0row10_col6\" class=\"data row10 col6\" >nan</td> \n",
       "        <td id=\"T_6680aecc_19d4_11e9_a154_9c305b4b1df0row10_col7\" class=\"data row10 col7\" >nan</td> \n",
       "        <td id=\"T_6680aecc_19d4_11e9_a154_9c305b4b1df0row10_col8\" class=\"data row10 col8\" >nan</td> \n",
       "        <td id=\"T_6680aecc_19d4_11e9_a154_9c305b4b1df0row10_col9\" class=\"data row10 col9\" >nan</td> \n",
       "        <td id=\"T_6680aecc_19d4_11e9_a154_9c305b4b1df0row10_col10\" class=\"data row10 col10\" >nan</td> \n",
       "        <td id=\"T_6680aecc_19d4_11e9_a154_9c305b4b1df0row10_col11\" class=\"data row10 col11\" >nan</td> \n",
       "    </tr>    <tr> \n",
       "        <th id=\"T_6680aecc_19d4_11e9_a154_9c305b4b1df0level0_row11\" class=\"row_heading level0 row11\" >TIPO_REPARTO</th> \n",
       "        <td id=\"T_6680aecc_19d4_11e9_a154_9c305b4b1df0row11_col0\" class=\"data row11 col0\" >-0.064</td> \n",
       "        <td id=\"T_6680aecc_19d4_11e9_a154_9c305b4b1df0row11_col1\" class=\"data row11 col1\" >nan</td> \n",
       "        <td id=\"T_6680aecc_19d4_11e9_a154_9c305b4b1df0row11_col2\" class=\"data row11 col2\" >-0.39</td> \n",
       "        <td id=\"T_6680aecc_19d4_11e9_a154_9c305b4b1df0row11_col3\" class=\"data row11 col3\" >-0.072</td> \n",
       "        <td id=\"T_6680aecc_19d4_11e9_a154_9c305b4b1df0row11_col4\" class=\"data row11 col4\" >-0.39</td> \n",
       "        <td id=\"T_6680aecc_19d4_11e9_a154_9c305b4b1df0row11_col5\" class=\"data row11 col5\" >0.061</td> \n",
       "        <td id=\"T_6680aecc_19d4_11e9_a154_9c305b4b1df0row11_col6\" class=\"data row11 col6\" >0.061</td> \n",
       "        <td id=\"T_6680aecc_19d4_11e9_a154_9c305b4b1df0row11_col7\" class=\"data row11 col7\" >0.0037</td> \n",
       "        <td id=\"T_6680aecc_19d4_11e9_a154_9c305b4b1df0row11_col8\" class=\"data row11 col8\" >-0.45</td> \n",
       "        <td id=\"T_6680aecc_19d4_11e9_a154_9c305b4b1df0row11_col9\" class=\"data row11 col9\" >nan</td> \n",
       "        <td id=\"T_6680aecc_19d4_11e9_a154_9c305b4b1df0row11_col10\" class=\"data row11 col10\" >nan</td> \n",
       "        <td id=\"T_6680aecc_19d4_11e9_a154_9c305b4b1df0row11_col11\" class=\"data row11 col11\" >1.0</td> \n",
       "    </tr></tbody> \n",
       "</table> "
      ],
      "text/plain": [
       "<pandas.io.formats.style.Styler at 0x1e78849fc50>"
      ]
     },
     "execution_count": 271,
     "metadata": {},
     "output_type": "execute_result"
    }
   ],
   "source": [
    "sample.corr(method='pearson').style.format(\"{:.2}\").background_gradient(cmap=plt.get_cmap('PiYG'), axis=1)"
   ]
  },
  {
   "cell_type": "code",
   "execution_count": 272,
   "metadata": {},
   "outputs": [
    {
     "data": {
      "text/plain": [
       "(1622, 12)"
      ]
     },
     "execution_count": 272,
     "metadata": {},
     "output_type": "execute_result"
    }
   ],
   "source": [
    "#sns.pairplot(sample )\n",
    "sample.shape"
   ]
  },
  {
   "cell_type": "code",
   "execution_count": 273,
   "metadata": {},
   "outputs": [
    {
     "data": {
      "text/html": [
       "<div>\n",
       "<style scoped>\n",
       "    .dataframe tbody tr th:only-of-type {\n",
       "        vertical-align: middle;\n",
       "    }\n",
       "\n",
       "    .dataframe tbody tr th {\n",
       "        vertical-align: top;\n",
       "    }\n",
       "\n",
       "    .dataframe thead th {\n",
       "        text-align: right;\n",
       "    }\n",
       "</style>\n",
       "<table border=\"1\" class=\"dataframe\">\n",
       "  <thead>\n",
       "    <tr style=\"text-align: right;\">\n",
       "      <th></th>\n",
       "      <th>PRODUCT_ID</th>\n",
       "      <th>QUEJAS</th>\n",
       "      <th>DAÑOS</th>\n",
       "      <th>CORTES</th>\n",
       "      <th>RECLAMOS</th>\n",
       "      <th>FACTURACION_PROMEDIO</th>\n",
       "      <th>SALDO_PROMEDIO</th>\n",
       "      <th>ROTACION_CARTERA</th>\n",
       "      <th>COMUNA_ENC</th>\n",
       "      <th>TI</th>\n",
       "      <th>TI2</th>\n",
       "      <th>TIPO_REPARTO</th>\n",
       "    </tr>\n",
       "  </thead>\n",
       "  <tbody>\n",
       "    <tr>\n",
       "      <th>count</th>\n",
       "      <td>1622.000000</td>\n",
       "      <td>1622.0</td>\n",
       "      <td>1622.000000</td>\n",
       "      <td>1622.00000</td>\n",
       "      <td>1622.000000</td>\n",
       "      <td>1622.000000</td>\n",
       "      <td>1622.000000</td>\n",
       "      <td>1622.000000</td>\n",
       "      <td>1622.000000</td>\n",
       "      <td>1622.0</td>\n",
       "      <td>1622.0</td>\n",
       "      <td>1622.000000</td>\n",
       "    </tr>\n",
       "    <tr>\n",
       "      <th>mean</th>\n",
       "      <td>659579.463625</td>\n",
       "      <td>9.0</td>\n",
       "      <td>0.097411</td>\n",
       "      <td>0.01233</td>\n",
       "      <td>0.003699</td>\n",
       "      <td>115796.690860</td>\n",
       "      <td>118471.681018</td>\n",
       "      <td>1.110669</td>\n",
       "      <td>0.000617</td>\n",
       "      <td>1.0</td>\n",
       "      <td>1.0</td>\n",
       "      <td>0.996917</td>\n",
       "    </tr>\n",
       "    <tr>\n",
       "      <th>std</th>\n",
       "      <td>123322.097630</td>\n",
       "      <td>0.0</td>\n",
       "      <td>0.784099</td>\n",
       "      <td>0.14430</td>\n",
       "      <td>0.085960</td>\n",
       "      <td>87485.821588</td>\n",
       "      <td>88879.559433</td>\n",
       "      <td>1.477824</td>\n",
       "      <td>0.024830</td>\n",
       "      <td>0.0</td>\n",
       "      <td>0.0</td>\n",
       "      <td>0.055453</td>\n",
       "    </tr>\n",
       "    <tr>\n",
       "      <th>min</th>\n",
       "      <td>117201.000000</td>\n",
       "      <td>9.0</td>\n",
       "      <td>0.000000</td>\n",
       "      <td>0.00000</td>\n",
       "      <td>0.000000</td>\n",
       "      <td>240.272727</td>\n",
       "      <td>881.000000</td>\n",
       "      <td>0.381332</td>\n",
       "      <td>0.000000</td>\n",
       "      <td>1.0</td>\n",
       "      <td>1.0</td>\n",
       "      <td>0.000000</td>\n",
       "    </tr>\n",
       "    <tr>\n",
       "      <th>25%</th>\n",
       "      <td>661771.250000</td>\n",
       "      <td>9.0</td>\n",
       "      <td>0.000000</td>\n",
       "      <td>0.00000</td>\n",
       "      <td>0.000000</td>\n",
       "      <td>42579.672350</td>\n",
       "      <td>44962.022725</td>\n",
       "      <td>0.999981</td>\n",
       "      <td>0.000000</td>\n",
       "      <td>1.0</td>\n",
       "      <td>1.0</td>\n",
       "      <td>1.000000</td>\n",
       "    </tr>\n",
       "    <tr>\n",
       "      <th>50%</th>\n",
       "      <td>665231.000000</td>\n",
       "      <td>9.0</td>\n",
       "      <td>0.000000</td>\n",
       "      <td>0.00000</td>\n",
       "      <td>0.000000</td>\n",
       "      <td>105463.818000</td>\n",
       "      <td>108309.352500</td>\n",
       "      <td>0.999993</td>\n",
       "      <td>0.000000</td>\n",
       "      <td>1.0</td>\n",
       "      <td>1.0</td>\n",
       "      <td>1.000000</td>\n",
       "    </tr>\n",
       "    <tr>\n",
       "      <th>75%</th>\n",
       "      <td>714823.250000</td>\n",
       "      <td>9.0</td>\n",
       "      <td>0.000000</td>\n",
       "      <td>0.00000</td>\n",
       "      <td>0.000000</td>\n",
       "      <td>174181.393750</td>\n",
       "      <td>176291.824000</td>\n",
       "      <td>1.000510</td>\n",
       "      <td>0.000000</td>\n",
       "      <td>1.0</td>\n",
       "      <td>1.0</td>\n",
       "      <td>1.000000</td>\n",
       "    </tr>\n",
       "    <tr>\n",
       "      <th>max</th>\n",
       "      <td>952384.000000</td>\n",
       "      <td>9.0</td>\n",
       "      <td>28.000000</td>\n",
       "      <td>3.00000</td>\n",
       "      <td>3.000000</td>\n",
       "      <td>396632.545000</td>\n",
       "      <td>401482.364000</td>\n",
       "      <td>46.753163</td>\n",
       "      <td>1.000000</td>\n",
       "      <td>1.0</td>\n",
       "      <td>1.0</td>\n",
       "      <td>1.000000</td>\n",
       "    </tr>\n",
       "  </tbody>\n",
       "</table>\n",
       "</div>"
      ],
      "text/plain": [
       "          PRODUCT_ID  QUEJAS        DAÑOS      CORTES     RECLAMOS  \\\n",
       "count    1622.000000  1622.0  1622.000000  1622.00000  1622.000000   \n",
       "mean   659579.463625     9.0     0.097411     0.01233     0.003699   \n",
       "std    123322.097630     0.0     0.784099     0.14430     0.085960   \n",
       "min    117201.000000     9.0     0.000000     0.00000     0.000000   \n",
       "25%    661771.250000     9.0     0.000000     0.00000     0.000000   \n",
       "50%    665231.000000     9.0     0.000000     0.00000     0.000000   \n",
       "75%    714823.250000     9.0     0.000000     0.00000     0.000000   \n",
       "max    952384.000000     9.0    28.000000     3.00000     3.000000   \n",
       "\n",
       "       FACTURACION_PROMEDIO  SALDO_PROMEDIO  ROTACION_CARTERA   COMUNA_ENC  \\\n",
       "count           1622.000000     1622.000000       1622.000000  1622.000000   \n",
       "mean          115796.690860   118471.681018          1.110669     0.000617   \n",
       "std            87485.821588    88879.559433          1.477824     0.024830   \n",
       "min              240.272727      881.000000          0.381332     0.000000   \n",
       "25%            42579.672350    44962.022725          0.999981     0.000000   \n",
       "50%           105463.818000   108309.352500          0.999993     0.000000   \n",
       "75%           174181.393750   176291.824000          1.000510     0.000000   \n",
       "max           396632.545000   401482.364000         46.753163     1.000000   \n",
       "\n",
       "           TI     TI2  TIPO_REPARTO  \n",
       "count  1622.0  1622.0   1622.000000  \n",
       "mean      1.0     1.0      0.996917  \n",
       "std       0.0     0.0      0.055453  \n",
       "min       1.0     1.0      0.000000  \n",
       "25%       1.0     1.0      1.000000  \n",
       "50%       1.0     1.0      1.000000  \n",
       "75%       1.0     1.0      1.000000  \n",
       "max       1.0     1.0      1.000000  "
      ]
     },
     "execution_count": 273,
     "metadata": {},
     "output_type": "execute_result"
    }
   ],
   "source": [
    "sample.describe()"
   ]
  },
  {
   "cell_type": "code",
   "execution_count": 277,
   "metadata": {},
   "outputs": [
    {
     "data": {
      "text/plain": [
       "TIPO_REPARTO\n",
       "1    1617\n",
       "0       5\n",
       "dtype: int64"
      ]
     },
     "execution_count": 277,
     "metadata": {},
     "output_type": "execute_result"
    }
   ],
   "source": [
    "# Distribucion de las comunas \n",
    "#dejar reclamos = 0 \n",
    "#sacar quejas \n",
    "#\n",
    "sample.groupby('TIPO_REPARTO').size().sort_values( ascending=False )"
   ]
  },
  {
   "cell_type": "code",
   "execution_count": 243,
   "metadata": {},
   "outputs": [],
   "source": []
  },
  {
   "cell_type": "code",
   "execution_count": 278,
   "metadata": {},
   "outputs": [],
   "source": [
    "# elimino la misca variable quejas ya que no es reprecentativa al tenener una magnitud\n",
    "# se realiza un filter para variables irrelevantes\n",
    "## quejas 2 \n",
    "col_eliminadas = ['PRODUCT_ID' ,'RECLAMOS', 'QUEJAS', 'COMUNA_ENC'  , 'TI' ,'TI2'  , 'TIPO_REPARTO' ]\n",
    "\n",
    "# Elimino la comuna de concon (outlier) 99\n",
    "sample = sample[sample.COMUNA_ENC == 0 ]\n",
    "#col_eliminadas = ['PRODUCT_ID'  ] \n",
    "\n",
    "## 14 14141414\n",
    "#dejar reclamos = 0 \n",
    "#col_eliminadas = ['PRODUCT_ID' ,'RECLAMOS', 'QUEJAS', 'COMUNA_ENC', 'TI' ,'TI2'  ]\n",
    "#sample= sample[sample.RECLAMOS == 0 ]\n",
    "#sacar quejas \n",
    "\n",
    "# respaldo para hacer el join final\n",
    "col_id = sample[['PRODUCT_ID']]\n",
    "\n",
    "sample.drop(col_eliminadas, inplace=True, axis=1) "
   ]
  },
  {
   "cell_type": "code",
   "execution_count": 279,
   "metadata": {},
   "outputs": [
    {
     "data": {
      "text/html": [
       "<div>\n",
       "<style scoped>\n",
       "    .dataframe tbody tr th:only-of-type {\n",
       "        vertical-align: middle;\n",
       "    }\n",
       "\n",
       "    .dataframe tbody tr th {\n",
       "        vertical-align: top;\n",
       "    }\n",
       "\n",
       "    .dataframe thead th {\n",
       "        text-align: right;\n",
       "    }\n",
       "</style>\n",
       "<table border=\"1\" class=\"dataframe\">\n",
       "  <thead>\n",
       "    <tr style=\"text-align: right;\">\n",
       "      <th></th>\n",
       "      <th>DAÑOS</th>\n",
       "      <th>CORTES</th>\n",
       "      <th>FACTURACION_PROMEDIO</th>\n",
       "      <th>SALDO_PROMEDIO</th>\n",
       "      <th>ROTACION_CARTERA</th>\n",
       "    </tr>\n",
       "  </thead>\n",
       "  <tbody>\n",
       "    <tr>\n",
       "      <th>count</th>\n",
       "      <td>1621.000000</td>\n",
       "      <td>1621.000000</td>\n",
       "      <td>1621.000000</td>\n",
       "      <td>1621.000000</td>\n",
       "      <td>1621.000000</td>\n",
       "    </tr>\n",
       "    <tr>\n",
       "      <th>mean</th>\n",
       "      <td>0.080197</td>\n",
       "      <td>0.012338</td>\n",
       "      <td>115862.834407</td>\n",
       "      <td>118539.474776</td>\n",
       "      <td>1.110737</td>\n",
       "    </tr>\n",
       "    <tr>\n",
       "      <th>std</th>\n",
       "      <td>0.366477</td>\n",
       "      <td>0.144344</td>\n",
       "      <td>87472.241013</td>\n",
       "      <td>88865.027222</td>\n",
       "      <td>1.478278</td>\n",
       "    </tr>\n",
       "    <tr>\n",
       "      <th>min</th>\n",
       "      <td>0.000000</td>\n",
       "      <td>0.000000</td>\n",
       "      <td>240.272727</td>\n",
       "      <td>881.000000</td>\n",
       "      <td>0.381332</td>\n",
       "    </tr>\n",
       "    <tr>\n",
       "      <th>25%</th>\n",
       "      <td>0.000000</td>\n",
       "      <td>0.000000</td>\n",
       "      <td>42608.416700</td>\n",
       "      <td>45046.090900</td>\n",
       "      <td>0.999981</td>\n",
       "    </tr>\n",
       "    <tr>\n",
       "      <th>50%</th>\n",
       "      <td>0.000000</td>\n",
       "      <td>0.000000</td>\n",
       "      <td>105503.000000</td>\n",
       "      <td>108362.455000</td>\n",
       "      <td>0.999993</td>\n",
       "    </tr>\n",
       "    <tr>\n",
       "      <th>75%</th>\n",
       "      <td>0.000000</td>\n",
       "      <td>0.000000</td>\n",
       "      <td>174223.636000</td>\n",
       "      <td>176340.182000</td>\n",
       "      <td>1.000511</td>\n",
       "    </tr>\n",
       "    <tr>\n",
       "      <th>max</th>\n",
       "      <td>7.000000</td>\n",
       "      <td>3.000000</td>\n",
       "      <td>396632.545000</td>\n",
       "      <td>401482.364000</td>\n",
       "      <td>46.753163</td>\n",
       "    </tr>\n",
       "  </tbody>\n",
       "</table>\n",
       "</div>"
      ],
      "text/plain": [
       "             DAÑOS       CORTES  FACTURACION_PROMEDIO  SALDO_PROMEDIO  \\\n",
       "count  1621.000000  1621.000000           1621.000000     1621.000000   \n",
       "mean      0.080197     0.012338         115862.834407   118539.474776   \n",
       "std       0.366477     0.144344          87472.241013    88865.027222   \n",
       "min       0.000000     0.000000            240.272727      881.000000   \n",
       "25%       0.000000     0.000000          42608.416700    45046.090900   \n",
       "50%       0.000000     0.000000         105503.000000   108362.455000   \n",
       "75%       0.000000     0.000000         174223.636000   176340.182000   \n",
       "max       7.000000     3.000000         396632.545000   401482.364000   \n",
       "\n",
       "       ROTACION_CARTERA  \n",
       "count       1621.000000  \n",
       "mean           1.110737  \n",
       "std            1.478278  \n",
       "min            0.381332  \n",
       "25%            0.999981  \n",
       "50%            0.999993  \n",
       "75%            1.000511  \n",
       "max           46.753163  "
      ]
     },
     "execution_count": 279,
     "metadata": {},
     "output_type": "execute_result"
    }
   ],
   "source": [
    "sample.describe(include='all')"
   ]
  },
  {
   "cell_type": "code",
   "execution_count": 280,
   "metadata": {},
   "outputs": [
    {
     "data": {
      "text/plain": [
       "(1621, 1)"
      ]
     },
     "execution_count": 280,
     "metadata": {},
     "output_type": "execute_result"
    }
   ],
   "source": [
    "\n",
    "#col_id = sample[['PRODUCT_ID']]\n",
    "col_id.shape"
   ]
  },
  {
   "cell_type": "code",
   "execution_count": 283,
   "metadata": {},
   "outputs": [
    {
     "data": {
      "text/html": [
       "<style  type=\"text/css\" >\n",
       "    #T_d056d33a_19d4_11e9_be22_9c305b4b1df0row0_col0 {\n",
       "            background-color:  #276419;\n",
       "        }    #T_d056d33a_19d4_11e9_be22_9c305b4b1df0row0_col1 {\n",
       "            background-color:  #8e0152;\n",
       "        }    #T_d056d33a_19d4_11e9_be22_9c305b4b1df0row0_col2 {\n",
       "            background-color:  #b3126f;\n",
       "        }    #T_d056d33a_19d4_11e9_be22_9c305b4b1df0row0_col3 {\n",
       "            background-color:  #c2197a;\n",
       "        }    #T_d056d33a_19d4_11e9_be22_9c305b4b1df0row0_col4 {\n",
       "            background-color:  #940457;\n",
       "        }    #T_d056d33a_19d4_11e9_be22_9c305b4b1df0row1_col0 {\n",
       "            background-color:  #b1116d;\n",
       "        }    #T_d056d33a_19d4_11e9_be22_9c305b4b1df0row1_col1 {\n",
       "            background-color:  #276419;\n",
       "        }    #T_d056d33a_19d4_11e9_be22_9c305b4b1df0row1_col2 {\n",
       "            background-color:  #8e0152;\n",
       "        }    #T_d056d33a_19d4_11e9_be22_9c305b4b1df0row1_col3 {\n",
       "            background-color:  #970559;\n",
       "        }    #T_d056d33a_19d4_11e9_be22_9c305b4b1df0row1_col4 {\n",
       "            background-color:  #d04493;\n",
       "        }    #T_d056d33a_19d4_11e9_be22_9c305b4b1df0row2_col0 {\n",
       "            background-color:  #cc368b;\n",
       "        }    #T_d056d33a_19d4_11e9_be22_9c305b4b1df0row2_col1 {\n",
       "            background-color:  #8e0152;\n",
       "        }    #T_d056d33a_19d4_11e9_be22_9c305b4b1df0row2_col2 {\n",
       "            background-color:  #276419;\n",
       "        }    #T_d056d33a_19d4_11e9_be22_9c305b4b1df0row2_col3 {\n",
       "            background-color:  #2d6b1a;\n",
       "        }    #T_d056d33a_19d4_11e9_be22_9c305b4b1df0row2_col4 {\n",
       "            background-color:  #8e0152;\n",
       "        }    #T_d056d33a_19d4_11e9_be22_9c305b4b1df0row3_col0 {\n",
       "            background-color:  #ce3d8f;\n",
       "        }    #T_d056d33a_19d4_11e9_be22_9c305b4b1df0row3_col1 {\n",
       "            background-color:  #8e0152;\n",
       "        }    #T_d056d33a_19d4_11e9_be22_9c305b4b1df0row3_col2 {\n",
       "            background-color:  #2d6b1a;\n",
       "        }    #T_d056d33a_19d4_11e9_be22_9c305b4b1df0row3_col3 {\n",
       "            background-color:  #276419;\n",
       "        }    #T_d056d33a_19d4_11e9_be22_9c305b4b1df0row3_col4 {\n",
       "            background-color:  #a10a61;\n",
       "        }    #T_d056d33a_19d4_11e9_be22_9c305b4b1df0row4_col0 {\n",
       "            background-color:  #b91574;\n",
       "        }    #T_d056d33a_19d4_11e9_be22_9c305b4b1df0row4_col1 {\n",
       "            background-color:  #d04493;\n",
       "        }    #T_d056d33a_19d4_11e9_be22_9c305b4b1df0row4_col2 {\n",
       "            background-color:  #8e0152;\n",
       "        }    #T_d056d33a_19d4_11e9_be22_9c305b4b1df0row4_col3 {\n",
       "            background-color:  #ac0f6a;\n",
       "        }    #T_d056d33a_19d4_11e9_be22_9c305b4b1df0row4_col4 {\n",
       "            background-color:  #276419;\n",
       "        }</style>  \n",
       "<table id=\"T_d056d33a_19d4_11e9_be22_9c305b4b1df0\" > \n",
       "<thead>    <tr> \n",
       "        <th class=\"blank level0\" ></th> \n",
       "        <th class=\"col_heading level0 col0\" >DAÑOS</th> \n",
       "        <th class=\"col_heading level0 col1\" >CORTES</th> \n",
       "        <th class=\"col_heading level0 col2\" >FACTURACION_PROMEDIO</th> \n",
       "        <th class=\"col_heading level0 col3\" >SALDO_PROMEDIO</th> \n",
       "        <th class=\"col_heading level0 col4\" >ROTACION_CARTERA</th> \n",
       "    </tr></thead> \n",
       "<tbody>    <tr> \n",
       "        <th id=\"T_d056d33a_19d4_11e9_be22_9c305b4b1df0level0_row0\" class=\"row_heading level0 row0\" >DAÑOS</th> \n",
       "        <td id=\"T_d056d33a_19d4_11e9_be22_9c305b4b1df0row0_col0\" class=\"data row0 col0\" >1.0</td> \n",
       "        <td id=\"T_d056d33a_19d4_11e9_be22_9c305b4b1df0row0_col1\" class=\"data row0 col1\" >-0.007</td> \n",
       "        <td id=\"T_d056d33a_19d4_11e9_be22_9c305b4b1df0row0_col2\" class=\"data row0 col2\" >0.063</td> \n",
       "        <td id=\"T_d056d33a_19d4_11e9_be22_9c305b4b1df0row0_col3\" class=\"data row0 col3\" >0.088</td> \n",
       "        <td id=\"T_d056d33a_19d4_11e9_be22_9c305b4b1df0row0_col4\" class=\"data row0 col4\" >0.0079</td> \n",
       "    </tr>    <tr> \n",
       "        <th id=\"T_d056d33a_19d4_11e9_be22_9c305b4b1df0level0_row1\" class=\"row_heading level0 row1\" >CORTES</th> \n",
       "        <td id=\"T_d056d33a_19d4_11e9_be22_9c305b4b1df0row1_col0\" class=\"data row1 col0\" >-0.007</td> \n",
       "        <td id=\"T_d056d33a_19d4_11e9_be22_9c305b4b1df0row1_col1\" class=\"data row1 col1\" >1.0</td> \n",
       "        <td id=\"T_d056d33a_19d4_11e9_be22_9c305b4b1df0row1_col2\" class=\"data row1 col2\" >-0.078</td> \n",
       "        <td id=\"T_d056d33a_19d4_11e9_be22_9c305b4b1df0row1_col3\" class=\"data row1 col3\" >-0.059</td> \n",
       "        <td id=\"T_d056d33a_19d4_11e9_be22_9c305b4b1df0row1_col4\" class=\"data row1 col4\" >0.081</td> \n",
       "    </tr>    <tr> \n",
       "        <th id=\"T_d056d33a_19d4_11e9_be22_9c305b4b1df0level0_row2\" class=\"row_heading level0 row2\" >FACTURACION_PROMEDIO</th> \n",
       "        <td id=\"T_d056d33a_19d4_11e9_be22_9c305b4b1df0row2_col0\" class=\"data row2 col0\" >0.063</td> \n",
       "        <td id=\"T_d056d33a_19d4_11e9_be22_9c305b4b1df0row2_col1\" class=\"data row2 col1\" >-0.078</td> \n",
       "        <td id=\"T_d056d33a_19d4_11e9_be22_9c305b4b1df0row2_col2\" class=\"data row2 col2\" >1.0</td> \n",
       "        <td id=\"T_d056d33a_19d4_11e9_be22_9c305b4b1df0row2_col3\" class=\"data row2 col3\" >0.98</td> \n",
       "        <td id=\"T_d056d33a_19d4_11e9_be22_9c305b4b1df0row2_col4\" class=\"data row2 col4\" >-0.079</td> \n",
       "    </tr>    <tr> \n",
       "        <th id=\"T_d056d33a_19d4_11e9_be22_9c305b4b1df0level0_row3\" class=\"row_heading level0 row3\" >SALDO_PROMEDIO</th> \n",
       "        <td id=\"T_d056d33a_19d4_11e9_be22_9c305b4b1df0row3_col0\" class=\"data row3 col0\" >0.088</td> \n",
       "        <td id=\"T_d056d33a_19d4_11e9_be22_9c305b4b1df0row3_col1\" class=\"data row3 col1\" >-0.059</td> \n",
       "        <td id=\"T_d056d33a_19d4_11e9_be22_9c305b4b1df0row3_col2\" class=\"data row3 col2\" >0.98</td> \n",
       "        <td id=\"T_d056d33a_19d4_11e9_be22_9c305b4b1df0row3_col3\" class=\"data row3 col3\" >1.0</td> \n",
       "        <td id=\"T_d056d33a_19d4_11e9_be22_9c305b4b1df0row3_col4\" class=\"data row3 col4\" >-0.019</td> \n",
       "    </tr>    <tr> \n",
       "        <th id=\"T_d056d33a_19d4_11e9_be22_9c305b4b1df0level0_row4\" class=\"row_heading level0 row4\" >ROTACION_CARTERA</th> \n",
       "        <td id=\"T_d056d33a_19d4_11e9_be22_9c305b4b1df0row4_col0\" class=\"data row4 col0\" >0.0079</td> \n",
       "        <td id=\"T_d056d33a_19d4_11e9_be22_9c305b4b1df0row4_col1\" class=\"data row4 col1\" >0.081</td> \n",
       "        <td id=\"T_d056d33a_19d4_11e9_be22_9c305b4b1df0row4_col2\" class=\"data row4 col2\" >-0.079</td> \n",
       "        <td id=\"T_d056d33a_19d4_11e9_be22_9c305b4b1df0row4_col3\" class=\"data row4 col3\" >-0.019</td> \n",
       "        <td id=\"T_d056d33a_19d4_11e9_be22_9c305b4b1df0row4_col4\" class=\"data row4 col4\" >1.0</td> \n",
       "    </tr></tbody> \n",
       "</table> "
      ],
      "text/plain": [
       "<pandas.io.formats.style.Styler at 0x1e7887df5f8>"
      ]
     },
     "execution_count": 283,
     "metadata": {},
     "output_type": "execute_result"
    }
   ],
   "source": [
    "#sns.heatmap(sample.corr(method='pearson' ), cmap=\"PiYG\") \n",
    "## otro \n",
    "sample.corr(method='pearson').style.format(\"{:.2}\").background_gradient(cmap=plt.get_cmap('PiYG'), axis=1)"
   ]
  },
  {
   "cell_type": "code",
   "execution_count": 282,
   "metadata": {},
   "outputs": [
    {
     "data": {
      "text/plain": [
       "Index(['DAÑOS', 'CORTES', 'FACTURACION_PROMEDIO', 'SALDO_PROMEDIO',\n",
       "       'ROTACION_CARTERA'],\n",
       "      dtype='object')"
      ]
     },
     "execution_count": 282,
     "metadata": {},
     "output_type": "execute_result"
    }
   ],
   "source": [
    "sample.columns"
   ]
  },
  {
   "cell_type": "markdown",
   "metadata": {},
   "source": [
    "## Selección de variables 2"
   ]
  },
  {
   "cell_type": "code",
   "execution_count": 219,
   "metadata": {},
   "outputs": [],
   "source": [
    "#columnas=['QUEJAS', 'DAÑOS',\n",
    "#            'CORTES', 'RECLAMOS','FACTURACION_PROMEDIO',\n",
    "#            'SALDO_PROMEDIO', 'ROTACION_CARTERA' ,\n",
    "#           'COMUNA_ENC' , 'TI' , 'TI2' ,'TIPO_REPARTO' ]\n",
    "#\n",
    "##columnas=['DAÑOS' , 'RECLAMOS' ,'FACTURACION_PROMEDIO', 'SALDO_PROMEDIO','COMUNA_ENC']\n",
    "#\n",
    "##columnas=['FACTURACION_PROMEDIO', 'SALDO_PROMEDIO' ]\n",
    "#\n",
    "### seleccion para 9 quejas \n",
    "#columnas=[  'DAÑOS', 'CORTES'  ,'FACTURACION_PROMEDIO',\n",
    "#            'SALDO_PROMEDIO', 'ROTACION_CARTERA'] \n",
    "\n",
    "## seleccion para 14\n",
    "#columnas=[  'DAÑOS' ,'FACTURACION_PROMEDIO',\n",
    "#            'SALDO_PROMEDIO', 'ROTACION_CARTERA'] \n",
    "#\n",
    "#sample=sample[columnas].sample(frac=1, random_state=42)\n",
    "#sample.shape"
   ]
  },
  {
   "cell_type": "code",
   "execution_count": 284,
   "metadata": {},
   "outputs": [
    {
     "data": {
      "text/html": [
       "<iframe id=\"igraph\" scrolling=\"no\" style=\"border:none;\" seamless=\"seamless\" src=\"https://plot.ly/~cachulooo/22.embed\" height=\"525px\" width=\"100%\"></iframe>"
      ],
      "text/plain": [
       "<plotly.tools.PlotlyDisplay object>"
      ]
     },
     "execution_count": 284,
     "metadata": {},
     "output_type": "execute_result"
    }
   ],
   "source": [
    "fig = ploty_scatter( list(range(0 , len(sample['ROTACION_CARTERA'])))  , sample['ROTACION_CARTERA'])\n",
    "py.iplot(fig ,   filename='simple_scatter')  "
   ]
  },
  {
   "cell_type": "code",
   "execution_count": 49,
   "metadata": {
    "scrolled": false
   },
   "outputs": [
    {
     "data": {
      "text/plain": [
       "1621"
      ]
     },
     "execution_count": 49,
     "metadata": {},
     "output_type": "execute_result"
    }
   ],
   "source": [
    "#sample = sample[  (sample.QUEJAS==9)]\n",
    "#sample = sample[(sample.QUEJAS==9) ]\n",
    "#sample = sample[(sample.QUEJAS==14) | (sample.QUEJAS==9)]\n",
    "\n",
    "sample.shape[0]"
   ]
  },
  {
   "cell_type": "markdown",
   "metadata": {},
   "source": [
    "##  Criterios de validación internos \n",
    "\n",
    "Se grafican los criterios de validación por medio de un grafico de diperción\n",
    "Se evaluan los siguentes coeficientes \n",
    "- Silueta : Se ordena por este coeficinte todos los valores\n",
    "- Calinki : Se buscan puntos mas altos \n",
    "- Bouldin : Se buscan valores más  bajos\n",
    "\n",
    "Ademas se grafican los parametros para encontrar el numero optimo de clusters\n",
    "\n",
    "- minpts : Numero de vecinos evaluado\n",
    "- N° de clusters: Agrupaciones estimadas por el algoritmo"
   ]
  },
  {
   "cell_type": "markdown",
   "metadata": {},
   "source": [
    "## Test"
   ]
  },
  {
   "cell_type": "code",
   "execution_count": 286,
   "metadata": {},
   "outputs": [
    {
     "data": {
      "text/plain": [
       "'https://plot.ly/~cachulooo/36'"
      ]
     },
     "execution_count": 286,
     "metadata": {},
     "output_type": "execute_result"
    }
   ],
   "source": [
    "# genera un df con los resuktados del test \n",
    "bench = test_silueta(sample)\n",
    "\n",
    "# ordena los valores por silueta num_vecinos\n",
    "bench = bench.sort_values('silueta' , ascending=False ) \n",
    "\n",
    "# asigna el nuevo indice para graficar los datos\n",
    "bench =bench.reset_index(drop=True)\n",
    "py.plot(plot_test( bench), filename='multiple-axes-multiple')"
   ]
  },
  {
   "cell_type": "code",
   "execution_count": 78,
   "metadata": {},
   "outputs": [
    {
     "data": {
      "text/plain": [
       "Index(['num_vecinos', 'num_clusters', 'silueta', 'calinski', 'bouldin'], dtype='object')"
      ]
     },
     "execution_count": 78,
     "metadata": {},
     "output_type": "execute_result"
    }
   ],
   "source": [
    "bench.columns"
   ]
  },
  {
   "cell_type": "code",
   "execution_count": null,
   "metadata": {},
   "outputs": [],
   "source": []
  },
  {
   "cell_type": "code",
   "execution_count": null,
   "metadata": {},
   "outputs": [],
   "source": [
    " "
   ]
  },
  {
   "cell_type": "markdown",
   "metadata": {},
   "source": [
    "## HDBSCAN"
   ]
  },
  {
   "cell_type": "code",
   "execution_count": 313,
   "metadata": {},
   "outputs": [
    {
     "data": {
      "text/plain": [
       "3"
      ]
     },
     "execution_count": 313,
     "metadata": {},
     "output_type": "execute_result"
    }
   ],
   "source": [
    "import hdbscan\n",
    " \n",
    "mpts = 85\n",
    "\n",
    "X = np.array(sample )\n",
    "registros = sample.shape[0]\n",
    "# Estandarización\n",
    "#scaler = StandardScaler().fit(X)\n",
    "#X = scaler.transform(X)\n",
    "\n",
    "clusterer = hdbscan.HDBSCAN(min_cluster_size=mpts  ).fit(X) \n",
    "#palette = sns.color_palette('deep', np.unique(clusterer.labels_).max() + 1)\n",
    "#colors = [palette[x] if x >= 0 else (0.5, 0.5, 0.5) for x in clusterer.labels_] \n",
    "\n",
    "labels_ = clusterer.labels_ \n",
    "# Number of clusters in labels, ignoring noise if present.\n",
    "n_clusters_ = len(set(labels_)) - (1 if -1 in labels_ else 0)\n",
    "sample['label']=labels_\n",
    "n_clusters_"
   ]
  },
  {
   "cell_type": "code",
   "execution_count": 314,
   "metadata": {},
   "outputs": [
    {
     "data": {
      "text/plain": [
       "<seaborn.axisgrid.PairGrid at 0x1e7aafe0da0>"
      ]
     },
     "execution_count": 314,
     "metadata": {},
     "output_type": "execute_result"
    },
    {
     "data": {
      "image/png": "[encoded data removed]",
      "text/plain": [
       "<Figure size 1126x1080 with 42 Axes>"
      ]
     },
     "metadata": {
      "needs_background": "light"
     },
     "output_type": "display_data"
    }
   ],
   "source": [
    "## correlograma\n",
    "#sample.describe()\n",
    "sns.pairplot(sample , hue='label')"
   ]
  },
  {
   "cell_type": "markdown",
   "metadata": {},
   "source": [
    "## Guardando resultados"
   ]
  },
  {
   "cell_type": "code",
   "execution_count": 315,
   "metadata": {},
   "outputs": [],
   "source": [
    "#Asignacion de clusters  \n",
    "#col_id['label2']=labels_"
   ]
  },
  {
   "cell_type": "code",
   "execution_count": 316,
   "metadata": {},
   "outputs": [],
   "source": [
    "#GUARDANDO RESULTADOS\n",
    "#col_id.to_csv('resultados.csv', sep=';' , index=False , decimal = ',')"
   ]
  },
  {
   "cell_type": "code",
   "execution_count": 317,
   "metadata": {},
   "outputs": [
    {
     "data": {
      "text/plain": [
       "(1621, 6)"
      ]
     },
     "execution_count": 317,
     "metadata": {},
     "output_type": "execute_result"
    }
   ],
   "source": [
    "sample.shape"
   ]
  },
  {
   "cell_type": "code",
   "execution_count": 318,
   "metadata": {
    "scrolled": false
   },
   "outputs": [
    {
     "data": {
      "text/html": [
       "<iframe id=\"igraph\" scrolling=\"no\" style=\"border:none;\" seamless=\"seamless\" src=\"https://plot.ly/~cachulooo/4.embed\" height=\"525px\" width=\"100%\"></iframe>"
      ],
      "text/plain": [
       "<plotly.tools.PlotlyDisplay object>"
      ]
     },
     "execution_count": 318,
     "metadata": {},
     "output_type": "execute_result"
    }
   ],
   "source": [
    "fig = scatter(3,4)\n",
    "py.iplot(fig ,   filename='scatter_hdbscan')"
   ]
  },
  {
   "cell_type": "code",
   "execution_count": 319,
   "metadata": {},
   "outputs": [
    {
     "data": {
      "text/plain": [
       "Index(['DAÑOS', 'CORTES', 'FACTURACION_PROMEDIO', 'SALDO_PROMEDIO',\n",
       "       'ROTACION_CARTERA', 'label'],\n",
       "      dtype='object')"
      ]
     },
     "execution_count": 319,
     "metadata": {},
     "output_type": "execute_result"
    }
   ],
   "source": [
    "sample.columns"
   ]
  },
  {
   "cell_type": "code",
   "execution_count": 320,
   "metadata": {},
   "outputs": [
    {
     "data": {
      "text/html": [
       "<iframe id=\"igraph\" scrolling=\"no\" style=\"border:none;\" seamless=\"seamless\" src=\"https://plot.ly/~cachulooo/42.embed\" height=\"525px\" width=\"100%\"></iframe>"
      ],
      "text/plain": [
       "<plotly.tools.PlotlyDisplay object>"
      ]
     },
     "execution_count": 320,
     "metadata": {},
     "output_type": "execute_result"
    }
   ],
   "source": [
    "fig = caja(sample['SALDO_PROMEDIO'])\n",
    "py.iplot(fig ,   filename='caja') "
   ]
  },
  {
   "cell_type": "code",
   "execution_count": 321,
   "metadata": {},
   "outputs": [
    {
     "data": {
      "text/html": [
       "<iframe id=\"igraph\" scrolling=\"no\" style=\"border:none;\" seamless=\"seamless\" src=\"https://plot.ly/~cachulooo/38.embed\" height=\"525px\" width=\"100%\"></iframe>"
      ],
      "text/plain": [
       "<plotly.tools.PlotlyDisplay object>"
      ]
     },
     "execution_count": 321,
     "metadata": {},
     "output_type": "execute_result"
    }
   ],
   "source": [
    "## COORDENADAS PARALELAS \n",
    "data = [\n",
    "    go.Parcoords(\n",
    "        line = dict(color = labels_   , colorscale=[ \n",
    "                        [0.0               ,'rgb(204,204,204)', ],\n",
    "                        [0.0111111111111111,'rgb(56,217,113 , 0.2)', ],\n",
    "                        [0.1111111111111111,'rgb(250,135,117, 0.2)', ],\n",
    "                        [0.2222222222222222,'rgb(255,215,0, 0.2)', ],\n",
    "                        [0.2555555555555555,'rgb(87,215,222, 0.2)',  ],\n",
    "                        [0.3333333333333333,'rgb(205,52,181, 0.2)', ],\n",
    "                        [0.4444444444444444,'rgb(0,0,255, 0.2)', ],\n",
    "                        [0.5555555555555556,'rgb(231,58,52, 0.2)', ],\n",
    "                        [0.6666666666666666,'rgb(157,2,215, 0.2)', ],\n",
    "                        [0.7777777777777778,'rgb(118,245,60, 0.2)',  ],\n",
    "                        [0.8888888888888888,'rgb(234,95,148, 0.2)',  ],\n",
    "                        [1.0               ,'rgb(255,177,78, 0.2)'  ]]  ) ,  \n",
    "        dimensions = list([\n",
    "            dict( #range = [0,8], \n",
    "                label = sample.columns[0] ,      values = X[:, 0]),\n",
    "            dict( range = [0,400000],\n",
    "                label = sample.columns[1],       values = X[:, 1]),\n",
    "            dict( range = [0,400000],\n",
    "                label = sample.columns[2],       values = X[:, 2]),\n",
    "            dict( #range = [0,8],\n",
    "                label = sample.columns[3],       values = X[:, 3]),\n",
    "            dict( range = [0.8 ,5 ], \n",
    "                label = sample.columns[4],       values = X[:, 4]),\n",
    "            \n",
    "         #   dict( #range = [0,500000], \n",
    "         #       label = sample.columns[5],       values = X[:, 5]),    \n",
    "            \n",
    "            \n",
    "         #   dict( #range = [0,3],\n",
    "         #       label = sample.columns[6],       values = X[:, 6]),  \n",
    "         #   dict( #range = [0,8],\n",
    "         #       label = sample.columns[7],       values = X[:, 7]), \n",
    "         #  dict( #range = [0,8],\n",
    "         #      label = sample.columns[8],        values = X[:, 8]), \n",
    "         #  dict( #range = [0,8],\n",
    "         #      label = sample.columns[9],        values = X[:, 9]), \n",
    "         #  dict( #range = [0,8],\n",
    "         #      label = sample.columns[10],        values = X[:, 10]),  \n",
    "            dict( #range = [-1, n_clusters_-1 ],#   K CLUSTERS\n",
    "                label = 'CLUSTER',                values = labels_) \n",
    "        ])\n",
    "    )\n",
    "]\n",
    "\n",
    "layout = go.Layout(\n",
    "    title='Segmentación de clientes HDBSCAN '+str(registros)+' Registros'+' '+str(n_clusters_)+' Clusters' ,\n",
    "    plot_bgcolor = '#FFFFFF',\n",
    "    paper_bgcolor = '#FFFFFF'\n",
    ") \n",
    "fig = go.Figure(data = data, layout = layout)\n",
    "py.iplot(fig, filename = 'hdbscan914'+str(registros))"
   ]
  },
  {
   "cell_type": "code",
   "execution_count": 312,
   "metadata": {},
   "outputs": [
    {
     "data": {
      "text/plain": [
       "6"
      ]
     },
     "execution_count": 312,
     "metadata": {},
     "output_type": "execute_result"
    }
   ],
   "source": [
    "len(sample.columns)"
   ]
  },
  {
   "cell_type": "code",
   "execution_count": 236,
   "metadata": {},
   "outputs": [
    {
     "data": {
      "text/plain": [
       "array([-1,  0,  1], dtype=int64)"
      ]
     },
     "execution_count": 236,
     "metadata": {},
     "output_type": "execute_result"
    }
   ],
   "source": [
    "np.unique(sample.label)"
   ]
  },
  {
   "cell_type": "code",
   "execution_count": null,
   "metadata": {},
   "outputs": [],
   "source": []
  },
  {
   "cell_type": "code",
   "execution_count": null,
   "metadata": {},
   "outputs": [],
   "source": []
  },
  {
   "cell_type": "code",
   "execution_count": null,
   "metadata": {},
   "outputs": [],
   "source": []
  },
  {
   "cell_type": "code",
   "execution_count": null,
   "metadata": {},
   "outputs": [],
   "source": []
  },
  {
   "cell_type": "code",
   "execution_count": null,
   "metadata": {},
   "outputs": [],
   "source": []
  },
  {
   "cell_type": "code",
   "execution_count": null,
   "metadata": {},
   "outputs": [],
   "source": []
  },
  {
   "cell_type": "code",
   "execution_count": 51,
   "metadata": {},
   "outputs": [
    {
     "data": {
      "text/plain": [
       "Text(0.5,1,'HDBSCAN')"
      ]
     },
     "execution_count": 51,
     "metadata": {},
     "output_type": "execute_result"
    },
    {
     "data": {
      "image/png": "[encoded data removed]",
      "text/plain": [
       "<Figure size 576x576 with 1 Axes>"
      ]
     },
     "metadata": {
      "needs_background": "light"
     },
     "output_type": "display_data"
    }
   ],
   "source": [
    "plt.rcParams['figure.figsize'] = (8, 8)\n",
    "plt.scatter( X.T[5] , X.T[6], s=60, linewidth=0, c=colors, alpha=1)\n",
    "#plt.ylim(0.9,7)\n",
    "#plt.xlim(0,1000000)\n",
    "plt.xlabel('SALDO_PROMEDIO' ) #4\n",
    "plt.ylabel('ROTACION_CARTERA') \n",
    "plt.title('HDBSCAN')"
   ]
  },
  {
   "cell_type": "markdown",
   "metadata": {},
   "source": [
    "## Anexo "
   ]
  },
  {
   "cell_type": "code",
   "execution_count": null,
   "metadata": {},
   "outputs": [],
   "source": [
    "## Grid search\n",
    "#Se ultiliza para optimizar los hiperparametros de un un modelo , vectorizando las entradas\n",
    "from sklearn.metrics import silhouette_score as sc\n",
    "from sklearn.model_selection import GridSearchCV\n",
    "import hdbscan \n",
    "X = np.array(sample ) \n",
    "\n",
    "\n",
    "## parte 1 \n",
    "def cv_silhouette_scorer(estimator, X):\n",
    "    estimator.fit(X)\n",
    "    \n",
    "    #hdbscan = hdbscan.HDBSCAN(8).fit(X)\n",
    "    cluster_labels = estimator.labels_\n",
    "    num_labels = len(set(cluster_labels))\n",
    "    #num_samples = len(X.index)\n",
    "    num_samples = X.shape[0]\n",
    "    if num_labels == 1 or num_labels == num_samples:\n",
    "        return -1\n",
    "    else:\n",
    "        return sc(X, cluster_labels)\n",
    "    \n",
    "def silhouette_score(estimator, X):\n",
    "    clusters = estimator.fit_predict(X)\n",
    "    score = metrics.silhouette_score(X, clusters )\n",
    "    return score\n",
    "    \n",
    "    \n",
    "cv = [(slice(None), slice(None))] \n",
    "from sklearn import preprocessing\n",
    "from sklearn.model_selection import ShuffleSplit\n",
    "cv = ShuffleSplit(test_size=0.20, n_splits=1, random_state=0)\n",
    "\n",
    "import hdbscan   \n",
    "param_grid = {\"min_cluster_size\": list(range(2, 117))}\n",
    "estimator=hdbscan.HDBSCAN().fit(X)\n",
    "gs = GridSearchCV(estimator,\n",
    "                  param_grid=param_grid, \n",
    "                  scoring=silhouette_score(estimator , X),\n",
    "                  cv=cv, \n",
    "                  n_jobs=-1)\n",
    "\n",
    "gs.fit(sample)\n",
    "\n",
    "\n",
    "##### parte 2 \n",
    "def silhouette_score(estimator, X):\n",
    "    clusters = estimator.fit_predict(X)\n",
    "    score = metrics.silhouette_score(sample, labels_, metric='precomputed')\n",
    "    return score\n",
    "\n",
    "ca = KMeans()\n",
    "param_grid = {\"n_clusters\": range(2, 11)} \n",
    "\n",
    "param_dict ={}\n",
    "\n",
    "\n",
    "from sklearn import preprocessing\n",
    "from sklearn.model_selection import ShuffleSplit\n",
    "cv = ShuffleSplit(test_size=0.20, n_splits=1, random_state=0)\n",
    "# run randomized search\n",
    "search = GridSearchCV(\n",
    "    ca,\n",
    "    param_grid=param_grid,\n",
    "    n_iter=9,\n",
    "    scoring=silhouette_score(ca, X),\n",
    "    cv=cv \n",
    "    )\n",
    "search.fit(sample)"
   ]
  }
 ],
 "metadata": {
  "kernelspec": {
   "display_name": "Python 3",
   "language": "python",
   "name": "python3"
  },
  "language_info": {
   "codemirror_mode": {
    "name": "ipython",
    "version": 3
   },
   "file_extension": ".py",
   "mimetype": "text/x-python",
   "name": "python",
   "nbconvert_exporter": "python",
   "pygments_lexer": "ipython3",
   "version": "3.6.6"
  }
 },
 "nbformat": 4,
 "nbformat_minor": 2
}
