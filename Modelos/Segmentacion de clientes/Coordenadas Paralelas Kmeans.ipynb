{
 "cells": [
  {
   "cell_type": "code",
   "execution_count": 1,
   "metadata": {},
   "outputs": [],
   "source": [
    "import numpy as np\n",
    "import pandas as pd \n",
    "import matplotlib.pyplot as plt\n",
    "import seaborn as sns \n",
    "import plotly.plotly as py\n",
    "import plotly.graph_objs as go\n",
    "from sklearn.cluster import KMeans\n",
    "from sklearn.metrics import pairwise_distances_argmin_min\n",
    "from sklearn.preprocessing import StandardScaler\n",
    "from sklearn import metrics\n",
    "\n",
    "#plotly.tools.set_credentials_file(username='slotbite', api_key='GYgRt3eXz6IdiIy3k7sO')\n",
    "py.plotly.tools.set_credentials_file(username='cachulooo', api_key='srvpWbqoQ27WdGO3pArx')\n",
    "\n",
    "%matplotlib inline\n",
    "plt.rcParams['figure.figsize'] = (16, 20)"
   ]
  },
  {
   "cell_type": "code",
   "execution_count": 10,
   "metadata": {},
   "outputs": [],
   "source": [
    "# Cargando datos\n",
    "data = pd.read_csv(\"segmentacion_clientes.csv\" , delimiter=\";\" , decimal=\",\" , encoding='utf-8')\n",
    "df=data"
   ]
  },
  {
   "cell_type": "code",
   "execution_count": 11,
   "metadata": {},
   "outputs": [
    {
     "data": {
      "text/html": [
       "<div>\n",
       "<style scoped>\n",
       "    .dataframe tbody tr th:only-of-type {\n",
       "        vertical-align: middle;\n",
       "    }\n",
       "\n",
       "    .dataframe tbody tr th {\n",
       "        vertical-align: top;\n",
       "    }\n",
       "\n",
       "    .dataframe thead th {\n",
       "        text-align: right;\n",
       "    }\n",
       "</style>\n",
       "<table border=\"1\" class=\"dataframe\">\n",
       "  <thead>\n",
       "    <tr style=\"text-align: right;\">\n",
       "      <th></th>\n",
       "      <th>PRODUCT_ID</th>\n",
       "      <th>SUBSCRIPTION_ID</th>\n",
       "      <th>SUBSCRIBER_ID</th>\n",
       "      <th>COMUNA</th>\n",
       "      <th>TI</th>\n",
       "      <th>TI2</th>\n",
       "      <th>TIPO_REPARTO</th>\n",
       "      <th>QUEJAS</th>\n",
       "      <th>DAÑOS</th>\n",
       "      <th>CORTES</th>\n",
       "      <th>RECLAMOS</th>\n",
       "      <th>FACTURACION_PROMEDIO</th>\n",
       "      <th>SALDO_PROMEDIO</th>\n",
       "      <th>ROTACION_CARTERA</th>\n",
       "      <th>COMUNA_ENC</th>\n",
       "    </tr>\n",
       "  </thead>\n",
       "  <tbody>\n",
       "    <tr>\n",
       "      <th>0</th>\n",
       "      <td>122551</td>\n",
       "      <td>122551</td>\n",
       "      <td>13185036</td>\n",
       "      <td>128 - San Esteban                             ...</td>\n",
       "      <td>0</td>\n",
       "      <td>0</td>\n",
       "      <td>0</td>\n",
       "      <td>0</td>\n",
       "      <td>0</td>\n",
       "      <td>0</td>\n",
       "      <td>0</td>\n",
       "      <td>18964.8333</td>\n",
       "      <td>33256.6667</td>\n",
       "      <td>1.753504</td>\n",
       "      <td>9</td>\n",
       "    </tr>\n",
       "    <tr>\n",
       "      <th>1</th>\n",
       "      <td>122581</td>\n",
       "      <td>122581</td>\n",
       "      <td>122581</td>\n",
       "      <td>128 - San Esteban                             ...</td>\n",
       "      <td>0</td>\n",
       "      <td>0</td>\n",
       "      <td>0</td>\n",
       "      <td>0</td>\n",
       "      <td>0</td>\n",
       "      <td>0</td>\n",
       "      <td>0</td>\n",
       "      <td>28445.7500</td>\n",
       "      <td>36605.0833</td>\n",
       "      <td>1.286793</td>\n",
       "      <td>9</td>\n",
       "    </tr>\n",
       "    <tr>\n",
       "      <th>2</th>\n",
       "      <td>109938</td>\n",
       "      <td>109938</td>\n",
       "      <td>3665521</td>\n",
       "      <td>145 - San Felipe                              ...</td>\n",
       "      <td>0</td>\n",
       "      <td>1</td>\n",
       "      <td>0</td>\n",
       "      <td>0</td>\n",
       "      <td>0</td>\n",
       "      <td>1</td>\n",
       "      <td>0</td>\n",
       "      <td>135045.4170</td>\n",
       "      <td>327823.5000</td>\n",
       "      <td>2.427488</td>\n",
       "      <td>22</td>\n",
       "    </tr>\n",
       "  </tbody>\n",
       "</table>\n",
       "</div>"
      ],
      "text/plain": [
       "   PRODUCT_ID  SUBSCRIPTION_ID  SUBSCRIBER_ID  \\\n",
       "0      122551           122551       13185036   \n",
       "1      122581           122581         122581   \n",
       "2      109938           109938        3665521   \n",
       "\n",
       "                                              COMUNA  TI  TI2  TIPO_REPARTO  \\\n",
       "0  128 - San Esteban                             ...   0    0             0   \n",
       "1  128 - San Esteban                             ...   0    0             0   \n",
       "2  145 - San Felipe                              ...   0    1             0   \n",
       "\n",
       "   QUEJAS  DAÑOS  CORTES  RECLAMOS  FACTURACION_PROMEDIO  SALDO_PROMEDIO  \\\n",
       "0       0      0       0         0            18964.8333      33256.6667   \n",
       "1       0      0       0         0            28445.7500      36605.0833   \n",
       "2       0      0       1         0           135045.4170     327823.5000   \n",
       "\n",
       "   ROTACION_CARTERA  COMUNA_ENC  \n",
       "0          1.753504           9  \n",
       "1          1.286793           9  \n",
       "2          2.427488          22  "
      ]
     },
     "execution_count": 11,
     "metadata": {},
     "output_type": "execute_result"
    }
   ],
   "source": [
    "## Se eliminan preduct_id mal formados (-)\n",
    "#df[df.PRODUCT_ID < 0] \n",
    "df = df[df.PRODUCT_ID > 0] \n",
    "\n",
    "\n",
    "## Convertimos las variables categoricas\n",
    "#http://pbpython.com/categorical-encoding.html\n",
    "pd.options.mode.chained_assignment = None\n",
    "df[\"COMUNA\"] = df[\"COMUNA\"].astype('category')\n",
    "df[\"TIPO_REPARTO\"] = df[\"TIPO_REPARTO\"].astype('category')\n",
    "df[\"TI\"] = df[\"TI\"].astype('category')\n",
    "df[\"TI2\"] = df[\"TI2\"].astype('category')\n",
    "\n",
    "# luego la encodificamos \n",
    "df[\"TI\"] = df[\"TI\"].cat.codes\n",
    "df[\"TI2\"] = df[\"TI2\"].cat.codes\n",
    "df[\"COMUNA_ENC\"] = df[\"COMUNA\"].cat.codes \n",
    "df[\"TIPO_REPARTO\"] = df[\"TIPO_REPARTO\"].cat.codes \n",
    "  \n",
    "df[:3]"
   ]
  },
  {
   "cell_type": "code",
   "execution_count": 12,
   "metadata": {},
   "outputs": [],
   "source": [
    "## Escalado de la variables rotacion de cartera \n",
    "#https://stackoverflow.com/questions/50546065/scikit-learn-minmax-scaler-doesnt-scale\n",
    "#from sklearn.preprocessing import MinMaxScaler \n",
    "#columna=['ROTACION_CARTERA'] \n",
    "#scaler = MinMaxScaler(feature_range=(0, 500000)) \n",
    "#df[columna] = scaler.fit_transform(df[columna])\n"
   ]
  },
  {
   "cell_type": "markdown",
   "metadata": {},
   "source": [
    "## Seleccion de variables "
   ]
  },
  {
   "cell_type": "code",
   "execution_count": 21,
   "metadata": {},
   "outputs": [
    {
     "data": {
      "text/plain": [
       "(631293, 11)"
      ]
     },
     "execution_count": 21,
     "metadata": {},
     "output_type": "execute_result"
    }
   ],
   "source": [
    "sample=df[['QUEJAS', 'DAÑOS',\n",
    "            'CORTES', 'RECLAMOS','FACTURACION_PROMEDIO',\n",
    "            'SALDO_PROMEDIO', 'ROTACION_CARTERA' ,\n",
    "           'COMUNA_ENC' , 'TI' , 'TI2' ,'TIPO_REPARTO' ]].sample(frac=1, random_state=42)\n",
    "sample.shape"
   ]
  },
  {
   "cell_type": "code",
   "execution_count": 22,
   "metadata": {},
   "outputs": [
    {
     "data": {
      "text/plain": [
       "1687"
      ]
     },
     "execution_count": 22,
     "metadata": {},
     "output_type": "execute_result"
    }
   ],
   "source": [
    "#sample = sample[  (sample.QUEJAS==9)]   \n",
    "sample = sample[(sample.QUEJAS==2)  ]\n",
    "#sample = sample[(sample.QUEJAS==14) | (sample.QUEJAS==9)]\n",
    "\n",
    "sample.shape[0]"
   ]
  },
  {
   "cell_type": "code",
   "execution_count": 23,
   "metadata": {},
   "outputs": [
    {
     "data": {
      "text/html": [
       "<iframe id=\"igraph\" scrolling=\"no\" style=\"border:none;\" seamless=\"seamless\" src=\"https://plot.ly/~cachulooo/20.embed\" height=\"525px\" width=\"100%\"></iframe>"
      ],
      "text/plain": [
       "<plotly.tools.PlotlyDisplay object>"
      ]
     },
     "execution_count": 23,
     "metadata": {},
     "output_type": "execute_result"
    }
   ],
   "source": [
    "X = np.array(sample[['SALDO_PROMEDIO','ROTACION_CARTERA']] ) \n",
    "# Create a trace\n",
    "trace = go.Scatter(\n",
    "    x =  X[:, 0],  \n",
    "    y =  X[:, 1],\n",
    "    #mode = 'markers'  ,\n",
    "    mode='markers+text' \n",
    ")  \n",
    "layout = go.Layout(\n",
    "    title='  '  ,\n",
    "    plot_bgcolor = '#FFFFFF',\n",
    "    paper_bgcolor = '#FFFFFF' , \n",
    "    xaxis=dict(\n",
    "        title='saldo prom' \n",
    "    ),\n",
    "    yaxis=dict(\n",
    "        title='Rot cart' \n",
    "    ) \n",
    ")\n",
    "data = [trace  ] \n",
    "fig = go.Figure(data = data, layout = layout)\n",
    "# Plot and embed in ipython notebook!\n",
    "py.iplot(fig ,   filename='scatter') "
   ]
  },
  {
   "cell_type": "markdown",
   "metadata": {},
   "source": [
    "## Silhouette  test\n",
    "Determina el numero optimo de clusters"
   ]
  },
  {
   "cell_type": "code",
   "execution_count": 80,
   "metadata": {},
   "outputs": [],
   "source": [
    "rango_vecinos=[]\n",
    "num_clusters = []\n",
    "silueta = []\n",
    "\n",
    "X = np.array(sample )  \n",
    "# Estandarización\n",
    "#scaler = StandardScaler().fit(X)\n",
    "#X = scaler.transform(X)\n",
    "\n",
    "for n in   range(1 , 30) :  \n",
    "    kmeans = KMeans(n_clusters=n+1 , init='k-means++' ).fit(X)\n",
    "    num_clusters.append( n+1 )\n",
    "    silueta.append( metrics.silhouette_score( X , kmeans.predict(X) ))  ## data y labels\n",
    "  \n",
    "    \n",
    "bench_df = pd.DataFrame( { \"num_clusters\": num_clusters  , \"silueta\":silueta} ) "
   ]
  },
  {
   "cell_type": "code",
   "execution_count": 81,
   "metadata": {},
   "outputs": [],
   "source": [
    "bench_df.to_csv('bench.csv', sep=';' , index=False , decimal = ',')"
   ]
  },
  {
   "cell_type": "code",
   "execution_count": 82,
   "metadata": {},
   "outputs": [
    {
     "data": {
      "text/html": [
       "<iframe id=\"igraph\" scrolling=\"no\" style=\"border:none;\" seamless=\"seamless\" src=\"https://plot.ly/~cachulooo/2.embed\" height=\"525px\" width=\"100%\"></iframe>"
      ],
      "text/plain": [
       "<plotly.tools.PlotlyDisplay object>"
      ]
     },
     "execution_count": 82,
     "metadata": {},
     "output_type": "execute_result"
    }
   ],
   "source": [
    "# Create a trace\n",
    "trace = go.Scatter(\n",
    "    x = bench_df.num_clusters,  \n",
    "    y = bench_df.silueta,     \n",
    "    #mode = 'markers'  ,\n",
    "    mode='markers+text',\n",
    "    text=round(bench_df.num_clusters)\n",
    ")  \n",
    "layout = go.Layout(\n",
    "    title='Bench kmenas Silueta vs N° Clusters '  ,\n",
    "    plot_bgcolor = '#FFFFFF',\n",
    "    paper_bgcolor = '#FFFFFF' , \n",
    "    xaxis=dict(\n",
    "        title='N° Clusters' \n",
    "    ),\n",
    "    yaxis=dict(\n",
    "        title='Silueta' \n",
    "    ) \n",
    ")\n",
    "data = [trace  ] \n",
    "fig = go.Figure(data = data, layout = layout)\n",
    "# Plot and embed in ipython notebook!\n",
    "py.iplot(fig ,   filename='minpts_bench')"
   ]
  },
  {
   "cell_type": "code",
   "execution_count": null,
   "metadata": {},
   "outputs": [],
   "source": []
  },
  {
   "cell_type": "code",
   "execution_count": null,
   "metadata": {},
   "outputs": [],
   "source": []
  },
  {
   "cell_type": "markdown",
   "metadata": {},
   "source": [
    " ## Clustering por KMEANS"
   ]
  },
  {
   "cell_type": "code",
   "execution_count": 99,
   "metadata": {},
   "outputs": [],
   "source": [
    "## KMEANS\n",
    "####################################################################\n",
    "  \n",
    "X = np.array(sample)\n",
    "\n",
    "registros = sample.shape[0]\n",
    "\n",
    "# Estandarización\n",
    "#scaler = StandardScaler().fit(X)\n",
    "#X = scaler.transform(X)\n",
    "\n",
    "# Creando el modelo\n",
    "k=8\n",
    "kmeans = KMeans(n_clusters=k , init='k-means++' ).fit(X)\n",
    " \n",
    "# Prediciendo los clusters\n",
    "labels = kmeans.predict(X)\n",
    "  \n",
    "# Obteniendo los centroides\n",
    "#C = kmeans.cluster_centers_\n",
    "\n",
    "# Asignando los colores\n",
    "#colores=['red','cyan','yellow','orange','purple' , 'red','cyan','yellow','orange','purple'] ## misma cantidad de colores que numero de k\n",
    "#asignar=[]\n",
    "\n",
    "#for row in labels:\n",
    "#    asignar.append(colores[row])"
   ]
  },
  {
   "cell_type": "code",
   "execution_count": 100,
   "metadata": {},
   "outputs": [
    {
     "data": {
      "text/html": [
       "<iframe id=\"igraph\" scrolling=\"no\" style=\"border:none;\" seamless=\"seamless\" src=\"https://plot.ly/~cachulooo/4.embed\" height=\"525px\" width=\"100%\"></iframe>"
      ],
      "text/plain": [
       "<plotly.tools.PlotlyDisplay object>"
      ]
     },
     "execution_count": 100,
     "metadata": {},
     "output_type": "execute_result"
    }
   ],
   "source": [
    "# Create a trace\n",
    "trace = go.Scatter(\n",
    "    x = X[:, 5],   \n",
    "    y = X[:, 6],   \n",
    "    mode = 'markers', \n",
    "    marker=dict(color= labels   ,\n",
    "                colorscale=[\n",
    "                    [0.0               , 'rgb(255, 0, 102)'],\n",
    "                    [0.0111111111111111, 'rgb(79, 77, 77)'], \n",
    "                    [0.1111111111111111, 'rgb(71, 51, 0)'], \n",
    "                    [0.1555555555555555, 'rgb(124, 118, 0)'],\n",
    "                    [0.2222222222222222, 'rgb(171,217,233)'],  \n",
    "                    [0.2555555555555555, 'rgb(69,117,180)'],  \n",
    "                    [0.3333333333333333, 'rgb(255, 102, 204)'], \n",
    "                    [0.3555555555555555, 'rgb(137, 19, 173)'], \n",
    "                    [0.4444444444444444, 'rgb(165,0,38)'],  \n",
    "                    [0.4555555555555555, 'rgb(102, 255, 51)'], \n",
    "                    [0.5555555555555556, 'rgb(215,48,39)'], \n",
    "                    [0.6666666666666666, 'rgb(255, 255, 0)'],  \n",
    "                    [0.7777777777777778, 'rgb(244,109,67)'], \n",
    "                    [0.8888888888888888, 'rgb(116,173,209)'], \n",
    "                    [1.0               , 'rgb(49,54,149)']]  ) \n",
    ") \n",
    "layout = go.Layout(\n",
    "    title='Segmentación de clientes KMEANS '+str(registros)+' Registros'+' '+str(k)+' Clusters' ,\n",
    "    plot_bgcolor = '#FFFFFF',\n",
    "    paper_bgcolor = '#FFFFFF', \n",
    "    xaxis=dict(\n",
    "            title='SALDO_PROMEDIO' \n",
    "        ),\n",
    "        yaxis=dict(\n",
    "            title='ROTACION_CARTERA' \n",
    "        ) \n",
    ")\n",
    "data = [trace] \n",
    "fig = go.Figure(data = data, layout = layout)\n",
    "# Plot and embed in ipython notebook!\n",
    "py.iplot(fig ,   filename='scatter_hdbscan')"
   ]
  },
  {
   "cell_type": "code",
   "execution_count": 85,
   "metadata": {},
   "outputs": [
    {
     "data": {
      "text/html": [
       "<iframe id=\"igraph\" scrolling=\"no\" style=\"border:none;\" seamless=\"seamless\" src=\"https://plot.ly/~cachulooo/18.embed\" height=\"525px\" width=\"100%\"></iframe>"
      ],
      "text/plain": [
       "<plotly.tools.PlotlyDisplay object>"
      ]
     },
     "execution_count": 85,
     "metadata": {},
     "output_type": "execute_result"
    }
   ],
   "source": [
    "## COORDENADAS PARALELAS \n",
    "data = [\n",
    "    go.Parcoords(\n",
    "        line = dict(color = labels  , colorscale=[\n",
    "                    [0.0               , 'rgb(255, 0, 102)'],\n",
    "                    [0.0111111111111111, 'rgb(79, 77, 77)'], \n",
    "                    [0.1111111111111111, 'rgb(71, 51, 0)'], \n",
    "                    [0.1555555555555555, 'rgb(124, 118, 0)'],\n",
    "                    [0.2222222222222222, 'rgb(171,217,233)'],  \n",
    "                    [0.2555555555555555, 'rgb(69,117,180)'],  \n",
    "                    [0.3333333333333333, 'rgb(255, 102, 204)'], \n",
    "                    [0.3555555555555555, 'rgb(137, 19, 173)'], \n",
    "                    [0.4444444444444444, 'rgb(165,0,38)'],  \n",
    "                    [0.4555555555555555, 'rgb(102, 255, 51)'], \n",
    "                    [0.5555555555555556, 'rgb(215,48,39)'], \n",
    "                    [0.6666666666666666, 'rgb(255, 255, 0)'],  \n",
    "                    [0.7777777777777778, 'rgb(244,109,67)'], \n",
    "                    [0.8888888888888888, 'rgb(116,173,209)'], \n",
    "                    [1.0               , 'rgb(49,54,149)']]   ) ,  \n",
    "        dimensions = list([\n",
    "            dict(#range = [0,8], \n",
    "                label = 'QUEJAS' ,      values = X[:, 0]),\n",
    "            dict( #range = [0,30],\n",
    "                label = 'DAÑOS',        values = X[:, 1]),\n",
    "            dict( #range = [0,8],\n",
    "                label = 'CORTES',       values = X[:, 2]),\n",
    "            dict( #range = [0,8],\n",
    "                label = 'RECLAMOS',     values = X[:, 3]),\n",
    "            dict( #range = [0,500000],\n",
    "                label = 'FACTURACION_PROMEDIO', values = X[:, 4]),\n",
    "            dict( #range = [0,500000],\n",
    "                label = 'SALDO_PROMEDIO',   values = X[:, 5]),             \n",
    "            dict( #range = [0,3],\n",
    "                label = 'ROTACION_CARTERA', values = X[:, 6]),  \n",
    "            dict( #range = [0,8],\n",
    "                label = 'COMUNA',        values = X[:, 7]), \n",
    "            dict( #range = [0,8],\n",
    "                label = 'TI',        values = X[:, 8]), \n",
    "            dict( #range = [0,8],\n",
    "                label = 'TI2',        values = X[:, 9]), \n",
    "            dict( #range = [0,8],\n",
    "                label = 'TIPO_REPARTO',        values = X[:, 10]),  \n",
    "            dict( #range = [-1, n_clusters_-1 ],#   K CLUSTERS\n",
    "                label = 'CLUSTER', values = labels) \n",
    "        ])\n",
    "    )\n",
    "]\n",
    "\n",
    "layout = go.Layout(\n",
    "    title='Segmentación de clientes KMEANS '+str(registros)+' Registros'+' '+str(k)+' Clusters' ,\n",
    "    plot_bgcolor = '#FFFFFF',\n",
    "    paper_bgcolor = '#FFFFFF'\n",
    ") \n",
    "fig = go.Figure(data = data, layout = layout)\n",
    "py.iplot(fig, filename = 'cpKMEANS'+str(registros))"
   ]
  },
  {
   "cell_type": "code",
   "execution_count": 77,
   "metadata": {},
   "outputs": [
    {
     "data": {
      "text/plain": [
       "array([0, 1, 2, 3, 4])"
      ]
     },
     "execution_count": 77,
     "metadata": {},
     "output_type": "execute_result"
    }
   ],
   "source": [
    "np.unique(labels)"
   ]
  },
  {
   "cell_type": "code",
   "execution_count": null,
   "metadata": {},
   "outputs": [],
   "source": []
  },
  {
   "cell_type": "code",
   "execution_count": null,
   "metadata": {},
   "outputs": [],
   "source": []
  }
 ],
 "metadata": {
  "kernelspec": {
   "display_name": "Python 3",
   "language": "python",
   "name": "python3"
  },
  "language_info": {
   "codemirror_mode": {
    "name": "ipython",
    "version": 3
   },
   "file_extension": ".py",
   "mimetype": "text/x-python",
   "name": "python",
   "nbconvert_exporter": "python",
   "pygments_lexer": "ipython3",
   "version": "3.6.6"
  }
 },
 "nbformat": 4,
 "nbformat_minor": 2
}
