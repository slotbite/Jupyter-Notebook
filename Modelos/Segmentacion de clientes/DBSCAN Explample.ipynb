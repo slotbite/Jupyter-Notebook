{
 "cells": [
  {
   "cell_type": "code",
   "execution_count": 3,
   "metadata": {},
   "outputs": [],
   "source": [
    "import numpy as np\n",
    "%matplotlib inline\n",
    "from sklearn.cluster import DBSCAN\n",
    "from sklearn import metrics\n",
    "from sklearn.datasets.samples_generator import make_blobs\n",
    "from sklearn.preprocessing import StandardScaler\n",
    "# https://turi.com/learn/userguide/clustering/dbscan.html"
   ]
  },
  {
   "cell_type": "code",
   "execution_count": 19,
   "metadata": {},
   "outputs": [],
   "source": [
    "# #############################################################################\n",
    "# Generate sample data\n",
    "centers = [[1, 1], [-1, -1], [1, -1]]\n",
    "X, labels_true = make_blobs(n_samples=100, centers=centers, cluster_std=0.4,\n",
    "                            random_state=0)"
   ]
  },
  {
   "cell_type": "code",
   "execution_count": 20,
   "metadata": {},
   "outputs": [
    {
     "data": {
      "text/plain": [
       "array([[ 1.06197897,  1.15126501],\n",
       "       [ 0.74255264, -1.88936126],\n",
       "       [ 1.02660689,  1.12098876],\n",
       "       [ 0.55824666, -0.97913397],\n",
       "       [ 0.817787  , -0.99300834],\n",
       "       [ 1.61311169,  1.58774351],\n",
       "       [ 1.07097046,  0.83928763],\n",
       "       [ 0.74566157, -0.72942668],\n",
       "       [-0.52848817, -1.07196993],\n",
       "       [ 0.31749192,  1.78031016],\n",
       "       [ 1.47521192, -0.87322296],\n",
       "       [-1.36291935, -0.97922184],\n",
       "       [-0.7310821 , -0.83701527],\n",
       "       [ 0.96061899, -1.26539131],\n",
       "       [ 1.86529438, -0.46538882],\n",
       "       [ 1.05761743,  1.5817094 ],\n",
       "       [ 0.97270336, -0.31466291],\n",
       "       [-0.75436825, -0.63111733],\n",
       "       [ 1.23063633, -1.0833195 ],\n",
       "       [-1.27782714, -1.05985382],\n",
       "       [-1.30796643, -0.78430032],\n",
       "       [ 0.79567794,  0.52774713],\n",
       "       [-0.91669001, -0.60934439],\n",
       "       [-0.83906334, -1.27392404],\n",
       "       [-0.85745344, -0.71737073],\n",
       "       [ 1.34577448,  0.70313399],\n",
       "       [-1.16127078, -0.51102197],\n",
       "       [ 1.7470232 ,  0.60908885],\n",
       "       [-1.46605994, -0.63966941],\n",
       "       [-0.24673972, -1.53910362],\n",
       "       [ 1.49211627,  1.48095194],\n",
       "       [ 1.90790185,  0.41825373],\n",
       "       [-1.46924936, -0.22255153],\n",
       "       [ 1.25009258, -1.64082306],\n",
       "       [ 1.30871622, -0.67059834],\n",
       "       [ 0.59991386, -1.61790844],\n",
       "       [ 0.48285724, -0.89317965],\n",
       "       [ 0.67474149,  0.30948696],\n",
       "       [ 0.58630286, -0.72736219],\n",
       "       [ 1.95325791, -0.62220821],\n",
       "       [-0.02119593,  1.26144744],\n",
       "       [ 1.45065437, -1.4319726 ],\n",
       "       [ 0.47363704, -1.18463384],\n",
       "       [ 1.36834353, -0.87250894],\n",
       "       [-0.88070473, -0.46944564],\n",
       "       [ 1.39149519,  1.89635728],\n",
       "       [-0.40469912, -0.24164433],\n",
       "       [ 1.38003537,  0.93945712],\n",
       "       [-0.99579999, -0.2856518 ],\n",
       "       [ 1.15840269, -1.4372246 ],\n",
       "       [ 0.86083514,  1.06253959],\n",
       "       [-0.54423973, -1.49393033],\n",
       "       [ 0.84506927,  0.8790789 ],\n",
       "       [ 1.70562094,  1.16006288],\n",
       "       [ 1.12522708,  0.6583617 ],\n",
       "       [ 0.98428687, -1.4672374 ],\n",
       "       [-0.81373502, -1.61449747],\n",
       "       [ 0.67863613, -1.27581991],\n",
       "       [ 0.50982579, -0.66225481],\n",
       "       [ 1.34273224, -1.26041024],\n",
       "       [-1.17406142, -0.26029451],\n",
       "       [-0.25297642, -0.63758214],\n",
       "       [-1.16544759, -1.29898192],\n",
       "       [-1.508194  , -0.61224132],\n",
       "       [ 0.34792066,  1.1851129 ],\n",
       "       [ 0.74627116,  0.85490353],\n",
       "       [ 0.98872711,  1.17133275],\n",
       "       [ 0.70209807, -1.33057542],\n",
       "       [-1.10720135, -0.67901744],\n",
       "       [ 0.58057881,  0.43199283],\n",
       "       [ 0.64181338,  1.154761  ],\n",
       "       [-0.23082319, -0.40779408],\n",
       "       [ 0.73101582,  0.85617874],\n",
       "       [ 1.20931066, -1.06861853],\n",
       "       [ 0.95871246,  1.1642394 ],\n",
       "       [ 0.35444086,  0.91490389],\n",
       "       [ 0.49888186,  1.31099614],\n",
       "       [-1.34449027, -0.23597402],\n",
       "       [ 0.6448857 ,  0.20768141],\n",
       "       [-0.84942979, -1.43976032],\n",
       "       [-1.26973306, -0.98726778],\n",
       "       [ 1.0666694 , -0.74598743],\n",
       "       [ 1.37976832, -0.9649795 ],\n",
       "       [ 1.30441509,  1.04867001],\n",
       "       [ 0.85840244, -1.54998052],\n",
       "       [ 0.54101254, -1.17512802],\n",
       "       [ 0.79613913,  0.82477028],\n",
       "       [ 0.80078702, -0.22818718],\n",
       "       [ 1.17754529,  1.13346973],\n",
       "       [ 0.7041748 , -0.38279416],\n",
       "       [ 1.59763163,  0.91793669],\n",
       "       [-1.12462101, -0.97753386],\n",
       "       [-1.34831886, -1.23153987],\n",
       "       [ 0.40349696, -0.82424332],\n",
       "       [ 1.01830341,  0.92512646],\n",
       "       [-1.42830105, -0.57821931],\n",
       "       [ 0.63487111, -0.55319348],\n",
       "       [-0.94923516, -0.83920425],\n",
       "       [-0.62109921, -1.06200404],\n",
       "       [-0.70836378, -0.94840684]])"
      ]
     },
     "execution_count": 20,
     "metadata": {},
     "output_type": "execute_result"
    }
   ],
   "source": [
    "X"
   ]
  },
  {
   "cell_type": "code",
   "execution_count": 31,
   "metadata": {},
   "outputs": [
    {
     "data": {
      "text/plain": [
       "array([0, 2, 0, 2, 2, 0, 0, 2, 1, 0, 2, 1, 1, 2, 2, 0, 2, 1, 2, 1, 1, 0,\n",
       "       1, 1, 1, 0, 1, 0, 1, 1, 0, 0, 1, 2, 2, 2, 2, 0, 2, 2, 0, 2, 2, 2,\n",
       "       1, 0, 1, 0, 1, 2, 0, 1, 0, 0, 0, 2, 1, 2, 2, 2, 1, 1, 1, 1, 0, 0,\n",
       "       0, 2, 1, 0, 0, 1, 0, 2, 0, 0, 0, 1, 0, 1, 1, 2, 2, 0, 2, 2, 0, 2,\n",
       "       0, 2, 0, 1, 1, 2, 0, 1, 2, 1, 1, 1])"
      ]
     },
     "execution_count": 31,
     "metadata": {},
     "output_type": "execute_result"
    }
   ],
   "source": [
    "labels_true"
   ]
  },
  {
   "cell_type": "code",
   "execution_count": 22,
   "metadata": {},
   "outputs": [],
   "source": [
    "X = StandardScaler().fit_transform(X) "
   ]
  },
  {
   "cell_type": "code",
   "execution_count": 23,
   "metadata": {},
   "outputs": [
    {
     "data": {
      "text/plain": [
       "array([[ 0.72358444,  1.42285727],\n",
       "       [ 0.40361757, -1.63648322],\n",
       "       [ 0.6881525 ,  1.39239468],\n",
       "       [ 0.21899971, -0.72065373],\n",
       "       [ 0.47897924, -0.73461349],\n",
       "       [ 1.2756498 ,  1.86202218],\n",
       "       [ 0.73259114,  1.10895975],\n",
       "       [ 0.40673176, -0.46940956],\n",
       "       [-0.86957413, -0.81406108],\n",
       "       [-0.02216244,  2.05577402],\n",
       "       [ 1.13751667, -0.61409086],\n",
       "       [-1.70541734, -0.72074214],\n",
       "       [-1.07251089, -0.57766033],\n",
       "       [ 0.62205294, -1.00867291],\n",
       "       [ 1.52825924, -0.20374662],\n",
       "       [ 0.71921552,  1.85595093],\n",
       "       [ 0.63415775, -0.05209304],\n",
       "       [-1.09583645, -0.37049515],\n",
       "       [ 0.8925272 , -0.8254805 ],\n",
       "       [-1.62018115, -0.80187039],\n",
       "       [-1.65037143, -0.52462094],\n",
       "       [ 0.45683277,  0.79550181],\n",
       "       [-1.25843289, -0.34858819],\n",
       "       [-1.18067486, -1.01725815],\n",
       "       [-1.19909608, -0.45727941],\n",
       "       [ 1.00786019,  0.97196813],\n",
       "       [-1.50342754, -0.24966063],\n",
       "       [ 1.40978791,  0.87734416],\n",
       "       [-1.80873247, -0.37909986],\n",
       "       [-0.58734889, -1.28406985],\n",
       "       [ 1.15444963,  1.75457333],\n",
       "       [ 1.57093881,  0.68533451],\n",
       "       [-1.81192729,  0.04058527],\n",
       "       [ 0.91201638, -1.38641534],\n",
       "       [ 0.97073922, -0.41021915],\n",
       "       [ 0.26073741, -1.36335968],\n",
       "       [ 0.1434827 , -0.63417039],\n",
       "       [ 0.33569167,  0.57589831],\n",
       "       [ 0.24710338, -0.46733237],\n",
       "       [ 1.61637162, -0.36153119],\n",
       "       [-0.36142343,  1.53371784],\n",
       "       [ 1.11291756, -1.17627946],\n",
       "       [ 0.1342469 , -0.9274184 ],\n",
       "       [ 1.03046744, -0.61337245],\n",
       "       [-1.22238671, -0.20782841],\n",
       "       [ 1.05365828,  2.17253538],\n",
       "       [-0.7455756 ,  0.02137496],\n",
       "       [ 1.04217906,  1.20974576],\n",
       "       [-1.33767674, -0.02290337],\n",
       "       [ 0.82017133, -1.18156379],\n",
       "       [ 0.52210023,  1.33358577],\n",
       "       [-0.88535234, -1.23861852],\n",
       "       [ 0.50630768,  1.14899593],\n",
       "       [ 1.36831559,  1.43170929],\n",
       "       [ 0.78693958,  0.92692028],\n",
       "       [ 0.64576087, -1.2117613 ],\n",
       "       [-1.15530368, -1.35992773],\n",
       "       [ 0.3395929 , -1.01916569],\n",
       "       [ 0.1704969 , -0.40182427],\n",
       "       [ 1.00481281, -1.00366118],\n",
       "       [-1.51623983,  0.00260999],\n",
       "       [-0.59359614, -0.37699974],\n",
       "       [-1.50761142, -1.04247026],\n",
       "       [-1.85093783, -0.35150295],\n",
       "       [ 0.00831779,  1.45691349],\n",
       "       [ 0.40734238,  1.12467177],\n",
       "       [ 0.65020862,  1.44304852],\n",
       "       [ 0.36309454, -1.0742582 ],\n",
       "       [-1.44926661, -0.41869007],\n",
       "       [ 0.24136965,  0.69915816],\n",
       "       [ 0.30270783,  1.42637478],\n",
       "       [-0.57140543, -0.1457974 ],\n",
       "       [ 0.39206123,  1.12595482],\n",
       "       [ 0.87116545, -0.81068905],\n",
       "       [ 0.62014318,  1.43591152],\n",
       "       [ 0.01484902,  1.18504141],\n",
       "       [ 0.15953444,  1.58357151],\n",
       "       [-1.68695709,  0.02708017],\n",
       "       [ 0.30578536,  0.47346617],\n",
       "       [-1.19105885, -1.18411511],\n",
       "       [-1.61207337, -0.7288376 ],\n",
       "       [ 0.72828281, -0.48607223],\n",
       "       [ 1.04191156, -0.70641215],\n",
       "       [ 0.96643082,  1.31963082],\n",
       "       [ 0.51966341, -1.29501368],\n",
       "       [ 0.20173642, -0.91785407],\n",
       "       [ 0.45729474,  1.09435305],\n",
       "       [ 0.46195049,  0.03491493],\n",
       "       [ 0.83934633,  1.40495247],\n",
       "       [ 0.36517479, -0.12064362],\n",
       "       [ 1.26014354,  1.18809288],\n",
       "       [-1.46671576, -0.71904378],\n",
       "       [-1.69079215, -0.97461312],\n",
       "       [ 0.06398813, -0.56480977],\n",
       "       [ 0.67983497,  1.1953269 ],\n",
       "       [-1.77090969, -0.31727155],\n",
       "       [ 0.29575382, -0.2920917 ],\n",
       "       [-1.29103311, -0.57986279],\n",
       "       [-0.96234189, -0.80403384],\n",
       "       [-1.04975412, -0.68973748]])"
      ]
     },
     "execution_count": 23,
     "metadata": {},
     "output_type": "execute_result"
    }
   ],
   "source": [
    "X"
   ]
  },
  {
   "cell_type": "code",
   "execution_count": 27,
   "metadata": {},
   "outputs": [],
   "source": [
    "# #############################################################################\n",
    "# Compute DBSCAN\n",
    "db = DBSCAN(eps=0.5, min_samples=5).fit(X)\n",
    "core_samples_mask = np.zeros_like(db.labels_, dtype=bool)\n",
    "core_samples_mask[db.core_sample_indices_] = True\n",
    "labels = db.labels_\n"
   ]
  },
  {
   "cell_type": "code",
   "execution_count": 28,
   "metadata": {},
   "outputs": [
    {
     "name": "stdout",
     "output_type": "stream",
     "text": [
      "Estimated number of clusters: 2\n",
      "Estimated number of noise points: 6\n",
      "Homogeneity: 0.541\n",
      "Completeness: 0.729\n",
      "V-measure: 0.621\n",
      "Adjusted Rand Index: 0.507\n",
      "Adjusted Mutual Information: 0.532\n",
      "Silhouette Coefficient: 0.285\n"
     ]
    }
   ],
   "source": [
    "\n",
    "# Number of clusters in labels, ignoring noise if present.\n",
    "n_clusters_ = len(set(labels)) - (1 if -1 in labels else 0)\n",
    "n_noise_ = list(labels).count(-1)\n",
    "\n",
    "print('Estimated number of clusters: %d' % n_clusters_)\n",
    "print('Estimated number of noise points: %d' % n_noise_)\n",
    "print(\"Homogeneity: %0.3f\" % metrics.homogeneity_score(labels_true, labels))\n",
    "print(\"Completeness: %0.3f\" % metrics.completeness_score(labels_true, labels))\n",
    "print(\"V-measure: %0.3f\" % metrics.v_measure_score(labels_true, labels))\n",
    "print(\"Adjusted Rand Index: %0.3f\"\n",
    "      % metrics.adjusted_rand_score(labels_true, labels))\n",
    "print(\"Adjusted Mutual Information: %0.3f\"\n",
    "      % metrics.adjusted_mutual_info_score(labels_true, labels))\n",
    "print(\"Silhouette Coefficient: %0.3f\"\n",
    "      % metrics.silhouette_score(X, labels))\n"
   ]
  },
  {
   "cell_type": "code",
   "execution_count": 29,
   "metadata": {},
   "outputs": [
    {
     "data": {
      "image/png": "[encoded data removed]",
      "text/plain": [
       "<Figure size 432x288 with 1 Axes>"
      ]
     },
     "metadata": {
      "needs_background": "light"
     },
     "output_type": "display_data"
    }
   ],
   "source": [
    "\n",
    "# #############################################################################\n",
    "# Plot result\n",
    "import matplotlib.pyplot as plt\n",
    "\n",
    "# Black removed and is used for noise instead.\n",
    "unique_labels = set(labels)\n",
    "colors = [plt.cm.Spectral(each)\n",
    "          for each in np.linspace(0, 1, len(unique_labels))]\n",
    "for k, col in zip(unique_labels, colors):\n",
    "    if k == -1:\n",
    "        # Black used for noise.\n",
    "        col = [0, 0, 0, 1]\n",
    "\n",
    "    class_member_mask = (labels == k)\n",
    "\n",
    "    xy = X[class_member_mask & core_samples_mask]\n",
    "    plt.plot(xy[:, 0], xy[:, 1], 'o', markerfacecolor=tuple(col),\n",
    "             markeredgecolor='k', markersize=14)\n",
    "\n",
    "    xy = X[class_member_mask & ~core_samples_mask]\n",
    "    plt.plot(xy[:, 0], xy[:, 1], 'o', markerfacecolor=tuple(col),\n",
    "             markeredgecolor='k', markersize=6)\n",
    "\n",
    "plt.title('Estimated number of clusters: %d' % n_clusters_)\n",
    "plt.show()"
   ]
  },
  {
   "cell_type": "code",
   "execution_count": null,
   "metadata": {},
   "outputs": [],
   "source": []
  },
  {
   "cell_type": "code",
   "execution_count": null,
   "metadata": {},
   "outputs": [],
   "source": []
  }
 ],
 "metadata": {
  "kernelspec": {
   "display_name": "Tensorflow-CPU",
   "language": "python",
   "name": "cnn"
  },
  "language_info": {
   "codemirror_mode": {
    "name": "ipython",
    "version": 3
   },
   "file_extension": ".py",
   "mimetype": "text/x-python",
   "name": "python",
   "nbconvert_exporter": "python",
   "pygments_lexer": "ipython3",
   "version": "3.6.6"
  }
 },
 "nbformat": 4,
 "nbformat_minor": 2
}
